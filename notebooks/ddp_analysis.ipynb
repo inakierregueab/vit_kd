{
 "cells": [
  {
   "cell_type": "code",
   "execution_count": 1,
   "metadata": {
    "collapsed": true,
    "ExecuteTime": {
     "start_time": "2023-04-21T15:40:52.425203Z",
     "end_time": "2023-04-21T15:40:52.687909Z"
    }
   },
   "outputs": [],
   "source": [
    "from tensorboard.backend.event_processing import event_accumulator\n",
    "import pandas as pd\n",
    "\n",
    "\n",
    "def parse_tensorboard(path, scalars):\n",
    "    \"\"\"returns a dictionary of pandas dataframes for each requested scalar\"\"\"\n",
    "    ea = event_accumulator.EventAccumulator(\n",
    "        path,\n",
    "        size_guidance={event_accumulator.SCALARS: 0},\n",
    "    )\n",
    "    _absorb_print = ea.Reload()\n",
    "    # make sure the scalars are in the event accumulator tags\n",
    "    assert all(\n",
    "        s in ea.Tags()[\"scalars\"] for s in scalars\n",
    "    ), \"some scalars were not found in the event accumulator\"\n",
    "    return {k: pd.DataFrame(ea.Scalars(k)) for k in scalars}"
   ]
  },
  {
   "cell_type": "code",
   "execution_count": 2,
   "outputs": [],
   "source": [
    "import os"
   ],
   "metadata": {
    "collapsed": false,
    "ExecuteTime": {
     "start_time": "2023-04-21T15:41:21.153888Z",
     "end_time": "2023-04-21T15:41:21.155892Z"
    }
   }
  },
  {
   "cell_type": "code",
   "execution_count": 5,
   "outputs": [],
   "source": [
    "data_dir = \"./../../saved/\""
   ],
   "metadata": {
    "collapsed": false,
    "ExecuteTime": {
     "start_time": "2023-04-21T15:42:28.102114Z",
     "end_time": "2023-04-21T15:42:28.107779Z"
    }
   }
  },
  {
   "cell_type": "code",
   "execution_count": 8,
   "outputs": [],
   "source": [
    "time_dict = parse_tensorboard(\"./../../saved/log/mps_bs64/0421_153610/events.out.tfevents.1682084171.MacBook-Pro-de-Inaki.local.5569.0\", [\"time/epoch/train\", \"time/iter/train\"])"
   ],
   "metadata": {
    "collapsed": false,
    "ExecuteTime": {
     "start_time": "2023-04-21T15:45:49.321391Z",
     "end_time": "2023-04-21T15:45:49.348267Z"
    }
   }
  },
  {
   "cell_type": "code",
   "execution_count": 11,
   "outputs": [
    {
     "data": {
      "text/plain": "      wall_time  step      value\n0  1.682084e+09    15  10.884752\n1  1.682084e+09    31  10.431082\n2  1.682084e+09    47  10.426297\n3  1.682084e+09    63  10.289495\n4  1.682084e+09    79  10.422423\n5  1.682084e+09    95  10.324549\n6  1.682084e+09   111  10.284695\n7  1.682084e+09   127  10.300714\n8  1.682084e+09   143  10.406886\n9  1.682084e+09   159  10.286034",
      "text/html": "<div>\n<style scoped>\n    .dataframe tbody tr th:only-of-type {\n        vertical-align: middle;\n    }\n\n    .dataframe tbody tr th {\n        vertical-align: top;\n    }\n\n    .dataframe thead th {\n        text-align: right;\n    }\n</style>\n<table border=\"1\" class=\"dataframe\">\n  <thead>\n    <tr style=\"text-align: right;\">\n      <th></th>\n      <th>wall_time</th>\n      <th>step</th>\n      <th>value</th>\n    </tr>\n  </thead>\n  <tbody>\n    <tr>\n      <th>0</th>\n      <td>1.682084e+09</td>\n      <td>15</td>\n      <td>10.884752</td>\n    </tr>\n    <tr>\n      <th>1</th>\n      <td>1.682084e+09</td>\n      <td>31</td>\n      <td>10.431082</td>\n    </tr>\n    <tr>\n      <th>2</th>\n      <td>1.682084e+09</td>\n      <td>47</td>\n      <td>10.426297</td>\n    </tr>\n    <tr>\n      <th>3</th>\n      <td>1.682084e+09</td>\n      <td>63</td>\n      <td>10.289495</td>\n    </tr>\n    <tr>\n      <th>4</th>\n      <td>1.682084e+09</td>\n      <td>79</td>\n      <td>10.422423</td>\n    </tr>\n    <tr>\n      <th>5</th>\n      <td>1.682084e+09</td>\n      <td>95</td>\n      <td>10.324549</td>\n    </tr>\n    <tr>\n      <th>6</th>\n      <td>1.682084e+09</td>\n      <td>111</td>\n      <td>10.284695</td>\n    </tr>\n    <tr>\n      <th>7</th>\n      <td>1.682084e+09</td>\n      <td>127</td>\n      <td>10.300714</td>\n    </tr>\n    <tr>\n      <th>8</th>\n      <td>1.682084e+09</td>\n      <td>143</td>\n      <td>10.406886</td>\n    </tr>\n    <tr>\n      <th>9</th>\n      <td>1.682084e+09</td>\n      <td>159</td>\n      <td>10.286034</td>\n    </tr>\n  </tbody>\n</table>\n</div>"
     },
     "execution_count": 11,
     "metadata": {},
     "output_type": "execute_result"
    }
   ],
   "source": [
    "time_dict['time/epoch/train']"
   ],
   "metadata": {
    "collapsed": false,
    "ExecuteTime": {
     "start_time": "2023-04-21T15:47:01.003824Z",
     "end_time": "2023-04-21T15:47:01.009792Z"
    }
   }
  },
  {
   "cell_type": "code",
   "execution_count": null,
   "outputs": [],
   "source": [],
   "metadata": {
    "collapsed": false
   }
  }
 ],
 "metadata": {
  "kernelspec": {
   "display_name": "Python 3",
   "language": "python",
   "name": "python3"
  },
  "language_info": {
   "codemirror_mode": {
    "name": "ipython",
    "version": 2
   },
   "file_extension": ".py",
   "mimetype": "text/x-python",
   "name": "python",
   "nbconvert_exporter": "python",
   "pygments_lexer": "ipython2",
   "version": "2.7.6"
  }
 },
 "nbformat": 4,
 "nbformat_minor": 0
}
