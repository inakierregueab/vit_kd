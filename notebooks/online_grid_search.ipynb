{
 "cells": [
  {
   "cell_type": "code",
   "execution_count": 1,
   "metadata": {
    "ExecuteTime": {
     "end_time": "2023-05-29T10:51:52.526970Z",
     "start_time": "2023-05-29T10:51:52.180949Z"
    },
    "pycharm": {
     "is_executing": true
    }
   },
   "outputs": [],
   "source": [
    "import optuna\n",
    "import pickle\n",
    "import pandas as pd"
   ]
  },
  {
   "cell_type": "code",
   "execution_count": 9,
   "metadata": {},
   "outputs": [
    {
     "data": {
      "text/plain": [
       "{'batch_size': 128,\n",
       " 'lr': 0.004411701685328539,\n",
       " 'weight_decay': 0.06071858943007523,\n",
       " 'label_smoothing': 0.28144059401887456,\n",
       " 'logits_crit': 'soft_kl',\n",
       " 'hidden_crit': 'cosine',\n",
       " 's_alpha': 0.6134659421245895,\n",
       " 'p_alpha': 0.14820914078220876,\n",
       " 's_tau': 1.2675572751554336,\n",
       " 'p_tau': 3.954836286687618,\n",
       " 's_beta': 0.9273807492371051,\n",
       " 'p_beta': 0.22288195105730826,\n",
       " 's_gamma': 0.4904389802735906,\n",
       " 'p_gamma': 0.12055084485565343}"
      ]
     },
     "execution_count": 9,
     "metadata": {},
     "output_type": "execute_result"
    }
   ],
   "source": [
    "# read study saved in pickle file\n",
    "fpath = '/Users/inaki-eab/Desktop/hupba/repos/saved/log/Compressor/online_gs/study_TPS_online_GS.pkl'\n",
    "f = open(fpath, 'rb')\n",
    "study = pickle.load(f)\n",
    "f.close()\n",
    "\n",
    "study.best_params"
   ]
  },
  {
   "cell_type": "code",
   "execution_count": 10,
   "metadata": {},
   "outputs": [
    {
     "data": {
      "application/vnd.plotly.v1+json": {
       "config": {
        "plotlyServerURL": "https://plot.ly"
       },
       "data": [
        {
         "cliponaxis": false,
         "hovertemplate": [
          "hidden_crit (CategoricalDistribution): 0.0001681033475798614<extra></extra>",
          "batch_size (CategoricalDistribution): 0.002298612963972149<extra></extra>",
          "label_smoothing (FloatDistribution): 0.005411236672676161<extra></extra>",
          "p_beta (FloatDistribution): 0.005781503858943254<extra></extra>",
          "p_gamma (FloatDistribution): 0.007173652294436356<extra></extra>",
          "logits_crit (CategoricalDistribution): 0.012394152290617265<extra></extra>",
          "p_tau (FloatDistribution): 0.019728467487799675<extra></extra>",
          "s_tau (FloatDistribution): 0.02073417667113579<extra></extra>",
          "lr (FloatDistribution): 0.031860897694137226<extra></extra>",
          "p_alpha (FloatDistribution): 0.05353498619093205<extra></extra>",
          "s_gamma (FloatDistribution): 0.0733156932294246<extra></extra>",
          "s_beta (FloatDistribution): 0.20384880453984644<extra></extra>",
          "weight_decay (FloatDistribution): 0.2206014109344343<extra></extra>",
          "s_alpha (FloatDistribution): 0.3431483018240649<extra></extra>"
         ],
         "marker": {
          "color": "rgb(66,146,198)"
         },
         "orientation": "h",
         "text": [
          "<0.01",
          "<0.01",
          "<0.01",
          "<0.01",
          "<0.01",
          "0.01",
          "0.02",
          "0.02",
          "0.03",
          "0.05",
          "0.07",
          "0.20",
          "0.22",
          "0.34"
         ],
         "textposition": "outside",
         "type": "bar",
         "x": [
          1.681033475798614E-4,
          0.002298612963972149,
          0.005411236672676161,
          0.005781503858943254,
          0.007173652294436356,
          0.012394152290617265,
          0.019728467487799675,
          0.02073417667113579,
          0.031860897694137226,
          0.05353498619093205,
          0.0733156932294246,
          0.20384880453984644,
          0.2206014109344343,
          0.3431483018240649
         ],
         "y": [
          "hidden_crit",
          "batch_size",
          "label_smoothing",
          "p_beta",
          "p_gamma",
          "logits_crit",
          "p_tau",
          "s_tau",
          "lr",
          "p_alpha",
          "s_gamma",
          "s_beta",
          "weight_decay",
          "s_alpha"
         ]
        }
       ],
       "layout": {
        "showlegend": false,
        "template": {
         "data": {
          "bar": [
           {
            "error_x": {
             "color": "#2a3f5f"
            },
            "error_y": {
             "color": "#2a3f5f"
            },
            "marker": {
             "line": {
              "color": "#E5ECF6",
              "width": 0.5
             },
             "pattern": {
              "fillmode": "overlay",
              "size": 10,
              "solidity": 0.2
             }
            },
            "type": "bar"
           }
          ],
          "barpolar": [
           {
            "marker": {
             "line": {
              "color": "#E5ECF6",
              "width": 0.5
             },
             "pattern": {
              "fillmode": "overlay",
              "size": 10,
              "solidity": 0.2
             }
            },
            "type": "barpolar"
           }
          ],
          "carpet": [
           {
            "aaxis": {
             "endlinecolor": "#2a3f5f",
             "gridcolor": "white",
             "linecolor": "white",
             "minorgridcolor": "white",
             "startlinecolor": "#2a3f5f"
            },
            "baxis": {
             "endlinecolor": "#2a3f5f",
             "gridcolor": "white",
             "linecolor": "white",
             "minorgridcolor": "white",
             "startlinecolor": "#2a3f5f"
            },
            "type": "carpet"
           }
          ],
          "choropleth": [
           {
            "colorbar": {
             "outlinewidth": 0,
             "ticks": ""
            },
            "type": "choropleth"
           }
          ],
          "contour": [
           {
            "colorbar": {
             "outlinewidth": 0,
             "ticks": ""
            },
            "colorscale": [
             [
              0,
              "#0d0887"
             ],
             [
              0.1111111111111111,
              "#46039f"
             ],
             [
              0.2222222222222222,
              "#7201a8"
             ],
             [
              0.3333333333333333,
              "#9c179e"
             ],
             [
              0.4444444444444444,
              "#bd3786"
             ],
             [
              0.5555555555555556,
              "#d8576b"
             ],
             [
              0.6666666666666666,
              "#ed7953"
             ],
             [
              0.7777777777777778,
              "#fb9f3a"
             ],
             [
              0.8888888888888888,
              "#fdca26"
             ],
             [
              1,
              "#f0f921"
             ]
            ],
            "type": "contour"
           }
          ],
          "contourcarpet": [
           {
            "colorbar": {
             "outlinewidth": 0,
             "ticks": ""
            },
            "type": "contourcarpet"
           }
          ],
          "heatmap": [
           {
            "colorbar": {
             "outlinewidth": 0,
             "ticks": ""
            },
            "colorscale": [
             [
              0,
              "#0d0887"
             ],
             [
              0.1111111111111111,
              "#46039f"
             ],
             [
              0.2222222222222222,
              "#7201a8"
             ],
             [
              0.3333333333333333,
              "#9c179e"
             ],
             [
              0.4444444444444444,
              "#bd3786"
             ],
             [
              0.5555555555555556,
              "#d8576b"
             ],
             [
              0.6666666666666666,
              "#ed7953"
             ],
             [
              0.7777777777777778,
              "#fb9f3a"
             ],
             [
              0.8888888888888888,
              "#fdca26"
             ],
             [
              1,
              "#f0f921"
             ]
            ],
            "type": "heatmap"
           }
          ],
          "heatmapgl": [
           {
            "colorbar": {
             "outlinewidth": 0,
             "ticks": ""
            },
            "colorscale": [
             [
              0,
              "#0d0887"
             ],
             [
              0.1111111111111111,
              "#46039f"
             ],
             [
              0.2222222222222222,
              "#7201a8"
             ],
             [
              0.3333333333333333,
              "#9c179e"
             ],
             [
              0.4444444444444444,
              "#bd3786"
             ],
             [
              0.5555555555555556,
              "#d8576b"
             ],
             [
              0.6666666666666666,
              "#ed7953"
             ],
             [
              0.7777777777777778,
              "#fb9f3a"
             ],
             [
              0.8888888888888888,
              "#fdca26"
             ],
             [
              1,
              "#f0f921"
             ]
            ],
            "type": "heatmapgl"
           }
          ],
          "histogram": [
           {
            "marker": {
             "pattern": {
              "fillmode": "overlay",
              "size": 10,
              "solidity": 0.2
             }
            },
            "type": "histogram"
           }
          ],
          "histogram2d": [
           {
            "colorbar": {
             "outlinewidth": 0,
             "ticks": ""
            },
            "colorscale": [
             [
              0,
              "#0d0887"
             ],
             [
              0.1111111111111111,
              "#46039f"
             ],
             [
              0.2222222222222222,
              "#7201a8"
             ],
             [
              0.3333333333333333,
              "#9c179e"
             ],
             [
              0.4444444444444444,
              "#bd3786"
             ],
             [
              0.5555555555555556,
              "#d8576b"
             ],
             [
              0.6666666666666666,
              "#ed7953"
             ],
             [
              0.7777777777777778,
              "#fb9f3a"
             ],
             [
              0.8888888888888888,
              "#fdca26"
             ],
             [
              1,
              "#f0f921"
             ]
            ],
            "type": "histogram2d"
           }
          ],
          "histogram2dcontour": [
           {
            "colorbar": {
             "outlinewidth": 0,
             "ticks": ""
            },
            "colorscale": [
             [
              0,
              "#0d0887"
             ],
             [
              0.1111111111111111,
              "#46039f"
             ],
             [
              0.2222222222222222,
              "#7201a8"
             ],
             [
              0.3333333333333333,
              "#9c179e"
             ],
             [
              0.4444444444444444,
              "#bd3786"
             ],
             [
              0.5555555555555556,
              "#d8576b"
             ],
             [
              0.6666666666666666,
              "#ed7953"
             ],
             [
              0.7777777777777778,
              "#fb9f3a"
             ],
             [
              0.8888888888888888,
              "#fdca26"
             ],
             [
              1,
              "#f0f921"
             ]
            ],
            "type": "histogram2dcontour"
           }
          ],
          "mesh3d": [
           {
            "colorbar": {
             "outlinewidth": 0,
             "ticks": ""
            },
            "type": "mesh3d"
           }
          ],
          "parcoords": [
           {
            "line": {
             "colorbar": {
              "outlinewidth": 0,
              "ticks": ""
             }
            },
            "type": "parcoords"
           }
          ],
          "pie": [
           {
            "automargin": true,
            "type": "pie"
           }
          ],
          "scatter": [
           {
            "fillpattern": {
             "fillmode": "overlay",
             "size": 10,
             "solidity": 0.2
            },
            "type": "scatter"
           }
          ],
          "scatter3d": [
           {
            "line": {
             "colorbar": {
              "outlinewidth": 0,
              "ticks": ""
             }
            },
            "marker": {
             "colorbar": {
              "outlinewidth": 0,
              "ticks": ""
             }
            },
            "type": "scatter3d"
           }
          ],
          "scattercarpet": [
           {
            "marker": {
             "colorbar": {
              "outlinewidth": 0,
              "ticks": ""
             }
            },
            "type": "scattercarpet"
           }
          ],
          "scattergeo": [
           {
            "marker": {
             "colorbar": {
              "outlinewidth": 0,
              "ticks": ""
             }
            },
            "type": "scattergeo"
           }
          ],
          "scattergl": [
           {
            "marker": {
             "colorbar": {
              "outlinewidth": 0,
              "ticks": ""
             }
            },
            "type": "scattergl"
           }
          ],
          "scattermapbox": [
           {
            "marker": {
             "colorbar": {
              "outlinewidth": 0,
              "ticks": ""
             }
            },
            "type": "scattermapbox"
           }
          ],
          "scatterpolar": [
           {
            "marker": {
             "colorbar": {
              "outlinewidth": 0,
              "ticks": ""
             }
            },
            "type": "scatterpolar"
           }
          ],
          "scatterpolargl": [
           {
            "marker": {
             "colorbar": {
              "outlinewidth": 0,
              "ticks": ""
             }
            },
            "type": "scatterpolargl"
           }
          ],
          "scatterternary": [
           {
            "marker": {
             "colorbar": {
              "outlinewidth": 0,
              "ticks": ""
             }
            },
            "type": "scatterternary"
           }
          ],
          "surface": [
           {
            "colorbar": {
             "outlinewidth": 0,
             "ticks": ""
            },
            "colorscale": [
             [
              0,
              "#0d0887"
             ],
             [
              0.1111111111111111,
              "#46039f"
             ],
             [
              0.2222222222222222,
              "#7201a8"
             ],
             [
              0.3333333333333333,
              "#9c179e"
             ],
             [
              0.4444444444444444,
              "#bd3786"
             ],
             [
              0.5555555555555556,
              "#d8576b"
             ],
             [
              0.6666666666666666,
              "#ed7953"
             ],
             [
              0.7777777777777778,
              "#fb9f3a"
             ],
             [
              0.8888888888888888,
              "#fdca26"
             ],
             [
              1,
              "#f0f921"
             ]
            ],
            "type": "surface"
           }
          ],
          "table": [
           {
            "cells": {
             "fill": {
              "color": "#EBF0F8"
             },
             "line": {
              "color": "white"
             }
            },
            "header": {
             "fill": {
              "color": "#C8D4E3"
             },
             "line": {
              "color": "white"
             }
            },
            "type": "table"
           }
          ]
         },
         "layout": {
          "annotationdefaults": {
           "arrowcolor": "#2a3f5f",
           "arrowhead": 0,
           "arrowwidth": 1
          },
          "autotypenumbers": "strict",
          "coloraxis": {
           "colorbar": {
            "outlinewidth": 0,
            "ticks": ""
           }
          },
          "colorscale": {
           "diverging": [
            [
             0,
             "#8e0152"
            ],
            [
             0.1,
             "#c51b7d"
            ],
            [
             0.2,
             "#de77ae"
            ],
            [
             0.3,
             "#f1b6da"
            ],
            [
             0.4,
             "#fde0ef"
            ],
            [
             0.5,
             "#f7f7f7"
            ],
            [
             0.6,
             "#e6f5d0"
            ],
            [
             0.7,
             "#b8e186"
            ],
            [
             0.8,
             "#7fbc41"
            ],
            [
             0.9,
             "#4d9221"
            ],
            [
             1,
             "#276419"
            ]
           ],
           "sequential": [
            [
             0,
             "#0d0887"
            ],
            [
             0.1111111111111111,
             "#46039f"
            ],
            [
             0.2222222222222222,
             "#7201a8"
            ],
            [
             0.3333333333333333,
             "#9c179e"
            ],
            [
             0.4444444444444444,
             "#bd3786"
            ],
            [
             0.5555555555555556,
             "#d8576b"
            ],
            [
             0.6666666666666666,
             "#ed7953"
            ],
            [
             0.7777777777777778,
             "#fb9f3a"
            ],
            [
             0.8888888888888888,
             "#fdca26"
            ],
            [
             1,
             "#f0f921"
            ]
           ],
           "sequentialminus": [
            [
             0,
             "#0d0887"
            ],
            [
             0.1111111111111111,
             "#46039f"
            ],
            [
             0.2222222222222222,
             "#7201a8"
            ],
            [
             0.3333333333333333,
             "#9c179e"
            ],
            [
             0.4444444444444444,
             "#bd3786"
            ],
            [
             0.5555555555555556,
             "#d8576b"
            ],
            [
             0.6666666666666666,
             "#ed7953"
            ],
            [
             0.7777777777777778,
             "#fb9f3a"
            ],
            [
             0.8888888888888888,
             "#fdca26"
            ],
            [
             1,
             "#f0f921"
            ]
           ]
          },
          "colorway": [
           "#636efa",
           "#EF553B",
           "#00cc96",
           "#ab63fa",
           "#FFA15A",
           "#19d3f3",
           "#FF6692",
           "#B6E880",
           "#FF97FF",
           "#FECB52"
          ],
          "font": {
           "color": "#2a3f5f"
          },
          "geo": {
           "bgcolor": "white",
           "lakecolor": "white",
           "landcolor": "#E5ECF6",
           "showlakes": true,
           "showland": true,
           "subunitcolor": "white"
          },
          "hoverlabel": {
           "align": "left"
          },
          "hovermode": "closest",
          "mapbox": {
           "style": "light"
          },
          "paper_bgcolor": "white",
          "plot_bgcolor": "#E5ECF6",
          "polar": {
           "angularaxis": {
            "gridcolor": "white",
            "linecolor": "white",
            "ticks": ""
           },
           "bgcolor": "#E5ECF6",
           "radialaxis": {
            "gridcolor": "white",
            "linecolor": "white",
            "ticks": ""
           }
          },
          "scene": {
           "xaxis": {
            "backgroundcolor": "#E5ECF6",
            "gridcolor": "white",
            "gridwidth": 2,
            "linecolor": "white",
            "showbackground": true,
            "ticks": "",
            "zerolinecolor": "white"
           },
           "yaxis": {
            "backgroundcolor": "#E5ECF6",
            "gridcolor": "white",
            "gridwidth": 2,
            "linecolor": "white",
            "showbackground": true,
            "ticks": "",
            "zerolinecolor": "white"
           },
           "zaxis": {
            "backgroundcolor": "#E5ECF6",
            "gridcolor": "white",
            "gridwidth": 2,
            "linecolor": "white",
            "showbackground": true,
            "ticks": "",
            "zerolinecolor": "white"
           }
          },
          "shapedefaults": {
           "line": {
            "color": "#2a3f5f"
           }
          },
          "ternary": {
           "aaxis": {
            "gridcolor": "white",
            "linecolor": "white",
            "ticks": ""
           },
           "baxis": {
            "gridcolor": "white",
            "linecolor": "white",
            "ticks": ""
           },
           "bgcolor": "#E5ECF6",
           "caxis": {
            "gridcolor": "white",
            "linecolor": "white",
            "ticks": ""
           }
          },
          "title": {
           "x": 0.05
          },
          "xaxis": {
           "automargin": true,
           "gridcolor": "white",
           "linecolor": "white",
           "ticks": "",
           "title": {
            "standoff": 15
           },
           "zerolinecolor": "white",
           "zerolinewidth": 2
          },
          "yaxis": {
           "automargin": true,
           "gridcolor": "white",
           "linecolor": "white",
           "ticks": "",
           "title": {
            "standoff": 15
           },
           "zerolinecolor": "white",
           "zerolinewidth": 2
          }
         }
        },
        "title": {
         "text": "Hyperparameter Importances"
        },
        "xaxis": {
         "title": {
          "text": "Importance for Objective Value"
         }
        },
        "yaxis": {
         "title": {
          "text": "Hyperparameter"
         }
        }
       }
      },
      "text/html": [
       "<div>                            <div id=\"80a75eb5-3fd9-4180-83b5-2b8f2ff74269\" class=\"plotly-graph-div\" style=\"height:525px; width:100%;\"></div>            <script type=\"text/javascript\">                require([\"plotly\"], function(Plotly) {                    window.PLOTLYENV=window.PLOTLYENV || {};                                    if (document.getElementById(\"80a75eb5-3fd9-4180-83b5-2b8f2ff74269\")) {                    Plotly.newPlot(                        \"80a75eb5-3fd9-4180-83b5-2b8f2ff74269\",                        [{\"cliponaxis\":false,\"hovertemplate\":[\"hidden_crit (CategoricalDistribution): 0.0001681033475798614<extra></extra>\",\"batch_size (CategoricalDistribution): 0.002298612963972149<extra></extra>\",\"label_smoothing (FloatDistribution): 0.005411236672676161<extra></extra>\",\"p_beta (FloatDistribution): 0.005781503858943254<extra></extra>\",\"p_gamma (FloatDistribution): 0.007173652294436356<extra></extra>\",\"logits_crit (CategoricalDistribution): 0.012394152290617265<extra></extra>\",\"p_tau (FloatDistribution): 0.019728467487799675<extra></extra>\",\"s_tau (FloatDistribution): 0.02073417667113579<extra></extra>\",\"lr (FloatDistribution): 0.031860897694137226<extra></extra>\",\"p_alpha (FloatDistribution): 0.05353498619093205<extra></extra>\",\"s_gamma (FloatDistribution): 0.0733156932294246<extra></extra>\",\"s_beta (FloatDistribution): 0.20384880453984644<extra></extra>\",\"weight_decay (FloatDistribution): 0.2206014109344343<extra></extra>\",\"s_alpha (FloatDistribution): 0.3431483018240649<extra></extra>\"],\"marker\":{\"color\":\"rgb(66,146,198)\"},\"orientation\":\"h\",\"text\":[\"<0.01\",\"<0.01\",\"<0.01\",\"<0.01\",\"<0.01\",\"0.01\",\"0.02\",\"0.02\",\"0.03\",\"0.05\",\"0.07\",\"0.20\",\"0.22\",\"0.34\"],\"textposition\":\"outside\",\"x\":[0.0001681033475798614,0.002298612963972149,0.005411236672676161,0.005781503858943254,0.007173652294436356,0.012394152290617265,0.019728467487799675,0.02073417667113579,0.031860897694137226,0.05353498619093205,0.0733156932294246,0.20384880453984644,0.2206014109344343,0.3431483018240649],\"y\":[\"hidden_crit\",\"batch_size\",\"label_smoothing\",\"p_beta\",\"p_gamma\",\"logits_crit\",\"p_tau\",\"s_tau\",\"lr\",\"p_alpha\",\"s_gamma\",\"s_beta\",\"weight_decay\",\"s_alpha\"],\"type\":\"bar\"}],                        {\"showlegend\":false,\"title\":{\"text\":\"Hyperparameter Importances\"},\"xaxis\":{\"title\":{\"text\":\"Importance for Objective Value\"}},\"yaxis\":{\"title\":{\"text\":\"Hyperparameter\"}},\"template\":{\"data\":{\"histogram2dcontour\":[{\"type\":\"histogram2dcontour\",\"colorbar\":{\"outlinewidth\":0,\"ticks\":\"\"},\"colorscale\":[[0.0,\"#0d0887\"],[0.1111111111111111,\"#46039f\"],[0.2222222222222222,\"#7201a8\"],[0.3333333333333333,\"#9c179e\"],[0.4444444444444444,\"#bd3786\"],[0.5555555555555556,\"#d8576b\"],[0.6666666666666666,\"#ed7953\"],[0.7777777777777778,\"#fb9f3a\"],[0.8888888888888888,\"#fdca26\"],[1.0,\"#f0f921\"]]}],\"choropleth\":[{\"type\":\"choropleth\",\"colorbar\":{\"outlinewidth\":0,\"ticks\":\"\"}}],\"histogram2d\":[{\"type\":\"histogram2d\",\"colorbar\":{\"outlinewidth\":0,\"ticks\":\"\"},\"colorscale\":[[0.0,\"#0d0887\"],[0.1111111111111111,\"#46039f\"],[0.2222222222222222,\"#7201a8\"],[0.3333333333333333,\"#9c179e\"],[0.4444444444444444,\"#bd3786\"],[0.5555555555555556,\"#d8576b\"],[0.6666666666666666,\"#ed7953\"],[0.7777777777777778,\"#fb9f3a\"],[0.8888888888888888,\"#fdca26\"],[1.0,\"#f0f921\"]]}],\"heatmap\":[{\"type\":\"heatmap\",\"colorbar\":{\"outlinewidth\":0,\"ticks\":\"\"},\"colorscale\":[[0.0,\"#0d0887\"],[0.1111111111111111,\"#46039f\"],[0.2222222222222222,\"#7201a8\"],[0.3333333333333333,\"#9c179e\"],[0.4444444444444444,\"#bd3786\"],[0.5555555555555556,\"#d8576b\"],[0.6666666666666666,\"#ed7953\"],[0.7777777777777778,\"#fb9f3a\"],[0.8888888888888888,\"#fdca26\"],[1.0,\"#f0f921\"]]}],\"heatmapgl\":[{\"type\":\"heatmapgl\",\"colorbar\":{\"outlinewidth\":0,\"ticks\":\"\"},\"colorscale\":[[0.0,\"#0d0887\"],[0.1111111111111111,\"#46039f\"],[0.2222222222222222,\"#7201a8\"],[0.3333333333333333,\"#9c179e\"],[0.4444444444444444,\"#bd3786\"],[0.5555555555555556,\"#d8576b\"],[0.6666666666666666,\"#ed7953\"],[0.7777777777777778,\"#fb9f3a\"],[0.8888888888888888,\"#fdca26\"],[1.0,\"#f0f921\"]]}],\"contourcarpet\":[{\"type\":\"contourcarpet\",\"colorbar\":{\"outlinewidth\":0,\"ticks\":\"\"}}],\"contour\":[{\"type\":\"contour\",\"colorbar\":{\"outlinewidth\":0,\"ticks\":\"\"},\"colorscale\":[[0.0,\"#0d0887\"],[0.1111111111111111,\"#46039f\"],[0.2222222222222222,\"#7201a8\"],[0.3333333333333333,\"#9c179e\"],[0.4444444444444444,\"#bd3786\"],[0.5555555555555556,\"#d8576b\"],[0.6666666666666666,\"#ed7953\"],[0.7777777777777778,\"#fb9f3a\"],[0.8888888888888888,\"#fdca26\"],[1.0,\"#f0f921\"]]}],\"surface\":[{\"type\":\"surface\",\"colorbar\":{\"outlinewidth\":0,\"ticks\":\"\"},\"colorscale\":[[0.0,\"#0d0887\"],[0.1111111111111111,\"#46039f\"],[0.2222222222222222,\"#7201a8\"],[0.3333333333333333,\"#9c179e\"],[0.4444444444444444,\"#bd3786\"],[0.5555555555555556,\"#d8576b\"],[0.6666666666666666,\"#ed7953\"],[0.7777777777777778,\"#fb9f3a\"],[0.8888888888888888,\"#fdca26\"],[1.0,\"#f0f921\"]]}],\"mesh3d\":[{\"type\":\"mesh3d\",\"colorbar\":{\"outlinewidth\":0,\"ticks\":\"\"}}],\"scatter\":[{\"fillpattern\":{\"fillmode\":\"overlay\",\"size\":10,\"solidity\":0.2},\"type\":\"scatter\"}],\"parcoords\":[{\"type\":\"parcoords\",\"line\":{\"colorbar\":{\"outlinewidth\":0,\"ticks\":\"\"}}}],\"scatterpolargl\":[{\"type\":\"scatterpolargl\",\"marker\":{\"colorbar\":{\"outlinewidth\":0,\"ticks\":\"\"}}}],\"bar\":[{\"error_x\":{\"color\":\"#2a3f5f\"},\"error_y\":{\"color\":\"#2a3f5f\"},\"marker\":{\"line\":{\"color\":\"#E5ECF6\",\"width\":0.5},\"pattern\":{\"fillmode\":\"overlay\",\"size\":10,\"solidity\":0.2}},\"type\":\"bar\"}],\"scattergeo\":[{\"type\":\"scattergeo\",\"marker\":{\"colorbar\":{\"outlinewidth\":0,\"ticks\":\"\"}}}],\"scatterpolar\":[{\"type\":\"scatterpolar\",\"marker\":{\"colorbar\":{\"outlinewidth\":0,\"ticks\":\"\"}}}],\"histogram\":[{\"marker\":{\"pattern\":{\"fillmode\":\"overlay\",\"size\":10,\"solidity\":0.2}},\"type\":\"histogram\"}],\"scattergl\":[{\"type\":\"scattergl\",\"marker\":{\"colorbar\":{\"outlinewidth\":0,\"ticks\":\"\"}}}],\"scatter3d\":[{\"type\":\"scatter3d\",\"line\":{\"colorbar\":{\"outlinewidth\":0,\"ticks\":\"\"}},\"marker\":{\"colorbar\":{\"outlinewidth\":0,\"ticks\":\"\"}}}],\"scattermapbox\":[{\"type\":\"scattermapbox\",\"marker\":{\"colorbar\":{\"outlinewidth\":0,\"ticks\":\"\"}}}],\"scatterternary\":[{\"type\":\"scatterternary\",\"marker\":{\"colorbar\":{\"outlinewidth\":0,\"ticks\":\"\"}}}],\"scattercarpet\":[{\"type\":\"scattercarpet\",\"marker\":{\"colorbar\":{\"outlinewidth\":0,\"ticks\":\"\"}}}],\"carpet\":[{\"aaxis\":{\"endlinecolor\":\"#2a3f5f\",\"gridcolor\":\"white\",\"linecolor\":\"white\",\"minorgridcolor\":\"white\",\"startlinecolor\":\"#2a3f5f\"},\"baxis\":{\"endlinecolor\":\"#2a3f5f\",\"gridcolor\":\"white\",\"linecolor\":\"white\",\"minorgridcolor\":\"white\",\"startlinecolor\":\"#2a3f5f\"},\"type\":\"carpet\"}],\"table\":[{\"cells\":{\"fill\":{\"color\":\"#EBF0F8\"},\"line\":{\"color\":\"white\"}},\"header\":{\"fill\":{\"color\":\"#C8D4E3\"},\"line\":{\"color\":\"white\"}},\"type\":\"table\"}],\"barpolar\":[{\"marker\":{\"line\":{\"color\":\"#E5ECF6\",\"width\":0.5},\"pattern\":{\"fillmode\":\"overlay\",\"size\":10,\"solidity\":0.2}},\"type\":\"barpolar\"}],\"pie\":[{\"automargin\":true,\"type\":\"pie\"}]},\"layout\":{\"autotypenumbers\":\"strict\",\"colorway\":[\"#636efa\",\"#EF553B\",\"#00cc96\",\"#ab63fa\",\"#FFA15A\",\"#19d3f3\",\"#FF6692\",\"#B6E880\",\"#FF97FF\",\"#FECB52\"],\"font\":{\"color\":\"#2a3f5f\"},\"hovermode\":\"closest\",\"hoverlabel\":{\"align\":\"left\"},\"paper_bgcolor\":\"white\",\"plot_bgcolor\":\"#E5ECF6\",\"polar\":{\"bgcolor\":\"#E5ECF6\",\"angularaxis\":{\"gridcolor\":\"white\",\"linecolor\":\"white\",\"ticks\":\"\"},\"radialaxis\":{\"gridcolor\":\"white\",\"linecolor\":\"white\",\"ticks\":\"\"}},\"ternary\":{\"bgcolor\":\"#E5ECF6\",\"aaxis\":{\"gridcolor\":\"white\",\"linecolor\":\"white\",\"ticks\":\"\"},\"baxis\":{\"gridcolor\":\"white\",\"linecolor\":\"white\",\"ticks\":\"\"},\"caxis\":{\"gridcolor\":\"white\",\"linecolor\":\"white\",\"ticks\":\"\"}},\"coloraxis\":{\"colorbar\":{\"outlinewidth\":0,\"ticks\":\"\"}},\"colorscale\":{\"sequential\":[[0.0,\"#0d0887\"],[0.1111111111111111,\"#46039f\"],[0.2222222222222222,\"#7201a8\"],[0.3333333333333333,\"#9c179e\"],[0.4444444444444444,\"#bd3786\"],[0.5555555555555556,\"#d8576b\"],[0.6666666666666666,\"#ed7953\"],[0.7777777777777778,\"#fb9f3a\"],[0.8888888888888888,\"#fdca26\"],[1.0,\"#f0f921\"]],\"sequentialminus\":[[0.0,\"#0d0887\"],[0.1111111111111111,\"#46039f\"],[0.2222222222222222,\"#7201a8\"],[0.3333333333333333,\"#9c179e\"],[0.4444444444444444,\"#bd3786\"],[0.5555555555555556,\"#d8576b\"],[0.6666666666666666,\"#ed7953\"],[0.7777777777777778,\"#fb9f3a\"],[0.8888888888888888,\"#fdca26\"],[1.0,\"#f0f921\"]],\"diverging\":[[0,\"#8e0152\"],[0.1,\"#c51b7d\"],[0.2,\"#de77ae\"],[0.3,\"#f1b6da\"],[0.4,\"#fde0ef\"],[0.5,\"#f7f7f7\"],[0.6,\"#e6f5d0\"],[0.7,\"#b8e186\"],[0.8,\"#7fbc41\"],[0.9,\"#4d9221\"],[1,\"#276419\"]]},\"xaxis\":{\"gridcolor\":\"white\",\"linecolor\":\"white\",\"ticks\":\"\",\"title\":{\"standoff\":15},\"zerolinecolor\":\"white\",\"automargin\":true,\"zerolinewidth\":2},\"yaxis\":{\"gridcolor\":\"white\",\"linecolor\":\"white\",\"ticks\":\"\",\"title\":{\"standoff\":15},\"zerolinecolor\":\"white\",\"automargin\":true,\"zerolinewidth\":2},\"scene\":{\"xaxis\":{\"backgroundcolor\":\"#E5ECF6\",\"gridcolor\":\"white\",\"linecolor\":\"white\",\"showbackground\":true,\"ticks\":\"\",\"zerolinecolor\":\"white\",\"gridwidth\":2},\"yaxis\":{\"backgroundcolor\":\"#E5ECF6\",\"gridcolor\":\"white\",\"linecolor\":\"white\",\"showbackground\":true,\"ticks\":\"\",\"zerolinecolor\":\"white\",\"gridwidth\":2},\"zaxis\":{\"backgroundcolor\":\"#E5ECF6\",\"gridcolor\":\"white\",\"linecolor\":\"white\",\"showbackground\":true,\"ticks\":\"\",\"zerolinecolor\":\"white\",\"gridwidth\":2}},\"shapedefaults\":{\"line\":{\"color\":\"#2a3f5f\"}},\"annotationdefaults\":{\"arrowcolor\":\"#2a3f5f\",\"arrowhead\":0,\"arrowwidth\":1},\"geo\":{\"bgcolor\":\"white\",\"landcolor\":\"#E5ECF6\",\"subunitcolor\":\"white\",\"showland\":true,\"showlakes\":true,\"lakecolor\":\"white\"},\"title\":{\"x\":0.05},\"mapbox\":{\"style\":\"light\"}}}},                        {\"responsive\": true}                    ).then(function(){\n",
       "                            \n",
       "var gd = document.getElementById('80a75eb5-3fd9-4180-83b5-2b8f2ff74269');\n",
       "var x = new MutationObserver(function (mutations, observer) {{\n",
       "        var display = window.getComputedStyle(gd).display;\n",
       "        if (!display || display === 'none') {{\n",
       "            console.log([gd, 'removed!']);\n",
       "            Plotly.purge(gd);\n",
       "            observer.disconnect();\n",
       "        }}\n",
       "}});\n",
       "\n",
       "// Listen for the removal of the full notebook cells\n",
       "var notebookContainer = gd.closest('#notebook-container');\n",
       "if (notebookContainer) {{\n",
       "    x.observe(notebookContainer, {childList: true});\n",
       "}}\n",
       "\n",
       "// Listen for the clearing of the current output cell\n",
       "var outputEl = gd.closest('.output');\n",
       "if (outputEl) {{\n",
       "    x.observe(outputEl, {childList: true});\n",
       "}}\n",
       "\n",
       "                        })                };                });            </script>        </div>"
      ]
     },
     "metadata": {},
     "output_type": "display_data"
    }
   ],
   "source": [
    "optuna.visualization.plot_param_importances(study)"
   ]
  },
  {
   "cell_type": "code",
   "execution_count": 11,
   "metadata": {},
   "outputs": [
    {
     "data": {
      "application/vnd.plotly.v1+json": {
       "config": {
        "plotlyServerURL": "https://plot.ly"
       },
       "data": [
        {
         "mode": "markers",
         "name": "Objective Value",
         "type": "scatter",
         "x": [
          0,
          1,
          2,
          3,
          4,
          5,
          6,
          7,
          8,
          9,
          10,
          11,
          12,
          13,
          14,
          15,
          16,
          17,
          18,
          19,
          20,
          21,
          22,
          23,
          24,
          25,
          26,
          27,
          28,
          29,
          30,
          31,
          32,
          33,
          34,
          35,
          36,
          37,
          38,
          39
         ],
         "y": [
          4.677012114180732,
          4.220577796300252,
          4.219479600588481,
          6.349452217419942,
          4.019790947437286,
          3.9680176824331284,
          3.872466193032019,
          3.9818264742692313,
          4.643424808979034,
          5.940101504325867,
          4.065017623999684,
          3.917178409615743,
          3.8332172497031616,
          3.9039721931378866,
          3.828607011087162,
          3.8999564770570734,
          3.706257525178575,
          4.2356906723730345,
          3.778477489333792,
          3.8204350889343575,
          3.98621828854084,
          3.7045433226319933,
          4.40929580963764,
          3.7429502501930156,
          3.5427590645465656,
          3.3710619223486518,
          3.472818222242532,
          3.365237265518031,
          3.39854616233983,
          3.508672575155894,
          3.5905787895635233,
          3.4474651395660088,
          3.4476452070413175,
          3.40265643473753,
          3.711035887400309,
          3.5084712407023635,
          4.055167814095815,
          3.5553852381165494,
          3.591631849606832,
          3.607442010309278
         ]
        },
        {
         "name": "Best Value",
         "type": "scatter",
         "x": [
          0,
          1,
          2,
          3,
          4,
          5,
          6,
          7,
          8,
          9,
          10,
          11,
          12,
          13,
          14,
          15,
          16,
          17,
          18,
          19,
          20,
          21,
          22,
          23,
          24,
          25,
          26,
          27,
          28,
          29,
          30,
          31,
          32,
          33,
          34,
          35,
          36,
          37,
          38,
          39
         ],
         "y": [
          4.677012114180732,
          4.220577796300252,
          4.219479600588481,
          4.219479600588481,
          4.019790947437286,
          3.9680176824331284,
          3.872466193032019,
          3.872466193032019,
          3.872466193032019,
          3.872466193032019,
          3.872466193032019,
          3.872466193032019,
          3.8332172497031616,
          3.8332172497031616,
          3.828607011087162,
          3.828607011087162,
          3.706257525178575,
          3.706257525178575,
          3.706257525178575,
          3.706257525178575,
          3.706257525178575,
          3.7045433226319933,
          3.7045433226319933,
          3.7045433226319933,
          3.5427590645465656,
          3.3710619223486518,
          3.3710619223486518,
          3.365237265518031,
          3.365237265518031,
          3.365237265518031,
          3.365237265518031,
          3.365237265518031,
          3.365237265518031,
          3.365237265518031,
          3.365237265518031,
          3.365237265518031,
          3.365237265518031,
          3.365237265518031,
          3.365237265518031,
          3.365237265518031
         ]
        }
       ],
       "layout": {
        "template": {
         "data": {
          "bar": [
           {
            "error_x": {
             "color": "#2a3f5f"
            },
            "error_y": {
             "color": "#2a3f5f"
            },
            "marker": {
             "line": {
              "color": "#E5ECF6",
              "width": 0.5
             },
             "pattern": {
              "fillmode": "overlay",
              "size": 10,
              "solidity": 0.2
             }
            },
            "type": "bar"
           }
          ],
          "barpolar": [
           {
            "marker": {
             "line": {
              "color": "#E5ECF6",
              "width": 0.5
             },
             "pattern": {
              "fillmode": "overlay",
              "size": 10,
              "solidity": 0.2
             }
            },
            "type": "barpolar"
           }
          ],
          "carpet": [
           {
            "aaxis": {
             "endlinecolor": "#2a3f5f",
             "gridcolor": "white",
             "linecolor": "white",
             "minorgridcolor": "white",
             "startlinecolor": "#2a3f5f"
            },
            "baxis": {
             "endlinecolor": "#2a3f5f",
             "gridcolor": "white",
             "linecolor": "white",
             "minorgridcolor": "white",
             "startlinecolor": "#2a3f5f"
            },
            "type": "carpet"
           }
          ],
          "choropleth": [
           {
            "colorbar": {
             "outlinewidth": 0,
             "ticks": ""
            },
            "type": "choropleth"
           }
          ],
          "contour": [
           {
            "colorbar": {
             "outlinewidth": 0,
             "ticks": ""
            },
            "colorscale": [
             [
              0,
              "#0d0887"
             ],
             [
              0.1111111111111111,
              "#46039f"
             ],
             [
              0.2222222222222222,
              "#7201a8"
             ],
             [
              0.3333333333333333,
              "#9c179e"
             ],
             [
              0.4444444444444444,
              "#bd3786"
             ],
             [
              0.5555555555555556,
              "#d8576b"
             ],
             [
              0.6666666666666666,
              "#ed7953"
             ],
             [
              0.7777777777777778,
              "#fb9f3a"
             ],
             [
              0.8888888888888888,
              "#fdca26"
             ],
             [
              1,
              "#f0f921"
             ]
            ],
            "type": "contour"
           }
          ],
          "contourcarpet": [
           {
            "colorbar": {
             "outlinewidth": 0,
             "ticks": ""
            },
            "type": "contourcarpet"
           }
          ],
          "heatmap": [
           {
            "colorbar": {
             "outlinewidth": 0,
             "ticks": ""
            },
            "colorscale": [
             [
              0,
              "#0d0887"
             ],
             [
              0.1111111111111111,
              "#46039f"
             ],
             [
              0.2222222222222222,
              "#7201a8"
             ],
             [
              0.3333333333333333,
              "#9c179e"
             ],
             [
              0.4444444444444444,
              "#bd3786"
             ],
             [
              0.5555555555555556,
              "#d8576b"
             ],
             [
              0.6666666666666666,
              "#ed7953"
             ],
             [
              0.7777777777777778,
              "#fb9f3a"
             ],
             [
              0.8888888888888888,
              "#fdca26"
             ],
             [
              1,
              "#f0f921"
             ]
            ],
            "type": "heatmap"
           }
          ],
          "heatmapgl": [
           {
            "colorbar": {
             "outlinewidth": 0,
             "ticks": ""
            },
            "colorscale": [
             [
              0,
              "#0d0887"
             ],
             [
              0.1111111111111111,
              "#46039f"
             ],
             [
              0.2222222222222222,
              "#7201a8"
             ],
             [
              0.3333333333333333,
              "#9c179e"
             ],
             [
              0.4444444444444444,
              "#bd3786"
             ],
             [
              0.5555555555555556,
              "#d8576b"
             ],
             [
              0.6666666666666666,
              "#ed7953"
             ],
             [
              0.7777777777777778,
              "#fb9f3a"
             ],
             [
              0.8888888888888888,
              "#fdca26"
             ],
             [
              1,
              "#f0f921"
             ]
            ],
            "type": "heatmapgl"
           }
          ],
          "histogram": [
           {
            "marker": {
             "pattern": {
              "fillmode": "overlay",
              "size": 10,
              "solidity": 0.2
             }
            },
            "type": "histogram"
           }
          ],
          "histogram2d": [
           {
            "colorbar": {
             "outlinewidth": 0,
             "ticks": ""
            },
            "colorscale": [
             [
              0,
              "#0d0887"
             ],
             [
              0.1111111111111111,
              "#46039f"
             ],
             [
              0.2222222222222222,
              "#7201a8"
             ],
             [
              0.3333333333333333,
              "#9c179e"
             ],
             [
              0.4444444444444444,
              "#bd3786"
             ],
             [
              0.5555555555555556,
              "#d8576b"
             ],
             [
              0.6666666666666666,
              "#ed7953"
             ],
             [
              0.7777777777777778,
              "#fb9f3a"
             ],
             [
              0.8888888888888888,
              "#fdca26"
             ],
             [
              1,
              "#f0f921"
             ]
            ],
            "type": "histogram2d"
           }
          ],
          "histogram2dcontour": [
           {
            "colorbar": {
             "outlinewidth": 0,
             "ticks": ""
            },
            "colorscale": [
             [
              0,
              "#0d0887"
             ],
             [
              0.1111111111111111,
              "#46039f"
             ],
             [
              0.2222222222222222,
              "#7201a8"
             ],
             [
              0.3333333333333333,
              "#9c179e"
             ],
             [
              0.4444444444444444,
              "#bd3786"
             ],
             [
              0.5555555555555556,
              "#d8576b"
             ],
             [
              0.6666666666666666,
              "#ed7953"
             ],
             [
              0.7777777777777778,
              "#fb9f3a"
             ],
             [
              0.8888888888888888,
              "#fdca26"
             ],
             [
              1,
              "#f0f921"
             ]
            ],
            "type": "histogram2dcontour"
           }
          ],
          "mesh3d": [
           {
            "colorbar": {
             "outlinewidth": 0,
             "ticks": ""
            },
            "type": "mesh3d"
           }
          ],
          "parcoords": [
           {
            "line": {
             "colorbar": {
              "outlinewidth": 0,
              "ticks": ""
             }
            },
            "type": "parcoords"
           }
          ],
          "pie": [
           {
            "automargin": true,
            "type": "pie"
           }
          ],
          "scatter": [
           {
            "fillpattern": {
             "fillmode": "overlay",
             "size": 10,
             "solidity": 0.2
            },
            "type": "scatter"
           }
          ],
          "scatter3d": [
           {
            "line": {
             "colorbar": {
              "outlinewidth": 0,
              "ticks": ""
             }
            },
            "marker": {
             "colorbar": {
              "outlinewidth": 0,
              "ticks": ""
             }
            },
            "type": "scatter3d"
           }
          ],
          "scattercarpet": [
           {
            "marker": {
             "colorbar": {
              "outlinewidth": 0,
              "ticks": ""
             }
            },
            "type": "scattercarpet"
           }
          ],
          "scattergeo": [
           {
            "marker": {
             "colorbar": {
              "outlinewidth": 0,
              "ticks": ""
             }
            },
            "type": "scattergeo"
           }
          ],
          "scattergl": [
           {
            "marker": {
             "colorbar": {
              "outlinewidth": 0,
              "ticks": ""
             }
            },
            "type": "scattergl"
           }
          ],
          "scattermapbox": [
           {
            "marker": {
             "colorbar": {
              "outlinewidth": 0,
              "ticks": ""
             }
            },
            "type": "scattermapbox"
           }
          ],
          "scatterpolar": [
           {
            "marker": {
             "colorbar": {
              "outlinewidth": 0,
              "ticks": ""
             }
            },
            "type": "scatterpolar"
           }
          ],
          "scatterpolargl": [
           {
            "marker": {
             "colorbar": {
              "outlinewidth": 0,
              "ticks": ""
             }
            },
            "type": "scatterpolargl"
           }
          ],
          "scatterternary": [
           {
            "marker": {
             "colorbar": {
              "outlinewidth": 0,
              "ticks": ""
             }
            },
            "type": "scatterternary"
           }
          ],
          "surface": [
           {
            "colorbar": {
             "outlinewidth": 0,
             "ticks": ""
            },
            "colorscale": [
             [
              0,
              "#0d0887"
             ],
             [
              0.1111111111111111,
              "#46039f"
             ],
             [
              0.2222222222222222,
              "#7201a8"
             ],
             [
              0.3333333333333333,
              "#9c179e"
             ],
             [
              0.4444444444444444,
              "#bd3786"
             ],
             [
              0.5555555555555556,
              "#d8576b"
             ],
             [
              0.6666666666666666,
              "#ed7953"
             ],
             [
              0.7777777777777778,
              "#fb9f3a"
             ],
             [
              0.8888888888888888,
              "#fdca26"
             ],
             [
              1,
              "#f0f921"
             ]
            ],
            "type": "surface"
           }
          ],
          "table": [
           {
            "cells": {
             "fill": {
              "color": "#EBF0F8"
             },
             "line": {
              "color": "white"
             }
            },
            "header": {
             "fill": {
              "color": "#C8D4E3"
             },
             "line": {
              "color": "white"
             }
            },
            "type": "table"
           }
          ]
         },
         "layout": {
          "annotationdefaults": {
           "arrowcolor": "#2a3f5f",
           "arrowhead": 0,
           "arrowwidth": 1
          },
          "autotypenumbers": "strict",
          "coloraxis": {
           "colorbar": {
            "outlinewidth": 0,
            "ticks": ""
           }
          },
          "colorscale": {
           "diverging": [
            [
             0,
             "#8e0152"
            ],
            [
             0.1,
             "#c51b7d"
            ],
            [
             0.2,
             "#de77ae"
            ],
            [
             0.3,
             "#f1b6da"
            ],
            [
             0.4,
             "#fde0ef"
            ],
            [
             0.5,
             "#f7f7f7"
            ],
            [
             0.6,
             "#e6f5d0"
            ],
            [
             0.7,
             "#b8e186"
            ],
            [
             0.8,
             "#7fbc41"
            ],
            [
             0.9,
             "#4d9221"
            ],
            [
             1,
             "#276419"
            ]
           ],
           "sequential": [
            [
             0,
             "#0d0887"
            ],
            [
             0.1111111111111111,
             "#46039f"
            ],
            [
             0.2222222222222222,
             "#7201a8"
            ],
            [
             0.3333333333333333,
             "#9c179e"
            ],
            [
             0.4444444444444444,
             "#bd3786"
            ],
            [
             0.5555555555555556,
             "#d8576b"
            ],
            [
             0.6666666666666666,
             "#ed7953"
            ],
            [
             0.7777777777777778,
             "#fb9f3a"
            ],
            [
             0.8888888888888888,
             "#fdca26"
            ],
            [
             1,
             "#f0f921"
            ]
           ],
           "sequentialminus": [
            [
             0,
             "#0d0887"
            ],
            [
             0.1111111111111111,
             "#46039f"
            ],
            [
             0.2222222222222222,
             "#7201a8"
            ],
            [
             0.3333333333333333,
             "#9c179e"
            ],
            [
             0.4444444444444444,
             "#bd3786"
            ],
            [
             0.5555555555555556,
             "#d8576b"
            ],
            [
             0.6666666666666666,
             "#ed7953"
            ],
            [
             0.7777777777777778,
             "#fb9f3a"
            ],
            [
             0.8888888888888888,
             "#fdca26"
            ],
            [
             1,
             "#f0f921"
            ]
           ]
          },
          "colorway": [
           "#636efa",
           "#EF553B",
           "#00cc96",
           "#ab63fa",
           "#FFA15A",
           "#19d3f3",
           "#FF6692",
           "#B6E880",
           "#FF97FF",
           "#FECB52"
          ],
          "font": {
           "color": "#2a3f5f"
          },
          "geo": {
           "bgcolor": "white",
           "lakecolor": "white",
           "landcolor": "#E5ECF6",
           "showlakes": true,
           "showland": true,
           "subunitcolor": "white"
          },
          "hoverlabel": {
           "align": "left"
          },
          "hovermode": "closest",
          "mapbox": {
           "style": "light"
          },
          "paper_bgcolor": "white",
          "plot_bgcolor": "#E5ECF6",
          "polar": {
           "angularaxis": {
            "gridcolor": "white",
            "linecolor": "white",
            "ticks": ""
           },
           "bgcolor": "#E5ECF6",
           "radialaxis": {
            "gridcolor": "white",
            "linecolor": "white",
            "ticks": ""
           }
          },
          "scene": {
           "xaxis": {
            "backgroundcolor": "#E5ECF6",
            "gridcolor": "white",
            "gridwidth": 2,
            "linecolor": "white",
            "showbackground": true,
            "ticks": "",
            "zerolinecolor": "white"
           },
           "yaxis": {
            "backgroundcolor": "#E5ECF6",
            "gridcolor": "white",
            "gridwidth": 2,
            "linecolor": "white",
            "showbackground": true,
            "ticks": "",
            "zerolinecolor": "white"
           },
           "zaxis": {
            "backgroundcolor": "#E5ECF6",
            "gridcolor": "white",
            "gridwidth": 2,
            "linecolor": "white",
            "showbackground": true,
            "ticks": "",
            "zerolinecolor": "white"
           }
          },
          "shapedefaults": {
           "line": {
            "color": "#2a3f5f"
           }
          },
          "ternary": {
           "aaxis": {
            "gridcolor": "white",
            "linecolor": "white",
            "ticks": ""
           },
           "baxis": {
            "gridcolor": "white",
            "linecolor": "white",
            "ticks": ""
           },
           "bgcolor": "#E5ECF6",
           "caxis": {
            "gridcolor": "white",
            "linecolor": "white",
            "ticks": ""
           }
          },
          "title": {
           "x": 0.05
          },
          "xaxis": {
           "automargin": true,
           "gridcolor": "white",
           "linecolor": "white",
           "ticks": "",
           "title": {
            "standoff": 15
           },
           "zerolinecolor": "white",
           "zerolinewidth": 2
          },
          "yaxis": {
           "automargin": true,
           "gridcolor": "white",
           "linecolor": "white",
           "ticks": "",
           "title": {
            "standoff": 15
           },
           "zerolinecolor": "white",
           "zerolinewidth": 2
          }
         }
        },
        "title": {
         "text": "Optimization History Plot"
        },
        "xaxis": {
         "title": {
          "text": "Trial"
         }
        },
        "yaxis": {
         "title": {
          "text": "Objective Value"
         }
        }
       }
      },
      "text/html": [
       "<div>                            <div id=\"29c516d8-2995-444e-8c8b-fdb4594c925c\" class=\"plotly-graph-div\" style=\"height:525px; width:100%;\"></div>            <script type=\"text/javascript\">                require([\"plotly\"], function(Plotly) {                    window.PLOTLYENV=window.PLOTLYENV || {};                                    if (document.getElementById(\"29c516d8-2995-444e-8c8b-fdb4594c925c\")) {                    Plotly.newPlot(                        \"29c516d8-2995-444e-8c8b-fdb4594c925c\",                        [{\"mode\":\"markers\",\"name\":\"Objective Value\",\"x\":[0,1,2,3,4,5,6,7,8,9,10,11,12,13,14,15,16,17,18,19,20,21,22,23,24,25,26,27,28,29,30,31,32,33,34,35,36,37,38,39],\"y\":[4.677012114180732,4.220577796300252,4.219479600588481,6.349452217419942,4.019790947437286,3.9680176824331284,3.872466193032019,3.9818264742692313,4.643424808979034,5.940101504325867,4.065017623999684,3.917178409615743,3.8332172497031616,3.9039721931378866,3.828607011087162,3.8999564770570734,3.706257525178575,4.2356906723730345,3.778477489333792,3.8204350889343575,3.98621828854084,3.7045433226319933,4.40929580963764,3.7429502501930156,3.5427590645465656,3.3710619223486518,3.472818222242532,3.365237265518031,3.39854616233983,3.508672575155894,3.5905787895635233,3.4474651395660088,3.4476452070413175,3.40265643473753,3.711035887400309,3.5084712407023635,4.055167814095815,3.5553852381165494,3.591631849606832,3.607442010309278],\"type\":\"scatter\"},{\"name\":\"Best Value\",\"x\":[0,1,2,3,4,5,6,7,8,9,10,11,12,13,14,15,16,17,18,19,20,21,22,23,24,25,26,27,28,29,30,31,32,33,34,35,36,37,38,39],\"y\":[4.677012114180732,4.220577796300252,4.219479600588481,4.219479600588481,4.019790947437286,3.9680176824331284,3.872466193032019,3.872466193032019,3.872466193032019,3.872466193032019,3.872466193032019,3.872466193032019,3.8332172497031616,3.8332172497031616,3.828607011087162,3.828607011087162,3.706257525178575,3.706257525178575,3.706257525178575,3.706257525178575,3.706257525178575,3.7045433226319933,3.7045433226319933,3.7045433226319933,3.5427590645465656,3.3710619223486518,3.3710619223486518,3.365237265518031,3.365237265518031,3.365237265518031,3.365237265518031,3.365237265518031,3.365237265518031,3.365237265518031,3.365237265518031,3.365237265518031,3.365237265518031,3.365237265518031,3.365237265518031,3.365237265518031],\"type\":\"scatter\"}],                        {\"title\":{\"text\":\"Optimization History Plot\"},\"xaxis\":{\"title\":{\"text\":\"Trial\"}},\"yaxis\":{\"title\":{\"text\":\"Objective Value\"}},\"template\":{\"data\":{\"histogram2dcontour\":[{\"type\":\"histogram2dcontour\",\"colorbar\":{\"outlinewidth\":0,\"ticks\":\"\"},\"colorscale\":[[0.0,\"#0d0887\"],[0.1111111111111111,\"#46039f\"],[0.2222222222222222,\"#7201a8\"],[0.3333333333333333,\"#9c179e\"],[0.4444444444444444,\"#bd3786\"],[0.5555555555555556,\"#d8576b\"],[0.6666666666666666,\"#ed7953\"],[0.7777777777777778,\"#fb9f3a\"],[0.8888888888888888,\"#fdca26\"],[1.0,\"#f0f921\"]]}],\"choropleth\":[{\"type\":\"choropleth\",\"colorbar\":{\"outlinewidth\":0,\"ticks\":\"\"}}],\"histogram2d\":[{\"type\":\"histogram2d\",\"colorbar\":{\"outlinewidth\":0,\"ticks\":\"\"},\"colorscale\":[[0.0,\"#0d0887\"],[0.1111111111111111,\"#46039f\"],[0.2222222222222222,\"#7201a8\"],[0.3333333333333333,\"#9c179e\"],[0.4444444444444444,\"#bd3786\"],[0.5555555555555556,\"#d8576b\"],[0.6666666666666666,\"#ed7953\"],[0.7777777777777778,\"#fb9f3a\"],[0.8888888888888888,\"#fdca26\"],[1.0,\"#f0f921\"]]}],\"heatmap\":[{\"type\":\"heatmap\",\"colorbar\":{\"outlinewidth\":0,\"ticks\":\"\"},\"colorscale\":[[0.0,\"#0d0887\"],[0.1111111111111111,\"#46039f\"],[0.2222222222222222,\"#7201a8\"],[0.3333333333333333,\"#9c179e\"],[0.4444444444444444,\"#bd3786\"],[0.5555555555555556,\"#d8576b\"],[0.6666666666666666,\"#ed7953\"],[0.7777777777777778,\"#fb9f3a\"],[0.8888888888888888,\"#fdca26\"],[1.0,\"#f0f921\"]]}],\"heatmapgl\":[{\"type\":\"heatmapgl\",\"colorbar\":{\"outlinewidth\":0,\"ticks\":\"\"},\"colorscale\":[[0.0,\"#0d0887\"],[0.1111111111111111,\"#46039f\"],[0.2222222222222222,\"#7201a8\"],[0.3333333333333333,\"#9c179e\"],[0.4444444444444444,\"#bd3786\"],[0.5555555555555556,\"#d8576b\"],[0.6666666666666666,\"#ed7953\"],[0.7777777777777778,\"#fb9f3a\"],[0.8888888888888888,\"#fdca26\"],[1.0,\"#f0f921\"]]}],\"contourcarpet\":[{\"type\":\"contourcarpet\",\"colorbar\":{\"outlinewidth\":0,\"ticks\":\"\"}}],\"contour\":[{\"type\":\"contour\",\"colorbar\":{\"outlinewidth\":0,\"ticks\":\"\"},\"colorscale\":[[0.0,\"#0d0887\"],[0.1111111111111111,\"#46039f\"],[0.2222222222222222,\"#7201a8\"],[0.3333333333333333,\"#9c179e\"],[0.4444444444444444,\"#bd3786\"],[0.5555555555555556,\"#d8576b\"],[0.6666666666666666,\"#ed7953\"],[0.7777777777777778,\"#fb9f3a\"],[0.8888888888888888,\"#fdca26\"],[1.0,\"#f0f921\"]]}],\"surface\":[{\"type\":\"surface\",\"colorbar\":{\"outlinewidth\":0,\"ticks\":\"\"},\"colorscale\":[[0.0,\"#0d0887\"],[0.1111111111111111,\"#46039f\"],[0.2222222222222222,\"#7201a8\"],[0.3333333333333333,\"#9c179e\"],[0.4444444444444444,\"#bd3786\"],[0.5555555555555556,\"#d8576b\"],[0.6666666666666666,\"#ed7953\"],[0.7777777777777778,\"#fb9f3a\"],[0.8888888888888888,\"#fdca26\"],[1.0,\"#f0f921\"]]}],\"mesh3d\":[{\"type\":\"mesh3d\",\"colorbar\":{\"outlinewidth\":0,\"ticks\":\"\"}}],\"scatter\":[{\"fillpattern\":{\"fillmode\":\"overlay\",\"size\":10,\"solidity\":0.2},\"type\":\"scatter\"}],\"parcoords\":[{\"type\":\"parcoords\",\"line\":{\"colorbar\":{\"outlinewidth\":0,\"ticks\":\"\"}}}],\"scatterpolargl\":[{\"type\":\"scatterpolargl\",\"marker\":{\"colorbar\":{\"outlinewidth\":0,\"ticks\":\"\"}}}],\"bar\":[{\"error_x\":{\"color\":\"#2a3f5f\"},\"error_y\":{\"color\":\"#2a3f5f\"},\"marker\":{\"line\":{\"color\":\"#E5ECF6\",\"width\":0.5},\"pattern\":{\"fillmode\":\"overlay\",\"size\":10,\"solidity\":0.2}},\"type\":\"bar\"}],\"scattergeo\":[{\"type\":\"scattergeo\",\"marker\":{\"colorbar\":{\"outlinewidth\":0,\"ticks\":\"\"}}}],\"scatterpolar\":[{\"type\":\"scatterpolar\",\"marker\":{\"colorbar\":{\"outlinewidth\":0,\"ticks\":\"\"}}}],\"histogram\":[{\"marker\":{\"pattern\":{\"fillmode\":\"overlay\",\"size\":10,\"solidity\":0.2}},\"type\":\"histogram\"}],\"scattergl\":[{\"type\":\"scattergl\",\"marker\":{\"colorbar\":{\"outlinewidth\":0,\"ticks\":\"\"}}}],\"scatter3d\":[{\"type\":\"scatter3d\",\"line\":{\"colorbar\":{\"outlinewidth\":0,\"ticks\":\"\"}},\"marker\":{\"colorbar\":{\"outlinewidth\":0,\"ticks\":\"\"}}}],\"scattermapbox\":[{\"type\":\"scattermapbox\",\"marker\":{\"colorbar\":{\"outlinewidth\":0,\"ticks\":\"\"}}}],\"scatterternary\":[{\"type\":\"scatterternary\",\"marker\":{\"colorbar\":{\"outlinewidth\":0,\"ticks\":\"\"}}}],\"scattercarpet\":[{\"type\":\"scattercarpet\",\"marker\":{\"colorbar\":{\"outlinewidth\":0,\"ticks\":\"\"}}}],\"carpet\":[{\"aaxis\":{\"endlinecolor\":\"#2a3f5f\",\"gridcolor\":\"white\",\"linecolor\":\"white\",\"minorgridcolor\":\"white\",\"startlinecolor\":\"#2a3f5f\"},\"baxis\":{\"endlinecolor\":\"#2a3f5f\",\"gridcolor\":\"white\",\"linecolor\":\"white\",\"minorgridcolor\":\"white\",\"startlinecolor\":\"#2a3f5f\"},\"type\":\"carpet\"}],\"table\":[{\"cells\":{\"fill\":{\"color\":\"#EBF0F8\"},\"line\":{\"color\":\"white\"}},\"header\":{\"fill\":{\"color\":\"#C8D4E3\"},\"line\":{\"color\":\"white\"}},\"type\":\"table\"}],\"barpolar\":[{\"marker\":{\"line\":{\"color\":\"#E5ECF6\",\"width\":0.5},\"pattern\":{\"fillmode\":\"overlay\",\"size\":10,\"solidity\":0.2}},\"type\":\"barpolar\"}],\"pie\":[{\"automargin\":true,\"type\":\"pie\"}]},\"layout\":{\"autotypenumbers\":\"strict\",\"colorway\":[\"#636efa\",\"#EF553B\",\"#00cc96\",\"#ab63fa\",\"#FFA15A\",\"#19d3f3\",\"#FF6692\",\"#B6E880\",\"#FF97FF\",\"#FECB52\"],\"font\":{\"color\":\"#2a3f5f\"},\"hovermode\":\"closest\",\"hoverlabel\":{\"align\":\"left\"},\"paper_bgcolor\":\"white\",\"plot_bgcolor\":\"#E5ECF6\",\"polar\":{\"bgcolor\":\"#E5ECF6\",\"angularaxis\":{\"gridcolor\":\"white\",\"linecolor\":\"white\",\"ticks\":\"\"},\"radialaxis\":{\"gridcolor\":\"white\",\"linecolor\":\"white\",\"ticks\":\"\"}},\"ternary\":{\"bgcolor\":\"#E5ECF6\",\"aaxis\":{\"gridcolor\":\"white\",\"linecolor\":\"white\",\"ticks\":\"\"},\"baxis\":{\"gridcolor\":\"white\",\"linecolor\":\"white\",\"ticks\":\"\"},\"caxis\":{\"gridcolor\":\"white\",\"linecolor\":\"white\",\"ticks\":\"\"}},\"coloraxis\":{\"colorbar\":{\"outlinewidth\":0,\"ticks\":\"\"}},\"colorscale\":{\"sequential\":[[0.0,\"#0d0887\"],[0.1111111111111111,\"#46039f\"],[0.2222222222222222,\"#7201a8\"],[0.3333333333333333,\"#9c179e\"],[0.4444444444444444,\"#bd3786\"],[0.5555555555555556,\"#d8576b\"],[0.6666666666666666,\"#ed7953\"],[0.7777777777777778,\"#fb9f3a\"],[0.8888888888888888,\"#fdca26\"],[1.0,\"#f0f921\"]],\"sequentialminus\":[[0.0,\"#0d0887\"],[0.1111111111111111,\"#46039f\"],[0.2222222222222222,\"#7201a8\"],[0.3333333333333333,\"#9c179e\"],[0.4444444444444444,\"#bd3786\"],[0.5555555555555556,\"#d8576b\"],[0.6666666666666666,\"#ed7953\"],[0.7777777777777778,\"#fb9f3a\"],[0.8888888888888888,\"#fdca26\"],[1.0,\"#f0f921\"]],\"diverging\":[[0,\"#8e0152\"],[0.1,\"#c51b7d\"],[0.2,\"#de77ae\"],[0.3,\"#f1b6da\"],[0.4,\"#fde0ef\"],[0.5,\"#f7f7f7\"],[0.6,\"#e6f5d0\"],[0.7,\"#b8e186\"],[0.8,\"#7fbc41\"],[0.9,\"#4d9221\"],[1,\"#276419\"]]},\"xaxis\":{\"gridcolor\":\"white\",\"linecolor\":\"white\",\"ticks\":\"\",\"title\":{\"standoff\":15},\"zerolinecolor\":\"white\",\"automargin\":true,\"zerolinewidth\":2},\"yaxis\":{\"gridcolor\":\"white\",\"linecolor\":\"white\",\"ticks\":\"\",\"title\":{\"standoff\":15},\"zerolinecolor\":\"white\",\"automargin\":true,\"zerolinewidth\":2},\"scene\":{\"xaxis\":{\"backgroundcolor\":\"#E5ECF6\",\"gridcolor\":\"white\",\"linecolor\":\"white\",\"showbackground\":true,\"ticks\":\"\",\"zerolinecolor\":\"white\",\"gridwidth\":2},\"yaxis\":{\"backgroundcolor\":\"#E5ECF6\",\"gridcolor\":\"white\",\"linecolor\":\"white\",\"showbackground\":true,\"ticks\":\"\",\"zerolinecolor\":\"white\",\"gridwidth\":2},\"zaxis\":{\"backgroundcolor\":\"#E5ECF6\",\"gridcolor\":\"white\",\"linecolor\":\"white\",\"showbackground\":true,\"ticks\":\"\",\"zerolinecolor\":\"white\",\"gridwidth\":2}},\"shapedefaults\":{\"line\":{\"color\":\"#2a3f5f\"}},\"annotationdefaults\":{\"arrowcolor\":\"#2a3f5f\",\"arrowhead\":0,\"arrowwidth\":1},\"geo\":{\"bgcolor\":\"white\",\"landcolor\":\"#E5ECF6\",\"subunitcolor\":\"white\",\"showland\":true,\"showlakes\":true,\"lakecolor\":\"white\"},\"title\":{\"x\":0.05},\"mapbox\":{\"style\":\"light\"}}}},                        {\"responsive\": true}                    ).then(function(){\n",
       "                            \n",
       "var gd = document.getElementById('29c516d8-2995-444e-8c8b-fdb4594c925c');\n",
       "var x = new MutationObserver(function (mutations, observer) {{\n",
       "        var display = window.getComputedStyle(gd).display;\n",
       "        if (!display || display === 'none') {{\n",
       "            console.log([gd, 'removed!']);\n",
       "            Plotly.purge(gd);\n",
       "            observer.disconnect();\n",
       "        }}\n",
       "}});\n",
       "\n",
       "// Listen for the removal of the full notebook cells\n",
       "var notebookContainer = gd.closest('#notebook-container');\n",
       "if (notebookContainer) {{\n",
       "    x.observe(notebookContainer, {childList: true});\n",
       "}}\n",
       "\n",
       "// Listen for the clearing of the current output cell\n",
       "var outputEl = gd.closest('.output');\n",
       "if (outputEl) {{\n",
       "    x.observe(outputEl, {childList: true});\n",
       "}}\n",
       "\n",
       "                        })                };                });            </script>        </div>"
      ]
     },
     "metadata": {},
     "output_type": "display_data"
    }
   ],
   "source": [
    "optuna.visualization.plot_optimization_history(study)"
   ]
  },
  {
   "cell_type": "code",
   "execution_count": 12,
   "metadata": {},
   "outputs": [
    {
     "data": {
      "application/vnd.plotly.v1+json": {
       "config": {
        "plotlyServerURL": "https://plot.ly"
       },
       "data": [
        {
         "marker": {
          "color": [
           0,
           1,
           2,
           3,
           4,
           5,
           6,
           7,
           8,
           9,
           10,
           11,
           12,
           13,
           14,
           15,
           16,
           17,
           18,
           19,
           20,
           21,
           22,
           23,
           24,
           25,
           26,
           27,
           28,
           29,
           30,
           31,
           32,
           33,
           34,
           35,
           36,
           37,
           38,
           39
          ],
          "colorbar": {
           "title": {
            "text": "Trial"
           },
           "x": 1,
           "xpad": 40
          },
          "colorscale": [
           [
            0,
            "rgb(247,251,255)"
           ],
           [
            0.125,
            "rgb(222,235,247)"
           ],
           [
            0.25,
            "rgb(198,219,239)"
           ],
           [
            0.375,
            "rgb(158,202,225)"
           ],
           [
            0.5,
            "rgb(107,174,214)"
           ],
           [
            0.625,
            "rgb(66,146,198)"
           ],
           [
            0.75,
            "rgb(33,113,181)"
           ],
           [
            0.875,
            "rgb(8,81,156)"
           ],
           [
            1,
            "rgb(8,48,107)"
           ]
          ],
          "line": {
           "color": "Grey",
           "width": 0.5
          },
          "showscale": true
         },
         "mode": "markers",
         "showlegend": false,
         "type": "scatter",
         "x": [
          128,
          512,
          512,
          512,
          256,
          256,
          128,
          512,
          256,
          512,
          128,
          128,
          128,
          128,
          128,
          128,
          128,
          128,
          128,
          128,
          256,
          128,
          128,
          128,
          128,
          128,
          128,
          128,
          128,
          256,
          128,
          128,
          128,
          128,
          512,
          128,
          512,
          128,
          256,
          128
         ],
         "xaxis": "x",
         "y": [
          4.677012114180732,
          4.220577796300252,
          4.219479600588481,
          6.349452217419942,
          4.019790947437286,
          3.9680176824331284,
          3.872466193032019,
          3.9818264742692313,
          4.643424808979034,
          5.940101504325867,
          4.065017623999684,
          3.917178409615743,
          3.8332172497031616,
          3.9039721931378866,
          3.828607011087162,
          3.8999564770570734,
          3.706257525178575,
          4.2356906723730345,
          3.778477489333792,
          3.8204350889343575,
          3.98621828854084,
          3.7045433226319933,
          4.40929580963764,
          3.7429502501930156,
          3.5427590645465656,
          3.3710619223486518,
          3.472818222242532,
          3.365237265518031,
          3.39854616233983,
          3.508672575155894,
          3.5905787895635233,
          3.4474651395660088,
          3.4476452070413175,
          3.40265643473753,
          3.711035887400309,
          3.5084712407023635,
          4.055167814095815,
          3.5553852381165494,
          3.591631849606832,
          3.607442010309278
         ],
         "yaxis": "y"
        },
        {
         "marker": {
          "color": [
           0,
           1,
           2,
           3,
           4,
           5,
           6,
           7,
           8,
           9,
           10,
           11,
           12,
           13,
           14,
           15,
           16,
           17,
           18,
           19,
           20,
           21,
           22,
           23,
           24,
           25,
           26,
           27,
           28,
           29,
           30,
           31,
           32,
           33,
           34,
           35,
           36,
           37,
           38,
           39
          ],
          "colorbar": {
           "title": {
            "text": "Trial"
           },
           "x": 1,
           "xpad": 40
          },
          "colorscale": [
           [
            0,
            "rgb(247,251,255)"
           ],
           [
            0.125,
            "rgb(222,235,247)"
           ],
           [
            0.25,
            "rgb(198,219,239)"
           ],
           [
            0.375,
            "rgb(158,202,225)"
           ],
           [
            0.5,
            "rgb(107,174,214)"
           ],
           [
            0.625,
            "rgb(66,146,198)"
           ],
           [
            0.75,
            "rgb(33,113,181)"
           ],
           [
            0.875,
            "rgb(8,81,156)"
           ],
           [
            1,
            "rgb(8,48,107)"
           ]
          ],
          "line": {
           "color": "Grey",
           "width": 0.5
          },
          "showscale": false
         },
         "mode": "markers",
         "showlegend": false,
         "type": "scatter",
         "x": [
          "mse",
          "mse",
          "mse",
          "cosine",
          "cosine",
          "cosine",
          "mse",
          "mse",
          "cosine",
          "mse",
          "mse",
          "cosine",
          "cosine",
          "cosine",
          "cosine",
          "cosine",
          "cosine",
          "cosine",
          "cosine",
          "cosine",
          "cosine",
          "cosine",
          "cosine",
          "cosine",
          "cosine",
          "cosine",
          "cosine",
          "cosine",
          "cosine",
          "cosine",
          "cosine",
          "cosine",
          "cosine",
          "cosine",
          "mse",
          "cosine",
          "cosine",
          "mse",
          "cosine",
          "cosine"
         ],
         "xaxis": "x2",
         "y": [
          4.677012114180732,
          4.220577796300252,
          4.219479600588481,
          6.349452217419942,
          4.019790947437286,
          3.9680176824331284,
          3.872466193032019,
          3.9818264742692313,
          4.643424808979034,
          5.940101504325867,
          4.065017623999684,
          3.917178409615743,
          3.8332172497031616,
          3.9039721931378866,
          3.828607011087162,
          3.8999564770570734,
          3.706257525178575,
          4.2356906723730345,
          3.778477489333792,
          3.8204350889343575,
          3.98621828854084,
          3.7045433226319933,
          4.40929580963764,
          3.7429502501930156,
          3.5427590645465656,
          3.3710619223486518,
          3.472818222242532,
          3.365237265518031,
          3.39854616233983,
          3.508672575155894,
          3.5905787895635233,
          3.4474651395660088,
          3.4476452070413175,
          3.40265643473753,
          3.711035887400309,
          3.5084712407023635,
          4.055167814095815,
          3.5553852381165494,
          3.591631849606832,
          3.607442010309278
         ],
         "yaxis": "y2"
        },
        {
         "marker": {
          "color": [
           0,
           1,
           2,
           3,
           4,
           5,
           6,
           7,
           8,
           9,
           10,
           11,
           12,
           13,
           14,
           15,
           16,
           17,
           18,
           19,
           20,
           21,
           22,
           23,
           24,
           25,
           26,
           27,
           28,
           29,
           30,
           31,
           32,
           33,
           34,
           35,
           36,
           37,
           38,
           39
          ],
          "colorbar": {
           "title": {
            "text": "Trial"
           },
           "x": 1,
           "xpad": 40
          },
          "colorscale": [
           [
            0,
            "rgb(247,251,255)"
           ],
           [
            0.125,
            "rgb(222,235,247)"
           ],
           [
            0.25,
            "rgb(198,219,239)"
           ],
           [
            0.375,
            "rgb(158,202,225)"
           ],
           [
            0.5,
            "rgb(107,174,214)"
           ],
           [
            0.625,
            "rgb(66,146,198)"
           ],
           [
            0.75,
            "rgb(33,113,181)"
           ],
           [
            0.875,
            "rgb(8,81,156)"
           ],
           [
            1,
            "rgb(8,48,107)"
           ]
          ],
          "line": {
           "color": "Grey",
           "width": 0.5
          },
          "showscale": false
         },
         "mode": "markers",
         "showlegend": false,
         "type": "scatter",
         "x": [
          0.1269319380373383,
          0.18330705320327487,
          0.03468551852378871,
          0.15312670124340333,
          0.04768789324341682,
          0.20751053961005314,
          0.2487337903505671,
          0.04832070432876445,
          0.25177300434152505,
          0.27827297387261685,
          0.28291803549587025,
          0.22586741236148866,
          0.22917132890619812,
          0.29180537013071417,
          0.23499566873261804,
          0.1987730441052239,
          0.24292179978410666,
          0.299978575073727,
          0.25194475735369326,
          0.2601770332971581,
          0.2654849075764131,
          0.262252185426701,
          0.2655700168380717,
          0.2984891162046564,
          0.29919880942037913,
          0.2793165494819503,
          0.2764057672492864,
          0.28144059401887456,
          0.27883690473769523,
          0.21570244033997163,
          0.16519560102561223,
          0.2763752362239733,
          0.2810778286584978,
          0.18909995892131148,
          0.1886479942668402,
          0.2158702759486308,
          0.12332430695269242,
          0.23956562280599814,
          0.22771396316253506,
          0.17473533386387557
         ],
         "xaxis": "x3",
         "y": [
          4.677012114180732,
          4.220577796300252,
          4.219479600588481,
          6.349452217419942,
          4.019790947437286,
          3.9680176824331284,
          3.872466193032019,
          3.9818264742692313,
          4.643424808979034,
          5.940101504325867,
          4.065017623999684,
          3.917178409615743,
          3.8332172497031616,
          3.9039721931378866,
          3.828607011087162,
          3.8999564770570734,
          3.706257525178575,
          4.2356906723730345,
          3.778477489333792,
          3.8204350889343575,
          3.98621828854084,
          3.7045433226319933,
          4.40929580963764,
          3.7429502501930156,
          3.5427590645465656,
          3.3710619223486518,
          3.472818222242532,
          3.365237265518031,
          3.39854616233983,
          3.508672575155894,
          3.5905787895635233,
          3.4474651395660088,
          3.4476452070413175,
          3.40265643473753,
          3.711035887400309,
          3.5084712407023635,
          4.055167814095815,
          3.5553852381165494,
          3.591631849606832,
          3.607442010309278
         ],
         "yaxis": "y3"
        },
        {
         "marker": {
          "color": [
           0,
           1,
           2,
           3,
           4,
           5,
           6,
           7,
           8,
           9,
           10,
           11,
           12,
           13,
           14,
           15,
           16,
           17,
           18,
           19,
           20,
           21,
           22,
           23,
           24,
           25,
           26,
           27,
           28,
           29,
           30,
           31,
           32,
           33,
           34,
           35,
           36,
           37,
           38,
           39
          ],
          "colorbar": {
           "title": {
            "text": "Trial"
           },
           "x": 1,
           "xpad": 40
          },
          "colorscale": [
           [
            0,
            "rgb(247,251,255)"
           ],
           [
            0.125,
            "rgb(222,235,247)"
           ],
           [
            0.25,
            "rgb(198,219,239)"
           ],
           [
            0.375,
            "rgb(158,202,225)"
           ],
           [
            0.5,
            "rgb(107,174,214)"
           ],
           [
            0.625,
            "rgb(66,146,198)"
           ],
           [
            0.75,
            "rgb(33,113,181)"
           ],
           [
            0.875,
            "rgb(8,81,156)"
           ],
           [
            1,
            "rgb(8,48,107)"
           ]
          ],
          "line": {
           "color": "Grey",
           "width": 0.5
          },
          "showscale": false
         },
         "mode": "markers",
         "showlegend": false,
         "type": "scatter",
         "x": [
          "soft_kl",
          "soft_kl",
          "soft_ce",
          "soft_kl",
          "soft_ce",
          "soft_ce",
          "soft_ce",
          "soft_ce",
          "soft_ce",
          "soft_kl",
          "soft_ce",
          "soft_ce",
          "soft_ce",
          "soft_ce",
          "soft_ce",
          "soft_ce",
          "soft_ce",
          "soft_ce",
          "soft_kl",
          "soft_kl",
          "soft_kl",
          "soft_kl",
          "soft_kl",
          "soft_kl",
          "soft_kl",
          "soft_kl",
          "soft_kl",
          "soft_kl",
          "soft_kl",
          "soft_kl",
          "soft_kl",
          "soft_kl",
          "soft_kl",
          "soft_kl",
          "soft_kl",
          "soft_kl",
          "soft_kl",
          "soft_kl",
          "soft_kl",
          "soft_kl"
         ],
         "xaxis": "x4",
         "y": [
          4.677012114180732,
          4.220577796300252,
          4.219479600588481,
          6.349452217419942,
          4.019790947437286,
          3.9680176824331284,
          3.872466193032019,
          3.9818264742692313,
          4.643424808979034,
          5.940101504325867,
          4.065017623999684,
          3.917178409615743,
          3.8332172497031616,
          3.9039721931378866,
          3.828607011087162,
          3.8999564770570734,
          3.706257525178575,
          4.2356906723730345,
          3.778477489333792,
          3.8204350889343575,
          3.98621828854084,
          3.7045433226319933,
          4.40929580963764,
          3.7429502501930156,
          3.5427590645465656,
          3.3710619223486518,
          3.472818222242532,
          3.365237265518031,
          3.39854616233983,
          3.508672575155894,
          3.5905787895635233,
          3.4474651395660088,
          3.4476452070413175,
          3.40265643473753,
          3.711035887400309,
          3.5084712407023635,
          4.055167814095815,
          3.5553852381165494,
          3.591631849606832,
          3.607442010309278
         ],
         "yaxis": "y4"
        },
        {
         "marker": {
          "color": [
           0,
           1,
           2,
           3,
           4,
           5,
           6,
           7,
           8,
           9,
           10,
           11,
           12,
           13,
           14,
           15,
           16,
           17,
           18,
           19,
           20,
           21,
           22,
           23,
           24,
           25,
           26,
           27,
           28,
           29,
           30,
           31,
           32,
           33,
           34,
           35,
           36,
           37,
           38,
           39
          ],
          "colorbar": {
           "title": {
            "text": "Trial"
           },
           "x": 1,
           "xpad": 40
          },
          "colorscale": [
           [
            0,
            "rgb(247,251,255)"
           ],
           [
            0.125,
            "rgb(222,235,247)"
           ],
           [
            0.25,
            "rgb(198,219,239)"
           ],
           [
            0.375,
            "rgb(158,202,225)"
           ],
           [
            0.5,
            "rgb(107,174,214)"
           ],
           [
            0.625,
            "rgb(66,146,198)"
           ],
           [
            0.75,
            "rgb(33,113,181)"
           ],
           [
            0.875,
            "rgb(8,81,156)"
           ],
           [
            1,
            "rgb(8,48,107)"
           ]
          ],
          "line": {
           "color": "Grey",
           "width": 0.5
          },
          "showscale": false
         },
         "mode": "markers",
         "showlegend": false,
         "type": "scatter",
         "x": [
          0.005558016213920624,
          0.008509374761370116,
          0.005068183091254933,
          0.006844877581348687,
          0.005984875606505922,
          0.007649223356475795,
          0.0036072202883576173,
          0.004004263534132471,
          5.809324251582611E-4,
          0.008166952658644757,
          0.009803627653616045,
          0.0028218614011452045,
          0.0034055191774730272,
          0.0031755043394043423,
          0.0016810218080507372,
          0.001638934969939834,
          0.0018601680455190583,
          5.224927311734738E-4,
          0.0017302790756037704,
          0.0020970467279140285,
          0.004501631496358667,
          0.002210575812412229,
          2.5246462650342356E-4,
          0.0025548741989376163,
          0.0026398383915369242,
          0.004354665143140975,
          0.00431078930034516,
          0.004411701685328539,
          0.004581793490874212,
          0.005655516641414723,
          0.004984358632724572,
          0.004316088751506977,
          0.004177982992801926,
          0.005105240167978295,
          0.005043751784700872,
          0.005810785621442836,
          0.006618816110381208,
          0.005125640187201742,
          0.0038183305959903864,
          0.006309557987530217
         ],
         "xaxis": "x5",
         "y": [
          4.677012114180732,
          4.220577796300252,
          4.219479600588481,
          6.349452217419942,
          4.019790947437286,
          3.9680176824331284,
          3.872466193032019,
          3.9818264742692313,
          4.643424808979034,
          5.940101504325867,
          4.065017623999684,
          3.917178409615743,
          3.8332172497031616,
          3.9039721931378866,
          3.828607011087162,
          3.8999564770570734,
          3.706257525178575,
          4.2356906723730345,
          3.778477489333792,
          3.8204350889343575,
          3.98621828854084,
          3.7045433226319933,
          4.40929580963764,
          3.7429502501930156,
          3.5427590645465656,
          3.3710619223486518,
          3.472818222242532,
          3.365237265518031,
          3.39854616233983,
          3.508672575155894,
          3.5905787895635233,
          3.4474651395660088,
          3.4476452070413175,
          3.40265643473753,
          3.711035887400309,
          3.5084712407023635,
          4.055167814095815,
          3.5553852381165494,
          3.591631849606832,
          3.607442010309278
         ],
         "yaxis": "y5"
        },
        {
         "marker": {
          "color": [
           0,
           1,
           2,
           3,
           4,
           5,
           6,
           7,
           8,
           9,
           10,
           11,
           12,
           13,
           14,
           15,
           16,
           17,
           18,
           19,
           20,
           21,
           22,
           23,
           24,
           25,
           26,
           27,
           28,
           29,
           30,
           31,
           32,
           33,
           34,
           35,
           36,
           37,
           38,
           39
          ],
          "colorbar": {
           "title": {
            "text": "Trial"
           },
           "x": 1,
           "xpad": 40
          },
          "colorscale": [
           [
            0,
            "rgb(247,251,255)"
           ],
           [
            0.125,
            "rgb(222,235,247)"
           ],
           [
            0.25,
            "rgb(198,219,239)"
           ],
           [
            0.375,
            "rgb(158,202,225)"
           ],
           [
            0.5,
            "rgb(107,174,214)"
           ],
           [
            0.625,
            "rgb(66,146,198)"
           ],
           [
            0.75,
            "rgb(33,113,181)"
           ],
           [
            0.875,
            "rgb(8,81,156)"
           ],
           [
            1,
            "rgb(8,48,107)"
           ]
          ],
          "line": {
           "color": "Grey",
           "width": 0.5
          },
          "showscale": false
         },
         "mode": "markers",
         "showlegend": false,
         "type": "scatter",
         "x": [
          0.7290497073840416,
          0.6309761238544878,
          0.985559785610705,
          0.08319498833243877,
          0.3889505741231446,
          0.6666245501640716,
          0.98834541928282,
          0.2045428595464277,
          0.11139217160771575,
          0.8215041132005579,
          0.9723349014627374,
          0.6668198476482625,
          0.47758179122671474,
          0.4631188341068939,
          0.3310929198504614,
          0.3528834329195774,
          0.28184466074895564,
          0.298735221459399,
          0.24676462810686514,
          0.2378917840588007,
          0.17240380613804415,
          0.03368048155718445,
          0.0533824395565988,
          0.039027707752133184,
          0.02546336164429911,
          0.0015849056096830343,
          0.03444782413848558,
          0.14820914078220876,
          0.1357444860592007,
          0.1693483237777388,
          0.12613103188028074,
          0.0060549551204653555,
          0.006043587369133397,
          0.1195198992813718,
          0.12380040277590845,
          0.0978865472972993,
          0.18906068312312763,
          0.0879800494923012,
          0.16188375755823425,
          0.07558119474648552
         ],
         "xaxis": "x6",
         "y": [
          4.677012114180732,
          4.220577796300252,
          4.219479600588481,
          6.349452217419942,
          4.019790947437286,
          3.9680176824331284,
          3.872466193032019,
          3.9818264742692313,
          4.643424808979034,
          5.940101504325867,
          4.065017623999684,
          3.917178409615743,
          3.8332172497031616,
          3.9039721931378866,
          3.828607011087162,
          3.8999564770570734,
          3.706257525178575,
          4.2356906723730345,
          3.778477489333792,
          3.8204350889343575,
          3.98621828854084,
          3.7045433226319933,
          4.40929580963764,
          3.7429502501930156,
          3.5427590645465656,
          3.3710619223486518,
          3.472818222242532,
          3.365237265518031,
          3.39854616233983,
          3.508672575155894,
          3.5905787895635233,
          3.4474651395660088,
          3.4476452070413175,
          3.40265643473753,
          3.711035887400309,
          3.5084712407023635,
          4.055167814095815,
          3.5553852381165494,
          3.591631849606832,
          3.607442010309278
         ],
         "yaxis": "y6"
        },
        {
         "marker": {
          "color": [
           0,
           1,
           2,
           3,
           4,
           5,
           6,
           7,
           8,
           9,
           10,
           11,
           12,
           13,
           14,
           15,
           16,
           17,
           18,
           19,
           20,
           21,
           22,
           23,
           24,
           25,
           26,
           27,
           28,
           29,
           30,
           31,
           32,
           33,
           34,
           35,
           36,
           37,
           38,
           39
          ],
          "colorbar": {
           "title": {
            "text": "Trial"
           },
           "x": 1,
           "xpad": 40
          },
          "colorscale": [
           [
            0,
            "rgb(247,251,255)"
           ],
           [
            0.125,
            "rgb(222,235,247)"
           ],
           [
            0.25,
            "rgb(198,219,239)"
           ],
           [
            0.375,
            "rgb(158,202,225)"
           ],
           [
            0.5,
            "rgb(107,174,214)"
           ],
           [
            0.625,
            "rgb(66,146,198)"
           ],
           [
            0.75,
            "rgb(33,113,181)"
           ],
           [
            0.875,
            "rgb(8,81,156)"
           ],
           [
            1,
            "rgb(8,48,107)"
           ]
          ],
          "line": {
           "color": "Grey",
           "width": 0.5
          },
          "showscale": false
         },
         "mode": "markers",
         "showlegend": false,
         "type": "scatter",
         "x": [
          0.7379954057320357,
          0.4936850976503062,
          0.8263408005068332,
          0.5724569574914731,
          0.04359146379904055,
          0.6615643366662437,
          0.5200101530724834,
          0.29686077548067946,
          0.44032787666540907,
          0.13841557278158978,
          0.9632278722400941,
          0.6479734568255375,
          0.38659880938026453,
          0.3717398330499226,
          0.25932505444433607,
          0.28642003033054264,
          0.18048072762510461,
          0.17815036357971764,
          0.027380578877429396,
          0.024181883741930754,
          0.11575463249790052,
          0.0025922796540286397,
          0.0319530682740905,
          0.006283895139022165,
          0.19531134631340005,
          0.2060124998974554,
          0.22494050733881135,
          0.22288195105730826,
          0.2449368804944515,
          0.35369000078461793,
          0.31293786906440435,
          0.23130576696685157,
          0.24299794326482804,
          0.10996712447766521,
          0.08913954151013585,
          0.11030160003362646,
          0.1526336336089052,
          0.10051424460496378,
          0.20008997665144324,
          0.3120437687896326
         ],
         "xaxis": "x7",
         "y": [
          4.677012114180732,
          4.220577796300252,
          4.219479600588481,
          6.349452217419942,
          4.019790947437286,
          3.9680176824331284,
          3.872466193032019,
          3.9818264742692313,
          4.643424808979034,
          5.940101504325867,
          4.065017623999684,
          3.917178409615743,
          3.8332172497031616,
          3.9039721931378866,
          3.828607011087162,
          3.8999564770570734,
          3.706257525178575,
          4.2356906723730345,
          3.778477489333792,
          3.8204350889343575,
          3.98621828854084,
          3.7045433226319933,
          4.40929580963764,
          3.7429502501930156,
          3.5427590645465656,
          3.3710619223486518,
          3.472818222242532,
          3.365237265518031,
          3.39854616233983,
          3.508672575155894,
          3.5905787895635233,
          3.4474651395660088,
          3.4476452070413175,
          3.40265643473753,
          3.711035887400309,
          3.5084712407023635,
          4.055167814095815,
          3.5553852381165494,
          3.591631849606832,
          3.607442010309278
         ],
         "yaxis": "y7"
        },
        {
         "marker": {
          "color": [
           0,
           1,
           2,
           3,
           4,
           5,
           6,
           7,
           8,
           9,
           10,
           11,
           12,
           13,
           14,
           15,
           16,
           17,
           18,
           19,
           20,
           21,
           22,
           23,
           24,
           25,
           26,
           27,
           28,
           29,
           30,
           31,
           32,
           33,
           34,
           35,
           36,
           37,
           38,
           39
          ],
          "colorbar": {
           "title": {
            "text": "Trial"
           },
           "x": 1,
           "xpad": 40
          },
          "colorscale": [
           [
            0,
            "rgb(247,251,255)"
           ],
           [
            0.125,
            "rgb(222,235,247)"
           ],
           [
            0.25,
            "rgb(198,219,239)"
           ],
           [
            0.375,
            "rgb(158,202,225)"
           ],
           [
            0.5,
            "rgb(107,174,214)"
           ],
           [
            0.625,
            "rgb(66,146,198)"
           ],
           [
            0.75,
            "rgb(33,113,181)"
           ],
           [
            0.875,
            "rgb(8,81,156)"
           ],
           [
            1,
            "rgb(8,48,107)"
           ]
          ],
          "line": {
           "color": "Grey",
           "width": 0.5
          },
          "showscale": false
         },
         "mode": "markers",
         "showlegend": false,
         "type": "scatter",
         "x": [
          0.17545175614749253,
          0.3122612229724653,
          0.5450680064664649,
          0.8853268262751396,
          0.398185681917981,
          0.5532573447967134,
          0.9836308849117232,
          0.5690037314301953,
          0.7650960952393066,
          0.4243068610809919,
          0.9828103156536188,
          0.7348991972676776,
          0.7671170655829489,
          0.9798640413985543,
          0.7546427129798721,
          0.7184457810196335,
          0.6519385420281633,
          0.631390959487626,
          0.055077018691124247,
          0.07564907058077788,
          0.01804988962340351,
          0.028551515069439024,
          0.23240718854441486,
          0.0010386773862544052,
          0.002613152829287202,
          0.14449728841924425,
          0.11884474195538829,
          0.12055084485565343,
          0.13811941788155638,
          0.1674782893974847,
          0.22268613190367803,
          0.11628507371769956,
          0.14611917488590517,
          0.23201837770803588,
          0.23746870840526912,
          0.31069818200793275,
          0.1007238177485086,
          0.1701581058992979,
          0.28875067251405884,
          0.36837944623607055
         ],
         "xaxis": "x8",
         "y": [
          4.677012114180732,
          4.220577796300252,
          4.219479600588481,
          6.349452217419942,
          4.019790947437286,
          3.9680176824331284,
          3.872466193032019,
          3.9818264742692313,
          4.643424808979034,
          5.940101504325867,
          4.065017623999684,
          3.917178409615743,
          3.8332172497031616,
          3.9039721931378866,
          3.828607011087162,
          3.8999564770570734,
          3.706257525178575,
          4.2356906723730345,
          3.778477489333792,
          3.8204350889343575,
          3.98621828854084,
          3.7045433226319933,
          4.40929580963764,
          3.7429502501930156,
          3.5427590645465656,
          3.3710619223486518,
          3.472818222242532,
          3.365237265518031,
          3.39854616233983,
          3.508672575155894,
          3.5905787895635233,
          3.4474651395660088,
          3.4476452070413175,
          3.40265643473753,
          3.711035887400309,
          3.5084712407023635,
          4.055167814095815,
          3.5553852381165494,
          3.591631849606832,
          3.607442010309278
         ],
         "yaxis": "y8"
        },
        {
         "marker": {
          "color": [
           0,
           1,
           2,
           3,
           4,
           5,
           6,
           7,
           8,
           9,
           10,
           11,
           12,
           13,
           14,
           15,
           16,
           17,
           18,
           19,
           20,
           21,
           22,
           23,
           24,
           25,
           26,
           27,
           28,
           29,
           30,
           31,
           32,
           33,
           34,
           35,
           36,
           37,
           38,
           39
          ],
          "colorbar": {
           "title": {
            "text": "Trial"
           },
           "x": 1,
           "xpad": 40
          },
          "colorscale": [
           [
            0,
            "rgb(247,251,255)"
           ],
           [
            0.125,
            "rgb(222,235,247)"
           ],
           [
            0.25,
            "rgb(198,219,239)"
           ],
           [
            0.375,
            "rgb(158,202,225)"
           ],
           [
            0.5,
            "rgb(107,174,214)"
           ],
           [
            0.625,
            "rgb(66,146,198)"
           ],
           [
            0.75,
            "rgb(33,113,181)"
           ],
           [
            0.875,
            "rgb(8,81,156)"
           ],
           [
            1,
            "rgb(8,48,107)"
           ]
          ],
          "line": {
           "color": "Grey",
           "width": 0.5
          },
          "showscale": false
         },
         "mode": "markers",
         "showlegend": false,
         "type": "scatter",
         "x": [
          1.2387115864382734,
          2.734804690718113,
          3.4515781030518706,
          1.974665498147496,
          4.3666799876508655,
          1.523579802656323,
          1.830543444785298,
          3.191054290515416,
          4.551427170704891,
          1.51452479003752,
          2.420217420341902,
          1.034679500635533,
          1.1160760991114609,
          1.9487545203033585,
          1.918305721770877,
          1.0935925354707137,
          2.257062697471629,
          2.4218980151803304,
          2.330828415440577,
          3.5782433863115823,
          2.776078546343329,
          3.421595523771444,
          2.47870223566508,
          3.0376182031024834,
          3.8485940442643,
          3.9346572344532937,
          3.956721978855634,
          3.954836286687618,
          4.119405723403611,
          4.820087662952921,
          4.171902105888748,
          3.8242361144816637,
          3.997871756804631,
          3.733140838609766,
          4.2339122639139495,
          3.7411426575141564,
          4.502192977210561,
          4.148170529320465,
          3.618442332467392,
          3.388468816474057
         ],
         "xaxis": "x9",
         "y": [
          4.677012114180732,
          4.220577796300252,
          4.219479600588481,
          6.349452217419942,
          4.019790947437286,
          3.9680176824331284,
          3.872466193032019,
          3.9818264742692313,
          4.643424808979034,
          5.940101504325867,
          4.065017623999684,
          3.917178409615743,
          3.8332172497031616,
          3.9039721931378866,
          3.828607011087162,
          3.8999564770570734,
          3.706257525178575,
          4.2356906723730345,
          3.778477489333792,
          3.8204350889343575,
          3.98621828854084,
          3.7045433226319933,
          4.40929580963764,
          3.7429502501930156,
          3.5427590645465656,
          3.3710619223486518,
          3.472818222242532,
          3.365237265518031,
          3.39854616233983,
          3.508672575155894,
          3.5905787895635233,
          3.4474651395660088,
          3.4476452070413175,
          3.40265643473753,
          3.711035887400309,
          3.5084712407023635,
          4.055167814095815,
          3.5553852381165494,
          3.591631849606832,
          3.607442010309278
         ],
         "yaxis": "y9"
        },
        {
         "marker": {
          "color": [
           0,
           1,
           2,
           3,
           4,
           5,
           6,
           7,
           8,
           9,
           10,
           11,
           12,
           13,
           14,
           15,
           16,
           17,
           18,
           19,
           20,
           21,
           22,
           23,
           24,
           25,
           26,
           27,
           28,
           29,
           30,
           31,
           32,
           33,
           34,
           35,
           36,
           37,
           38,
           39
          ],
          "colorbar": {
           "title": {
            "text": "Trial"
           },
           "x": 1,
           "xpad": 40
          },
          "colorscale": [
           [
            0,
            "rgb(247,251,255)"
           ],
           [
            0.125,
            "rgb(222,235,247)"
           ],
           [
            0.25,
            "rgb(198,219,239)"
           ],
           [
            0.375,
            "rgb(158,202,225)"
           ],
           [
            0.5,
            "rgb(107,174,214)"
           ],
           [
            0.625,
            "rgb(66,146,198)"
           ],
           [
            0.75,
            "rgb(33,113,181)"
           ],
           [
            0.875,
            "rgb(8,81,156)"
           ],
           [
            1,
            "rgb(8,48,107)"
           ]
          ],
          "line": {
           "color": "Grey",
           "width": 0.5
          },
          "showscale": false
         },
         "mode": "markers",
         "showlegend": false,
         "type": "scatter",
         "x": [
          0.3431780161508694,
          0.29371404638882936,
          0.48303426426270435,
          0.8423424376202573,
          0.5543832497177721,
          0.5131281541990022,
          0.002688064574320692,
          0.42834727470094924,
          0.665261465349683,
          0.8593890756806114,
          0.0038381442337546146,
          0.0024926783468393323,
          0.012283918831203056,
          0.13393614301914714,
          0.1773640709162101,
          0.19986608827313374,
          0.151097971195509,
          0.20207819587164388,
          0.3194241459688978,
          0.34783395692185237,
          0.263315364477387,
          0.3877927803447706,
          0.33583809184123586,
          0.4050718974409278,
          0.43826853855064796,
          0.5951126295760052,
          0.6038313309978742,
          0.6134659421245895,
          0.6271469898400595,
          0.6860001947264136,
          0.7326999682874638,
          0.589443627038177,
          0.565454813518597,
          0.61295381093748,
          0.7601907107502481,
          0.5041596980899767,
          0.9707542284550794,
          0.6292503226330343,
          0.5369029960805413,
          0.5073498128993527
         ],
         "xaxis": "x10",
         "y": [
          4.677012114180732,
          4.220577796300252,
          4.219479600588481,
          6.349452217419942,
          4.019790947437286,
          3.9680176824331284,
          3.872466193032019,
          3.9818264742692313,
          4.643424808979034,
          5.940101504325867,
          4.065017623999684,
          3.917178409615743,
          3.8332172497031616,
          3.9039721931378866,
          3.828607011087162,
          3.8999564770570734,
          3.706257525178575,
          4.2356906723730345,
          3.778477489333792,
          3.8204350889343575,
          3.98621828854084,
          3.7045433226319933,
          4.40929580963764,
          3.7429502501930156,
          3.5427590645465656,
          3.3710619223486518,
          3.472818222242532,
          3.365237265518031,
          3.39854616233983,
          3.508672575155894,
          3.5905787895635233,
          3.4474651395660088,
          3.4476452070413175,
          3.40265643473753,
          3.711035887400309,
          3.5084712407023635,
          4.055167814095815,
          3.5553852381165494,
          3.591631849606832,
          3.607442010309278
         ],
         "yaxis": "y10"
        },
        {
         "marker": {
          "color": [
           0,
           1,
           2,
           3,
           4,
           5,
           6,
           7,
           8,
           9,
           10,
           11,
           12,
           13,
           14,
           15,
           16,
           17,
           18,
           19,
           20,
           21,
           22,
           23,
           24,
           25,
           26,
           27,
           28,
           29,
           30,
           31,
           32,
           33,
           34,
           35,
           36,
           37,
           38,
           39
          ],
          "colorbar": {
           "title": {
            "text": "Trial"
           },
           "x": 1,
           "xpad": 40
          },
          "colorscale": [
           [
            0,
            "rgb(247,251,255)"
           ],
           [
            0.125,
            "rgb(222,235,247)"
           ],
           [
            0.25,
            "rgb(198,219,239)"
           ],
           [
            0.375,
            "rgb(158,202,225)"
           ],
           [
            0.5,
            "rgb(107,174,214)"
           ],
           [
            0.625,
            "rgb(66,146,198)"
           ],
           [
            0.75,
            "rgb(33,113,181)"
           ],
           [
            0.875,
            "rgb(8,81,156)"
           ],
           [
            1,
            "rgb(8,48,107)"
           ]
          ],
          "line": {
           "color": "Grey",
           "width": 0.5
          },
          "showscale": false
         },
         "mode": "markers",
         "showlegend": false,
         "type": "scatter",
         "x": [
          0.3980442553304314,
          0.4308627633296438,
          0.12062866599032374,
          0.19422296057877086,
          0.35739756668317624,
          0.32198060646830806,
          0.2924894127924248,
          0.09332671036982076,
          0.6963112682354063,
          0.08178008709398521,
          0.9584726343992349,
          0.2922174014539369,
          0.5683440387432248,
          0.556596881803587,
          0.5684466472227921,
          0.589742729836408,
          0.7006200963160393,
          0.7254107668257878,
          0.7669196377830494,
          0.8599603162791023,
          0.786047262492267,
          0.8560947252849119,
          0.9942429343663095,
          0.8803818477511107,
          0.8820510200081662,
          0.6787917422983142,
          0.876249758001637,
          0.9273807492371051,
          0.9536513794476591,
          0.9770201720792355,
          0.6344318973394536,
          0.9244384331041203,
          0.9341597096306095,
          0.8088728797335357,
          0.8078804844555956,
          0.8195803957621087,
          0.7503627681967919,
          0.9978739464038111,
          0.9255612111496577,
          0.8133485569743879
         ],
         "xaxis": "x11",
         "y": [
          4.677012114180732,
          4.220577796300252,
          4.219479600588481,
          6.349452217419942,
          4.019790947437286,
          3.9680176824331284,
          3.872466193032019,
          3.9818264742692313,
          4.643424808979034,
          5.940101504325867,
          4.065017623999684,
          3.917178409615743,
          3.8332172497031616,
          3.9039721931378866,
          3.828607011087162,
          3.8999564770570734,
          3.706257525178575,
          4.2356906723730345,
          3.778477489333792,
          3.8204350889343575,
          3.98621828854084,
          3.7045433226319933,
          4.40929580963764,
          3.7429502501930156,
          3.5427590645465656,
          3.3710619223486518,
          3.472818222242532,
          3.365237265518031,
          3.39854616233983,
          3.508672575155894,
          3.5905787895635233,
          3.4474651395660088,
          3.4476452070413175,
          3.40265643473753,
          3.711035887400309,
          3.5084712407023635,
          4.055167814095815,
          3.5553852381165494,
          3.591631849606832,
          3.607442010309278
         ],
         "yaxis": "y11"
        },
        {
         "marker": {
          "color": [
           0,
           1,
           2,
           3,
           4,
           5,
           6,
           7,
           8,
           9,
           10,
           11,
           12,
           13,
           14,
           15,
           16,
           17,
           18,
           19,
           20,
           21,
           22,
           23,
           24,
           25,
           26,
           27,
           28,
           29,
           30,
           31,
           32,
           33,
           34,
           35,
           36,
           37,
           38,
           39
          ],
          "colorbar": {
           "title": {
            "text": "Trial"
           },
           "x": 1,
           "xpad": 40
          },
          "colorscale": [
           [
            0,
            "rgb(247,251,255)"
           ],
           [
            0.125,
            "rgb(222,235,247)"
           ],
           [
            0.25,
            "rgb(198,219,239)"
           ],
           [
            0.375,
            "rgb(158,202,225)"
           ],
           [
            0.5,
            "rgb(107,174,214)"
           ],
           [
            0.625,
            "rgb(66,146,198)"
           ],
           [
            0.75,
            "rgb(33,113,181)"
           ],
           [
            0.875,
            "rgb(8,81,156)"
           ],
           [
            1,
            "rgb(8,48,107)"
           ]
          ],
          "line": {
           "color": "Grey",
           "width": 0.5
          },
          "showscale": false
         },
         "mode": "markers",
         "showlegend": false,
         "type": "scatter",
         "x": [
          0.18249173045349998,
          0.425830290295828,
          0.6030601284109274,
          0.09571251661238711,
          0.30476807341109746,
          0.8465062252707221,
          0.9019113726606706,
          0.9275842401521475,
          0.4382143843772247,
          0.3993787101028001,
          0.7226120316709002,
          0.9996473957717715,
          0.9071855619230433,
          0.7833048217920879,
          0.6479844833702904,
          0.6425853265854343,
          0.5907458219715612,
          0.5355512223055703,
          0.6670024776429748,
          0.7388646153295821,
          0.5779047740106625,
          0.7351604480721001,
          0.6537562642959732,
          0.7514299479098311,
          0.7686176686809078,
          0.5196947981756267,
          0.5005674075641758,
          0.4904389802735906,
          0.504997600207263,
          0.31296652754478904,
          0.5198486010942348,
          0.4948756702244086,
          0.45936638700640076,
          0.3606364504705373,
          0.3688675507324324,
          0.2739407296662423,
          0.40714611522328265,
          0.20346112358745214,
          0.5363728103439108,
          0.35300406159687614
         ],
         "xaxis": "x12",
         "y": [
          4.677012114180732,
          4.220577796300252,
          4.219479600588481,
          6.349452217419942,
          4.019790947437286,
          3.9680176824331284,
          3.872466193032019,
          3.9818264742692313,
          4.643424808979034,
          5.940101504325867,
          4.065017623999684,
          3.917178409615743,
          3.8332172497031616,
          3.9039721931378866,
          3.828607011087162,
          3.8999564770570734,
          3.706257525178575,
          4.2356906723730345,
          3.778477489333792,
          3.8204350889343575,
          3.98621828854084,
          3.7045433226319933,
          4.40929580963764,
          3.7429502501930156,
          3.5427590645465656,
          3.3710619223486518,
          3.472818222242532,
          3.365237265518031,
          3.39854616233983,
          3.508672575155894,
          3.5905787895635233,
          3.4474651395660088,
          3.4476452070413175,
          3.40265643473753,
          3.711035887400309,
          3.5084712407023635,
          4.055167814095815,
          3.5553852381165494,
          3.591631849606832,
          3.607442010309278
         ],
         "yaxis": "y12"
        },
        {
         "marker": {
          "color": [
           0,
           1,
           2,
           3,
           4,
           5,
           6,
           7,
           8,
           9,
           10,
           11,
           12,
           13,
           14,
           15,
           16,
           17,
           18,
           19,
           20,
           21,
           22,
           23,
           24,
           25,
           26,
           27,
           28,
           29,
           30,
           31,
           32,
           33,
           34,
           35,
           36,
           37,
           38,
           39
          ],
          "colorbar": {
           "title": {
            "text": "Trial"
           },
           "x": 1,
           "xpad": 40
          },
          "colorscale": [
           [
            0,
            "rgb(247,251,255)"
           ],
           [
            0.125,
            "rgb(222,235,247)"
           ],
           [
            0.25,
            "rgb(198,219,239)"
           ],
           [
            0.375,
            "rgb(158,202,225)"
           ],
           [
            0.5,
            "rgb(107,174,214)"
           ],
           [
            0.625,
            "rgb(66,146,198)"
           ],
           [
            0.75,
            "rgb(33,113,181)"
           ],
           [
            0.875,
            "rgb(8,81,156)"
           ],
           [
            1,
            "rgb(8,48,107)"
           ]
          ],
          "line": {
           "color": "Grey",
           "width": 0.5
          },
          "showscale": false
         },
         "mode": "markers",
         "showlegend": false,
         "type": "scatter",
         "x": [
          2.7542889787184976,
          1.3684197597803007,
          3.0779404770392373,
          4.054731365773353,
          4.700529958455944,
          1.4236339402272553,
          4.6213663026464396,
          2.802545962074939,
          3.6594897952131773,
          4.639486638440836,
          4.945156225606739,
          1.1164131805740423,
          1.000591409699378,
          2.202445317631642,
          1.975976624676274,
          1.788143898170088,
          1.0212914499672288,
          1.8935923459122825,
          2.219539532889242,
          2.336975371657973,
          2.366082374429813,
          1.6036693258212873,
          1.5564592561971753,
          1.5934103053862991,
          1.2419403899206736,
          1.1945781206823298,
          1.2766116121515487,
          1.2675572751554336,
          1.3089835069596951,
          1.3599279876671657,
          1.7393612310387876,
          1.364079057595423,
          1.2972426039044276,
          1.4923401737133664,
          1.010012137362817,
          1.5799252889283326,
          1.958285879999512,
          1.4608385010790281,
          1.1869495975705264,
          1.6821705112668548
         ],
         "xaxis": "x13",
         "y": [
          4.677012114180732,
          4.220577796300252,
          4.219479600588481,
          6.349452217419942,
          4.019790947437286,
          3.9680176824331284,
          3.872466193032019,
          3.9818264742692313,
          4.643424808979034,
          5.940101504325867,
          4.065017623999684,
          3.917178409615743,
          3.8332172497031616,
          3.9039721931378866,
          3.828607011087162,
          3.8999564770570734,
          3.706257525178575,
          4.2356906723730345,
          3.778477489333792,
          3.8204350889343575,
          3.98621828854084,
          3.7045433226319933,
          4.40929580963764,
          3.7429502501930156,
          3.5427590645465656,
          3.3710619223486518,
          3.472818222242532,
          3.365237265518031,
          3.39854616233983,
          3.508672575155894,
          3.5905787895635233,
          3.4474651395660088,
          3.4476452070413175,
          3.40265643473753,
          3.711035887400309,
          3.5084712407023635,
          4.055167814095815,
          3.5553852381165494,
          3.591631849606832,
          3.607442010309278
         ],
         "yaxis": "y13"
        },
        {
         "marker": {
          "color": [
           0,
           1,
           2,
           3,
           4,
           5,
           6,
           7,
           8,
           9,
           10,
           11,
           12,
           13,
           14,
           15,
           16,
           17,
           18,
           19,
           20,
           21,
           22,
           23,
           24,
           25,
           26,
           27,
           28,
           29,
           30,
           31,
           32,
           33,
           34,
           35,
           36,
           37,
           38,
           39
          ],
          "colorbar": {
           "title": {
            "text": "Trial"
           },
           "x": 1,
           "xpad": 40
          },
          "colorscale": [
           [
            0,
            "rgb(247,251,255)"
           ],
           [
            0.125,
            "rgb(222,235,247)"
           ],
           [
            0.25,
            "rgb(198,219,239)"
           ],
           [
            0.375,
            "rgb(158,202,225)"
           ],
           [
            0.5,
            "rgb(107,174,214)"
           ],
           [
            0.625,
            "rgb(66,146,198)"
           ],
           [
            0.75,
            "rgb(33,113,181)"
           ],
           [
            0.875,
            "rgb(8,81,156)"
           ],
           [
            1,
            "rgb(8,48,107)"
           ]
          ],
          "line": {
           "color": "Grey",
           "width": 0.5
          },
          "showscale": false
         },
         "mode": "markers",
         "showlegend": false,
         "type": "scatter",
         "x": [
          0.1219468969785563,
          0.12244553248606352,
          0.11239529517921112,
          0.13754568417951749,
          0.10567851923942886,
          0.10931769165622211,
          0.0671081829205099,
          0.12310730358445571,
          0.1208697395442746,
          0.083706638344761,
          0.055037015966557946,
          0.08790920512438627,
          0.07832490086404105,
          0.06546508887625468,
          0.07471546949369612,
          0.08799074112876407,
          0.07719586677323671,
          0.09673644434834715,
          0.0501191990183817,
          0.05066777842738916,
          0.05867318288180966,
          0.051760824315073055,
          0.05138164937821247,
          0.06547933067834885,
          0.06458999113205241,
          0.06093508879714241,
          0.058582801683674364,
          0.06071858943007523,
          0.05978166975524341,
          0.07185709226232662,
          0.06138215852782736,
          0.058487281562305496,
          0.07066910840744073,
          0.057274960445908636,
          0.06053246236712697,
          0.06986365751979703,
          0.05575831064645068,
          0.06365618225077449,
          0.06879102320852322,
          0.055709775756388386
         ],
         "xaxis": "x14",
         "y": [
          4.677012114180732,
          4.220577796300252,
          4.219479600588481,
          6.349452217419942,
          4.019790947437286,
          3.9680176824331284,
          3.872466193032019,
          3.9818264742692313,
          4.643424808979034,
          5.940101504325867,
          4.065017623999684,
          3.917178409615743,
          3.8332172497031616,
          3.9039721931378866,
          3.828607011087162,
          3.8999564770570734,
          3.706257525178575,
          4.2356906723730345,
          3.778477489333792,
          3.8204350889343575,
          3.98621828854084,
          3.7045433226319933,
          4.40929580963764,
          3.7429502501930156,
          3.5427590645465656,
          3.3710619223486518,
          3.472818222242532,
          3.365237265518031,
          3.39854616233983,
          3.508672575155894,
          3.5905787895635233,
          3.4474651395660088,
          3.4476452070413175,
          3.40265643473753,
          3.711035887400309,
          3.5084712407023635,
          4.055167814095815,
          3.5553852381165494,
          3.591631849606832,
          3.607442010309278
         ],
         "yaxis": "y14"
        }
       ],
       "layout": {
        "template": {
         "data": {
          "bar": [
           {
            "error_x": {
             "color": "#2a3f5f"
            },
            "error_y": {
             "color": "#2a3f5f"
            },
            "marker": {
             "line": {
              "color": "#E5ECF6",
              "width": 0.5
             },
             "pattern": {
              "fillmode": "overlay",
              "size": 10,
              "solidity": 0.2
             }
            },
            "type": "bar"
           }
          ],
          "barpolar": [
           {
            "marker": {
             "line": {
              "color": "#E5ECF6",
              "width": 0.5
             },
             "pattern": {
              "fillmode": "overlay",
              "size": 10,
              "solidity": 0.2
             }
            },
            "type": "barpolar"
           }
          ],
          "carpet": [
           {
            "aaxis": {
             "endlinecolor": "#2a3f5f",
             "gridcolor": "white",
             "linecolor": "white",
             "minorgridcolor": "white",
             "startlinecolor": "#2a3f5f"
            },
            "baxis": {
             "endlinecolor": "#2a3f5f",
             "gridcolor": "white",
             "linecolor": "white",
             "minorgridcolor": "white",
             "startlinecolor": "#2a3f5f"
            },
            "type": "carpet"
           }
          ],
          "choropleth": [
           {
            "colorbar": {
             "outlinewidth": 0,
             "ticks": ""
            },
            "type": "choropleth"
           }
          ],
          "contour": [
           {
            "colorbar": {
             "outlinewidth": 0,
             "ticks": ""
            },
            "colorscale": [
             [
              0,
              "#0d0887"
             ],
             [
              0.1111111111111111,
              "#46039f"
             ],
             [
              0.2222222222222222,
              "#7201a8"
             ],
             [
              0.3333333333333333,
              "#9c179e"
             ],
             [
              0.4444444444444444,
              "#bd3786"
             ],
             [
              0.5555555555555556,
              "#d8576b"
             ],
             [
              0.6666666666666666,
              "#ed7953"
             ],
             [
              0.7777777777777778,
              "#fb9f3a"
             ],
             [
              0.8888888888888888,
              "#fdca26"
             ],
             [
              1,
              "#f0f921"
             ]
            ],
            "type": "contour"
           }
          ],
          "contourcarpet": [
           {
            "colorbar": {
             "outlinewidth": 0,
             "ticks": ""
            },
            "type": "contourcarpet"
           }
          ],
          "heatmap": [
           {
            "colorbar": {
             "outlinewidth": 0,
             "ticks": ""
            },
            "colorscale": [
             [
              0,
              "#0d0887"
             ],
             [
              0.1111111111111111,
              "#46039f"
             ],
             [
              0.2222222222222222,
              "#7201a8"
             ],
             [
              0.3333333333333333,
              "#9c179e"
             ],
             [
              0.4444444444444444,
              "#bd3786"
             ],
             [
              0.5555555555555556,
              "#d8576b"
             ],
             [
              0.6666666666666666,
              "#ed7953"
             ],
             [
              0.7777777777777778,
              "#fb9f3a"
             ],
             [
              0.8888888888888888,
              "#fdca26"
             ],
             [
              1,
              "#f0f921"
             ]
            ],
            "type": "heatmap"
           }
          ],
          "heatmapgl": [
           {
            "colorbar": {
             "outlinewidth": 0,
             "ticks": ""
            },
            "colorscale": [
             [
              0,
              "#0d0887"
             ],
             [
              0.1111111111111111,
              "#46039f"
             ],
             [
              0.2222222222222222,
              "#7201a8"
             ],
             [
              0.3333333333333333,
              "#9c179e"
             ],
             [
              0.4444444444444444,
              "#bd3786"
             ],
             [
              0.5555555555555556,
              "#d8576b"
             ],
             [
              0.6666666666666666,
              "#ed7953"
             ],
             [
              0.7777777777777778,
              "#fb9f3a"
             ],
             [
              0.8888888888888888,
              "#fdca26"
             ],
             [
              1,
              "#f0f921"
             ]
            ],
            "type": "heatmapgl"
           }
          ],
          "histogram": [
           {
            "marker": {
             "pattern": {
              "fillmode": "overlay",
              "size": 10,
              "solidity": 0.2
             }
            },
            "type": "histogram"
           }
          ],
          "histogram2d": [
           {
            "colorbar": {
             "outlinewidth": 0,
             "ticks": ""
            },
            "colorscale": [
             [
              0,
              "#0d0887"
             ],
             [
              0.1111111111111111,
              "#46039f"
             ],
             [
              0.2222222222222222,
              "#7201a8"
             ],
             [
              0.3333333333333333,
              "#9c179e"
             ],
             [
              0.4444444444444444,
              "#bd3786"
             ],
             [
              0.5555555555555556,
              "#d8576b"
             ],
             [
              0.6666666666666666,
              "#ed7953"
             ],
             [
              0.7777777777777778,
              "#fb9f3a"
             ],
             [
              0.8888888888888888,
              "#fdca26"
             ],
             [
              1,
              "#f0f921"
             ]
            ],
            "type": "histogram2d"
           }
          ],
          "histogram2dcontour": [
           {
            "colorbar": {
             "outlinewidth": 0,
             "ticks": ""
            },
            "colorscale": [
             [
              0,
              "#0d0887"
             ],
             [
              0.1111111111111111,
              "#46039f"
             ],
             [
              0.2222222222222222,
              "#7201a8"
             ],
             [
              0.3333333333333333,
              "#9c179e"
             ],
             [
              0.4444444444444444,
              "#bd3786"
             ],
             [
              0.5555555555555556,
              "#d8576b"
             ],
             [
              0.6666666666666666,
              "#ed7953"
             ],
             [
              0.7777777777777778,
              "#fb9f3a"
             ],
             [
              0.8888888888888888,
              "#fdca26"
             ],
             [
              1,
              "#f0f921"
             ]
            ],
            "type": "histogram2dcontour"
           }
          ],
          "mesh3d": [
           {
            "colorbar": {
             "outlinewidth": 0,
             "ticks": ""
            },
            "type": "mesh3d"
           }
          ],
          "parcoords": [
           {
            "line": {
             "colorbar": {
              "outlinewidth": 0,
              "ticks": ""
             }
            },
            "type": "parcoords"
           }
          ],
          "pie": [
           {
            "automargin": true,
            "type": "pie"
           }
          ],
          "scatter": [
           {
            "fillpattern": {
             "fillmode": "overlay",
             "size": 10,
             "solidity": 0.2
            },
            "type": "scatter"
           }
          ],
          "scatter3d": [
           {
            "line": {
             "colorbar": {
              "outlinewidth": 0,
              "ticks": ""
             }
            },
            "marker": {
             "colorbar": {
              "outlinewidth": 0,
              "ticks": ""
             }
            },
            "type": "scatter3d"
           }
          ],
          "scattercarpet": [
           {
            "marker": {
             "colorbar": {
              "outlinewidth": 0,
              "ticks": ""
             }
            },
            "type": "scattercarpet"
           }
          ],
          "scattergeo": [
           {
            "marker": {
             "colorbar": {
              "outlinewidth": 0,
              "ticks": ""
             }
            },
            "type": "scattergeo"
           }
          ],
          "scattergl": [
           {
            "marker": {
             "colorbar": {
              "outlinewidth": 0,
              "ticks": ""
             }
            },
            "type": "scattergl"
           }
          ],
          "scattermapbox": [
           {
            "marker": {
             "colorbar": {
              "outlinewidth": 0,
              "ticks": ""
             }
            },
            "type": "scattermapbox"
           }
          ],
          "scatterpolar": [
           {
            "marker": {
             "colorbar": {
              "outlinewidth": 0,
              "ticks": ""
             }
            },
            "type": "scatterpolar"
           }
          ],
          "scatterpolargl": [
           {
            "marker": {
             "colorbar": {
              "outlinewidth": 0,
              "ticks": ""
             }
            },
            "type": "scatterpolargl"
           }
          ],
          "scatterternary": [
           {
            "marker": {
             "colorbar": {
              "outlinewidth": 0,
              "ticks": ""
             }
            },
            "type": "scatterternary"
           }
          ],
          "surface": [
           {
            "colorbar": {
             "outlinewidth": 0,
             "ticks": ""
            },
            "colorscale": [
             [
              0,
              "#0d0887"
             ],
             [
              0.1111111111111111,
              "#46039f"
             ],
             [
              0.2222222222222222,
              "#7201a8"
             ],
             [
              0.3333333333333333,
              "#9c179e"
             ],
             [
              0.4444444444444444,
              "#bd3786"
             ],
             [
              0.5555555555555556,
              "#d8576b"
             ],
             [
              0.6666666666666666,
              "#ed7953"
             ],
             [
              0.7777777777777778,
              "#fb9f3a"
             ],
             [
              0.8888888888888888,
              "#fdca26"
             ],
             [
              1,
              "#f0f921"
             ]
            ],
            "type": "surface"
           }
          ],
          "table": [
           {
            "cells": {
             "fill": {
              "color": "#EBF0F8"
             },
             "line": {
              "color": "white"
             }
            },
            "header": {
             "fill": {
              "color": "#C8D4E3"
             },
             "line": {
              "color": "white"
             }
            },
            "type": "table"
           }
          ]
         },
         "layout": {
          "annotationdefaults": {
           "arrowcolor": "#2a3f5f",
           "arrowhead": 0,
           "arrowwidth": 1
          },
          "autotypenumbers": "strict",
          "coloraxis": {
           "colorbar": {
            "outlinewidth": 0,
            "ticks": ""
           }
          },
          "colorscale": {
           "diverging": [
            [
             0,
             "#8e0152"
            ],
            [
             0.1,
             "#c51b7d"
            ],
            [
             0.2,
             "#de77ae"
            ],
            [
             0.3,
             "#f1b6da"
            ],
            [
             0.4,
             "#fde0ef"
            ],
            [
             0.5,
             "#f7f7f7"
            ],
            [
             0.6,
             "#e6f5d0"
            ],
            [
             0.7,
             "#b8e186"
            ],
            [
             0.8,
             "#7fbc41"
            ],
            [
             0.9,
             "#4d9221"
            ],
            [
             1,
             "#276419"
            ]
           ],
           "sequential": [
            [
             0,
             "#0d0887"
            ],
            [
             0.1111111111111111,
             "#46039f"
            ],
            [
             0.2222222222222222,
             "#7201a8"
            ],
            [
             0.3333333333333333,
             "#9c179e"
            ],
            [
             0.4444444444444444,
             "#bd3786"
            ],
            [
             0.5555555555555556,
             "#d8576b"
            ],
            [
             0.6666666666666666,
             "#ed7953"
            ],
            [
             0.7777777777777778,
             "#fb9f3a"
            ],
            [
             0.8888888888888888,
             "#fdca26"
            ],
            [
             1,
             "#f0f921"
            ]
           ],
           "sequentialminus": [
            [
             0,
             "#0d0887"
            ],
            [
             0.1111111111111111,
             "#46039f"
            ],
            [
             0.2222222222222222,
             "#7201a8"
            ],
            [
             0.3333333333333333,
             "#9c179e"
            ],
            [
             0.4444444444444444,
             "#bd3786"
            ],
            [
             0.5555555555555556,
             "#d8576b"
            ],
            [
             0.6666666666666666,
             "#ed7953"
            ],
            [
             0.7777777777777778,
             "#fb9f3a"
            ],
            [
             0.8888888888888888,
             "#fdca26"
            ],
            [
             1,
             "#f0f921"
            ]
           ]
          },
          "colorway": [
           "#636efa",
           "#EF553B",
           "#00cc96",
           "#ab63fa",
           "#FFA15A",
           "#19d3f3",
           "#FF6692",
           "#B6E880",
           "#FF97FF",
           "#FECB52"
          ],
          "font": {
           "color": "#2a3f5f"
          },
          "geo": {
           "bgcolor": "white",
           "lakecolor": "white",
           "landcolor": "#E5ECF6",
           "showlakes": true,
           "showland": true,
           "subunitcolor": "white"
          },
          "hoverlabel": {
           "align": "left"
          },
          "hovermode": "closest",
          "mapbox": {
           "style": "light"
          },
          "paper_bgcolor": "white",
          "plot_bgcolor": "#E5ECF6",
          "polar": {
           "angularaxis": {
            "gridcolor": "white",
            "linecolor": "white",
            "ticks": ""
           },
           "bgcolor": "#E5ECF6",
           "radialaxis": {
            "gridcolor": "white",
            "linecolor": "white",
            "ticks": ""
           }
          },
          "scene": {
           "xaxis": {
            "backgroundcolor": "#E5ECF6",
            "gridcolor": "white",
            "gridwidth": 2,
            "linecolor": "white",
            "showbackground": true,
            "ticks": "",
            "zerolinecolor": "white"
           },
           "yaxis": {
            "backgroundcolor": "#E5ECF6",
            "gridcolor": "white",
            "gridwidth": 2,
            "linecolor": "white",
            "showbackground": true,
            "ticks": "",
            "zerolinecolor": "white"
           },
           "zaxis": {
            "backgroundcolor": "#E5ECF6",
            "gridcolor": "white",
            "gridwidth": 2,
            "linecolor": "white",
            "showbackground": true,
            "ticks": "",
            "zerolinecolor": "white"
           }
          },
          "shapedefaults": {
           "line": {
            "color": "#2a3f5f"
           }
          },
          "ternary": {
           "aaxis": {
            "gridcolor": "white",
            "linecolor": "white",
            "ticks": ""
           },
           "baxis": {
            "gridcolor": "white",
            "linecolor": "white",
            "ticks": ""
           },
           "bgcolor": "#E5ECF6",
           "caxis": {
            "gridcolor": "white",
            "linecolor": "white",
            "ticks": ""
           }
          },
          "title": {
           "x": 0.05
          },
          "xaxis": {
           "automargin": true,
           "gridcolor": "white",
           "linecolor": "white",
           "ticks": "",
           "title": {
            "standoff": 15
           },
           "zerolinecolor": "white",
           "zerolinewidth": 2
          },
          "yaxis": {
           "automargin": true,
           "gridcolor": "white",
           "linecolor": "white",
           "ticks": "",
           "title": {
            "standoff": 15
           },
           "zerolinecolor": "white",
           "zerolinewidth": 2
          }
         }
        },
        "title": {
         "text": "Slice Plot"
        },
        "width": 4200,
        "xaxis": {
         "anchor": "y",
         "domain": [
          0,
          0.058163265306122446
         ],
         "title": {
          "text": "batch_size"
         }
        },
        "xaxis10": {
         "anchor": "y10",
         "domain": [
          0.6520408163265305,
          0.710204081632653
         ],
         "title": {
          "text": "s_alpha"
         }
        },
        "xaxis11": {
         "anchor": "y11",
         "domain": [
          0.7244897959183674,
          0.7826530612244899
         ],
         "title": {
          "text": "s_beta"
         }
        },
        "xaxis12": {
         "anchor": "y12",
         "domain": [
          0.7969387755102041,
          0.8551020408163266
         ],
         "title": {
          "text": "s_gamma"
         }
        },
        "xaxis13": {
         "anchor": "y13",
         "domain": [
          0.8693877551020408,
          0.9275510204081633
         ],
         "title": {
          "text": "s_tau"
         }
        },
        "xaxis14": {
         "anchor": "y14",
         "domain": [
          0.9418367346938776,
          1
         ],
         "title": {
          "text": "weight_decay"
         }
        },
        "xaxis2": {
         "anchor": "y2",
         "domain": [
          0.07244897959183673,
          0.13061224489795917
         ],
         "title": {
          "text": "hidden_crit"
         }
        },
        "xaxis3": {
         "anchor": "y3",
         "domain": [
          0.14489795918367346,
          0.2030612244897959
         ],
         "title": {
          "text": "label_smoothing"
         }
        },
        "xaxis4": {
         "anchor": "y4",
         "domain": [
          0.2173469387755102,
          0.2755102040816326
         ],
         "title": {
          "text": "logits_crit"
         }
        },
        "xaxis5": {
         "anchor": "y5",
         "domain": [
          0.2897959183673469,
          0.34795918367346934
         ],
         "title": {
          "text": "lr"
         }
        },
        "xaxis6": {
         "anchor": "y6",
         "domain": [
          0.3622448979591837,
          0.4204081632653061
         ],
         "title": {
          "text": "p_alpha"
         }
        },
        "xaxis7": {
         "anchor": "y7",
         "domain": [
          0.4346938775510204,
          0.4928571428571428
         ],
         "title": {
          "text": "p_beta"
         }
        },
        "xaxis8": {
         "anchor": "y8",
         "domain": [
          0.5071428571428571,
          0.5653061224489796
         ],
         "title": {
          "text": "p_gamma"
         }
        },
        "xaxis9": {
         "anchor": "y9",
         "domain": [
          0.5795918367346938,
          0.6377551020408163
         ],
         "title": {
          "text": "p_tau"
         }
        },
        "yaxis": {
         "anchor": "x",
         "domain": [
          0,
          1
         ],
         "title": {
          "text": "Objective Value"
         }
        },
        "yaxis10": {
         "anchor": "x10",
         "domain": [
          0,
          1
         ],
         "matches": "y",
         "showticklabels": false
        },
        "yaxis11": {
         "anchor": "x11",
         "domain": [
          0,
          1
         ],
         "matches": "y",
         "showticklabels": false
        },
        "yaxis12": {
         "anchor": "x12",
         "domain": [
          0,
          1
         ],
         "matches": "y",
         "showticklabels": false
        },
        "yaxis13": {
         "anchor": "x13",
         "domain": [
          0,
          1
         ],
         "matches": "y",
         "showticklabels": false
        },
        "yaxis14": {
         "anchor": "x14",
         "domain": [
          0,
          1
         ],
         "matches": "y",
         "showticklabels": false
        },
        "yaxis2": {
         "anchor": "x2",
         "domain": [
          0,
          1
         ],
         "matches": "y",
         "showticklabels": false
        },
        "yaxis3": {
         "anchor": "x3",
         "domain": [
          0,
          1
         ],
         "matches": "y",
         "showticklabels": false
        },
        "yaxis4": {
         "anchor": "x4",
         "domain": [
          0,
          1
         ],
         "matches": "y",
         "showticklabels": false
        },
        "yaxis5": {
         "anchor": "x5",
         "domain": [
          0,
          1
         ],
         "matches": "y",
         "showticklabels": false
        },
        "yaxis6": {
         "anchor": "x6",
         "domain": [
          0,
          1
         ],
         "matches": "y",
         "showticklabels": false
        },
        "yaxis7": {
         "anchor": "x7",
         "domain": [
          0,
          1
         ],
         "matches": "y",
         "showticklabels": false
        },
        "yaxis8": {
         "anchor": "x8",
         "domain": [
          0,
          1
         ],
         "matches": "y",
         "showticklabels": false
        },
        "yaxis9": {
         "anchor": "x9",
         "domain": [
          0,
          1
         ],
         "matches": "y",
         "showticklabels": false
        }
       }
      },
      "text/html": [
       "<div>                            <div id=\"0e7b4bf2-bb69-4953-bd83-75a08c2a25b2\" class=\"plotly-graph-div\" style=\"height:525px; width:4200px;\"></div>            <script type=\"text/javascript\">                require([\"plotly\"], function(Plotly) {                    window.PLOTLYENV=window.PLOTLYENV || {};                                    if (document.getElementById(\"0e7b4bf2-bb69-4953-bd83-75a08c2a25b2\")) {                    Plotly.newPlot(                        \"0e7b4bf2-bb69-4953-bd83-75a08c2a25b2\",                        [{\"marker\":{\"color\":[0,1,2,3,4,5,6,7,8,9,10,11,12,13,14,15,16,17,18,19,20,21,22,23,24,25,26,27,28,29,30,31,32,33,34,35,36,37,38,39],\"colorbar\":{\"title\":{\"text\":\"Trial\"},\"x\":1.0,\"xpad\":40},\"colorscale\":[[0.0,\"rgb(247,251,255)\"],[0.125,\"rgb(222,235,247)\"],[0.25,\"rgb(198,219,239)\"],[0.375,\"rgb(158,202,225)\"],[0.5,\"rgb(107,174,214)\"],[0.625,\"rgb(66,146,198)\"],[0.75,\"rgb(33,113,181)\"],[0.875,\"rgb(8,81,156)\"],[1.0,\"rgb(8,48,107)\"]],\"line\":{\"color\":\"Grey\",\"width\":0.5},\"showscale\":true},\"mode\":\"markers\",\"showlegend\":false,\"x\":[128,512,512,512,256,256,128,512,256,512,128,128,128,128,128,128,128,128,128,128,256,128,128,128,128,128,128,128,128,256,128,128,128,128,512,128,512,128,256,128],\"y\":[4.677012114180732,4.220577796300252,4.219479600588481,6.349452217419942,4.019790947437286,3.9680176824331284,3.872466193032019,3.9818264742692313,4.643424808979034,5.940101504325867,4.065017623999684,3.917178409615743,3.8332172497031616,3.9039721931378866,3.828607011087162,3.8999564770570734,3.706257525178575,4.2356906723730345,3.778477489333792,3.8204350889343575,3.98621828854084,3.7045433226319933,4.40929580963764,3.7429502501930156,3.5427590645465656,3.3710619223486518,3.472818222242532,3.365237265518031,3.39854616233983,3.508672575155894,3.5905787895635233,3.4474651395660088,3.4476452070413175,3.40265643473753,3.711035887400309,3.5084712407023635,4.055167814095815,3.5553852381165494,3.591631849606832,3.607442010309278],\"type\":\"scatter\",\"xaxis\":\"x\",\"yaxis\":\"y\"},{\"marker\":{\"color\":[0,1,2,3,4,5,6,7,8,9,10,11,12,13,14,15,16,17,18,19,20,21,22,23,24,25,26,27,28,29,30,31,32,33,34,35,36,37,38,39],\"colorbar\":{\"title\":{\"text\":\"Trial\"},\"x\":1.0,\"xpad\":40},\"colorscale\":[[0.0,\"rgb(247,251,255)\"],[0.125,\"rgb(222,235,247)\"],[0.25,\"rgb(198,219,239)\"],[0.375,\"rgb(158,202,225)\"],[0.5,\"rgb(107,174,214)\"],[0.625,\"rgb(66,146,198)\"],[0.75,\"rgb(33,113,181)\"],[0.875,\"rgb(8,81,156)\"],[1.0,\"rgb(8,48,107)\"]],\"line\":{\"color\":\"Grey\",\"width\":0.5},\"showscale\":false},\"mode\":\"markers\",\"showlegend\":false,\"x\":[\"mse\",\"mse\",\"mse\",\"cosine\",\"cosine\",\"cosine\",\"mse\",\"mse\",\"cosine\",\"mse\",\"mse\",\"cosine\",\"cosine\",\"cosine\",\"cosine\",\"cosine\",\"cosine\",\"cosine\",\"cosine\",\"cosine\",\"cosine\",\"cosine\",\"cosine\",\"cosine\",\"cosine\",\"cosine\",\"cosine\",\"cosine\",\"cosine\",\"cosine\",\"cosine\",\"cosine\",\"cosine\",\"cosine\",\"mse\",\"cosine\",\"cosine\",\"mse\",\"cosine\",\"cosine\"],\"y\":[4.677012114180732,4.220577796300252,4.219479600588481,6.349452217419942,4.019790947437286,3.9680176824331284,3.872466193032019,3.9818264742692313,4.643424808979034,5.940101504325867,4.065017623999684,3.917178409615743,3.8332172497031616,3.9039721931378866,3.828607011087162,3.8999564770570734,3.706257525178575,4.2356906723730345,3.778477489333792,3.8204350889343575,3.98621828854084,3.7045433226319933,4.40929580963764,3.7429502501930156,3.5427590645465656,3.3710619223486518,3.472818222242532,3.365237265518031,3.39854616233983,3.508672575155894,3.5905787895635233,3.4474651395660088,3.4476452070413175,3.40265643473753,3.711035887400309,3.5084712407023635,4.055167814095815,3.5553852381165494,3.591631849606832,3.607442010309278],\"type\":\"scatter\",\"xaxis\":\"x2\",\"yaxis\":\"y2\"},{\"marker\":{\"color\":[0,1,2,3,4,5,6,7,8,9,10,11,12,13,14,15,16,17,18,19,20,21,22,23,24,25,26,27,28,29,30,31,32,33,34,35,36,37,38,39],\"colorbar\":{\"title\":{\"text\":\"Trial\"},\"x\":1.0,\"xpad\":40},\"colorscale\":[[0.0,\"rgb(247,251,255)\"],[0.125,\"rgb(222,235,247)\"],[0.25,\"rgb(198,219,239)\"],[0.375,\"rgb(158,202,225)\"],[0.5,\"rgb(107,174,214)\"],[0.625,\"rgb(66,146,198)\"],[0.75,\"rgb(33,113,181)\"],[0.875,\"rgb(8,81,156)\"],[1.0,\"rgb(8,48,107)\"]],\"line\":{\"color\":\"Grey\",\"width\":0.5},\"showscale\":false},\"mode\":\"markers\",\"showlegend\":false,\"x\":[0.1269319380373383,0.18330705320327487,0.03468551852378871,0.15312670124340333,0.04768789324341682,0.20751053961005314,0.2487337903505671,0.04832070432876445,0.25177300434152505,0.27827297387261685,0.28291803549587025,0.22586741236148866,0.22917132890619812,0.29180537013071417,0.23499566873261804,0.1987730441052239,0.24292179978410666,0.299978575073727,0.25194475735369326,0.2601770332971581,0.2654849075764131,0.262252185426701,0.2655700168380717,0.2984891162046564,0.29919880942037913,0.2793165494819503,0.2764057672492864,0.28144059401887456,0.27883690473769523,0.21570244033997163,0.16519560102561223,0.2763752362239733,0.2810778286584978,0.18909995892131148,0.1886479942668402,0.2158702759486308,0.12332430695269242,0.23956562280599814,0.22771396316253506,0.17473533386387557],\"y\":[4.677012114180732,4.220577796300252,4.219479600588481,6.349452217419942,4.019790947437286,3.9680176824331284,3.872466193032019,3.9818264742692313,4.643424808979034,5.940101504325867,4.065017623999684,3.917178409615743,3.8332172497031616,3.9039721931378866,3.828607011087162,3.8999564770570734,3.706257525178575,4.2356906723730345,3.778477489333792,3.8204350889343575,3.98621828854084,3.7045433226319933,4.40929580963764,3.7429502501930156,3.5427590645465656,3.3710619223486518,3.472818222242532,3.365237265518031,3.39854616233983,3.508672575155894,3.5905787895635233,3.4474651395660088,3.4476452070413175,3.40265643473753,3.711035887400309,3.5084712407023635,4.055167814095815,3.5553852381165494,3.591631849606832,3.607442010309278],\"type\":\"scatter\",\"xaxis\":\"x3\",\"yaxis\":\"y3\"},{\"marker\":{\"color\":[0,1,2,3,4,5,6,7,8,9,10,11,12,13,14,15,16,17,18,19,20,21,22,23,24,25,26,27,28,29,30,31,32,33,34,35,36,37,38,39],\"colorbar\":{\"title\":{\"text\":\"Trial\"},\"x\":1.0,\"xpad\":40},\"colorscale\":[[0.0,\"rgb(247,251,255)\"],[0.125,\"rgb(222,235,247)\"],[0.25,\"rgb(198,219,239)\"],[0.375,\"rgb(158,202,225)\"],[0.5,\"rgb(107,174,214)\"],[0.625,\"rgb(66,146,198)\"],[0.75,\"rgb(33,113,181)\"],[0.875,\"rgb(8,81,156)\"],[1.0,\"rgb(8,48,107)\"]],\"line\":{\"color\":\"Grey\",\"width\":0.5},\"showscale\":false},\"mode\":\"markers\",\"showlegend\":false,\"x\":[\"soft_kl\",\"soft_kl\",\"soft_ce\",\"soft_kl\",\"soft_ce\",\"soft_ce\",\"soft_ce\",\"soft_ce\",\"soft_ce\",\"soft_kl\",\"soft_ce\",\"soft_ce\",\"soft_ce\",\"soft_ce\",\"soft_ce\",\"soft_ce\",\"soft_ce\",\"soft_ce\",\"soft_kl\",\"soft_kl\",\"soft_kl\",\"soft_kl\",\"soft_kl\",\"soft_kl\",\"soft_kl\",\"soft_kl\",\"soft_kl\",\"soft_kl\",\"soft_kl\",\"soft_kl\",\"soft_kl\",\"soft_kl\",\"soft_kl\",\"soft_kl\",\"soft_kl\",\"soft_kl\",\"soft_kl\",\"soft_kl\",\"soft_kl\",\"soft_kl\"],\"y\":[4.677012114180732,4.220577796300252,4.219479600588481,6.349452217419942,4.019790947437286,3.9680176824331284,3.872466193032019,3.9818264742692313,4.643424808979034,5.940101504325867,4.065017623999684,3.917178409615743,3.8332172497031616,3.9039721931378866,3.828607011087162,3.8999564770570734,3.706257525178575,4.2356906723730345,3.778477489333792,3.8204350889343575,3.98621828854084,3.7045433226319933,4.40929580963764,3.7429502501930156,3.5427590645465656,3.3710619223486518,3.472818222242532,3.365237265518031,3.39854616233983,3.508672575155894,3.5905787895635233,3.4474651395660088,3.4476452070413175,3.40265643473753,3.711035887400309,3.5084712407023635,4.055167814095815,3.5553852381165494,3.591631849606832,3.607442010309278],\"type\":\"scatter\",\"xaxis\":\"x4\",\"yaxis\":\"y4\"},{\"marker\":{\"color\":[0,1,2,3,4,5,6,7,8,9,10,11,12,13,14,15,16,17,18,19,20,21,22,23,24,25,26,27,28,29,30,31,32,33,34,35,36,37,38,39],\"colorbar\":{\"title\":{\"text\":\"Trial\"},\"x\":1.0,\"xpad\":40},\"colorscale\":[[0.0,\"rgb(247,251,255)\"],[0.125,\"rgb(222,235,247)\"],[0.25,\"rgb(198,219,239)\"],[0.375,\"rgb(158,202,225)\"],[0.5,\"rgb(107,174,214)\"],[0.625,\"rgb(66,146,198)\"],[0.75,\"rgb(33,113,181)\"],[0.875,\"rgb(8,81,156)\"],[1.0,\"rgb(8,48,107)\"]],\"line\":{\"color\":\"Grey\",\"width\":0.5},\"showscale\":false},\"mode\":\"markers\",\"showlegend\":false,\"x\":[0.005558016213920624,0.008509374761370116,0.005068183091254933,0.006844877581348687,0.005984875606505922,0.007649223356475795,0.0036072202883576173,0.004004263534132471,0.0005809324251582611,0.008166952658644757,0.009803627653616045,0.0028218614011452045,0.0034055191774730272,0.0031755043394043423,0.0016810218080507372,0.001638934969939834,0.0018601680455190583,0.0005224927311734738,0.0017302790756037704,0.0020970467279140285,0.004501631496358667,0.002210575812412229,0.00025246462650342356,0.0025548741989376163,0.0026398383915369242,0.004354665143140975,0.00431078930034516,0.004411701685328539,0.004581793490874212,0.005655516641414723,0.004984358632724572,0.004316088751506977,0.004177982992801926,0.005105240167978295,0.005043751784700872,0.005810785621442836,0.006618816110381208,0.005125640187201742,0.0038183305959903864,0.006309557987530217],\"y\":[4.677012114180732,4.220577796300252,4.219479600588481,6.349452217419942,4.019790947437286,3.9680176824331284,3.872466193032019,3.9818264742692313,4.643424808979034,5.940101504325867,4.065017623999684,3.917178409615743,3.8332172497031616,3.9039721931378866,3.828607011087162,3.8999564770570734,3.706257525178575,4.2356906723730345,3.778477489333792,3.8204350889343575,3.98621828854084,3.7045433226319933,4.40929580963764,3.7429502501930156,3.5427590645465656,3.3710619223486518,3.472818222242532,3.365237265518031,3.39854616233983,3.508672575155894,3.5905787895635233,3.4474651395660088,3.4476452070413175,3.40265643473753,3.711035887400309,3.5084712407023635,4.055167814095815,3.5553852381165494,3.591631849606832,3.607442010309278],\"type\":\"scatter\",\"xaxis\":\"x5\",\"yaxis\":\"y5\"},{\"marker\":{\"color\":[0,1,2,3,4,5,6,7,8,9,10,11,12,13,14,15,16,17,18,19,20,21,22,23,24,25,26,27,28,29,30,31,32,33,34,35,36,37,38,39],\"colorbar\":{\"title\":{\"text\":\"Trial\"},\"x\":1.0,\"xpad\":40},\"colorscale\":[[0.0,\"rgb(247,251,255)\"],[0.125,\"rgb(222,235,247)\"],[0.25,\"rgb(198,219,239)\"],[0.375,\"rgb(158,202,225)\"],[0.5,\"rgb(107,174,214)\"],[0.625,\"rgb(66,146,198)\"],[0.75,\"rgb(33,113,181)\"],[0.875,\"rgb(8,81,156)\"],[1.0,\"rgb(8,48,107)\"]],\"line\":{\"color\":\"Grey\",\"width\":0.5},\"showscale\":false},\"mode\":\"markers\",\"showlegend\":false,\"x\":[0.7290497073840416,0.6309761238544878,0.985559785610705,0.08319498833243877,0.3889505741231446,0.6666245501640716,0.98834541928282,0.2045428595464277,0.11139217160771575,0.8215041132005579,0.9723349014627374,0.6668198476482625,0.47758179122671474,0.4631188341068939,0.3310929198504614,0.3528834329195774,0.28184466074895564,0.298735221459399,0.24676462810686514,0.2378917840588007,0.17240380613804415,0.03368048155718445,0.0533824395565988,0.039027707752133184,0.02546336164429911,0.0015849056096830343,0.03444782413848558,0.14820914078220876,0.1357444860592007,0.1693483237777388,0.12613103188028074,0.0060549551204653555,0.006043587369133397,0.1195198992813718,0.12380040277590845,0.0978865472972993,0.18906068312312763,0.0879800494923012,0.16188375755823425,0.07558119474648552],\"y\":[4.677012114180732,4.220577796300252,4.219479600588481,6.349452217419942,4.019790947437286,3.9680176824331284,3.872466193032019,3.9818264742692313,4.643424808979034,5.940101504325867,4.065017623999684,3.917178409615743,3.8332172497031616,3.9039721931378866,3.828607011087162,3.8999564770570734,3.706257525178575,4.2356906723730345,3.778477489333792,3.8204350889343575,3.98621828854084,3.7045433226319933,4.40929580963764,3.7429502501930156,3.5427590645465656,3.3710619223486518,3.472818222242532,3.365237265518031,3.39854616233983,3.508672575155894,3.5905787895635233,3.4474651395660088,3.4476452070413175,3.40265643473753,3.711035887400309,3.5084712407023635,4.055167814095815,3.5553852381165494,3.591631849606832,3.607442010309278],\"type\":\"scatter\",\"xaxis\":\"x6\",\"yaxis\":\"y6\"},{\"marker\":{\"color\":[0,1,2,3,4,5,6,7,8,9,10,11,12,13,14,15,16,17,18,19,20,21,22,23,24,25,26,27,28,29,30,31,32,33,34,35,36,37,38,39],\"colorbar\":{\"title\":{\"text\":\"Trial\"},\"x\":1.0,\"xpad\":40},\"colorscale\":[[0.0,\"rgb(247,251,255)\"],[0.125,\"rgb(222,235,247)\"],[0.25,\"rgb(198,219,239)\"],[0.375,\"rgb(158,202,225)\"],[0.5,\"rgb(107,174,214)\"],[0.625,\"rgb(66,146,198)\"],[0.75,\"rgb(33,113,181)\"],[0.875,\"rgb(8,81,156)\"],[1.0,\"rgb(8,48,107)\"]],\"line\":{\"color\":\"Grey\",\"width\":0.5},\"showscale\":false},\"mode\":\"markers\",\"showlegend\":false,\"x\":[0.7379954057320357,0.4936850976503062,0.8263408005068332,0.5724569574914731,0.04359146379904055,0.6615643366662437,0.5200101530724834,0.29686077548067946,0.44032787666540907,0.13841557278158978,0.9632278722400941,0.6479734568255375,0.38659880938026453,0.3717398330499226,0.25932505444433607,0.28642003033054264,0.18048072762510461,0.17815036357971764,0.027380578877429396,0.024181883741930754,0.11575463249790052,0.0025922796540286397,0.0319530682740905,0.006283895139022165,0.19531134631340005,0.2060124998974554,0.22494050733881135,0.22288195105730826,0.2449368804944515,0.35369000078461793,0.31293786906440435,0.23130576696685157,0.24299794326482804,0.10996712447766521,0.08913954151013585,0.11030160003362646,0.1526336336089052,0.10051424460496378,0.20008997665144324,0.3120437687896326],\"y\":[4.677012114180732,4.220577796300252,4.219479600588481,6.349452217419942,4.019790947437286,3.9680176824331284,3.872466193032019,3.9818264742692313,4.643424808979034,5.940101504325867,4.065017623999684,3.917178409615743,3.8332172497031616,3.9039721931378866,3.828607011087162,3.8999564770570734,3.706257525178575,4.2356906723730345,3.778477489333792,3.8204350889343575,3.98621828854084,3.7045433226319933,4.40929580963764,3.7429502501930156,3.5427590645465656,3.3710619223486518,3.472818222242532,3.365237265518031,3.39854616233983,3.508672575155894,3.5905787895635233,3.4474651395660088,3.4476452070413175,3.40265643473753,3.711035887400309,3.5084712407023635,4.055167814095815,3.5553852381165494,3.591631849606832,3.607442010309278],\"type\":\"scatter\",\"xaxis\":\"x7\",\"yaxis\":\"y7\"},{\"marker\":{\"color\":[0,1,2,3,4,5,6,7,8,9,10,11,12,13,14,15,16,17,18,19,20,21,22,23,24,25,26,27,28,29,30,31,32,33,34,35,36,37,38,39],\"colorbar\":{\"title\":{\"text\":\"Trial\"},\"x\":1.0,\"xpad\":40},\"colorscale\":[[0.0,\"rgb(247,251,255)\"],[0.125,\"rgb(222,235,247)\"],[0.25,\"rgb(198,219,239)\"],[0.375,\"rgb(158,202,225)\"],[0.5,\"rgb(107,174,214)\"],[0.625,\"rgb(66,146,198)\"],[0.75,\"rgb(33,113,181)\"],[0.875,\"rgb(8,81,156)\"],[1.0,\"rgb(8,48,107)\"]],\"line\":{\"color\":\"Grey\",\"width\":0.5},\"showscale\":false},\"mode\":\"markers\",\"showlegend\":false,\"x\":[0.17545175614749253,0.3122612229724653,0.5450680064664649,0.8853268262751396,0.398185681917981,0.5532573447967134,0.9836308849117232,0.5690037314301953,0.7650960952393066,0.4243068610809919,0.9828103156536188,0.7348991972676776,0.7671170655829489,0.9798640413985543,0.7546427129798721,0.7184457810196335,0.6519385420281633,0.631390959487626,0.055077018691124247,0.07564907058077788,0.01804988962340351,0.028551515069439024,0.23240718854441486,0.0010386773862544052,0.002613152829287202,0.14449728841924425,0.11884474195538829,0.12055084485565343,0.13811941788155638,0.1674782893974847,0.22268613190367803,0.11628507371769956,0.14611917488590517,0.23201837770803588,0.23746870840526912,0.31069818200793275,0.1007238177485086,0.1701581058992979,0.28875067251405884,0.36837944623607055],\"y\":[4.677012114180732,4.220577796300252,4.219479600588481,6.349452217419942,4.019790947437286,3.9680176824331284,3.872466193032019,3.9818264742692313,4.643424808979034,5.940101504325867,4.065017623999684,3.917178409615743,3.8332172497031616,3.9039721931378866,3.828607011087162,3.8999564770570734,3.706257525178575,4.2356906723730345,3.778477489333792,3.8204350889343575,3.98621828854084,3.7045433226319933,4.40929580963764,3.7429502501930156,3.5427590645465656,3.3710619223486518,3.472818222242532,3.365237265518031,3.39854616233983,3.508672575155894,3.5905787895635233,3.4474651395660088,3.4476452070413175,3.40265643473753,3.711035887400309,3.5084712407023635,4.055167814095815,3.5553852381165494,3.591631849606832,3.607442010309278],\"type\":\"scatter\",\"xaxis\":\"x8\",\"yaxis\":\"y8\"},{\"marker\":{\"color\":[0,1,2,3,4,5,6,7,8,9,10,11,12,13,14,15,16,17,18,19,20,21,22,23,24,25,26,27,28,29,30,31,32,33,34,35,36,37,38,39],\"colorbar\":{\"title\":{\"text\":\"Trial\"},\"x\":1.0,\"xpad\":40},\"colorscale\":[[0.0,\"rgb(247,251,255)\"],[0.125,\"rgb(222,235,247)\"],[0.25,\"rgb(198,219,239)\"],[0.375,\"rgb(158,202,225)\"],[0.5,\"rgb(107,174,214)\"],[0.625,\"rgb(66,146,198)\"],[0.75,\"rgb(33,113,181)\"],[0.875,\"rgb(8,81,156)\"],[1.0,\"rgb(8,48,107)\"]],\"line\":{\"color\":\"Grey\",\"width\":0.5},\"showscale\":false},\"mode\":\"markers\",\"showlegend\":false,\"x\":[1.2387115864382734,2.734804690718113,3.4515781030518706,1.974665498147496,4.3666799876508655,1.523579802656323,1.830543444785298,3.191054290515416,4.551427170704891,1.51452479003752,2.420217420341902,1.034679500635533,1.1160760991114609,1.9487545203033585,1.918305721770877,1.0935925354707137,2.257062697471629,2.4218980151803304,2.330828415440577,3.5782433863115823,2.776078546343329,3.421595523771444,2.47870223566508,3.0376182031024834,3.8485940442643,3.9346572344532937,3.956721978855634,3.954836286687618,4.119405723403611,4.820087662952921,4.171902105888748,3.8242361144816637,3.997871756804631,3.733140838609766,4.2339122639139495,3.7411426575141564,4.502192977210561,4.148170529320465,3.618442332467392,3.388468816474057],\"y\":[4.677012114180732,4.220577796300252,4.219479600588481,6.349452217419942,4.019790947437286,3.9680176824331284,3.872466193032019,3.9818264742692313,4.643424808979034,5.940101504325867,4.065017623999684,3.917178409615743,3.8332172497031616,3.9039721931378866,3.828607011087162,3.8999564770570734,3.706257525178575,4.2356906723730345,3.778477489333792,3.8204350889343575,3.98621828854084,3.7045433226319933,4.40929580963764,3.7429502501930156,3.5427590645465656,3.3710619223486518,3.472818222242532,3.365237265518031,3.39854616233983,3.508672575155894,3.5905787895635233,3.4474651395660088,3.4476452070413175,3.40265643473753,3.711035887400309,3.5084712407023635,4.055167814095815,3.5553852381165494,3.591631849606832,3.607442010309278],\"type\":\"scatter\",\"xaxis\":\"x9\",\"yaxis\":\"y9\"},{\"marker\":{\"color\":[0,1,2,3,4,5,6,7,8,9,10,11,12,13,14,15,16,17,18,19,20,21,22,23,24,25,26,27,28,29,30,31,32,33,34,35,36,37,38,39],\"colorbar\":{\"title\":{\"text\":\"Trial\"},\"x\":1.0,\"xpad\":40},\"colorscale\":[[0.0,\"rgb(247,251,255)\"],[0.125,\"rgb(222,235,247)\"],[0.25,\"rgb(198,219,239)\"],[0.375,\"rgb(158,202,225)\"],[0.5,\"rgb(107,174,214)\"],[0.625,\"rgb(66,146,198)\"],[0.75,\"rgb(33,113,181)\"],[0.875,\"rgb(8,81,156)\"],[1.0,\"rgb(8,48,107)\"]],\"line\":{\"color\":\"Grey\",\"width\":0.5},\"showscale\":false},\"mode\":\"markers\",\"showlegend\":false,\"x\":[0.3431780161508694,0.29371404638882936,0.48303426426270435,0.8423424376202573,0.5543832497177721,0.5131281541990022,0.002688064574320692,0.42834727470094924,0.665261465349683,0.8593890756806114,0.0038381442337546146,0.0024926783468393323,0.012283918831203056,0.13393614301914714,0.1773640709162101,0.19986608827313374,0.151097971195509,0.20207819587164388,0.3194241459688978,0.34783395692185237,0.263315364477387,0.3877927803447706,0.33583809184123586,0.4050718974409278,0.43826853855064796,0.5951126295760052,0.6038313309978742,0.6134659421245895,0.6271469898400595,0.6860001947264136,0.7326999682874638,0.589443627038177,0.565454813518597,0.61295381093748,0.7601907107502481,0.5041596980899767,0.9707542284550794,0.6292503226330343,0.5369029960805413,0.5073498128993527],\"y\":[4.677012114180732,4.220577796300252,4.219479600588481,6.349452217419942,4.019790947437286,3.9680176824331284,3.872466193032019,3.9818264742692313,4.643424808979034,5.940101504325867,4.065017623999684,3.917178409615743,3.8332172497031616,3.9039721931378866,3.828607011087162,3.8999564770570734,3.706257525178575,4.2356906723730345,3.778477489333792,3.8204350889343575,3.98621828854084,3.7045433226319933,4.40929580963764,3.7429502501930156,3.5427590645465656,3.3710619223486518,3.472818222242532,3.365237265518031,3.39854616233983,3.508672575155894,3.5905787895635233,3.4474651395660088,3.4476452070413175,3.40265643473753,3.711035887400309,3.5084712407023635,4.055167814095815,3.5553852381165494,3.591631849606832,3.607442010309278],\"type\":\"scatter\",\"xaxis\":\"x10\",\"yaxis\":\"y10\"},{\"marker\":{\"color\":[0,1,2,3,4,5,6,7,8,9,10,11,12,13,14,15,16,17,18,19,20,21,22,23,24,25,26,27,28,29,30,31,32,33,34,35,36,37,38,39],\"colorbar\":{\"title\":{\"text\":\"Trial\"},\"x\":1.0,\"xpad\":40},\"colorscale\":[[0.0,\"rgb(247,251,255)\"],[0.125,\"rgb(222,235,247)\"],[0.25,\"rgb(198,219,239)\"],[0.375,\"rgb(158,202,225)\"],[0.5,\"rgb(107,174,214)\"],[0.625,\"rgb(66,146,198)\"],[0.75,\"rgb(33,113,181)\"],[0.875,\"rgb(8,81,156)\"],[1.0,\"rgb(8,48,107)\"]],\"line\":{\"color\":\"Grey\",\"width\":0.5},\"showscale\":false},\"mode\":\"markers\",\"showlegend\":false,\"x\":[0.3980442553304314,0.4308627633296438,0.12062866599032374,0.19422296057877086,0.35739756668317624,0.32198060646830806,0.2924894127924248,0.09332671036982076,0.6963112682354063,0.08178008709398521,0.9584726343992349,0.2922174014539369,0.5683440387432248,0.556596881803587,0.5684466472227921,0.589742729836408,0.7006200963160393,0.7254107668257878,0.7669196377830494,0.8599603162791023,0.786047262492267,0.8560947252849119,0.9942429343663095,0.8803818477511107,0.8820510200081662,0.6787917422983142,0.876249758001637,0.9273807492371051,0.9536513794476591,0.9770201720792355,0.6344318973394536,0.9244384331041203,0.9341597096306095,0.8088728797335357,0.8078804844555956,0.8195803957621087,0.7503627681967919,0.9978739464038111,0.9255612111496577,0.8133485569743879],\"y\":[4.677012114180732,4.220577796300252,4.219479600588481,6.349452217419942,4.019790947437286,3.9680176824331284,3.872466193032019,3.9818264742692313,4.643424808979034,5.940101504325867,4.065017623999684,3.917178409615743,3.8332172497031616,3.9039721931378866,3.828607011087162,3.8999564770570734,3.706257525178575,4.2356906723730345,3.778477489333792,3.8204350889343575,3.98621828854084,3.7045433226319933,4.40929580963764,3.7429502501930156,3.5427590645465656,3.3710619223486518,3.472818222242532,3.365237265518031,3.39854616233983,3.508672575155894,3.5905787895635233,3.4474651395660088,3.4476452070413175,3.40265643473753,3.711035887400309,3.5084712407023635,4.055167814095815,3.5553852381165494,3.591631849606832,3.607442010309278],\"type\":\"scatter\",\"xaxis\":\"x11\",\"yaxis\":\"y11\"},{\"marker\":{\"color\":[0,1,2,3,4,5,6,7,8,9,10,11,12,13,14,15,16,17,18,19,20,21,22,23,24,25,26,27,28,29,30,31,32,33,34,35,36,37,38,39],\"colorbar\":{\"title\":{\"text\":\"Trial\"},\"x\":1.0,\"xpad\":40},\"colorscale\":[[0.0,\"rgb(247,251,255)\"],[0.125,\"rgb(222,235,247)\"],[0.25,\"rgb(198,219,239)\"],[0.375,\"rgb(158,202,225)\"],[0.5,\"rgb(107,174,214)\"],[0.625,\"rgb(66,146,198)\"],[0.75,\"rgb(33,113,181)\"],[0.875,\"rgb(8,81,156)\"],[1.0,\"rgb(8,48,107)\"]],\"line\":{\"color\":\"Grey\",\"width\":0.5},\"showscale\":false},\"mode\":\"markers\",\"showlegend\":false,\"x\":[0.18249173045349998,0.425830290295828,0.6030601284109274,0.09571251661238711,0.30476807341109746,0.8465062252707221,0.9019113726606706,0.9275842401521475,0.4382143843772247,0.3993787101028001,0.7226120316709002,0.9996473957717715,0.9071855619230433,0.7833048217920879,0.6479844833702904,0.6425853265854343,0.5907458219715612,0.5355512223055703,0.6670024776429748,0.7388646153295821,0.5779047740106625,0.7351604480721001,0.6537562642959732,0.7514299479098311,0.7686176686809078,0.5196947981756267,0.5005674075641758,0.4904389802735906,0.504997600207263,0.31296652754478904,0.5198486010942348,0.4948756702244086,0.45936638700640076,0.3606364504705373,0.3688675507324324,0.2739407296662423,0.40714611522328265,0.20346112358745214,0.5363728103439108,0.35300406159687614],\"y\":[4.677012114180732,4.220577796300252,4.219479600588481,6.349452217419942,4.019790947437286,3.9680176824331284,3.872466193032019,3.9818264742692313,4.643424808979034,5.940101504325867,4.065017623999684,3.917178409615743,3.8332172497031616,3.9039721931378866,3.828607011087162,3.8999564770570734,3.706257525178575,4.2356906723730345,3.778477489333792,3.8204350889343575,3.98621828854084,3.7045433226319933,4.40929580963764,3.7429502501930156,3.5427590645465656,3.3710619223486518,3.472818222242532,3.365237265518031,3.39854616233983,3.508672575155894,3.5905787895635233,3.4474651395660088,3.4476452070413175,3.40265643473753,3.711035887400309,3.5084712407023635,4.055167814095815,3.5553852381165494,3.591631849606832,3.607442010309278],\"type\":\"scatter\",\"xaxis\":\"x12\",\"yaxis\":\"y12\"},{\"marker\":{\"color\":[0,1,2,3,4,5,6,7,8,9,10,11,12,13,14,15,16,17,18,19,20,21,22,23,24,25,26,27,28,29,30,31,32,33,34,35,36,37,38,39],\"colorbar\":{\"title\":{\"text\":\"Trial\"},\"x\":1.0,\"xpad\":40},\"colorscale\":[[0.0,\"rgb(247,251,255)\"],[0.125,\"rgb(222,235,247)\"],[0.25,\"rgb(198,219,239)\"],[0.375,\"rgb(158,202,225)\"],[0.5,\"rgb(107,174,214)\"],[0.625,\"rgb(66,146,198)\"],[0.75,\"rgb(33,113,181)\"],[0.875,\"rgb(8,81,156)\"],[1.0,\"rgb(8,48,107)\"]],\"line\":{\"color\":\"Grey\",\"width\":0.5},\"showscale\":false},\"mode\":\"markers\",\"showlegend\":false,\"x\":[2.7542889787184976,1.3684197597803007,3.0779404770392373,4.054731365773353,4.700529958455944,1.4236339402272553,4.6213663026464396,2.802545962074939,3.6594897952131773,4.639486638440836,4.945156225606739,1.1164131805740423,1.000591409699378,2.202445317631642,1.975976624676274,1.788143898170088,1.0212914499672288,1.8935923459122825,2.219539532889242,2.336975371657973,2.366082374429813,1.6036693258212873,1.5564592561971753,1.5934103053862991,1.2419403899206736,1.1945781206823298,1.2766116121515487,1.2675572751554336,1.3089835069596951,1.3599279876671657,1.7393612310387876,1.364079057595423,1.2972426039044276,1.4923401737133664,1.010012137362817,1.5799252889283326,1.958285879999512,1.4608385010790281,1.1869495975705264,1.6821705112668548],\"y\":[4.677012114180732,4.220577796300252,4.219479600588481,6.349452217419942,4.019790947437286,3.9680176824331284,3.872466193032019,3.9818264742692313,4.643424808979034,5.940101504325867,4.065017623999684,3.917178409615743,3.8332172497031616,3.9039721931378866,3.828607011087162,3.8999564770570734,3.706257525178575,4.2356906723730345,3.778477489333792,3.8204350889343575,3.98621828854084,3.7045433226319933,4.40929580963764,3.7429502501930156,3.5427590645465656,3.3710619223486518,3.472818222242532,3.365237265518031,3.39854616233983,3.508672575155894,3.5905787895635233,3.4474651395660088,3.4476452070413175,3.40265643473753,3.711035887400309,3.5084712407023635,4.055167814095815,3.5553852381165494,3.591631849606832,3.607442010309278],\"type\":\"scatter\",\"xaxis\":\"x13\",\"yaxis\":\"y13\"},{\"marker\":{\"color\":[0,1,2,3,4,5,6,7,8,9,10,11,12,13,14,15,16,17,18,19,20,21,22,23,24,25,26,27,28,29,30,31,32,33,34,35,36,37,38,39],\"colorbar\":{\"title\":{\"text\":\"Trial\"},\"x\":1.0,\"xpad\":40},\"colorscale\":[[0.0,\"rgb(247,251,255)\"],[0.125,\"rgb(222,235,247)\"],[0.25,\"rgb(198,219,239)\"],[0.375,\"rgb(158,202,225)\"],[0.5,\"rgb(107,174,214)\"],[0.625,\"rgb(66,146,198)\"],[0.75,\"rgb(33,113,181)\"],[0.875,\"rgb(8,81,156)\"],[1.0,\"rgb(8,48,107)\"]],\"line\":{\"color\":\"Grey\",\"width\":0.5},\"showscale\":false},\"mode\":\"markers\",\"showlegend\":false,\"x\":[0.1219468969785563,0.12244553248606352,0.11239529517921112,0.13754568417951749,0.10567851923942886,0.10931769165622211,0.0671081829205099,0.12310730358445571,0.1208697395442746,0.083706638344761,0.055037015966557946,0.08790920512438627,0.07832490086404105,0.06546508887625468,0.07471546949369612,0.08799074112876407,0.07719586677323671,0.09673644434834715,0.0501191990183817,0.05066777842738916,0.05867318288180966,0.051760824315073055,0.05138164937821247,0.06547933067834885,0.06458999113205241,0.06093508879714241,0.058582801683674364,0.06071858943007523,0.05978166975524341,0.07185709226232662,0.06138215852782736,0.058487281562305496,0.07066910840744073,0.057274960445908636,0.06053246236712697,0.06986365751979703,0.05575831064645068,0.06365618225077449,0.06879102320852322,0.055709775756388386],\"y\":[4.677012114180732,4.220577796300252,4.219479600588481,6.349452217419942,4.019790947437286,3.9680176824331284,3.872466193032019,3.9818264742692313,4.643424808979034,5.940101504325867,4.065017623999684,3.917178409615743,3.8332172497031616,3.9039721931378866,3.828607011087162,3.8999564770570734,3.706257525178575,4.2356906723730345,3.778477489333792,3.8204350889343575,3.98621828854084,3.7045433226319933,4.40929580963764,3.7429502501930156,3.5427590645465656,3.3710619223486518,3.472818222242532,3.365237265518031,3.39854616233983,3.508672575155894,3.5905787895635233,3.4474651395660088,3.4476452070413175,3.40265643473753,3.711035887400309,3.5084712407023635,4.055167814095815,3.5553852381165494,3.591631849606832,3.607442010309278],\"type\":\"scatter\",\"xaxis\":\"x14\",\"yaxis\":\"y14\"}],                        {\"template\":{\"data\":{\"histogram2dcontour\":[{\"type\":\"histogram2dcontour\",\"colorbar\":{\"outlinewidth\":0,\"ticks\":\"\"},\"colorscale\":[[0.0,\"#0d0887\"],[0.1111111111111111,\"#46039f\"],[0.2222222222222222,\"#7201a8\"],[0.3333333333333333,\"#9c179e\"],[0.4444444444444444,\"#bd3786\"],[0.5555555555555556,\"#d8576b\"],[0.6666666666666666,\"#ed7953\"],[0.7777777777777778,\"#fb9f3a\"],[0.8888888888888888,\"#fdca26\"],[1.0,\"#f0f921\"]]}],\"choropleth\":[{\"type\":\"choropleth\",\"colorbar\":{\"outlinewidth\":0,\"ticks\":\"\"}}],\"histogram2d\":[{\"type\":\"histogram2d\",\"colorbar\":{\"outlinewidth\":0,\"ticks\":\"\"},\"colorscale\":[[0.0,\"#0d0887\"],[0.1111111111111111,\"#46039f\"],[0.2222222222222222,\"#7201a8\"],[0.3333333333333333,\"#9c179e\"],[0.4444444444444444,\"#bd3786\"],[0.5555555555555556,\"#d8576b\"],[0.6666666666666666,\"#ed7953\"],[0.7777777777777778,\"#fb9f3a\"],[0.8888888888888888,\"#fdca26\"],[1.0,\"#f0f921\"]]}],\"heatmap\":[{\"type\":\"heatmap\",\"colorbar\":{\"outlinewidth\":0,\"ticks\":\"\"},\"colorscale\":[[0.0,\"#0d0887\"],[0.1111111111111111,\"#46039f\"],[0.2222222222222222,\"#7201a8\"],[0.3333333333333333,\"#9c179e\"],[0.4444444444444444,\"#bd3786\"],[0.5555555555555556,\"#d8576b\"],[0.6666666666666666,\"#ed7953\"],[0.7777777777777778,\"#fb9f3a\"],[0.8888888888888888,\"#fdca26\"],[1.0,\"#f0f921\"]]}],\"heatmapgl\":[{\"type\":\"heatmapgl\",\"colorbar\":{\"outlinewidth\":0,\"ticks\":\"\"},\"colorscale\":[[0.0,\"#0d0887\"],[0.1111111111111111,\"#46039f\"],[0.2222222222222222,\"#7201a8\"],[0.3333333333333333,\"#9c179e\"],[0.4444444444444444,\"#bd3786\"],[0.5555555555555556,\"#d8576b\"],[0.6666666666666666,\"#ed7953\"],[0.7777777777777778,\"#fb9f3a\"],[0.8888888888888888,\"#fdca26\"],[1.0,\"#f0f921\"]]}],\"contourcarpet\":[{\"type\":\"contourcarpet\",\"colorbar\":{\"outlinewidth\":0,\"ticks\":\"\"}}],\"contour\":[{\"type\":\"contour\",\"colorbar\":{\"outlinewidth\":0,\"ticks\":\"\"},\"colorscale\":[[0.0,\"#0d0887\"],[0.1111111111111111,\"#46039f\"],[0.2222222222222222,\"#7201a8\"],[0.3333333333333333,\"#9c179e\"],[0.4444444444444444,\"#bd3786\"],[0.5555555555555556,\"#d8576b\"],[0.6666666666666666,\"#ed7953\"],[0.7777777777777778,\"#fb9f3a\"],[0.8888888888888888,\"#fdca26\"],[1.0,\"#f0f921\"]]}],\"surface\":[{\"type\":\"surface\",\"colorbar\":{\"outlinewidth\":0,\"ticks\":\"\"},\"colorscale\":[[0.0,\"#0d0887\"],[0.1111111111111111,\"#46039f\"],[0.2222222222222222,\"#7201a8\"],[0.3333333333333333,\"#9c179e\"],[0.4444444444444444,\"#bd3786\"],[0.5555555555555556,\"#d8576b\"],[0.6666666666666666,\"#ed7953\"],[0.7777777777777778,\"#fb9f3a\"],[0.8888888888888888,\"#fdca26\"],[1.0,\"#f0f921\"]]}],\"mesh3d\":[{\"type\":\"mesh3d\",\"colorbar\":{\"outlinewidth\":0,\"ticks\":\"\"}}],\"scatter\":[{\"fillpattern\":{\"fillmode\":\"overlay\",\"size\":10,\"solidity\":0.2},\"type\":\"scatter\"}],\"parcoords\":[{\"type\":\"parcoords\",\"line\":{\"colorbar\":{\"outlinewidth\":0,\"ticks\":\"\"}}}],\"scatterpolargl\":[{\"type\":\"scatterpolargl\",\"marker\":{\"colorbar\":{\"outlinewidth\":0,\"ticks\":\"\"}}}],\"bar\":[{\"error_x\":{\"color\":\"#2a3f5f\"},\"error_y\":{\"color\":\"#2a3f5f\"},\"marker\":{\"line\":{\"color\":\"#E5ECF6\",\"width\":0.5},\"pattern\":{\"fillmode\":\"overlay\",\"size\":10,\"solidity\":0.2}},\"type\":\"bar\"}],\"scattergeo\":[{\"type\":\"scattergeo\",\"marker\":{\"colorbar\":{\"outlinewidth\":0,\"ticks\":\"\"}}}],\"scatterpolar\":[{\"type\":\"scatterpolar\",\"marker\":{\"colorbar\":{\"outlinewidth\":0,\"ticks\":\"\"}}}],\"histogram\":[{\"marker\":{\"pattern\":{\"fillmode\":\"overlay\",\"size\":10,\"solidity\":0.2}},\"type\":\"histogram\"}],\"scattergl\":[{\"type\":\"scattergl\",\"marker\":{\"colorbar\":{\"outlinewidth\":0,\"ticks\":\"\"}}}],\"scatter3d\":[{\"type\":\"scatter3d\",\"line\":{\"colorbar\":{\"outlinewidth\":0,\"ticks\":\"\"}},\"marker\":{\"colorbar\":{\"outlinewidth\":0,\"ticks\":\"\"}}}],\"scattermapbox\":[{\"type\":\"scattermapbox\",\"marker\":{\"colorbar\":{\"outlinewidth\":0,\"ticks\":\"\"}}}],\"scatterternary\":[{\"type\":\"scatterternary\",\"marker\":{\"colorbar\":{\"outlinewidth\":0,\"ticks\":\"\"}}}],\"scattercarpet\":[{\"type\":\"scattercarpet\",\"marker\":{\"colorbar\":{\"outlinewidth\":0,\"ticks\":\"\"}}}],\"carpet\":[{\"aaxis\":{\"endlinecolor\":\"#2a3f5f\",\"gridcolor\":\"white\",\"linecolor\":\"white\",\"minorgridcolor\":\"white\",\"startlinecolor\":\"#2a3f5f\"},\"baxis\":{\"endlinecolor\":\"#2a3f5f\",\"gridcolor\":\"white\",\"linecolor\":\"white\",\"minorgridcolor\":\"white\",\"startlinecolor\":\"#2a3f5f\"},\"type\":\"carpet\"}],\"table\":[{\"cells\":{\"fill\":{\"color\":\"#EBF0F8\"},\"line\":{\"color\":\"white\"}},\"header\":{\"fill\":{\"color\":\"#C8D4E3\"},\"line\":{\"color\":\"white\"}},\"type\":\"table\"}],\"barpolar\":[{\"marker\":{\"line\":{\"color\":\"#E5ECF6\",\"width\":0.5},\"pattern\":{\"fillmode\":\"overlay\",\"size\":10,\"solidity\":0.2}},\"type\":\"barpolar\"}],\"pie\":[{\"automargin\":true,\"type\":\"pie\"}]},\"layout\":{\"autotypenumbers\":\"strict\",\"colorway\":[\"#636efa\",\"#EF553B\",\"#00cc96\",\"#ab63fa\",\"#FFA15A\",\"#19d3f3\",\"#FF6692\",\"#B6E880\",\"#FF97FF\",\"#FECB52\"],\"font\":{\"color\":\"#2a3f5f\"},\"hovermode\":\"closest\",\"hoverlabel\":{\"align\":\"left\"},\"paper_bgcolor\":\"white\",\"plot_bgcolor\":\"#E5ECF6\",\"polar\":{\"bgcolor\":\"#E5ECF6\",\"angularaxis\":{\"gridcolor\":\"white\",\"linecolor\":\"white\",\"ticks\":\"\"},\"radialaxis\":{\"gridcolor\":\"white\",\"linecolor\":\"white\",\"ticks\":\"\"}},\"ternary\":{\"bgcolor\":\"#E5ECF6\",\"aaxis\":{\"gridcolor\":\"white\",\"linecolor\":\"white\",\"ticks\":\"\"},\"baxis\":{\"gridcolor\":\"white\",\"linecolor\":\"white\",\"ticks\":\"\"},\"caxis\":{\"gridcolor\":\"white\",\"linecolor\":\"white\",\"ticks\":\"\"}},\"coloraxis\":{\"colorbar\":{\"outlinewidth\":0,\"ticks\":\"\"}},\"colorscale\":{\"sequential\":[[0.0,\"#0d0887\"],[0.1111111111111111,\"#46039f\"],[0.2222222222222222,\"#7201a8\"],[0.3333333333333333,\"#9c179e\"],[0.4444444444444444,\"#bd3786\"],[0.5555555555555556,\"#d8576b\"],[0.6666666666666666,\"#ed7953\"],[0.7777777777777778,\"#fb9f3a\"],[0.8888888888888888,\"#fdca26\"],[1.0,\"#f0f921\"]],\"sequentialminus\":[[0.0,\"#0d0887\"],[0.1111111111111111,\"#46039f\"],[0.2222222222222222,\"#7201a8\"],[0.3333333333333333,\"#9c179e\"],[0.4444444444444444,\"#bd3786\"],[0.5555555555555556,\"#d8576b\"],[0.6666666666666666,\"#ed7953\"],[0.7777777777777778,\"#fb9f3a\"],[0.8888888888888888,\"#fdca26\"],[1.0,\"#f0f921\"]],\"diverging\":[[0,\"#8e0152\"],[0.1,\"#c51b7d\"],[0.2,\"#de77ae\"],[0.3,\"#f1b6da\"],[0.4,\"#fde0ef\"],[0.5,\"#f7f7f7\"],[0.6,\"#e6f5d0\"],[0.7,\"#b8e186\"],[0.8,\"#7fbc41\"],[0.9,\"#4d9221\"],[1,\"#276419\"]]},\"xaxis\":{\"gridcolor\":\"white\",\"linecolor\":\"white\",\"ticks\":\"\",\"title\":{\"standoff\":15},\"zerolinecolor\":\"white\",\"automargin\":true,\"zerolinewidth\":2},\"yaxis\":{\"gridcolor\":\"white\",\"linecolor\":\"white\",\"ticks\":\"\",\"title\":{\"standoff\":15},\"zerolinecolor\":\"white\",\"automargin\":true,\"zerolinewidth\":2},\"scene\":{\"xaxis\":{\"backgroundcolor\":\"#E5ECF6\",\"gridcolor\":\"white\",\"linecolor\":\"white\",\"showbackground\":true,\"ticks\":\"\",\"zerolinecolor\":\"white\",\"gridwidth\":2},\"yaxis\":{\"backgroundcolor\":\"#E5ECF6\",\"gridcolor\":\"white\",\"linecolor\":\"white\",\"showbackground\":true,\"ticks\":\"\",\"zerolinecolor\":\"white\",\"gridwidth\":2},\"zaxis\":{\"backgroundcolor\":\"#E5ECF6\",\"gridcolor\":\"white\",\"linecolor\":\"white\",\"showbackground\":true,\"ticks\":\"\",\"zerolinecolor\":\"white\",\"gridwidth\":2}},\"shapedefaults\":{\"line\":{\"color\":\"#2a3f5f\"}},\"annotationdefaults\":{\"arrowcolor\":\"#2a3f5f\",\"arrowhead\":0,\"arrowwidth\":1},\"geo\":{\"bgcolor\":\"white\",\"landcolor\":\"#E5ECF6\",\"subunitcolor\":\"white\",\"showland\":true,\"showlakes\":true,\"lakecolor\":\"white\"},\"title\":{\"x\":0.05},\"mapbox\":{\"style\":\"light\"}}},\"xaxis\":{\"anchor\":\"y\",\"domain\":[0.0,0.058163265306122446],\"title\":{\"text\":\"batch_size\"}},\"yaxis\":{\"anchor\":\"x\",\"domain\":[0.0,1.0],\"title\":{\"text\":\"Objective Value\"}},\"xaxis2\":{\"anchor\":\"y2\",\"domain\":[0.07244897959183673,0.13061224489795917],\"title\":{\"text\":\"hidden_crit\"}},\"yaxis2\":{\"anchor\":\"x2\",\"domain\":[0.0,1.0],\"matches\":\"y\",\"showticklabels\":false},\"xaxis3\":{\"anchor\":\"y3\",\"domain\":[0.14489795918367346,0.2030612244897959],\"title\":{\"text\":\"label_smoothing\"}},\"yaxis3\":{\"anchor\":\"x3\",\"domain\":[0.0,1.0],\"matches\":\"y\",\"showticklabels\":false},\"xaxis4\":{\"anchor\":\"y4\",\"domain\":[0.2173469387755102,0.2755102040816326],\"title\":{\"text\":\"logits_crit\"}},\"yaxis4\":{\"anchor\":\"x4\",\"domain\":[0.0,1.0],\"matches\":\"y\",\"showticklabels\":false},\"xaxis5\":{\"anchor\":\"y5\",\"domain\":[0.2897959183673469,0.34795918367346934],\"title\":{\"text\":\"lr\"}},\"yaxis5\":{\"anchor\":\"x5\",\"domain\":[0.0,1.0],\"matches\":\"y\",\"showticklabels\":false},\"xaxis6\":{\"anchor\":\"y6\",\"domain\":[0.3622448979591837,0.4204081632653061],\"title\":{\"text\":\"p_alpha\"}},\"yaxis6\":{\"anchor\":\"x6\",\"domain\":[0.0,1.0],\"matches\":\"y\",\"showticklabels\":false},\"xaxis7\":{\"anchor\":\"y7\",\"domain\":[0.4346938775510204,0.4928571428571428],\"title\":{\"text\":\"p_beta\"}},\"yaxis7\":{\"anchor\":\"x7\",\"domain\":[0.0,1.0],\"matches\":\"y\",\"showticklabels\":false},\"xaxis8\":{\"anchor\":\"y8\",\"domain\":[0.5071428571428571,0.5653061224489796],\"title\":{\"text\":\"p_gamma\"}},\"yaxis8\":{\"anchor\":\"x8\",\"domain\":[0.0,1.0],\"matches\":\"y\",\"showticklabels\":false},\"xaxis9\":{\"anchor\":\"y9\",\"domain\":[0.5795918367346938,0.6377551020408163],\"title\":{\"text\":\"p_tau\"}},\"yaxis9\":{\"anchor\":\"x9\",\"domain\":[0.0,1.0],\"matches\":\"y\",\"showticklabels\":false},\"xaxis10\":{\"anchor\":\"y10\",\"domain\":[0.6520408163265305,0.710204081632653],\"title\":{\"text\":\"s_alpha\"}},\"yaxis10\":{\"anchor\":\"x10\",\"domain\":[0.0,1.0],\"matches\":\"y\",\"showticklabels\":false},\"xaxis11\":{\"anchor\":\"y11\",\"domain\":[0.7244897959183674,0.7826530612244899],\"title\":{\"text\":\"s_beta\"}},\"yaxis11\":{\"anchor\":\"x11\",\"domain\":[0.0,1.0],\"matches\":\"y\",\"showticklabels\":false},\"xaxis12\":{\"anchor\":\"y12\",\"domain\":[0.7969387755102041,0.8551020408163266],\"title\":{\"text\":\"s_gamma\"}},\"yaxis12\":{\"anchor\":\"x12\",\"domain\":[0.0,1.0],\"matches\":\"y\",\"showticklabels\":false},\"xaxis13\":{\"anchor\":\"y13\",\"domain\":[0.8693877551020408,0.9275510204081633],\"title\":{\"text\":\"s_tau\"}},\"yaxis13\":{\"anchor\":\"x13\",\"domain\":[0.0,1.0],\"matches\":\"y\",\"showticklabels\":false},\"xaxis14\":{\"anchor\":\"y14\",\"domain\":[0.9418367346938776,1.0],\"title\":{\"text\":\"weight_decay\"}},\"yaxis14\":{\"anchor\":\"x14\",\"domain\":[0.0,1.0],\"matches\":\"y\",\"showticklabels\":false},\"title\":{\"text\":\"Slice Plot\"},\"width\":4200},                        {\"responsive\": true}                    ).then(function(){\n",
       "                            \n",
       "var gd = document.getElementById('0e7b4bf2-bb69-4953-bd83-75a08c2a25b2');\n",
       "var x = new MutationObserver(function (mutations, observer) {{\n",
       "        var display = window.getComputedStyle(gd).display;\n",
       "        if (!display || display === 'none') {{\n",
       "            console.log([gd, 'removed!']);\n",
       "            Plotly.purge(gd);\n",
       "            observer.disconnect();\n",
       "        }}\n",
       "}});\n",
       "\n",
       "// Listen for the removal of the full notebook cells\n",
       "var notebookContainer = gd.closest('#notebook-container');\n",
       "if (notebookContainer) {{\n",
       "    x.observe(notebookContainer, {childList: true});\n",
       "}}\n",
       "\n",
       "// Listen for the clearing of the current output cell\n",
       "var outputEl = gd.closest('.output');\n",
       "if (outputEl) {{\n",
       "    x.observe(outputEl, {childList: true});\n",
       "}}\n",
       "\n",
       "                        })                };                });            </script>        </div>"
      ]
     },
     "metadata": {},
     "output_type": "display_data"
    }
   ],
   "source": [
    "optuna.visualization.plot_slice(study)"
   ]
  },
  {
   "cell_type": "code",
   "execution_count": 13,
   "metadata": {},
   "outputs": [
    {
     "data": {
      "text/html": [
       "<div>\n",
       "<style scoped>\n",
       "    .dataframe tbody tr th:only-of-type {\n",
       "        vertical-align: middle;\n",
       "    }\n",
       "\n",
       "    .dataframe tbody tr th {\n",
       "        vertical-align: top;\n",
       "    }\n",
       "\n",
       "    .dataframe thead th {\n",
       "        text-align: right;\n",
       "    }\n",
       "</style>\n",
       "<table border=\"1\" class=\"dataframe\">\n",
       "  <thead>\n",
       "    <tr style=\"text-align: right;\">\n",
       "      <th></th>\n",
       "      <th>batch_size</th>\n",
       "      <th>lr</th>\n",
       "      <th>weight_decay</th>\n",
       "      <th>label_smoothing</th>\n",
       "      <th>logits_crit</th>\n",
       "      <th>hidden_crit</th>\n",
       "      <th>s_alpha</th>\n",
       "      <th>p_alpha</th>\n",
       "      <th>s_tau</th>\n",
       "      <th>p_tau</th>\n",
       "      <th>s_beta</th>\n",
       "      <th>p_beta</th>\n",
       "      <th>s_gamma</th>\n",
       "      <th>p_gamma</th>\n",
       "      <th>loss</th>\n",
       "    </tr>\n",
       "  </thead>\n",
       "  <tbody>\n",
       "    <tr>\n",
       "      <th>27</th>\n",
       "      <td>128</td>\n",
       "      <td>0.004412</td>\n",
       "      <td>0.060719</td>\n",
       "      <td>0.281441</td>\n",
       "      <td>soft_kl</td>\n",
       "      <td>cosine</td>\n",
       "      <td>0.613466</td>\n",
       "      <td>0.148209</td>\n",
       "      <td>1.267557</td>\n",
       "      <td>3.954836</td>\n",
       "      <td>0.927381</td>\n",
       "      <td>0.222882</td>\n",
       "      <td>0.490439</td>\n",
       "      <td>0.120551</td>\n",
       "      <td>3.365237</td>\n",
       "    </tr>\n",
       "    <tr>\n",
       "      <th>25</th>\n",
       "      <td>128</td>\n",
       "      <td>0.004355</td>\n",
       "      <td>0.060935</td>\n",
       "      <td>0.279317</td>\n",
       "      <td>soft_kl</td>\n",
       "      <td>cosine</td>\n",
       "      <td>0.595113</td>\n",
       "      <td>0.001585</td>\n",
       "      <td>1.194578</td>\n",
       "      <td>3.934657</td>\n",
       "      <td>0.678792</td>\n",
       "      <td>0.206012</td>\n",
       "      <td>0.519695</td>\n",
       "      <td>0.144497</td>\n",
       "      <td>3.371062</td>\n",
       "    </tr>\n",
       "    <tr>\n",
       "      <th>28</th>\n",
       "      <td>128</td>\n",
       "      <td>0.004582</td>\n",
       "      <td>0.059782</td>\n",
       "      <td>0.278837</td>\n",
       "      <td>soft_kl</td>\n",
       "      <td>cosine</td>\n",
       "      <td>0.627147</td>\n",
       "      <td>0.135744</td>\n",
       "      <td>1.308984</td>\n",
       "      <td>4.119406</td>\n",
       "      <td>0.953651</td>\n",
       "      <td>0.244937</td>\n",
       "      <td>0.504998</td>\n",
       "      <td>0.138119</td>\n",
       "      <td>3.398546</td>\n",
       "    </tr>\n",
       "    <tr>\n",
       "      <th>33</th>\n",
       "      <td>128</td>\n",
       "      <td>0.005105</td>\n",
       "      <td>0.057275</td>\n",
       "      <td>0.189100</td>\n",
       "      <td>soft_kl</td>\n",
       "      <td>cosine</td>\n",
       "      <td>0.612954</td>\n",
       "      <td>0.119520</td>\n",
       "      <td>1.492340</td>\n",
       "      <td>3.733141</td>\n",
       "      <td>0.808873</td>\n",
       "      <td>0.109967</td>\n",
       "      <td>0.360636</td>\n",
       "      <td>0.232018</td>\n",
       "      <td>3.402656</td>\n",
       "    </tr>\n",
       "    <tr>\n",
       "      <th>31</th>\n",
       "      <td>128</td>\n",
       "      <td>0.004316</td>\n",
       "      <td>0.058487</td>\n",
       "      <td>0.276375</td>\n",
       "      <td>soft_kl</td>\n",
       "      <td>cosine</td>\n",
       "      <td>0.589444</td>\n",
       "      <td>0.006055</td>\n",
       "      <td>1.364079</td>\n",
       "      <td>3.824236</td>\n",
       "      <td>0.924438</td>\n",
       "      <td>0.231306</td>\n",
       "      <td>0.494876</td>\n",
       "      <td>0.116285</td>\n",
       "      <td>3.447465</td>\n",
       "    </tr>\n",
       "    <tr>\n",
       "      <th>32</th>\n",
       "      <td>128</td>\n",
       "      <td>0.004178</td>\n",
       "      <td>0.070669</td>\n",
       "      <td>0.281078</td>\n",
       "      <td>soft_kl</td>\n",
       "      <td>cosine</td>\n",
       "      <td>0.565455</td>\n",
       "      <td>0.006044</td>\n",
       "      <td>1.297243</td>\n",
       "      <td>3.997872</td>\n",
       "      <td>0.934160</td>\n",
       "      <td>0.242998</td>\n",
       "      <td>0.459366</td>\n",
       "      <td>0.146119</td>\n",
       "      <td>3.447645</td>\n",
       "    </tr>\n",
       "    <tr>\n",
       "      <th>26</th>\n",
       "      <td>128</td>\n",
       "      <td>0.004311</td>\n",
       "      <td>0.058583</td>\n",
       "      <td>0.276406</td>\n",
       "      <td>soft_kl</td>\n",
       "      <td>cosine</td>\n",
       "      <td>0.603831</td>\n",
       "      <td>0.034448</td>\n",
       "      <td>1.276612</td>\n",
       "      <td>3.956722</td>\n",
       "      <td>0.876250</td>\n",
       "      <td>0.224941</td>\n",
       "      <td>0.500567</td>\n",
       "      <td>0.118845</td>\n",
       "      <td>3.472818</td>\n",
       "    </tr>\n",
       "    <tr>\n",
       "      <th>35</th>\n",
       "      <td>128</td>\n",
       "      <td>0.005811</td>\n",
       "      <td>0.069864</td>\n",
       "      <td>0.215870</td>\n",
       "      <td>soft_kl</td>\n",
       "      <td>cosine</td>\n",
       "      <td>0.504160</td>\n",
       "      <td>0.097887</td>\n",
       "      <td>1.579925</td>\n",
       "      <td>3.741143</td>\n",
       "      <td>0.819580</td>\n",
       "      <td>0.110302</td>\n",
       "      <td>0.273941</td>\n",
       "      <td>0.310698</td>\n",
       "      <td>3.508471</td>\n",
       "    </tr>\n",
       "    <tr>\n",
       "      <th>29</th>\n",
       "      <td>256</td>\n",
       "      <td>0.005656</td>\n",
       "      <td>0.071857</td>\n",
       "      <td>0.215702</td>\n",
       "      <td>soft_kl</td>\n",
       "      <td>cosine</td>\n",
       "      <td>0.686000</td>\n",
       "      <td>0.169348</td>\n",
       "      <td>1.359928</td>\n",
       "      <td>4.820088</td>\n",
       "      <td>0.977020</td>\n",
       "      <td>0.353690</td>\n",
       "      <td>0.312967</td>\n",
       "      <td>0.167478</td>\n",
       "      <td>3.508673</td>\n",
       "    </tr>\n",
       "    <tr>\n",
       "      <th>24</th>\n",
       "      <td>128</td>\n",
       "      <td>0.002640</td>\n",
       "      <td>0.064590</td>\n",
       "      <td>0.299199</td>\n",
       "      <td>soft_kl</td>\n",
       "      <td>cosine</td>\n",
       "      <td>0.438269</td>\n",
       "      <td>0.025463</td>\n",
       "      <td>1.241940</td>\n",
       "      <td>3.848594</td>\n",
       "      <td>0.882051</td>\n",
       "      <td>0.195311</td>\n",
       "      <td>0.768618</td>\n",
       "      <td>0.002613</td>\n",
       "      <td>3.542759</td>\n",
       "    </tr>\n",
       "    <tr>\n",
       "      <th>37</th>\n",
       "      <td>128</td>\n",
       "      <td>0.005126</td>\n",
       "      <td>0.063656</td>\n",
       "      <td>0.239566</td>\n",
       "      <td>soft_kl</td>\n",
       "      <td>mse</td>\n",
       "      <td>0.629250</td>\n",
       "      <td>0.087980</td>\n",
       "      <td>1.460839</td>\n",
       "      <td>4.148171</td>\n",
       "      <td>0.997874</td>\n",
       "      <td>0.100514</td>\n",
       "      <td>0.203461</td>\n",
       "      <td>0.170158</td>\n",
       "      <td>3.555385</td>\n",
       "    </tr>\n",
       "    <tr>\n",
       "      <th>30</th>\n",
       "      <td>128</td>\n",
       "      <td>0.004984</td>\n",
       "      <td>0.061382</td>\n",
       "      <td>0.165196</td>\n",
       "      <td>soft_kl</td>\n",
       "      <td>cosine</td>\n",
       "      <td>0.732700</td>\n",
       "      <td>0.126131</td>\n",
       "      <td>1.739361</td>\n",
       "      <td>4.171902</td>\n",
       "      <td>0.634432</td>\n",
       "      <td>0.312938</td>\n",
       "      <td>0.519849</td>\n",
       "      <td>0.222686</td>\n",
       "      <td>3.590579</td>\n",
       "    </tr>\n",
       "    <tr>\n",
       "      <th>38</th>\n",
       "      <td>256</td>\n",
       "      <td>0.003818</td>\n",
       "      <td>0.068791</td>\n",
       "      <td>0.227714</td>\n",
       "      <td>soft_kl</td>\n",
       "      <td>cosine</td>\n",
       "      <td>0.536903</td>\n",
       "      <td>0.161884</td>\n",
       "      <td>1.186950</td>\n",
       "      <td>3.618442</td>\n",
       "      <td>0.925561</td>\n",
       "      <td>0.200090</td>\n",
       "      <td>0.536373</td>\n",
       "      <td>0.288751</td>\n",
       "      <td>3.591632</td>\n",
       "    </tr>\n",
       "    <tr>\n",
       "      <th>39</th>\n",
       "      <td>128</td>\n",
       "      <td>0.006310</td>\n",
       "      <td>0.055710</td>\n",
       "      <td>0.174735</td>\n",
       "      <td>soft_kl</td>\n",
       "      <td>cosine</td>\n",
       "      <td>0.507350</td>\n",
       "      <td>0.075581</td>\n",
       "      <td>1.682171</td>\n",
       "      <td>3.388469</td>\n",
       "      <td>0.813349</td>\n",
       "      <td>0.312044</td>\n",
       "      <td>0.353004</td>\n",
       "      <td>0.368379</td>\n",
       "      <td>3.607442</td>\n",
       "    </tr>\n",
       "    <tr>\n",
       "      <th>21</th>\n",
       "      <td>128</td>\n",
       "      <td>0.002211</td>\n",
       "      <td>0.051761</td>\n",
       "      <td>0.262252</td>\n",
       "      <td>soft_kl</td>\n",
       "      <td>cosine</td>\n",
       "      <td>0.387793</td>\n",
       "      <td>0.033680</td>\n",
       "      <td>1.603669</td>\n",
       "      <td>3.421596</td>\n",
       "      <td>0.856095</td>\n",
       "      <td>0.002592</td>\n",
       "      <td>0.735160</td>\n",
       "      <td>0.028552</td>\n",
       "      <td>3.704543</td>\n",
       "    </tr>\n",
       "    <tr>\n",
       "      <th>16</th>\n",
       "      <td>128</td>\n",
       "      <td>0.001860</td>\n",
       "      <td>0.077196</td>\n",
       "      <td>0.242922</td>\n",
       "      <td>soft_ce</td>\n",
       "      <td>cosine</td>\n",
       "      <td>0.151098</td>\n",
       "      <td>0.281845</td>\n",
       "      <td>1.021291</td>\n",
       "      <td>2.257063</td>\n",
       "      <td>0.700620</td>\n",
       "      <td>0.180481</td>\n",
       "      <td>0.590746</td>\n",
       "      <td>0.651939</td>\n",
       "      <td>3.706258</td>\n",
       "    </tr>\n",
       "    <tr>\n",
       "      <th>34</th>\n",
       "      <td>512</td>\n",
       "      <td>0.005044</td>\n",
       "      <td>0.060532</td>\n",
       "      <td>0.188648</td>\n",
       "      <td>soft_kl</td>\n",
       "      <td>mse</td>\n",
       "      <td>0.760191</td>\n",
       "      <td>0.123800</td>\n",
       "      <td>1.010012</td>\n",
       "      <td>4.233912</td>\n",
       "      <td>0.807880</td>\n",
       "      <td>0.089140</td>\n",
       "      <td>0.368868</td>\n",
       "      <td>0.237469</td>\n",
       "      <td>3.711036</td>\n",
       "    </tr>\n",
       "    <tr>\n",
       "      <th>23</th>\n",
       "      <td>128</td>\n",
       "      <td>0.002555</td>\n",
       "      <td>0.065479</td>\n",
       "      <td>0.298489</td>\n",
       "      <td>soft_kl</td>\n",
       "      <td>cosine</td>\n",
       "      <td>0.405072</td>\n",
       "      <td>0.039028</td>\n",
       "      <td>1.593410</td>\n",
       "      <td>3.037618</td>\n",
       "      <td>0.880382</td>\n",
       "      <td>0.006284</td>\n",
       "      <td>0.751430</td>\n",
       "      <td>0.001039</td>\n",
       "      <td>3.742950</td>\n",
       "    </tr>\n",
       "    <tr>\n",
       "      <th>18</th>\n",
       "      <td>128</td>\n",
       "      <td>0.001730</td>\n",
       "      <td>0.050119</td>\n",
       "      <td>0.251945</td>\n",
       "      <td>soft_kl</td>\n",
       "      <td>cosine</td>\n",
       "      <td>0.319424</td>\n",
       "      <td>0.246765</td>\n",
       "      <td>2.219540</td>\n",
       "      <td>2.330828</td>\n",
       "      <td>0.766920</td>\n",
       "      <td>0.027381</td>\n",
       "      <td>0.667002</td>\n",
       "      <td>0.055077</td>\n",
       "      <td>3.778477</td>\n",
       "    </tr>\n",
       "    <tr>\n",
       "      <th>19</th>\n",
       "      <td>128</td>\n",
       "      <td>0.002097</td>\n",
       "      <td>0.050668</td>\n",
       "      <td>0.260177</td>\n",
       "      <td>soft_kl</td>\n",
       "      <td>cosine</td>\n",
       "      <td>0.347834</td>\n",
       "      <td>0.237892</td>\n",
       "      <td>2.336975</td>\n",
       "      <td>3.578243</td>\n",
       "      <td>0.859960</td>\n",
       "      <td>0.024182</td>\n",
       "      <td>0.738865</td>\n",
       "      <td>0.075649</td>\n",
       "      <td>3.820435</td>\n",
       "    </tr>\n",
       "    <tr>\n",
       "      <th>14</th>\n",
       "      <td>128</td>\n",
       "      <td>0.001681</td>\n",
       "      <td>0.074715</td>\n",
       "      <td>0.234996</td>\n",
       "      <td>soft_ce</td>\n",
       "      <td>cosine</td>\n",
       "      <td>0.177364</td>\n",
       "      <td>0.331093</td>\n",
       "      <td>1.975977</td>\n",
       "      <td>1.918306</td>\n",
       "      <td>0.568447</td>\n",
       "      <td>0.259325</td>\n",
       "      <td>0.647984</td>\n",
       "      <td>0.754643</td>\n",
       "      <td>3.828607</td>\n",
       "    </tr>\n",
       "    <tr>\n",
       "      <th>12</th>\n",
       "      <td>128</td>\n",
       "      <td>0.003406</td>\n",
       "      <td>0.078325</td>\n",
       "      <td>0.229171</td>\n",
       "      <td>soft_ce</td>\n",
       "      <td>cosine</td>\n",
       "      <td>0.012284</td>\n",
       "      <td>0.477582</td>\n",
       "      <td>1.000591</td>\n",
       "      <td>1.116076</td>\n",
       "      <td>0.568344</td>\n",
       "      <td>0.386599</td>\n",
       "      <td>0.907186</td>\n",
       "      <td>0.767117</td>\n",
       "      <td>3.833217</td>\n",
       "    </tr>\n",
       "    <tr>\n",
       "      <th>6</th>\n",
       "      <td>128</td>\n",
       "      <td>0.003607</td>\n",
       "      <td>0.067108</td>\n",
       "      <td>0.248734</td>\n",
       "      <td>soft_ce</td>\n",
       "      <td>mse</td>\n",
       "      <td>0.002688</td>\n",
       "      <td>0.988345</td>\n",
       "      <td>4.621366</td>\n",
       "      <td>1.830543</td>\n",
       "      <td>0.292489</td>\n",
       "      <td>0.520010</td>\n",
       "      <td>0.901911</td>\n",
       "      <td>0.983631</td>\n",
       "      <td>3.872466</td>\n",
       "    </tr>\n",
       "    <tr>\n",
       "      <th>15</th>\n",
       "      <td>128</td>\n",
       "      <td>0.001639</td>\n",
       "      <td>0.087991</td>\n",
       "      <td>0.198773</td>\n",
       "      <td>soft_ce</td>\n",
       "      <td>cosine</td>\n",
       "      <td>0.199866</td>\n",
       "      <td>0.352883</td>\n",
       "      <td>1.788144</td>\n",
       "      <td>1.093593</td>\n",
       "      <td>0.589743</td>\n",
       "      <td>0.286420</td>\n",
       "      <td>0.642585</td>\n",
       "      <td>0.718446</td>\n",
       "      <td>3.899956</td>\n",
       "    </tr>\n",
       "    <tr>\n",
       "      <th>13</th>\n",
       "      <td>128</td>\n",
       "      <td>0.003176</td>\n",
       "      <td>0.065465</td>\n",
       "      <td>0.291805</td>\n",
       "      <td>soft_ce</td>\n",
       "      <td>cosine</td>\n",
       "      <td>0.133936</td>\n",
       "      <td>0.463119</td>\n",
       "      <td>2.202445</td>\n",
       "      <td>1.948755</td>\n",
       "      <td>0.556597</td>\n",
       "      <td>0.371740</td>\n",
       "      <td>0.783305</td>\n",
       "      <td>0.979864</td>\n",
       "      <td>3.903972</td>\n",
       "    </tr>\n",
       "    <tr>\n",
       "      <th>11</th>\n",
       "      <td>128</td>\n",
       "      <td>0.002822</td>\n",
       "      <td>0.087909</td>\n",
       "      <td>0.225867</td>\n",
       "      <td>soft_ce</td>\n",
       "      <td>cosine</td>\n",
       "      <td>0.002493</td>\n",
       "      <td>0.666820</td>\n",
       "      <td>1.116413</td>\n",
       "      <td>1.034680</td>\n",
       "      <td>0.292217</td>\n",
       "      <td>0.647973</td>\n",
       "      <td>0.999647</td>\n",
       "      <td>0.734899</td>\n",
       "      <td>3.917178</td>\n",
       "    </tr>\n",
       "    <tr>\n",
       "      <th>5</th>\n",
       "      <td>256</td>\n",
       "      <td>0.007649</td>\n",
       "      <td>0.109318</td>\n",
       "      <td>0.207511</td>\n",
       "      <td>soft_ce</td>\n",
       "      <td>cosine</td>\n",
       "      <td>0.513128</td>\n",
       "      <td>0.666625</td>\n",
       "      <td>1.423634</td>\n",
       "      <td>1.523580</td>\n",
       "      <td>0.321981</td>\n",
       "      <td>0.661564</td>\n",
       "      <td>0.846506</td>\n",
       "      <td>0.553257</td>\n",
       "      <td>3.968018</td>\n",
       "    </tr>\n",
       "    <tr>\n",
       "      <th>7</th>\n",
       "      <td>512</td>\n",
       "      <td>0.004004</td>\n",
       "      <td>0.123107</td>\n",
       "      <td>0.048321</td>\n",
       "      <td>soft_ce</td>\n",
       "      <td>mse</td>\n",
       "      <td>0.428347</td>\n",
       "      <td>0.204543</td>\n",
       "      <td>2.802546</td>\n",
       "      <td>3.191054</td>\n",
       "      <td>0.093327</td>\n",
       "      <td>0.296861</td>\n",
       "      <td>0.927584</td>\n",
       "      <td>0.569004</td>\n",
       "      <td>3.981826</td>\n",
       "    </tr>\n",
       "    <tr>\n",
       "      <th>20</th>\n",
       "      <td>256</td>\n",
       "      <td>0.004502</td>\n",
       "      <td>0.058673</td>\n",
       "      <td>0.265485</td>\n",
       "      <td>soft_kl</td>\n",
       "      <td>cosine</td>\n",
       "      <td>0.263315</td>\n",
       "      <td>0.172404</td>\n",
       "      <td>2.366082</td>\n",
       "      <td>2.776079</td>\n",
       "      <td>0.786047</td>\n",
       "      <td>0.115755</td>\n",
       "      <td>0.577905</td>\n",
       "      <td>0.018050</td>\n",
       "      <td>3.986218</td>\n",
       "    </tr>\n",
       "    <tr>\n",
       "      <th>4</th>\n",
       "      <td>256</td>\n",
       "      <td>0.005985</td>\n",
       "      <td>0.105679</td>\n",
       "      <td>0.047688</td>\n",
       "      <td>soft_ce</td>\n",
       "      <td>cosine</td>\n",
       "      <td>0.554383</td>\n",
       "      <td>0.388951</td>\n",
       "      <td>4.700530</td>\n",
       "      <td>4.366680</td>\n",
       "      <td>0.357398</td>\n",
       "      <td>0.043591</td>\n",
       "      <td>0.304768</td>\n",
       "      <td>0.398186</td>\n",
       "      <td>4.019791</td>\n",
       "    </tr>\n",
       "    <tr>\n",
       "      <th>36</th>\n",
       "      <td>512</td>\n",
       "      <td>0.006619</td>\n",
       "      <td>0.055758</td>\n",
       "      <td>0.123324</td>\n",
       "      <td>soft_kl</td>\n",
       "      <td>cosine</td>\n",
       "      <td>0.970754</td>\n",
       "      <td>0.189061</td>\n",
       "      <td>1.958286</td>\n",
       "      <td>4.502193</td>\n",
       "      <td>0.750363</td>\n",
       "      <td>0.152634</td>\n",
       "      <td>0.407146</td>\n",
       "      <td>0.100724</td>\n",
       "      <td>4.055168</td>\n",
       "    </tr>\n",
       "    <tr>\n",
       "      <th>10</th>\n",
       "      <td>128</td>\n",
       "      <td>0.009804</td>\n",
       "      <td>0.055037</td>\n",
       "      <td>0.282918</td>\n",
       "      <td>soft_ce</td>\n",
       "      <td>mse</td>\n",
       "      <td>0.003838</td>\n",
       "      <td>0.972335</td>\n",
       "      <td>4.945156</td>\n",
       "      <td>2.420217</td>\n",
       "      <td>0.958473</td>\n",
       "      <td>0.963228</td>\n",
       "      <td>0.722612</td>\n",
       "      <td>0.982810</td>\n",
       "      <td>4.065018</td>\n",
       "    </tr>\n",
       "    <tr>\n",
       "      <th>2</th>\n",
       "      <td>512</td>\n",
       "      <td>0.005068</td>\n",
       "      <td>0.112395</td>\n",
       "      <td>0.034686</td>\n",
       "      <td>soft_ce</td>\n",
       "      <td>mse</td>\n",
       "      <td>0.483034</td>\n",
       "      <td>0.985560</td>\n",
       "      <td>3.077940</td>\n",
       "      <td>3.451578</td>\n",
       "      <td>0.120629</td>\n",
       "      <td>0.826341</td>\n",
       "      <td>0.603060</td>\n",
       "      <td>0.545068</td>\n",
       "      <td>4.219480</td>\n",
       "    </tr>\n",
       "    <tr>\n",
       "      <th>1</th>\n",
       "      <td>512</td>\n",
       "      <td>0.008509</td>\n",
       "      <td>0.122446</td>\n",
       "      <td>0.183307</td>\n",
       "      <td>soft_kl</td>\n",
       "      <td>mse</td>\n",
       "      <td>0.293714</td>\n",
       "      <td>0.630976</td>\n",
       "      <td>1.368420</td>\n",
       "      <td>2.734805</td>\n",
       "      <td>0.430863</td>\n",
       "      <td>0.493685</td>\n",
       "      <td>0.425830</td>\n",
       "      <td>0.312261</td>\n",
       "      <td>4.220578</td>\n",
       "    </tr>\n",
       "    <tr>\n",
       "      <th>17</th>\n",
       "      <td>128</td>\n",
       "      <td>0.000522</td>\n",
       "      <td>0.096736</td>\n",
       "      <td>0.299979</td>\n",
       "      <td>soft_ce</td>\n",
       "      <td>cosine</td>\n",
       "      <td>0.202078</td>\n",
       "      <td>0.298735</td>\n",
       "      <td>1.893592</td>\n",
       "      <td>2.421898</td>\n",
       "      <td>0.725411</td>\n",
       "      <td>0.178150</td>\n",
       "      <td>0.535551</td>\n",
       "      <td>0.631391</td>\n",
       "      <td>4.235691</td>\n",
       "    </tr>\n",
       "    <tr>\n",
       "      <th>22</th>\n",
       "      <td>128</td>\n",
       "      <td>0.000252</td>\n",
       "      <td>0.051382</td>\n",
       "      <td>0.265570</td>\n",
       "      <td>soft_kl</td>\n",
       "      <td>cosine</td>\n",
       "      <td>0.335838</td>\n",
       "      <td>0.053382</td>\n",
       "      <td>1.556459</td>\n",
       "      <td>2.478702</td>\n",
       "      <td>0.994243</td>\n",
       "      <td>0.031953</td>\n",
       "      <td>0.653756</td>\n",
       "      <td>0.232407</td>\n",
       "      <td>4.409296</td>\n",
       "    </tr>\n",
       "    <tr>\n",
       "      <th>8</th>\n",
       "      <td>256</td>\n",
       "      <td>0.000581</td>\n",
       "      <td>0.120870</td>\n",
       "      <td>0.251773</td>\n",
       "      <td>soft_ce</td>\n",
       "      <td>cosine</td>\n",
       "      <td>0.665261</td>\n",
       "      <td>0.111392</td>\n",
       "      <td>3.659490</td>\n",
       "      <td>4.551427</td>\n",
       "      <td>0.696311</td>\n",
       "      <td>0.440328</td>\n",
       "      <td>0.438214</td>\n",
       "      <td>0.765096</td>\n",
       "      <td>4.643425</td>\n",
       "    </tr>\n",
       "    <tr>\n",
       "      <th>0</th>\n",
       "      <td>128</td>\n",
       "      <td>0.005558</td>\n",
       "      <td>0.121947</td>\n",
       "      <td>0.126932</td>\n",
       "      <td>soft_kl</td>\n",
       "      <td>mse</td>\n",
       "      <td>0.343178</td>\n",
       "      <td>0.729050</td>\n",
       "      <td>2.754289</td>\n",
       "      <td>1.238712</td>\n",
       "      <td>0.398044</td>\n",
       "      <td>0.737995</td>\n",
       "      <td>0.182492</td>\n",
       "      <td>0.175452</td>\n",
       "      <td>4.677012</td>\n",
       "    </tr>\n",
       "    <tr>\n",
       "      <th>9</th>\n",
       "      <td>512</td>\n",
       "      <td>0.008167</td>\n",
       "      <td>0.083707</td>\n",
       "      <td>0.278273</td>\n",
       "      <td>soft_kl</td>\n",
       "      <td>mse</td>\n",
       "      <td>0.859389</td>\n",
       "      <td>0.821504</td>\n",
       "      <td>4.639487</td>\n",
       "      <td>1.514525</td>\n",
       "      <td>0.081780</td>\n",
       "      <td>0.138416</td>\n",
       "      <td>0.399379</td>\n",
       "      <td>0.424307</td>\n",
       "      <td>5.940102</td>\n",
       "    </tr>\n",
       "    <tr>\n",
       "      <th>3</th>\n",
       "      <td>512</td>\n",
       "      <td>0.006845</td>\n",
       "      <td>0.137546</td>\n",
       "      <td>0.153127</td>\n",
       "      <td>soft_kl</td>\n",
       "      <td>cosine</td>\n",
       "      <td>0.842342</td>\n",
       "      <td>0.083195</td>\n",
       "      <td>4.054731</td>\n",
       "      <td>1.974665</td>\n",
       "      <td>0.194223</td>\n",
       "      <td>0.572457</td>\n",
       "      <td>0.095713</td>\n",
       "      <td>0.885327</td>\n",
       "      <td>6.349452</td>\n",
       "    </tr>\n",
       "  </tbody>\n",
       "</table>\n",
       "</div>"
      ],
      "text/plain": [
       "    batch_size        lr  weight_decay  label_smoothing logits_crit   \n",
       "27         128  0.004412      0.060719         0.281441     soft_kl  \\\n",
       "25         128  0.004355      0.060935         0.279317     soft_kl   \n",
       "28         128  0.004582      0.059782         0.278837     soft_kl   \n",
       "33         128  0.005105      0.057275         0.189100     soft_kl   \n",
       "31         128  0.004316      0.058487         0.276375     soft_kl   \n",
       "32         128  0.004178      0.070669         0.281078     soft_kl   \n",
       "26         128  0.004311      0.058583         0.276406     soft_kl   \n",
       "35         128  0.005811      0.069864         0.215870     soft_kl   \n",
       "29         256  0.005656      0.071857         0.215702     soft_kl   \n",
       "24         128  0.002640      0.064590         0.299199     soft_kl   \n",
       "37         128  0.005126      0.063656         0.239566     soft_kl   \n",
       "30         128  0.004984      0.061382         0.165196     soft_kl   \n",
       "38         256  0.003818      0.068791         0.227714     soft_kl   \n",
       "39         128  0.006310      0.055710         0.174735     soft_kl   \n",
       "21         128  0.002211      0.051761         0.262252     soft_kl   \n",
       "16         128  0.001860      0.077196         0.242922     soft_ce   \n",
       "34         512  0.005044      0.060532         0.188648     soft_kl   \n",
       "23         128  0.002555      0.065479         0.298489     soft_kl   \n",
       "18         128  0.001730      0.050119         0.251945     soft_kl   \n",
       "19         128  0.002097      0.050668         0.260177     soft_kl   \n",
       "14         128  0.001681      0.074715         0.234996     soft_ce   \n",
       "12         128  0.003406      0.078325         0.229171     soft_ce   \n",
       "6          128  0.003607      0.067108         0.248734     soft_ce   \n",
       "15         128  0.001639      0.087991         0.198773     soft_ce   \n",
       "13         128  0.003176      0.065465         0.291805     soft_ce   \n",
       "11         128  0.002822      0.087909         0.225867     soft_ce   \n",
       "5          256  0.007649      0.109318         0.207511     soft_ce   \n",
       "7          512  0.004004      0.123107         0.048321     soft_ce   \n",
       "20         256  0.004502      0.058673         0.265485     soft_kl   \n",
       "4          256  0.005985      0.105679         0.047688     soft_ce   \n",
       "36         512  0.006619      0.055758         0.123324     soft_kl   \n",
       "10         128  0.009804      0.055037         0.282918     soft_ce   \n",
       "2          512  0.005068      0.112395         0.034686     soft_ce   \n",
       "1          512  0.008509      0.122446         0.183307     soft_kl   \n",
       "17         128  0.000522      0.096736         0.299979     soft_ce   \n",
       "22         128  0.000252      0.051382         0.265570     soft_kl   \n",
       "8          256  0.000581      0.120870         0.251773     soft_ce   \n",
       "0          128  0.005558      0.121947         0.126932     soft_kl   \n",
       "9          512  0.008167      0.083707         0.278273     soft_kl   \n",
       "3          512  0.006845      0.137546         0.153127     soft_kl   \n",
       "\n",
       "   hidden_crit   s_alpha   p_alpha     s_tau     p_tau    s_beta    p_beta   \n",
       "27      cosine  0.613466  0.148209  1.267557  3.954836  0.927381  0.222882  \\\n",
       "25      cosine  0.595113  0.001585  1.194578  3.934657  0.678792  0.206012   \n",
       "28      cosine  0.627147  0.135744  1.308984  4.119406  0.953651  0.244937   \n",
       "33      cosine  0.612954  0.119520  1.492340  3.733141  0.808873  0.109967   \n",
       "31      cosine  0.589444  0.006055  1.364079  3.824236  0.924438  0.231306   \n",
       "32      cosine  0.565455  0.006044  1.297243  3.997872  0.934160  0.242998   \n",
       "26      cosine  0.603831  0.034448  1.276612  3.956722  0.876250  0.224941   \n",
       "35      cosine  0.504160  0.097887  1.579925  3.741143  0.819580  0.110302   \n",
       "29      cosine  0.686000  0.169348  1.359928  4.820088  0.977020  0.353690   \n",
       "24      cosine  0.438269  0.025463  1.241940  3.848594  0.882051  0.195311   \n",
       "37         mse  0.629250  0.087980  1.460839  4.148171  0.997874  0.100514   \n",
       "30      cosine  0.732700  0.126131  1.739361  4.171902  0.634432  0.312938   \n",
       "38      cosine  0.536903  0.161884  1.186950  3.618442  0.925561  0.200090   \n",
       "39      cosine  0.507350  0.075581  1.682171  3.388469  0.813349  0.312044   \n",
       "21      cosine  0.387793  0.033680  1.603669  3.421596  0.856095  0.002592   \n",
       "16      cosine  0.151098  0.281845  1.021291  2.257063  0.700620  0.180481   \n",
       "34         mse  0.760191  0.123800  1.010012  4.233912  0.807880  0.089140   \n",
       "23      cosine  0.405072  0.039028  1.593410  3.037618  0.880382  0.006284   \n",
       "18      cosine  0.319424  0.246765  2.219540  2.330828  0.766920  0.027381   \n",
       "19      cosine  0.347834  0.237892  2.336975  3.578243  0.859960  0.024182   \n",
       "14      cosine  0.177364  0.331093  1.975977  1.918306  0.568447  0.259325   \n",
       "12      cosine  0.012284  0.477582  1.000591  1.116076  0.568344  0.386599   \n",
       "6          mse  0.002688  0.988345  4.621366  1.830543  0.292489  0.520010   \n",
       "15      cosine  0.199866  0.352883  1.788144  1.093593  0.589743  0.286420   \n",
       "13      cosine  0.133936  0.463119  2.202445  1.948755  0.556597  0.371740   \n",
       "11      cosine  0.002493  0.666820  1.116413  1.034680  0.292217  0.647973   \n",
       "5       cosine  0.513128  0.666625  1.423634  1.523580  0.321981  0.661564   \n",
       "7          mse  0.428347  0.204543  2.802546  3.191054  0.093327  0.296861   \n",
       "20      cosine  0.263315  0.172404  2.366082  2.776079  0.786047  0.115755   \n",
       "4       cosine  0.554383  0.388951  4.700530  4.366680  0.357398  0.043591   \n",
       "36      cosine  0.970754  0.189061  1.958286  4.502193  0.750363  0.152634   \n",
       "10         mse  0.003838  0.972335  4.945156  2.420217  0.958473  0.963228   \n",
       "2          mse  0.483034  0.985560  3.077940  3.451578  0.120629  0.826341   \n",
       "1          mse  0.293714  0.630976  1.368420  2.734805  0.430863  0.493685   \n",
       "17      cosine  0.202078  0.298735  1.893592  2.421898  0.725411  0.178150   \n",
       "22      cosine  0.335838  0.053382  1.556459  2.478702  0.994243  0.031953   \n",
       "8       cosine  0.665261  0.111392  3.659490  4.551427  0.696311  0.440328   \n",
       "0          mse  0.343178  0.729050  2.754289  1.238712  0.398044  0.737995   \n",
       "9          mse  0.859389  0.821504  4.639487  1.514525  0.081780  0.138416   \n",
       "3       cosine  0.842342  0.083195  4.054731  1.974665  0.194223  0.572457   \n",
       "\n",
       "     s_gamma   p_gamma      loss  \n",
       "27  0.490439  0.120551  3.365237  \n",
       "25  0.519695  0.144497  3.371062  \n",
       "28  0.504998  0.138119  3.398546  \n",
       "33  0.360636  0.232018  3.402656  \n",
       "31  0.494876  0.116285  3.447465  \n",
       "32  0.459366  0.146119  3.447645  \n",
       "26  0.500567  0.118845  3.472818  \n",
       "35  0.273941  0.310698  3.508471  \n",
       "29  0.312967  0.167478  3.508673  \n",
       "24  0.768618  0.002613  3.542759  \n",
       "37  0.203461  0.170158  3.555385  \n",
       "30  0.519849  0.222686  3.590579  \n",
       "38  0.536373  0.288751  3.591632  \n",
       "39  0.353004  0.368379  3.607442  \n",
       "21  0.735160  0.028552  3.704543  \n",
       "16  0.590746  0.651939  3.706258  \n",
       "34  0.368868  0.237469  3.711036  \n",
       "23  0.751430  0.001039  3.742950  \n",
       "18  0.667002  0.055077  3.778477  \n",
       "19  0.738865  0.075649  3.820435  \n",
       "14  0.647984  0.754643  3.828607  \n",
       "12  0.907186  0.767117  3.833217  \n",
       "6   0.901911  0.983631  3.872466  \n",
       "15  0.642585  0.718446  3.899956  \n",
       "13  0.783305  0.979864  3.903972  \n",
       "11  0.999647  0.734899  3.917178  \n",
       "5   0.846506  0.553257  3.968018  \n",
       "7   0.927584  0.569004  3.981826  \n",
       "20  0.577905  0.018050  3.986218  \n",
       "4   0.304768  0.398186  4.019791  \n",
       "36  0.407146  0.100724  4.055168  \n",
       "10  0.722612  0.982810  4.065018  \n",
       "2   0.603060  0.545068  4.219480  \n",
       "1   0.425830  0.312261  4.220578  \n",
       "17  0.535551  0.631391  4.235691  \n",
       "22  0.653756  0.232407  4.409296  \n",
       "8   0.438214  0.765096  4.643425  \n",
       "0   0.182492  0.175452  4.677012  \n",
       "9   0.399379  0.424307  5.940102  \n",
       "3   0.095713  0.885327  6.349452  "
      ]
     },
     "execution_count": 13,
     "metadata": {},
     "output_type": "execute_result"
    }
   ],
   "source": [
    "data = [study.trials[i].params for i in range(40)]\n",
    "df = pd.DataFrame(data)\n",
    "\n",
    "values = [study.trials[i].values[0] for i in range(40)]\n",
    "df['loss'] = values\n",
    "\n",
    "df.sort_values(['loss'])"
   ]
  },
  {
   "cell_type": "code",
   "execution_count": 14,
   "metadata": {},
   "outputs": [
    {
     "name": "stdout",
     "output_type": "stream",
     "text": [
      "batch_size         128.000000\n",
      "lr                   0.004554\n",
      "weight_decay         0.059440\n",
      "label_smoothing      0.261014\n",
      "s_alpha              0.607625\n",
      "p_alpha              0.082223\n",
      "s_tau                1.325508\n",
      "p_tau                3.913255\n",
      "s_beta               0.858627\n",
      "p_beta               0.203021\n",
      "s_gamma              0.474129\n",
      "p_gamma              0.150294\n",
      "loss                 3.396993\n",
      "dtype: float64\n"
     ]
    }
   ],
   "source": [
    "df = df.sort_values(['loss']).head(5)\n",
    "print(df.mean(numeric_only=True))"
   ]
  },
  {
   "cell_type": "code",
   "execution_count": null,
   "metadata": {},
   "outputs": [],
   "source": []
  }
 ],
 "metadata": {
  "kernelspec": {
   "display_name": "Python 3 (ipykernel)",
   "language": "python",
   "name": "python3"
  },
  "language_info": {
   "codemirror_mode": {
    "name": "ipython",
    "version": 3
   },
   "file_extension": ".py",
   "mimetype": "text/x-python",
   "name": "python",
   "nbconvert_exporter": "python",
   "pygments_lexer": "ipython3",
   "version": "3.10.10"
  }
 },
 "nbformat": 4,
 "nbformat_minor": 1
}
