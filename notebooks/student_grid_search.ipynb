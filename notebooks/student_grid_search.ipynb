{
 "cells": [
  {
   "cell_type": "code",
   "execution_count": 9,
   "metadata": {
    "ExecuteTime": {
     "end_time": "2023-05-29T10:51:52.526970Z",
     "start_time": "2023-05-29T10:51:52.180949Z"
    }
   },
   "outputs": [],
   "source": [
    "import optuna\n",
    "import pickle\n",
    "import pandas as pd"
   ]
  },
  {
   "cell_type": "code",
   "execution_count": 10,
   "metadata": {},
   "outputs": [
    {
     "data": {
      "text/plain": [
       "{'lr': 0.0019199878665236295,\n",
       " 'min_lr': 6.714993264835189e-05,\n",
       " 'weight_decay': 0.10841580277256405,\n",
       " 'label_smoothing': 0.19778876652716762,\n",
       " 'l_type': 'soft_kl',\n",
       " 'l_alpha': 0.057609315190980136,\n",
       " 'tau': 2.0645999766765297,\n",
       " 'l_crit': 'cosine',\n",
       " 'l_beta': 0.5084583368885826,\n",
       " 'l_gamma': 0.6568912768937014}"
      ]
     },
     "execution_count": 10,
     "metadata": {},
     "output_type": "execute_result"
    }
   ],
   "source": [
    "# read study saved in pickle file\n",
    "fpath = '/Users/inaki-eab/Desktop/hupba/research/student_gridsearch/study_Student_GS.pkl'\n",
    "f = open(fpath, 'rb')\n",
    "study = pickle.load(f)\n",
    "f.close()\n",
    "\n",
    "study.best_params"
   ]
  },
  {
   "cell_type": "code",
   "execution_count": 11,
   "metadata": {},
   "outputs": [
    {
     "data": {
      "application/vnd.plotly.v1+json": {
       "config": {
        "plotlyServerURL": "https://plot.ly"
       },
       "data": [
        {
         "cliponaxis": false,
         "hovertemplate": [
          "l_type (CategoricalDistribution): 0.0013957782710563899<extra></extra>",
          "l_crit (CategoricalDistribution): 0.013764738771453075<extra></extra>",
          "weight_decay (FloatDistribution): 0.02000582145352683<extra></extra>",
          "l_alpha (FloatDistribution): 0.03999081021745651<extra></extra>",
          "min_lr (FloatDistribution): 0.040875754278324836<extra></extra>",
          "l_beta (FloatDistribution): 0.06486462337755262<extra></extra>",
          "l_gamma (FloatDistribution): 0.09648412558676016<extra></extra>",
          "tau (FloatDistribution): 0.10333566457722772<extra></extra>",
          "label_smoothing (FloatDistribution): 0.2774367235639408<extra></extra>",
          "lr (FloatDistribution): 0.34184595990270106<extra></extra>"
         ],
         "marker": {
          "color": "rgb(66,146,198)"
         },
         "orientation": "h",
         "text": [
          "<0.01",
          "0.01",
          "0.02",
          "0.04",
          "0.04",
          "0.06",
          "0.10",
          "0.10",
          "0.28",
          "0.34"
         ],
         "textposition": "outside",
         "type": "bar",
         "x": [
          0.0013957782710563899,
          0.013764738771453075,
          0.02000582145352683,
          0.03999081021745651,
          0.040875754278324836,
          0.06486462337755262,
          0.09648412558676016,
          0.10333566457722772,
          0.2774367235639408,
          0.34184595990270106
         ],
         "y": [
          "l_type",
          "l_crit",
          "weight_decay",
          "l_alpha",
          "min_lr",
          "l_beta",
          "l_gamma",
          "tau",
          "label_smoothing",
          "lr"
         ]
        }
       ],
       "layout": {
        "showlegend": false,
        "template": {
         "data": {
          "bar": [
           {
            "error_x": {
             "color": "#2a3f5f"
            },
            "error_y": {
             "color": "#2a3f5f"
            },
            "marker": {
             "line": {
              "color": "#E5ECF6",
              "width": 0.5
             },
             "pattern": {
              "fillmode": "overlay",
              "size": 10,
              "solidity": 0.2
             }
            },
            "type": "bar"
           }
          ],
          "barpolar": [
           {
            "marker": {
             "line": {
              "color": "#E5ECF6",
              "width": 0.5
             },
             "pattern": {
              "fillmode": "overlay",
              "size": 10,
              "solidity": 0.2
             }
            },
            "type": "barpolar"
           }
          ],
          "carpet": [
           {
            "aaxis": {
             "endlinecolor": "#2a3f5f",
             "gridcolor": "white",
             "linecolor": "white",
             "minorgridcolor": "white",
             "startlinecolor": "#2a3f5f"
            },
            "baxis": {
             "endlinecolor": "#2a3f5f",
             "gridcolor": "white",
             "linecolor": "white",
             "minorgridcolor": "white",
             "startlinecolor": "#2a3f5f"
            },
            "type": "carpet"
           }
          ],
          "choropleth": [
           {
            "colorbar": {
             "outlinewidth": 0,
             "ticks": ""
            },
            "type": "choropleth"
           }
          ],
          "contour": [
           {
            "colorbar": {
             "outlinewidth": 0,
             "ticks": ""
            },
            "colorscale": [
             [
              0,
              "#0d0887"
             ],
             [
              0.1111111111111111,
              "#46039f"
             ],
             [
              0.2222222222222222,
              "#7201a8"
             ],
             [
              0.3333333333333333,
              "#9c179e"
             ],
             [
              0.4444444444444444,
              "#bd3786"
             ],
             [
              0.5555555555555556,
              "#d8576b"
             ],
             [
              0.6666666666666666,
              "#ed7953"
             ],
             [
              0.7777777777777778,
              "#fb9f3a"
             ],
             [
              0.8888888888888888,
              "#fdca26"
             ],
             [
              1,
              "#f0f921"
             ]
            ],
            "type": "contour"
           }
          ],
          "contourcarpet": [
           {
            "colorbar": {
             "outlinewidth": 0,
             "ticks": ""
            },
            "type": "contourcarpet"
           }
          ],
          "heatmap": [
           {
            "colorbar": {
             "outlinewidth": 0,
             "ticks": ""
            },
            "colorscale": [
             [
              0,
              "#0d0887"
             ],
             [
              0.1111111111111111,
              "#46039f"
             ],
             [
              0.2222222222222222,
              "#7201a8"
             ],
             [
              0.3333333333333333,
              "#9c179e"
             ],
             [
              0.4444444444444444,
              "#bd3786"
             ],
             [
              0.5555555555555556,
              "#d8576b"
             ],
             [
              0.6666666666666666,
              "#ed7953"
             ],
             [
              0.7777777777777778,
              "#fb9f3a"
             ],
             [
              0.8888888888888888,
              "#fdca26"
             ],
             [
              1,
              "#f0f921"
             ]
            ],
            "type": "heatmap"
           }
          ],
          "heatmapgl": [
           {
            "colorbar": {
             "outlinewidth": 0,
             "ticks": ""
            },
            "colorscale": [
             [
              0,
              "#0d0887"
             ],
             [
              0.1111111111111111,
              "#46039f"
             ],
             [
              0.2222222222222222,
              "#7201a8"
             ],
             [
              0.3333333333333333,
              "#9c179e"
             ],
             [
              0.4444444444444444,
              "#bd3786"
             ],
             [
              0.5555555555555556,
              "#d8576b"
             ],
             [
              0.6666666666666666,
              "#ed7953"
             ],
             [
              0.7777777777777778,
              "#fb9f3a"
             ],
             [
              0.8888888888888888,
              "#fdca26"
             ],
             [
              1,
              "#f0f921"
             ]
            ],
            "type": "heatmapgl"
           }
          ],
          "histogram": [
           {
            "marker": {
             "pattern": {
              "fillmode": "overlay",
              "size": 10,
              "solidity": 0.2
             }
            },
            "type": "histogram"
           }
          ],
          "histogram2d": [
           {
            "colorbar": {
             "outlinewidth": 0,
             "ticks": ""
            },
            "colorscale": [
             [
              0,
              "#0d0887"
             ],
             [
              0.1111111111111111,
              "#46039f"
             ],
             [
              0.2222222222222222,
              "#7201a8"
             ],
             [
              0.3333333333333333,
              "#9c179e"
             ],
             [
              0.4444444444444444,
              "#bd3786"
             ],
             [
              0.5555555555555556,
              "#d8576b"
             ],
             [
              0.6666666666666666,
              "#ed7953"
             ],
             [
              0.7777777777777778,
              "#fb9f3a"
             ],
             [
              0.8888888888888888,
              "#fdca26"
             ],
             [
              1,
              "#f0f921"
             ]
            ],
            "type": "histogram2d"
           }
          ],
          "histogram2dcontour": [
           {
            "colorbar": {
             "outlinewidth": 0,
             "ticks": ""
            },
            "colorscale": [
             [
              0,
              "#0d0887"
             ],
             [
              0.1111111111111111,
              "#46039f"
             ],
             [
              0.2222222222222222,
              "#7201a8"
             ],
             [
              0.3333333333333333,
              "#9c179e"
             ],
             [
              0.4444444444444444,
              "#bd3786"
             ],
             [
              0.5555555555555556,
              "#d8576b"
             ],
             [
              0.6666666666666666,
              "#ed7953"
             ],
             [
              0.7777777777777778,
              "#fb9f3a"
             ],
             [
              0.8888888888888888,
              "#fdca26"
             ],
             [
              1,
              "#f0f921"
             ]
            ],
            "type": "histogram2dcontour"
           }
          ],
          "mesh3d": [
           {
            "colorbar": {
             "outlinewidth": 0,
             "ticks": ""
            },
            "type": "mesh3d"
           }
          ],
          "parcoords": [
           {
            "line": {
             "colorbar": {
              "outlinewidth": 0,
              "ticks": ""
             }
            },
            "type": "parcoords"
           }
          ],
          "pie": [
           {
            "automargin": true,
            "type": "pie"
           }
          ],
          "scatter": [
           {
            "fillpattern": {
             "fillmode": "overlay",
             "size": 10,
             "solidity": 0.2
            },
            "type": "scatter"
           }
          ],
          "scatter3d": [
           {
            "line": {
             "colorbar": {
              "outlinewidth": 0,
              "ticks": ""
             }
            },
            "marker": {
             "colorbar": {
              "outlinewidth": 0,
              "ticks": ""
             }
            },
            "type": "scatter3d"
           }
          ],
          "scattercarpet": [
           {
            "marker": {
             "colorbar": {
              "outlinewidth": 0,
              "ticks": ""
             }
            },
            "type": "scattercarpet"
           }
          ],
          "scattergeo": [
           {
            "marker": {
             "colorbar": {
              "outlinewidth": 0,
              "ticks": ""
             }
            },
            "type": "scattergeo"
           }
          ],
          "scattergl": [
           {
            "marker": {
             "colorbar": {
              "outlinewidth": 0,
              "ticks": ""
             }
            },
            "type": "scattergl"
           }
          ],
          "scattermapbox": [
           {
            "marker": {
             "colorbar": {
              "outlinewidth": 0,
              "ticks": ""
             }
            },
            "type": "scattermapbox"
           }
          ],
          "scatterpolar": [
           {
            "marker": {
             "colorbar": {
              "outlinewidth": 0,
              "ticks": ""
             }
            },
            "type": "scatterpolar"
           }
          ],
          "scatterpolargl": [
           {
            "marker": {
             "colorbar": {
              "outlinewidth": 0,
              "ticks": ""
             }
            },
            "type": "scatterpolargl"
           }
          ],
          "scatterternary": [
           {
            "marker": {
             "colorbar": {
              "outlinewidth": 0,
              "ticks": ""
             }
            },
            "type": "scatterternary"
           }
          ],
          "surface": [
           {
            "colorbar": {
             "outlinewidth": 0,
             "ticks": ""
            },
            "colorscale": [
             [
              0,
              "#0d0887"
             ],
             [
              0.1111111111111111,
              "#46039f"
             ],
             [
              0.2222222222222222,
              "#7201a8"
             ],
             [
              0.3333333333333333,
              "#9c179e"
             ],
             [
              0.4444444444444444,
              "#bd3786"
             ],
             [
              0.5555555555555556,
              "#d8576b"
             ],
             [
              0.6666666666666666,
              "#ed7953"
             ],
             [
              0.7777777777777778,
              "#fb9f3a"
             ],
             [
              0.8888888888888888,
              "#fdca26"
             ],
             [
              1,
              "#f0f921"
             ]
            ],
            "type": "surface"
           }
          ],
          "table": [
           {
            "cells": {
             "fill": {
              "color": "#EBF0F8"
             },
             "line": {
              "color": "white"
             }
            },
            "header": {
             "fill": {
              "color": "#C8D4E3"
             },
             "line": {
              "color": "white"
             }
            },
            "type": "table"
           }
          ]
         },
         "layout": {
          "annotationdefaults": {
           "arrowcolor": "#2a3f5f",
           "arrowhead": 0,
           "arrowwidth": 1
          },
          "autotypenumbers": "strict",
          "coloraxis": {
           "colorbar": {
            "outlinewidth": 0,
            "ticks": ""
           }
          },
          "colorscale": {
           "diverging": [
            [
             0,
             "#8e0152"
            ],
            [
             0.1,
             "#c51b7d"
            ],
            [
             0.2,
             "#de77ae"
            ],
            [
             0.3,
             "#f1b6da"
            ],
            [
             0.4,
             "#fde0ef"
            ],
            [
             0.5,
             "#f7f7f7"
            ],
            [
             0.6,
             "#e6f5d0"
            ],
            [
             0.7,
             "#b8e186"
            ],
            [
             0.8,
             "#7fbc41"
            ],
            [
             0.9,
             "#4d9221"
            ],
            [
             1,
             "#276419"
            ]
           ],
           "sequential": [
            [
             0,
             "#0d0887"
            ],
            [
             0.1111111111111111,
             "#46039f"
            ],
            [
             0.2222222222222222,
             "#7201a8"
            ],
            [
             0.3333333333333333,
             "#9c179e"
            ],
            [
             0.4444444444444444,
             "#bd3786"
            ],
            [
             0.5555555555555556,
             "#d8576b"
            ],
            [
             0.6666666666666666,
             "#ed7953"
            ],
            [
             0.7777777777777778,
             "#fb9f3a"
            ],
            [
             0.8888888888888888,
             "#fdca26"
            ],
            [
             1,
             "#f0f921"
            ]
           ],
           "sequentialminus": [
            [
             0,
             "#0d0887"
            ],
            [
             0.1111111111111111,
             "#46039f"
            ],
            [
             0.2222222222222222,
             "#7201a8"
            ],
            [
             0.3333333333333333,
             "#9c179e"
            ],
            [
             0.4444444444444444,
             "#bd3786"
            ],
            [
             0.5555555555555556,
             "#d8576b"
            ],
            [
             0.6666666666666666,
             "#ed7953"
            ],
            [
             0.7777777777777778,
             "#fb9f3a"
            ],
            [
             0.8888888888888888,
             "#fdca26"
            ],
            [
             1,
             "#f0f921"
            ]
           ]
          },
          "colorway": [
           "#636efa",
           "#EF553B",
           "#00cc96",
           "#ab63fa",
           "#FFA15A",
           "#19d3f3",
           "#FF6692",
           "#B6E880",
           "#FF97FF",
           "#FECB52"
          ],
          "font": {
           "color": "#2a3f5f"
          },
          "geo": {
           "bgcolor": "white",
           "lakecolor": "white",
           "landcolor": "#E5ECF6",
           "showlakes": true,
           "showland": true,
           "subunitcolor": "white"
          },
          "hoverlabel": {
           "align": "left"
          },
          "hovermode": "closest",
          "mapbox": {
           "style": "light"
          },
          "paper_bgcolor": "white",
          "plot_bgcolor": "#E5ECF6",
          "polar": {
           "angularaxis": {
            "gridcolor": "white",
            "linecolor": "white",
            "ticks": ""
           },
           "bgcolor": "#E5ECF6",
           "radialaxis": {
            "gridcolor": "white",
            "linecolor": "white",
            "ticks": ""
           }
          },
          "scene": {
           "xaxis": {
            "backgroundcolor": "#E5ECF6",
            "gridcolor": "white",
            "gridwidth": 2,
            "linecolor": "white",
            "showbackground": true,
            "ticks": "",
            "zerolinecolor": "white"
           },
           "yaxis": {
            "backgroundcolor": "#E5ECF6",
            "gridcolor": "white",
            "gridwidth": 2,
            "linecolor": "white",
            "showbackground": true,
            "ticks": "",
            "zerolinecolor": "white"
           },
           "zaxis": {
            "backgroundcolor": "#E5ECF6",
            "gridcolor": "white",
            "gridwidth": 2,
            "linecolor": "white",
            "showbackground": true,
            "ticks": "",
            "zerolinecolor": "white"
           }
          },
          "shapedefaults": {
           "line": {
            "color": "#2a3f5f"
           }
          },
          "ternary": {
           "aaxis": {
            "gridcolor": "white",
            "linecolor": "white",
            "ticks": ""
           },
           "baxis": {
            "gridcolor": "white",
            "linecolor": "white",
            "ticks": ""
           },
           "bgcolor": "#E5ECF6",
           "caxis": {
            "gridcolor": "white",
            "linecolor": "white",
            "ticks": ""
           }
          },
          "title": {
           "x": 0.05
          },
          "xaxis": {
           "automargin": true,
           "gridcolor": "white",
           "linecolor": "white",
           "ticks": "",
           "title": {
            "standoff": 15
           },
           "zerolinecolor": "white",
           "zerolinewidth": 2
          },
          "yaxis": {
           "automargin": true,
           "gridcolor": "white",
           "linecolor": "white",
           "ticks": "",
           "title": {
            "standoff": 15
           },
           "zerolinecolor": "white",
           "zerolinewidth": 2
          }
         }
        },
        "title": {
         "text": "Hyperparameter Importances"
        },
        "xaxis": {
         "title": {
          "text": "Importance for Objective Value"
         }
        },
        "yaxis": {
         "title": {
          "text": "Hyperparameter"
         }
        }
       }
      },
      "text/html": [
       "<div>                            <div id=\"78756300-7c9f-4c0a-aa11-f6d13a5dbb93\" class=\"plotly-graph-div\" style=\"height:525px; width:100%;\"></div>            <script type=\"text/javascript\">                require([\"plotly\"], function(Plotly) {                    window.PLOTLYENV=window.PLOTLYENV || {};                                    if (document.getElementById(\"78756300-7c9f-4c0a-aa11-f6d13a5dbb93\")) {                    Plotly.newPlot(                        \"78756300-7c9f-4c0a-aa11-f6d13a5dbb93\",                        [{\"cliponaxis\":false,\"hovertemplate\":[\"l_type (CategoricalDistribution): 0.0013957782710563899<extra></extra>\",\"l_crit (CategoricalDistribution): 0.013764738771453075<extra></extra>\",\"weight_decay (FloatDistribution): 0.02000582145352683<extra></extra>\",\"l_alpha (FloatDistribution): 0.03999081021745651<extra></extra>\",\"min_lr (FloatDistribution): 0.040875754278324836<extra></extra>\",\"l_beta (FloatDistribution): 0.06486462337755262<extra></extra>\",\"l_gamma (FloatDistribution): 0.09648412558676016<extra></extra>\",\"tau (FloatDistribution): 0.10333566457722772<extra></extra>\",\"label_smoothing (FloatDistribution): 0.2774367235639408<extra></extra>\",\"lr (FloatDistribution): 0.34184595990270106<extra></extra>\"],\"marker\":{\"color\":\"rgb(66,146,198)\"},\"orientation\":\"h\",\"text\":[\"<0.01\",\"0.01\",\"0.02\",\"0.04\",\"0.04\",\"0.06\",\"0.10\",\"0.10\",\"0.28\",\"0.34\"],\"textposition\":\"outside\",\"x\":[0.0013957782710563899,0.013764738771453075,0.02000582145352683,0.03999081021745651,0.040875754278324836,0.06486462337755262,0.09648412558676016,0.10333566457722772,0.2774367235639408,0.34184595990270106],\"y\":[\"l_type\",\"l_crit\",\"weight_decay\",\"l_alpha\",\"min_lr\",\"l_beta\",\"l_gamma\",\"tau\",\"label_smoothing\",\"lr\"],\"type\":\"bar\"}],                        {\"showlegend\":false,\"title\":{\"text\":\"Hyperparameter Importances\"},\"xaxis\":{\"title\":{\"text\":\"Importance for Objective Value\"}},\"yaxis\":{\"title\":{\"text\":\"Hyperparameter\"}},\"template\":{\"data\":{\"histogram2dcontour\":[{\"type\":\"histogram2dcontour\",\"colorbar\":{\"outlinewidth\":0,\"ticks\":\"\"},\"colorscale\":[[0.0,\"#0d0887\"],[0.1111111111111111,\"#46039f\"],[0.2222222222222222,\"#7201a8\"],[0.3333333333333333,\"#9c179e\"],[0.4444444444444444,\"#bd3786\"],[0.5555555555555556,\"#d8576b\"],[0.6666666666666666,\"#ed7953\"],[0.7777777777777778,\"#fb9f3a\"],[0.8888888888888888,\"#fdca26\"],[1.0,\"#f0f921\"]]}],\"choropleth\":[{\"type\":\"choropleth\",\"colorbar\":{\"outlinewidth\":0,\"ticks\":\"\"}}],\"histogram2d\":[{\"type\":\"histogram2d\",\"colorbar\":{\"outlinewidth\":0,\"ticks\":\"\"},\"colorscale\":[[0.0,\"#0d0887\"],[0.1111111111111111,\"#46039f\"],[0.2222222222222222,\"#7201a8\"],[0.3333333333333333,\"#9c179e\"],[0.4444444444444444,\"#bd3786\"],[0.5555555555555556,\"#d8576b\"],[0.6666666666666666,\"#ed7953\"],[0.7777777777777778,\"#fb9f3a\"],[0.8888888888888888,\"#fdca26\"],[1.0,\"#f0f921\"]]}],\"heatmap\":[{\"type\":\"heatmap\",\"colorbar\":{\"outlinewidth\":0,\"ticks\":\"\"},\"colorscale\":[[0.0,\"#0d0887\"],[0.1111111111111111,\"#46039f\"],[0.2222222222222222,\"#7201a8\"],[0.3333333333333333,\"#9c179e\"],[0.4444444444444444,\"#bd3786\"],[0.5555555555555556,\"#d8576b\"],[0.6666666666666666,\"#ed7953\"],[0.7777777777777778,\"#fb9f3a\"],[0.8888888888888888,\"#fdca26\"],[1.0,\"#f0f921\"]]}],\"heatmapgl\":[{\"type\":\"heatmapgl\",\"colorbar\":{\"outlinewidth\":0,\"ticks\":\"\"},\"colorscale\":[[0.0,\"#0d0887\"],[0.1111111111111111,\"#46039f\"],[0.2222222222222222,\"#7201a8\"],[0.3333333333333333,\"#9c179e\"],[0.4444444444444444,\"#bd3786\"],[0.5555555555555556,\"#d8576b\"],[0.6666666666666666,\"#ed7953\"],[0.7777777777777778,\"#fb9f3a\"],[0.8888888888888888,\"#fdca26\"],[1.0,\"#f0f921\"]]}],\"contourcarpet\":[{\"type\":\"contourcarpet\",\"colorbar\":{\"outlinewidth\":0,\"ticks\":\"\"}}],\"contour\":[{\"type\":\"contour\",\"colorbar\":{\"outlinewidth\":0,\"ticks\":\"\"},\"colorscale\":[[0.0,\"#0d0887\"],[0.1111111111111111,\"#46039f\"],[0.2222222222222222,\"#7201a8\"],[0.3333333333333333,\"#9c179e\"],[0.4444444444444444,\"#bd3786\"],[0.5555555555555556,\"#d8576b\"],[0.6666666666666666,\"#ed7953\"],[0.7777777777777778,\"#fb9f3a\"],[0.8888888888888888,\"#fdca26\"],[1.0,\"#f0f921\"]]}],\"surface\":[{\"type\":\"surface\",\"colorbar\":{\"outlinewidth\":0,\"ticks\":\"\"},\"colorscale\":[[0.0,\"#0d0887\"],[0.1111111111111111,\"#46039f\"],[0.2222222222222222,\"#7201a8\"],[0.3333333333333333,\"#9c179e\"],[0.4444444444444444,\"#bd3786\"],[0.5555555555555556,\"#d8576b\"],[0.6666666666666666,\"#ed7953\"],[0.7777777777777778,\"#fb9f3a\"],[0.8888888888888888,\"#fdca26\"],[1.0,\"#f0f921\"]]}],\"mesh3d\":[{\"type\":\"mesh3d\",\"colorbar\":{\"outlinewidth\":0,\"ticks\":\"\"}}],\"scatter\":[{\"fillpattern\":{\"fillmode\":\"overlay\",\"size\":10,\"solidity\":0.2},\"type\":\"scatter\"}],\"parcoords\":[{\"type\":\"parcoords\",\"line\":{\"colorbar\":{\"outlinewidth\":0,\"ticks\":\"\"}}}],\"scatterpolargl\":[{\"type\":\"scatterpolargl\",\"marker\":{\"colorbar\":{\"outlinewidth\":0,\"ticks\":\"\"}}}],\"bar\":[{\"error_x\":{\"color\":\"#2a3f5f\"},\"error_y\":{\"color\":\"#2a3f5f\"},\"marker\":{\"line\":{\"color\":\"#E5ECF6\",\"width\":0.5},\"pattern\":{\"fillmode\":\"overlay\",\"size\":10,\"solidity\":0.2}},\"type\":\"bar\"}],\"scattergeo\":[{\"type\":\"scattergeo\",\"marker\":{\"colorbar\":{\"outlinewidth\":0,\"ticks\":\"\"}}}],\"scatterpolar\":[{\"type\":\"scatterpolar\",\"marker\":{\"colorbar\":{\"outlinewidth\":0,\"ticks\":\"\"}}}],\"histogram\":[{\"marker\":{\"pattern\":{\"fillmode\":\"overlay\",\"size\":10,\"solidity\":0.2}},\"type\":\"histogram\"}],\"scattergl\":[{\"type\":\"scattergl\",\"marker\":{\"colorbar\":{\"outlinewidth\":0,\"ticks\":\"\"}}}],\"scatter3d\":[{\"type\":\"scatter3d\",\"line\":{\"colorbar\":{\"outlinewidth\":0,\"ticks\":\"\"}},\"marker\":{\"colorbar\":{\"outlinewidth\":0,\"ticks\":\"\"}}}],\"scattermapbox\":[{\"type\":\"scattermapbox\",\"marker\":{\"colorbar\":{\"outlinewidth\":0,\"ticks\":\"\"}}}],\"scatterternary\":[{\"type\":\"scatterternary\",\"marker\":{\"colorbar\":{\"outlinewidth\":0,\"ticks\":\"\"}}}],\"scattercarpet\":[{\"type\":\"scattercarpet\",\"marker\":{\"colorbar\":{\"outlinewidth\":0,\"ticks\":\"\"}}}],\"carpet\":[{\"aaxis\":{\"endlinecolor\":\"#2a3f5f\",\"gridcolor\":\"white\",\"linecolor\":\"white\",\"minorgridcolor\":\"white\",\"startlinecolor\":\"#2a3f5f\"},\"baxis\":{\"endlinecolor\":\"#2a3f5f\",\"gridcolor\":\"white\",\"linecolor\":\"white\",\"minorgridcolor\":\"white\",\"startlinecolor\":\"#2a3f5f\"},\"type\":\"carpet\"}],\"table\":[{\"cells\":{\"fill\":{\"color\":\"#EBF0F8\"},\"line\":{\"color\":\"white\"}},\"header\":{\"fill\":{\"color\":\"#C8D4E3\"},\"line\":{\"color\":\"white\"}},\"type\":\"table\"}],\"barpolar\":[{\"marker\":{\"line\":{\"color\":\"#E5ECF6\",\"width\":0.5},\"pattern\":{\"fillmode\":\"overlay\",\"size\":10,\"solidity\":0.2}},\"type\":\"barpolar\"}],\"pie\":[{\"automargin\":true,\"type\":\"pie\"}]},\"layout\":{\"autotypenumbers\":\"strict\",\"colorway\":[\"#636efa\",\"#EF553B\",\"#00cc96\",\"#ab63fa\",\"#FFA15A\",\"#19d3f3\",\"#FF6692\",\"#B6E880\",\"#FF97FF\",\"#FECB52\"],\"font\":{\"color\":\"#2a3f5f\"},\"hovermode\":\"closest\",\"hoverlabel\":{\"align\":\"left\"},\"paper_bgcolor\":\"white\",\"plot_bgcolor\":\"#E5ECF6\",\"polar\":{\"bgcolor\":\"#E5ECF6\",\"angularaxis\":{\"gridcolor\":\"white\",\"linecolor\":\"white\",\"ticks\":\"\"},\"radialaxis\":{\"gridcolor\":\"white\",\"linecolor\":\"white\",\"ticks\":\"\"}},\"ternary\":{\"bgcolor\":\"#E5ECF6\",\"aaxis\":{\"gridcolor\":\"white\",\"linecolor\":\"white\",\"ticks\":\"\"},\"baxis\":{\"gridcolor\":\"white\",\"linecolor\":\"white\",\"ticks\":\"\"},\"caxis\":{\"gridcolor\":\"white\",\"linecolor\":\"white\",\"ticks\":\"\"}},\"coloraxis\":{\"colorbar\":{\"outlinewidth\":0,\"ticks\":\"\"}},\"colorscale\":{\"sequential\":[[0.0,\"#0d0887\"],[0.1111111111111111,\"#46039f\"],[0.2222222222222222,\"#7201a8\"],[0.3333333333333333,\"#9c179e\"],[0.4444444444444444,\"#bd3786\"],[0.5555555555555556,\"#d8576b\"],[0.6666666666666666,\"#ed7953\"],[0.7777777777777778,\"#fb9f3a\"],[0.8888888888888888,\"#fdca26\"],[1.0,\"#f0f921\"]],\"sequentialminus\":[[0.0,\"#0d0887\"],[0.1111111111111111,\"#46039f\"],[0.2222222222222222,\"#7201a8\"],[0.3333333333333333,\"#9c179e\"],[0.4444444444444444,\"#bd3786\"],[0.5555555555555556,\"#d8576b\"],[0.6666666666666666,\"#ed7953\"],[0.7777777777777778,\"#fb9f3a\"],[0.8888888888888888,\"#fdca26\"],[1.0,\"#f0f921\"]],\"diverging\":[[0,\"#8e0152\"],[0.1,\"#c51b7d\"],[0.2,\"#de77ae\"],[0.3,\"#f1b6da\"],[0.4,\"#fde0ef\"],[0.5,\"#f7f7f7\"],[0.6,\"#e6f5d0\"],[0.7,\"#b8e186\"],[0.8,\"#7fbc41\"],[0.9,\"#4d9221\"],[1,\"#276419\"]]},\"xaxis\":{\"gridcolor\":\"white\",\"linecolor\":\"white\",\"ticks\":\"\",\"title\":{\"standoff\":15},\"zerolinecolor\":\"white\",\"automargin\":true,\"zerolinewidth\":2},\"yaxis\":{\"gridcolor\":\"white\",\"linecolor\":\"white\",\"ticks\":\"\",\"title\":{\"standoff\":15},\"zerolinecolor\":\"white\",\"automargin\":true,\"zerolinewidth\":2},\"scene\":{\"xaxis\":{\"backgroundcolor\":\"#E5ECF6\",\"gridcolor\":\"white\",\"linecolor\":\"white\",\"showbackground\":true,\"ticks\":\"\",\"zerolinecolor\":\"white\",\"gridwidth\":2},\"yaxis\":{\"backgroundcolor\":\"#E5ECF6\",\"gridcolor\":\"white\",\"linecolor\":\"white\",\"showbackground\":true,\"ticks\":\"\",\"zerolinecolor\":\"white\",\"gridwidth\":2},\"zaxis\":{\"backgroundcolor\":\"#E5ECF6\",\"gridcolor\":\"white\",\"linecolor\":\"white\",\"showbackground\":true,\"ticks\":\"\",\"zerolinecolor\":\"white\",\"gridwidth\":2}},\"shapedefaults\":{\"line\":{\"color\":\"#2a3f5f\"}},\"annotationdefaults\":{\"arrowcolor\":\"#2a3f5f\",\"arrowhead\":0,\"arrowwidth\":1},\"geo\":{\"bgcolor\":\"white\",\"landcolor\":\"#E5ECF6\",\"subunitcolor\":\"white\",\"showland\":true,\"showlakes\":true,\"lakecolor\":\"white\"},\"title\":{\"x\":0.05},\"mapbox\":{\"style\":\"light\"}}}},                        {\"responsive\": true}                    ).then(function(){\n",
       "                            \n",
       "var gd = document.getElementById('78756300-7c9f-4c0a-aa11-f6d13a5dbb93');\n",
       "var x = new MutationObserver(function (mutations, observer) {{\n",
       "        var display = window.getComputedStyle(gd).display;\n",
       "        if (!display || display === 'none') {{\n",
       "            console.log([gd, 'removed!']);\n",
       "            Plotly.purge(gd);\n",
       "            observer.disconnect();\n",
       "        }}\n",
       "}});\n",
       "\n",
       "// Listen for the removal of the full notebook cells\n",
       "var notebookContainer = gd.closest('#notebook-container');\n",
       "if (notebookContainer) {{\n",
       "    x.observe(notebookContainer, {childList: true});\n",
       "}}\n",
       "\n",
       "// Listen for the clearing of the current output cell\n",
       "var outputEl = gd.closest('.output');\n",
       "if (outputEl) {{\n",
       "    x.observe(outputEl, {childList: true});\n",
       "}}\n",
       "\n",
       "                        })                };                });            </script>        </div>"
      ]
     },
     "metadata": {},
     "output_type": "display_data"
    }
   ],
   "source": [
    "optuna.visualization.plot_param_importances(study)"
   ]
  },
  {
   "cell_type": "code",
   "execution_count": 4,
   "metadata": {},
   "outputs": [
    {
     "data": {
      "application/vnd.plotly.v1+json": {
       "config": {
        "plotlyServerURL": "https://plot.ly"
       },
       "data": [
        {
         "mode": "markers",
         "name": "Objective Value",
         "type": "scatter",
         "x": [
          0,
          1,
          2,
          3,
          4,
          5,
          6,
          7,
          8,
          9,
          10,
          11,
          12,
          13,
          14,
          15,
          16,
          17,
          18,
          19,
          20,
          21,
          22,
          23,
          24,
          25,
          26,
          27,
          28,
          29,
          30,
          31,
          32,
          33,
          34,
          35,
          36,
          37,
          38,
          39
         ],
         "y": [
          6.70158576965332,
          5.6431297063827515,
          6.237956166267395,
          6.558503985404968,
          5.347175717353821,
          5.2676472663879395,
          5.379319787025452,
          6.709915041923523,
          4.73147714138031,
          6.671962141990662,
          6.073598861694336,
          5.1331787109375,
          6.419498443603516,
          5.622963309288025,
          5.868112802505493,
          5.279937028884888,
          5.054805636405945,
          5.687716245651245,
          5.687211275100708,
          6.040644645690918,
          5.254245042800903,
          5.135836720466614,
          5.006722331047058,
          4.817288756370544,
          5.810107588768005,
          5.544692635536194,
          5.741892457008362,
          5.6031190156936646,
          5.3293410539627075,
          5.375229716300964,
          5.9793936014175415,
          5.222967147827148,
          5.122860431671143,
          4.491059422492981,
          5.12315309047699,
          5.281572103500366,
          4.489764213562012,
          6.161123752593994,
          5.523425817489624,
          6.202157139778137
         ]
        },
        {
         "name": "Best Value",
         "type": "scatter",
         "x": [
          0,
          1,
          2,
          3,
          4,
          5,
          6,
          7,
          8,
          9,
          10,
          11,
          12,
          13,
          14,
          15,
          16,
          17,
          18,
          19,
          20,
          21,
          22,
          23,
          24,
          25,
          26,
          27,
          28,
          29,
          30,
          31,
          32,
          33,
          34,
          35,
          36,
          37,
          38,
          39
         ],
         "y": [
          6.70158576965332,
          5.6431297063827515,
          5.6431297063827515,
          5.6431297063827515,
          5.347175717353821,
          5.2676472663879395,
          5.2676472663879395,
          5.2676472663879395,
          4.73147714138031,
          4.73147714138031,
          4.73147714138031,
          4.73147714138031,
          4.73147714138031,
          4.73147714138031,
          4.73147714138031,
          4.73147714138031,
          4.73147714138031,
          4.73147714138031,
          4.73147714138031,
          4.73147714138031,
          4.73147714138031,
          4.73147714138031,
          4.73147714138031,
          4.73147714138031,
          4.73147714138031,
          4.73147714138031,
          4.73147714138031,
          4.73147714138031,
          4.73147714138031,
          4.73147714138031,
          4.73147714138031,
          4.73147714138031,
          4.73147714138031,
          4.491059422492981,
          4.491059422492981,
          4.491059422492981,
          4.489764213562012,
          4.489764213562012,
          4.489764213562012,
          4.489764213562012
         ]
        }
       ],
       "layout": {
        "template": {
         "data": {
          "bar": [
           {
            "error_x": {
             "color": "#2a3f5f"
            },
            "error_y": {
             "color": "#2a3f5f"
            },
            "marker": {
             "line": {
              "color": "#E5ECF6",
              "width": 0.5
             },
             "pattern": {
              "fillmode": "overlay",
              "size": 10,
              "solidity": 0.2
             }
            },
            "type": "bar"
           }
          ],
          "barpolar": [
           {
            "marker": {
             "line": {
              "color": "#E5ECF6",
              "width": 0.5
             },
             "pattern": {
              "fillmode": "overlay",
              "size": 10,
              "solidity": 0.2
             }
            },
            "type": "barpolar"
           }
          ],
          "carpet": [
           {
            "aaxis": {
             "endlinecolor": "#2a3f5f",
             "gridcolor": "white",
             "linecolor": "white",
             "minorgridcolor": "white",
             "startlinecolor": "#2a3f5f"
            },
            "baxis": {
             "endlinecolor": "#2a3f5f",
             "gridcolor": "white",
             "linecolor": "white",
             "minorgridcolor": "white",
             "startlinecolor": "#2a3f5f"
            },
            "type": "carpet"
           }
          ],
          "choropleth": [
           {
            "colorbar": {
             "outlinewidth": 0,
             "ticks": ""
            },
            "type": "choropleth"
           }
          ],
          "contour": [
           {
            "colorbar": {
             "outlinewidth": 0,
             "ticks": ""
            },
            "colorscale": [
             [
              0,
              "#0d0887"
             ],
             [
              0.1111111111111111,
              "#46039f"
             ],
             [
              0.2222222222222222,
              "#7201a8"
             ],
             [
              0.3333333333333333,
              "#9c179e"
             ],
             [
              0.4444444444444444,
              "#bd3786"
             ],
             [
              0.5555555555555556,
              "#d8576b"
             ],
             [
              0.6666666666666666,
              "#ed7953"
             ],
             [
              0.7777777777777778,
              "#fb9f3a"
             ],
             [
              0.8888888888888888,
              "#fdca26"
             ],
             [
              1,
              "#f0f921"
             ]
            ],
            "type": "contour"
           }
          ],
          "contourcarpet": [
           {
            "colorbar": {
             "outlinewidth": 0,
             "ticks": ""
            },
            "type": "contourcarpet"
           }
          ],
          "heatmap": [
           {
            "colorbar": {
             "outlinewidth": 0,
             "ticks": ""
            },
            "colorscale": [
             [
              0,
              "#0d0887"
             ],
             [
              0.1111111111111111,
              "#46039f"
             ],
             [
              0.2222222222222222,
              "#7201a8"
             ],
             [
              0.3333333333333333,
              "#9c179e"
             ],
             [
              0.4444444444444444,
              "#bd3786"
             ],
             [
              0.5555555555555556,
              "#d8576b"
             ],
             [
              0.6666666666666666,
              "#ed7953"
             ],
             [
              0.7777777777777778,
              "#fb9f3a"
             ],
             [
              0.8888888888888888,
              "#fdca26"
             ],
             [
              1,
              "#f0f921"
             ]
            ],
            "type": "heatmap"
           }
          ],
          "heatmapgl": [
           {
            "colorbar": {
             "outlinewidth": 0,
             "ticks": ""
            },
            "colorscale": [
             [
              0,
              "#0d0887"
             ],
             [
              0.1111111111111111,
              "#46039f"
             ],
             [
              0.2222222222222222,
              "#7201a8"
             ],
             [
              0.3333333333333333,
              "#9c179e"
             ],
             [
              0.4444444444444444,
              "#bd3786"
             ],
             [
              0.5555555555555556,
              "#d8576b"
             ],
             [
              0.6666666666666666,
              "#ed7953"
             ],
             [
              0.7777777777777778,
              "#fb9f3a"
             ],
             [
              0.8888888888888888,
              "#fdca26"
             ],
             [
              1,
              "#f0f921"
             ]
            ],
            "type": "heatmapgl"
           }
          ],
          "histogram": [
           {
            "marker": {
             "pattern": {
              "fillmode": "overlay",
              "size": 10,
              "solidity": 0.2
             }
            },
            "type": "histogram"
           }
          ],
          "histogram2d": [
           {
            "colorbar": {
             "outlinewidth": 0,
             "ticks": ""
            },
            "colorscale": [
             [
              0,
              "#0d0887"
             ],
             [
              0.1111111111111111,
              "#46039f"
             ],
             [
              0.2222222222222222,
              "#7201a8"
             ],
             [
              0.3333333333333333,
              "#9c179e"
             ],
             [
              0.4444444444444444,
              "#bd3786"
             ],
             [
              0.5555555555555556,
              "#d8576b"
             ],
             [
              0.6666666666666666,
              "#ed7953"
             ],
             [
              0.7777777777777778,
              "#fb9f3a"
             ],
             [
              0.8888888888888888,
              "#fdca26"
             ],
             [
              1,
              "#f0f921"
             ]
            ],
            "type": "histogram2d"
           }
          ],
          "histogram2dcontour": [
           {
            "colorbar": {
             "outlinewidth": 0,
             "ticks": ""
            },
            "colorscale": [
             [
              0,
              "#0d0887"
             ],
             [
              0.1111111111111111,
              "#46039f"
             ],
             [
              0.2222222222222222,
              "#7201a8"
             ],
             [
              0.3333333333333333,
              "#9c179e"
             ],
             [
              0.4444444444444444,
              "#bd3786"
             ],
             [
              0.5555555555555556,
              "#d8576b"
             ],
             [
              0.6666666666666666,
              "#ed7953"
             ],
             [
              0.7777777777777778,
              "#fb9f3a"
             ],
             [
              0.8888888888888888,
              "#fdca26"
             ],
             [
              1,
              "#f0f921"
             ]
            ],
            "type": "histogram2dcontour"
           }
          ],
          "mesh3d": [
           {
            "colorbar": {
             "outlinewidth": 0,
             "ticks": ""
            },
            "type": "mesh3d"
           }
          ],
          "parcoords": [
           {
            "line": {
             "colorbar": {
              "outlinewidth": 0,
              "ticks": ""
             }
            },
            "type": "parcoords"
           }
          ],
          "pie": [
           {
            "automargin": true,
            "type": "pie"
           }
          ],
          "scatter": [
           {
            "fillpattern": {
             "fillmode": "overlay",
             "size": 10,
             "solidity": 0.2
            },
            "type": "scatter"
           }
          ],
          "scatter3d": [
           {
            "line": {
             "colorbar": {
              "outlinewidth": 0,
              "ticks": ""
             }
            },
            "marker": {
             "colorbar": {
              "outlinewidth": 0,
              "ticks": ""
             }
            },
            "type": "scatter3d"
           }
          ],
          "scattercarpet": [
           {
            "marker": {
             "colorbar": {
              "outlinewidth": 0,
              "ticks": ""
             }
            },
            "type": "scattercarpet"
           }
          ],
          "scattergeo": [
           {
            "marker": {
             "colorbar": {
              "outlinewidth": 0,
              "ticks": ""
             }
            },
            "type": "scattergeo"
           }
          ],
          "scattergl": [
           {
            "marker": {
             "colorbar": {
              "outlinewidth": 0,
              "ticks": ""
             }
            },
            "type": "scattergl"
           }
          ],
          "scattermapbox": [
           {
            "marker": {
             "colorbar": {
              "outlinewidth": 0,
              "ticks": ""
             }
            },
            "type": "scattermapbox"
           }
          ],
          "scatterpolar": [
           {
            "marker": {
             "colorbar": {
              "outlinewidth": 0,
              "ticks": ""
             }
            },
            "type": "scatterpolar"
           }
          ],
          "scatterpolargl": [
           {
            "marker": {
             "colorbar": {
              "outlinewidth": 0,
              "ticks": ""
             }
            },
            "type": "scatterpolargl"
           }
          ],
          "scatterternary": [
           {
            "marker": {
             "colorbar": {
              "outlinewidth": 0,
              "ticks": ""
             }
            },
            "type": "scatterternary"
           }
          ],
          "surface": [
           {
            "colorbar": {
             "outlinewidth": 0,
             "ticks": ""
            },
            "colorscale": [
             [
              0,
              "#0d0887"
             ],
             [
              0.1111111111111111,
              "#46039f"
             ],
             [
              0.2222222222222222,
              "#7201a8"
             ],
             [
              0.3333333333333333,
              "#9c179e"
             ],
             [
              0.4444444444444444,
              "#bd3786"
             ],
             [
              0.5555555555555556,
              "#d8576b"
             ],
             [
              0.6666666666666666,
              "#ed7953"
             ],
             [
              0.7777777777777778,
              "#fb9f3a"
             ],
             [
              0.8888888888888888,
              "#fdca26"
             ],
             [
              1,
              "#f0f921"
             ]
            ],
            "type": "surface"
           }
          ],
          "table": [
           {
            "cells": {
             "fill": {
              "color": "#EBF0F8"
             },
             "line": {
              "color": "white"
             }
            },
            "header": {
             "fill": {
              "color": "#C8D4E3"
             },
             "line": {
              "color": "white"
             }
            },
            "type": "table"
           }
          ]
         },
         "layout": {
          "annotationdefaults": {
           "arrowcolor": "#2a3f5f",
           "arrowhead": 0,
           "arrowwidth": 1
          },
          "autotypenumbers": "strict",
          "coloraxis": {
           "colorbar": {
            "outlinewidth": 0,
            "ticks": ""
           }
          },
          "colorscale": {
           "diverging": [
            [
             0,
             "#8e0152"
            ],
            [
             0.1,
             "#c51b7d"
            ],
            [
             0.2,
             "#de77ae"
            ],
            [
             0.3,
             "#f1b6da"
            ],
            [
             0.4,
             "#fde0ef"
            ],
            [
             0.5,
             "#f7f7f7"
            ],
            [
             0.6,
             "#e6f5d0"
            ],
            [
             0.7,
             "#b8e186"
            ],
            [
             0.8,
             "#7fbc41"
            ],
            [
             0.9,
             "#4d9221"
            ],
            [
             1,
             "#276419"
            ]
           ],
           "sequential": [
            [
             0,
             "#0d0887"
            ],
            [
             0.1111111111111111,
             "#46039f"
            ],
            [
             0.2222222222222222,
             "#7201a8"
            ],
            [
             0.3333333333333333,
             "#9c179e"
            ],
            [
             0.4444444444444444,
             "#bd3786"
            ],
            [
             0.5555555555555556,
             "#d8576b"
            ],
            [
             0.6666666666666666,
             "#ed7953"
            ],
            [
             0.7777777777777778,
             "#fb9f3a"
            ],
            [
             0.8888888888888888,
             "#fdca26"
            ],
            [
             1,
             "#f0f921"
            ]
           ],
           "sequentialminus": [
            [
             0,
             "#0d0887"
            ],
            [
             0.1111111111111111,
             "#46039f"
            ],
            [
             0.2222222222222222,
             "#7201a8"
            ],
            [
             0.3333333333333333,
             "#9c179e"
            ],
            [
             0.4444444444444444,
             "#bd3786"
            ],
            [
             0.5555555555555556,
             "#d8576b"
            ],
            [
             0.6666666666666666,
             "#ed7953"
            ],
            [
             0.7777777777777778,
             "#fb9f3a"
            ],
            [
             0.8888888888888888,
             "#fdca26"
            ],
            [
             1,
             "#f0f921"
            ]
           ]
          },
          "colorway": [
           "#636efa",
           "#EF553B",
           "#00cc96",
           "#ab63fa",
           "#FFA15A",
           "#19d3f3",
           "#FF6692",
           "#B6E880",
           "#FF97FF",
           "#FECB52"
          ],
          "font": {
           "color": "#2a3f5f"
          },
          "geo": {
           "bgcolor": "white",
           "lakecolor": "white",
           "landcolor": "#E5ECF6",
           "showlakes": true,
           "showland": true,
           "subunitcolor": "white"
          },
          "hoverlabel": {
           "align": "left"
          },
          "hovermode": "closest",
          "mapbox": {
           "style": "light"
          },
          "paper_bgcolor": "white",
          "plot_bgcolor": "#E5ECF6",
          "polar": {
           "angularaxis": {
            "gridcolor": "white",
            "linecolor": "white",
            "ticks": ""
           },
           "bgcolor": "#E5ECF6",
           "radialaxis": {
            "gridcolor": "white",
            "linecolor": "white",
            "ticks": ""
           }
          },
          "scene": {
           "xaxis": {
            "backgroundcolor": "#E5ECF6",
            "gridcolor": "white",
            "gridwidth": 2,
            "linecolor": "white",
            "showbackground": true,
            "ticks": "",
            "zerolinecolor": "white"
           },
           "yaxis": {
            "backgroundcolor": "#E5ECF6",
            "gridcolor": "white",
            "gridwidth": 2,
            "linecolor": "white",
            "showbackground": true,
            "ticks": "",
            "zerolinecolor": "white"
           },
           "zaxis": {
            "backgroundcolor": "#E5ECF6",
            "gridcolor": "white",
            "gridwidth": 2,
            "linecolor": "white",
            "showbackground": true,
            "ticks": "",
            "zerolinecolor": "white"
           }
          },
          "shapedefaults": {
           "line": {
            "color": "#2a3f5f"
           }
          },
          "ternary": {
           "aaxis": {
            "gridcolor": "white",
            "linecolor": "white",
            "ticks": ""
           },
           "baxis": {
            "gridcolor": "white",
            "linecolor": "white",
            "ticks": ""
           },
           "bgcolor": "#E5ECF6",
           "caxis": {
            "gridcolor": "white",
            "linecolor": "white",
            "ticks": ""
           }
          },
          "title": {
           "x": 0.05
          },
          "xaxis": {
           "automargin": true,
           "gridcolor": "white",
           "linecolor": "white",
           "ticks": "",
           "title": {
            "standoff": 15
           },
           "zerolinecolor": "white",
           "zerolinewidth": 2
          },
          "yaxis": {
           "automargin": true,
           "gridcolor": "white",
           "linecolor": "white",
           "ticks": "",
           "title": {
            "standoff": 15
           },
           "zerolinecolor": "white",
           "zerolinewidth": 2
          }
         }
        },
        "title": {
         "text": "Optimization History Plot"
        },
        "xaxis": {
         "title": {
          "text": "Trial"
         }
        },
        "yaxis": {
         "title": {
          "text": "Objective Value"
         }
        }
       }
      },
      "text/html": [
       "<div>                            <div id=\"a6844bed-27a2-496b-b3df-d4f7f1dd7695\" class=\"plotly-graph-div\" style=\"height:525px; width:100%;\"></div>            <script type=\"text/javascript\">                require([\"plotly\"], function(Plotly) {                    window.PLOTLYENV=window.PLOTLYENV || {};                                    if (document.getElementById(\"a6844bed-27a2-496b-b3df-d4f7f1dd7695\")) {                    Plotly.newPlot(                        \"a6844bed-27a2-496b-b3df-d4f7f1dd7695\",                        [{\"mode\":\"markers\",\"name\":\"Objective Value\",\"x\":[0,1,2,3,4,5,6,7,8,9,10,11,12,13,14,15,16,17,18,19,20,21,22,23,24,25,26,27,28,29,30,31,32,33,34,35,36,37,38,39],\"y\":[6.70158576965332,5.6431297063827515,6.237956166267395,6.558503985404968,5.347175717353821,5.2676472663879395,5.379319787025452,6.709915041923523,4.73147714138031,6.671962141990662,6.073598861694336,5.1331787109375,6.419498443603516,5.622963309288025,5.868112802505493,5.279937028884888,5.054805636405945,5.687716245651245,5.687211275100708,6.040644645690918,5.254245042800903,5.135836720466614,5.006722331047058,4.817288756370544,5.810107588768005,5.544692635536194,5.741892457008362,5.6031190156936646,5.3293410539627075,5.375229716300964,5.9793936014175415,5.222967147827148,5.122860431671143,4.491059422492981,5.12315309047699,5.281572103500366,4.489764213562012,6.161123752593994,5.523425817489624,6.202157139778137],\"type\":\"scatter\"},{\"name\":\"Best Value\",\"x\":[0,1,2,3,4,5,6,7,8,9,10,11,12,13,14,15,16,17,18,19,20,21,22,23,24,25,26,27,28,29,30,31,32,33,34,35,36,37,38,39],\"y\":[6.70158576965332,5.6431297063827515,5.6431297063827515,5.6431297063827515,5.347175717353821,5.2676472663879395,5.2676472663879395,5.2676472663879395,4.73147714138031,4.73147714138031,4.73147714138031,4.73147714138031,4.73147714138031,4.73147714138031,4.73147714138031,4.73147714138031,4.73147714138031,4.73147714138031,4.73147714138031,4.73147714138031,4.73147714138031,4.73147714138031,4.73147714138031,4.73147714138031,4.73147714138031,4.73147714138031,4.73147714138031,4.73147714138031,4.73147714138031,4.73147714138031,4.73147714138031,4.73147714138031,4.73147714138031,4.491059422492981,4.491059422492981,4.491059422492981,4.489764213562012,4.489764213562012,4.489764213562012,4.489764213562012],\"type\":\"scatter\"}],                        {\"title\":{\"text\":\"Optimization History Plot\"},\"xaxis\":{\"title\":{\"text\":\"Trial\"}},\"yaxis\":{\"title\":{\"text\":\"Objective Value\"}},\"template\":{\"data\":{\"histogram2dcontour\":[{\"type\":\"histogram2dcontour\",\"colorbar\":{\"outlinewidth\":0,\"ticks\":\"\"},\"colorscale\":[[0.0,\"#0d0887\"],[0.1111111111111111,\"#46039f\"],[0.2222222222222222,\"#7201a8\"],[0.3333333333333333,\"#9c179e\"],[0.4444444444444444,\"#bd3786\"],[0.5555555555555556,\"#d8576b\"],[0.6666666666666666,\"#ed7953\"],[0.7777777777777778,\"#fb9f3a\"],[0.8888888888888888,\"#fdca26\"],[1.0,\"#f0f921\"]]}],\"choropleth\":[{\"type\":\"choropleth\",\"colorbar\":{\"outlinewidth\":0,\"ticks\":\"\"}}],\"histogram2d\":[{\"type\":\"histogram2d\",\"colorbar\":{\"outlinewidth\":0,\"ticks\":\"\"},\"colorscale\":[[0.0,\"#0d0887\"],[0.1111111111111111,\"#46039f\"],[0.2222222222222222,\"#7201a8\"],[0.3333333333333333,\"#9c179e\"],[0.4444444444444444,\"#bd3786\"],[0.5555555555555556,\"#d8576b\"],[0.6666666666666666,\"#ed7953\"],[0.7777777777777778,\"#fb9f3a\"],[0.8888888888888888,\"#fdca26\"],[1.0,\"#f0f921\"]]}],\"heatmap\":[{\"type\":\"heatmap\",\"colorbar\":{\"outlinewidth\":0,\"ticks\":\"\"},\"colorscale\":[[0.0,\"#0d0887\"],[0.1111111111111111,\"#46039f\"],[0.2222222222222222,\"#7201a8\"],[0.3333333333333333,\"#9c179e\"],[0.4444444444444444,\"#bd3786\"],[0.5555555555555556,\"#d8576b\"],[0.6666666666666666,\"#ed7953\"],[0.7777777777777778,\"#fb9f3a\"],[0.8888888888888888,\"#fdca26\"],[1.0,\"#f0f921\"]]}],\"heatmapgl\":[{\"type\":\"heatmapgl\",\"colorbar\":{\"outlinewidth\":0,\"ticks\":\"\"},\"colorscale\":[[0.0,\"#0d0887\"],[0.1111111111111111,\"#46039f\"],[0.2222222222222222,\"#7201a8\"],[0.3333333333333333,\"#9c179e\"],[0.4444444444444444,\"#bd3786\"],[0.5555555555555556,\"#d8576b\"],[0.6666666666666666,\"#ed7953\"],[0.7777777777777778,\"#fb9f3a\"],[0.8888888888888888,\"#fdca26\"],[1.0,\"#f0f921\"]]}],\"contourcarpet\":[{\"type\":\"contourcarpet\",\"colorbar\":{\"outlinewidth\":0,\"ticks\":\"\"}}],\"contour\":[{\"type\":\"contour\",\"colorbar\":{\"outlinewidth\":0,\"ticks\":\"\"},\"colorscale\":[[0.0,\"#0d0887\"],[0.1111111111111111,\"#46039f\"],[0.2222222222222222,\"#7201a8\"],[0.3333333333333333,\"#9c179e\"],[0.4444444444444444,\"#bd3786\"],[0.5555555555555556,\"#d8576b\"],[0.6666666666666666,\"#ed7953\"],[0.7777777777777778,\"#fb9f3a\"],[0.8888888888888888,\"#fdca26\"],[1.0,\"#f0f921\"]]}],\"surface\":[{\"type\":\"surface\",\"colorbar\":{\"outlinewidth\":0,\"ticks\":\"\"},\"colorscale\":[[0.0,\"#0d0887\"],[0.1111111111111111,\"#46039f\"],[0.2222222222222222,\"#7201a8\"],[0.3333333333333333,\"#9c179e\"],[0.4444444444444444,\"#bd3786\"],[0.5555555555555556,\"#d8576b\"],[0.6666666666666666,\"#ed7953\"],[0.7777777777777778,\"#fb9f3a\"],[0.8888888888888888,\"#fdca26\"],[1.0,\"#f0f921\"]]}],\"mesh3d\":[{\"type\":\"mesh3d\",\"colorbar\":{\"outlinewidth\":0,\"ticks\":\"\"}}],\"scatter\":[{\"fillpattern\":{\"fillmode\":\"overlay\",\"size\":10,\"solidity\":0.2},\"type\":\"scatter\"}],\"parcoords\":[{\"type\":\"parcoords\",\"line\":{\"colorbar\":{\"outlinewidth\":0,\"ticks\":\"\"}}}],\"scatterpolargl\":[{\"type\":\"scatterpolargl\",\"marker\":{\"colorbar\":{\"outlinewidth\":0,\"ticks\":\"\"}}}],\"bar\":[{\"error_x\":{\"color\":\"#2a3f5f\"},\"error_y\":{\"color\":\"#2a3f5f\"},\"marker\":{\"line\":{\"color\":\"#E5ECF6\",\"width\":0.5},\"pattern\":{\"fillmode\":\"overlay\",\"size\":10,\"solidity\":0.2}},\"type\":\"bar\"}],\"scattergeo\":[{\"type\":\"scattergeo\",\"marker\":{\"colorbar\":{\"outlinewidth\":0,\"ticks\":\"\"}}}],\"scatterpolar\":[{\"type\":\"scatterpolar\",\"marker\":{\"colorbar\":{\"outlinewidth\":0,\"ticks\":\"\"}}}],\"histogram\":[{\"marker\":{\"pattern\":{\"fillmode\":\"overlay\",\"size\":10,\"solidity\":0.2}},\"type\":\"histogram\"}],\"scattergl\":[{\"type\":\"scattergl\",\"marker\":{\"colorbar\":{\"outlinewidth\":0,\"ticks\":\"\"}}}],\"scatter3d\":[{\"type\":\"scatter3d\",\"line\":{\"colorbar\":{\"outlinewidth\":0,\"ticks\":\"\"}},\"marker\":{\"colorbar\":{\"outlinewidth\":0,\"ticks\":\"\"}}}],\"scattermapbox\":[{\"type\":\"scattermapbox\",\"marker\":{\"colorbar\":{\"outlinewidth\":0,\"ticks\":\"\"}}}],\"scatterternary\":[{\"type\":\"scatterternary\",\"marker\":{\"colorbar\":{\"outlinewidth\":0,\"ticks\":\"\"}}}],\"scattercarpet\":[{\"type\":\"scattercarpet\",\"marker\":{\"colorbar\":{\"outlinewidth\":0,\"ticks\":\"\"}}}],\"carpet\":[{\"aaxis\":{\"endlinecolor\":\"#2a3f5f\",\"gridcolor\":\"white\",\"linecolor\":\"white\",\"minorgridcolor\":\"white\",\"startlinecolor\":\"#2a3f5f\"},\"baxis\":{\"endlinecolor\":\"#2a3f5f\",\"gridcolor\":\"white\",\"linecolor\":\"white\",\"minorgridcolor\":\"white\",\"startlinecolor\":\"#2a3f5f\"},\"type\":\"carpet\"}],\"table\":[{\"cells\":{\"fill\":{\"color\":\"#EBF0F8\"},\"line\":{\"color\":\"white\"}},\"header\":{\"fill\":{\"color\":\"#C8D4E3\"},\"line\":{\"color\":\"white\"}},\"type\":\"table\"}],\"barpolar\":[{\"marker\":{\"line\":{\"color\":\"#E5ECF6\",\"width\":0.5},\"pattern\":{\"fillmode\":\"overlay\",\"size\":10,\"solidity\":0.2}},\"type\":\"barpolar\"}],\"pie\":[{\"automargin\":true,\"type\":\"pie\"}]},\"layout\":{\"autotypenumbers\":\"strict\",\"colorway\":[\"#636efa\",\"#EF553B\",\"#00cc96\",\"#ab63fa\",\"#FFA15A\",\"#19d3f3\",\"#FF6692\",\"#B6E880\",\"#FF97FF\",\"#FECB52\"],\"font\":{\"color\":\"#2a3f5f\"},\"hovermode\":\"closest\",\"hoverlabel\":{\"align\":\"left\"},\"paper_bgcolor\":\"white\",\"plot_bgcolor\":\"#E5ECF6\",\"polar\":{\"bgcolor\":\"#E5ECF6\",\"angularaxis\":{\"gridcolor\":\"white\",\"linecolor\":\"white\",\"ticks\":\"\"},\"radialaxis\":{\"gridcolor\":\"white\",\"linecolor\":\"white\",\"ticks\":\"\"}},\"ternary\":{\"bgcolor\":\"#E5ECF6\",\"aaxis\":{\"gridcolor\":\"white\",\"linecolor\":\"white\",\"ticks\":\"\"},\"baxis\":{\"gridcolor\":\"white\",\"linecolor\":\"white\",\"ticks\":\"\"},\"caxis\":{\"gridcolor\":\"white\",\"linecolor\":\"white\",\"ticks\":\"\"}},\"coloraxis\":{\"colorbar\":{\"outlinewidth\":0,\"ticks\":\"\"}},\"colorscale\":{\"sequential\":[[0.0,\"#0d0887\"],[0.1111111111111111,\"#46039f\"],[0.2222222222222222,\"#7201a8\"],[0.3333333333333333,\"#9c179e\"],[0.4444444444444444,\"#bd3786\"],[0.5555555555555556,\"#d8576b\"],[0.6666666666666666,\"#ed7953\"],[0.7777777777777778,\"#fb9f3a\"],[0.8888888888888888,\"#fdca26\"],[1.0,\"#f0f921\"]],\"sequentialminus\":[[0.0,\"#0d0887\"],[0.1111111111111111,\"#46039f\"],[0.2222222222222222,\"#7201a8\"],[0.3333333333333333,\"#9c179e\"],[0.4444444444444444,\"#bd3786\"],[0.5555555555555556,\"#d8576b\"],[0.6666666666666666,\"#ed7953\"],[0.7777777777777778,\"#fb9f3a\"],[0.8888888888888888,\"#fdca26\"],[1.0,\"#f0f921\"]],\"diverging\":[[0,\"#8e0152\"],[0.1,\"#c51b7d\"],[0.2,\"#de77ae\"],[0.3,\"#f1b6da\"],[0.4,\"#fde0ef\"],[0.5,\"#f7f7f7\"],[0.6,\"#e6f5d0\"],[0.7,\"#b8e186\"],[0.8,\"#7fbc41\"],[0.9,\"#4d9221\"],[1,\"#276419\"]]},\"xaxis\":{\"gridcolor\":\"white\",\"linecolor\":\"white\",\"ticks\":\"\",\"title\":{\"standoff\":15},\"zerolinecolor\":\"white\",\"automargin\":true,\"zerolinewidth\":2},\"yaxis\":{\"gridcolor\":\"white\",\"linecolor\":\"white\",\"ticks\":\"\",\"title\":{\"standoff\":15},\"zerolinecolor\":\"white\",\"automargin\":true,\"zerolinewidth\":2},\"scene\":{\"xaxis\":{\"backgroundcolor\":\"#E5ECF6\",\"gridcolor\":\"white\",\"linecolor\":\"white\",\"showbackground\":true,\"ticks\":\"\",\"zerolinecolor\":\"white\",\"gridwidth\":2},\"yaxis\":{\"backgroundcolor\":\"#E5ECF6\",\"gridcolor\":\"white\",\"linecolor\":\"white\",\"showbackground\":true,\"ticks\":\"\",\"zerolinecolor\":\"white\",\"gridwidth\":2},\"zaxis\":{\"backgroundcolor\":\"#E5ECF6\",\"gridcolor\":\"white\",\"linecolor\":\"white\",\"showbackground\":true,\"ticks\":\"\",\"zerolinecolor\":\"white\",\"gridwidth\":2}},\"shapedefaults\":{\"line\":{\"color\":\"#2a3f5f\"}},\"annotationdefaults\":{\"arrowcolor\":\"#2a3f5f\",\"arrowhead\":0,\"arrowwidth\":1},\"geo\":{\"bgcolor\":\"white\",\"landcolor\":\"#E5ECF6\",\"subunitcolor\":\"white\",\"showland\":true,\"showlakes\":true,\"lakecolor\":\"white\"},\"title\":{\"x\":0.05},\"mapbox\":{\"style\":\"light\"}}}},                        {\"responsive\": true}                    ).then(function(){\n",
       "                            \n",
       "var gd = document.getElementById('a6844bed-27a2-496b-b3df-d4f7f1dd7695');\n",
       "var x = new MutationObserver(function (mutations, observer) {{\n",
       "        var display = window.getComputedStyle(gd).display;\n",
       "        if (!display || display === 'none') {{\n",
       "            console.log([gd, 'removed!']);\n",
       "            Plotly.purge(gd);\n",
       "            observer.disconnect();\n",
       "        }}\n",
       "}});\n",
       "\n",
       "// Listen for the removal of the full notebook cells\n",
       "var notebookContainer = gd.closest('#notebook-container');\n",
       "if (notebookContainer) {{\n",
       "    x.observe(notebookContainer, {childList: true});\n",
       "}}\n",
       "\n",
       "// Listen for the clearing of the current output cell\n",
       "var outputEl = gd.closest('.output');\n",
       "if (outputEl) {{\n",
       "    x.observe(outputEl, {childList: true});\n",
       "}}\n",
       "\n",
       "                        })                };                });            </script>        </div>"
      ]
     },
     "metadata": {},
     "output_type": "display_data"
    }
   ],
   "source": [
    "optuna.visualization.plot_optimization_history(study)"
   ]
  },
  {
   "cell_type": "code",
   "execution_count": 5,
   "metadata": {},
   "outputs": [
    {
     "data": {
      "application/vnd.plotly.v1+json": {
       "config": {
        "plotlyServerURL": "https://plot.ly"
       },
       "data": [
        {
         "marker": {
          "color": [
           0,
           1,
           2,
           3,
           4,
           5,
           6,
           7,
           8,
           9,
           10,
           11,
           12,
           13,
           14,
           15,
           16,
           17,
           18,
           19,
           20,
           21,
           22,
           23,
           24,
           25,
           26,
           27,
           28,
           29,
           30,
           31,
           32,
           33,
           34,
           35,
           36,
           37,
           38,
           39
          ],
          "colorbar": {
           "title": {
            "text": "Trial"
           },
           "x": 1,
           "xpad": 40
          },
          "colorscale": [
           [
            0,
            "rgb(247,251,255)"
           ],
           [
            0.125,
            "rgb(222,235,247)"
           ],
           [
            0.25,
            "rgb(198,219,239)"
           ],
           [
            0.375,
            "rgb(158,202,225)"
           ],
           [
            0.5,
            "rgb(107,174,214)"
           ],
           [
            0.625,
            "rgb(66,146,198)"
           ],
           [
            0.75,
            "rgb(33,113,181)"
           ],
           [
            0.875,
            "rgb(8,81,156)"
           ],
           [
            1,
            "rgb(8,48,107)"
           ]
          ],
          "line": {
           "color": "Grey",
           "width": 0.5
          },
          "showscale": true
         },
         "mode": "markers",
         "showlegend": false,
         "type": "scatter",
         "x": [
          0.9807641983846155,
          0.5315513738418384,
          0.09210493994507518,
          0.3172854818203209,
          0.3427638337743084,
          0.7636828414433382,
          0.1530705151247731,
          0.7049588304513622,
          0.10590848505681383,
          0.3386708459143266,
          0.006453374219829056,
          0.6915678955813758,
          0.5612467675016576,
          0.18342407062640778,
          0.4383279164995574,
          0.007444368802853596,
          0.2218564919024168,
          0.22138415699507277,
          0.26977399590433315,
          0.11341195133175877,
          0.17481355164018578,
          0.42374013687524886,
          0.23868848620760508,
          0.2651559860899858,
          0.08672879393592861,
          0.27034162739266826,
          0.10361324474996286,
          0.24843423705481443,
          0.37446751047887933,
          0.2893849712656797,
          0.18769371671105886,
          0.2153367602005839,
          0.24550191580596542,
          0.05425634523719708,
          0.05679718211068674,
          0.12363256865275526,
          0.057609315190980136,
          0.03192718169308811,
          0.06143112214827044,
          0.13783395495591919
         ],
         "xaxis": "x",
         "y": [
          6.70158576965332,
          5.6431297063827515,
          6.237956166267395,
          6.558503985404968,
          5.347175717353821,
          5.2676472663879395,
          5.379319787025452,
          6.709915041923523,
          4.73147714138031,
          6.671962141990662,
          6.073598861694336,
          5.1331787109375,
          6.419498443603516,
          5.622963309288025,
          5.868112802505493,
          5.279937028884888,
          5.054805636405945,
          5.687716245651245,
          5.687211275100708,
          6.040644645690918,
          5.254245042800903,
          5.135836720466614,
          5.006722331047058,
          4.817288756370544,
          5.810107588768005,
          5.544692635536194,
          5.741892457008362,
          5.6031190156936646,
          5.3293410539627075,
          5.375229716300964,
          5.9793936014175415,
          5.222967147827148,
          5.122860431671143,
          4.491059422492981,
          5.12315309047699,
          5.281572103500366,
          4.489764213562012,
          6.161123752593994,
          5.523425817489624,
          6.202157139778137
         ],
         "yaxis": "y"
        },
        {
         "marker": {
          "color": [
           0,
           1,
           2,
           3,
           4,
           5,
           6,
           7,
           8,
           9,
           10,
           11,
           12,
           13,
           14,
           15,
           16,
           17,
           18,
           19,
           20,
           21,
           22,
           23,
           24,
           25,
           26,
           27,
           28,
           29,
           30,
           31,
           32,
           33,
           34,
           35,
           36,
           37,
           38,
           39
          ],
          "colorbar": {
           "title": {
            "text": "Trial"
           },
           "x": 1,
           "xpad": 40
          },
          "colorscale": [
           [
            0,
            "rgb(247,251,255)"
           ],
           [
            0.125,
            "rgb(222,235,247)"
           ],
           [
            0.25,
            "rgb(198,219,239)"
           ],
           [
            0.375,
            "rgb(158,202,225)"
           ],
           [
            0.5,
            "rgb(107,174,214)"
           ],
           [
            0.625,
            "rgb(66,146,198)"
           ],
           [
            0.75,
            "rgb(33,113,181)"
           ],
           [
            0.875,
            "rgb(8,81,156)"
           ],
           [
            1,
            "rgb(8,48,107)"
           ]
          ],
          "line": {
           "color": "Grey",
           "width": 0.5
          },
          "showscale": false
         },
         "mode": "markers",
         "showlegend": false,
         "type": "scatter",
         "x": [
          0.3431780161508694,
          0.7244553248606352,
          0.425830290295828,
          0.48303426426270435,
          0.8754568417951749,
          0.09571251661238711,
          0.5543832497177721,
          0.5931769165622212,
          0.8465062252707221,
          0.002688064574320692,
          0.9862890564016847,
          0.2024297948163466,
          0.21348503760214754,
          0.2608293784156213,
          0.6938043698712738,
          0.35197445462794186,
          0.7789729398492332,
          0.8083733318394017,
          0.9844004597186841,
          0.6668311483688717,
          0.8373840844464309,
          0.6032229580347523,
          0.7622144351021285,
          0.7609620105993058,
          0.9092802656086807,
          0.725621585048738,
          0.7800605294733334,
          0.892601401341126,
          0.6754951775096916,
          0.775062009749215,
          0.931891806656984,
          0.8260099236792947,
          0.7739671646415048,
          0.7355221175002412,
          0.7163977018260395,
          0.8526030027799498,
          0.5084583368885826,
          0.4922318727059001,
          0.43101249400869845,
          0.6447923726099966
         ],
         "xaxis": "x2",
         "y": [
          6.70158576965332,
          5.6431297063827515,
          6.237956166267395,
          6.558503985404968,
          5.347175717353821,
          5.2676472663879395,
          5.379319787025452,
          6.709915041923523,
          4.73147714138031,
          6.671962141990662,
          6.073598861694336,
          5.1331787109375,
          6.419498443603516,
          5.622963309288025,
          5.868112802505493,
          5.279937028884888,
          5.054805636405945,
          5.687716245651245,
          5.687211275100708,
          6.040644645690918,
          5.254245042800903,
          5.135836720466614,
          5.006722331047058,
          4.817288756370544,
          5.810107588768005,
          5.544692635536194,
          5.741892457008362,
          5.6031190156936646,
          5.3293410539627075,
          5.375229716300964,
          5.9793936014175415,
          5.222967147827148,
          5.122860431671143,
          4.491059422492981,
          5.12315309047699,
          5.281572103500366,
          4.489764213562012,
          6.161123752593994,
          5.523425817489624,
          6.202157139778137
         ],
         "yaxis": "y2"
        },
        {
         "marker": {
          "color": [
           0,
           1,
           2,
           3,
           4,
           5,
           6,
           7,
           8,
           9,
           10,
           11,
           12,
           13,
           14,
           15,
           16,
           17,
           18,
           19,
           20,
           21,
           22,
           23,
           24,
           25,
           26,
           27,
           28,
           29,
           30,
           31,
           32,
           33,
           34,
           35,
           36,
           37,
           38,
           39
          ],
          "colorbar": {
           "title": {
            "text": "Trial"
           },
           "x": 1,
           "xpad": 40
          },
          "colorscale": [
           [
            0,
            "rgb(247,251,255)"
           ],
           [
            0.125,
            "rgb(222,235,247)"
           ],
           [
            0.25,
            "rgb(198,219,239)"
           ],
           [
            0.375,
            "rgb(158,202,225)"
           ],
           [
            0.5,
            "rgb(107,174,214)"
           ],
           [
            0.625,
            "rgb(66,146,198)"
           ],
           [
            0.75,
            "rgb(33,113,181)"
           ],
           [
            0.875,
            "rgb(8,81,156)"
           ],
           [
            1,
            "rgb(8,48,107)"
           ]
          ],
          "line": {
           "color": "Grey",
           "width": 0.5
          },
          "showscale": false
         },
         "mode": "markers",
         "showlegend": false,
         "type": "scatter",
         "x": [
          "mse",
          "cosine",
          "cosine",
          "mse",
          "cosine",
          "cosine",
          "cosine",
          "cosine",
          "cosine",
          "mse",
          "cosine",
          "cosine",
          "cosine",
          "cosine",
          "mse",
          "cosine",
          "cosine",
          "cosine",
          "mse",
          "cosine",
          "cosine",
          "cosine",
          "cosine",
          "cosine",
          "cosine",
          "cosine",
          "mse",
          "cosine",
          "cosine",
          "mse",
          "cosine",
          "cosine",
          "cosine",
          "cosine",
          "cosine",
          "cosine",
          "cosine",
          "cosine",
          "mse",
          "cosine"
         ],
         "xaxis": "x3",
         "y": [
          6.70158576965332,
          5.6431297063827515,
          6.237956166267395,
          6.558503985404968,
          5.347175717353821,
          5.2676472663879395,
          5.379319787025452,
          6.709915041923523,
          4.73147714138031,
          6.671962141990662,
          6.073598861694336,
          5.1331787109375,
          6.419498443603516,
          5.622963309288025,
          5.868112802505493,
          5.279937028884888,
          5.054805636405945,
          5.687716245651245,
          5.687211275100708,
          6.040644645690918,
          5.254245042800903,
          5.135836720466614,
          5.006722331047058,
          4.817288756370544,
          5.810107588768005,
          5.544692635536194,
          5.741892457008362,
          5.6031190156936646,
          5.3293410539627075,
          5.375229716300964,
          5.9793936014175415,
          5.222967147827148,
          5.122860431671143,
          4.491059422492981,
          5.12315309047699,
          5.281572103500366,
          4.489764213562012,
          6.161123752593994,
          5.523425817489624,
          6.202157139778137
         ],
         "yaxis": "y3"
        },
        {
         "marker": {
          "color": [
           0,
           1,
           2,
           3,
           4,
           5,
           6,
           7,
           8,
           9,
           10,
           11,
           12,
           13,
           14,
           15,
           16,
           17,
           18,
           19,
           20,
           21,
           22,
           23,
           24,
           25,
           26,
           27,
           28,
           29,
           30,
           31,
           32,
           33,
           34,
           35,
           36,
           37,
           38,
           39
          ],
          "colorbar": {
           "title": {
            "text": "Trial"
           },
           "x": 1,
           "xpad": 40
          },
          "colorscale": [
           [
            0,
            "rgb(247,251,255)"
           ],
           [
            0.125,
            "rgb(222,235,247)"
           ],
           [
            0.25,
            "rgb(198,219,239)"
           ],
           [
            0.375,
            "rgb(158,202,225)"
           ],
           [
            0.5,
            "rgb(107,174,214)"
           ],
           [
            0.625,
            "rgb(66,146,198)"
           ],
           [
            0.75,
            "rgb(33,113,181)"
           ],
           [
            0.875,
            "rgb(8,81,156)"
           ],
           [
            1,
            "rgb(8,48,107)"
           ]
          ],
          "line": {
           "color": "Grey",
           "width": 0.5
          },
          "showscale": false
         },
         "mode": "markers",
         "showlegend": false,
         "type": "scatter",
         "x": [
          0.7290497073840416,
          0.6110235106775829,
          0.3122612229724653,
          0.985559785610705,
          0.5104223374780111,
          0.8853268262751396,
          0.3889505741231446,
          0.6917017987001771,
          0.5532573447967134,
          0.98834541928282,
          0.059538477582928906,
          0.8131246250160202,
          0.8204992578560169,
          0.5958082297325359,
          0.7991875843254778,
          0.6347579559540759,
          0.46592580674532313,
          0.4350539447995739,
          0.291605539965925,
          0.5037391765412524,
          0.5472039465730955,
          0.7105533863060098,
          0.637682701511622,
          0.43943685297247376,
          0.566002083917452,
          0.6581308736993555,
          0.41272513387906373,
          0.6165594989817698,
          0.5343237750239103,
          0.7561005439218521,
          0.6927042260149573,
          0.457216083251209,
          0.5829666597408933,
          0.47984384842874284,
          0.35515647855204213,
          0.4957263056570437,
          0.6568912768937014,
          0.5233940687725878,
          0.5904958425595119,
          0.3654665086225903
         ],
         "xaxis": "x4",
         "y": [
          6.70158576965332,
          5.6431297063827515,
          6.237956166267395,
          6.558503985404968,
          5.347175717353821,
          5.2676472663879395,
          5.379319787025452,
          6.709915041923523,
          4.73147714138031,
          6.671962141990662,
          6.073598861694336,
          5.1331787109375,
          6.419498443603516,
          5.622963309288025,
          5.868112802505493,
          5.279937028884888,
          5.054805636405945,
          5.687716245651245,
          5.687211275100708,
          6.040644645690918,
          5.254245042800903,
          5.135836720466614,
          5.006722331047058,
          4.817288756370544,
          5.810107588768005,
          5.544692635536194,
          5.741892457008362,
          5.6031190156936646,
          5.3293410539627075,
          5.375229716300964,
          5.9793936014175415,
          5.222967147827148,
          5.122860431671143,
          4.491059422492981,
          5.12315309047699,
          5.281572103500366,
          4.489764213562012,
          6.161123752593994,
          5.523425817489624,
          6.202157139778137
         ],
         "yaxis": "y4"
        },
        {
         "marker": {
          "color": [
           0,
           1,
           2,
           3,
           4,
           5,
           6,
           7,
           8,
           9,
           10,
           11,
           12,
           13,
           14,
           15,
           16,
           17,
           18,
           19,
           20,
           21,
           22,
           23,
           24,
           25,
           26,
           27,
           28,
           29,
           30,
           31,
           32,
           33,
           34,
           35,
           36,
           37,
           38,
           39
          ],
          "colorbar": {
           "title": {
            "text": "Trial"
           },
           "x": 1,
           "xpad": 40
          },
          "colorscale": [
           [
            0,
            "rgb(247,251,255)"
           ],
           [
            0.125,
            "rgb(222,235,247)"
           ],
           [
            0.25,
            "rgb(198,219,239)"
           ],
           [
            0.375,
            "rgb(158,202,225)"
           ],
           [
            0.5,
            "rgb(107,174,214)"
           ],
           [
            0.625,
            "rgb(66,146,198)"
           ],
           [
            0.75,
            "rgb(33,113,181)"
           ],
           [
            0.875,
            "rgb(8,81,156)"
           ],
           [
            1,
            "rgb(8,48,107)"
           ]
          ],
          "line": {
           "color": "Grey",
           "width": 0.5
          },
          "showscale": false
         },
         "mode": "markers",
         "showlegend": false,
         "type": "scatter",
         "x": [
          "soft_kl",
          "soft_kl",
          "soft_ce",
          "soft_kl",
          "soft_kl",
          "soft_kl",
          "soft_kl",
          "soft_ce",
          "soft_ce",
          "soft_ce",
          "soft_ce",
          "soft_ce",
          "soft_ce",
          "soft_ce",
          "soft_ce",
          "soft_ce",
          "soft_ce",
          "soft_ce",
          "soft_ce",
          "soft_ce",
          "soft_ce",
          "soft_ce",
          "soft_ce",
          "soft_ce",
          "soft_ce",
          "soft_ce",
          "soft_ce",
          "soft_ce",
          "soft_ce",
          "soft_kl",
          "soft_ce",
          "soft_ce",
          "soft_ce",
          "soft_ce",
          "soft_kl",
          "soft_ce",
          "soft_kl",
          "soft_kl",
          "soft_kl",
          "soft_kl"
         ],
         "xaxis": "x5",
         "y": [
          6.70158576965332,
          5.6431297063827515,
          6.237956166267395,
          6.558503985404968,
          5.347175717353821,
          5.2676472663879395,
          5.379319787025452,
          6.709915041923523,
          4.73147714138031,
          6.671962141990662,
          6.073598861694336,
          5.1331787109375,
          6.419498443603516,
          5.622963309288025,
          5.868112802505493,
          5.279937028884888,
          5.054805636405945,
          5.687716245651245,
          5.687211275100708,
          6.040644645690918,
          5.254245042800903,
          5.135836720466614,
          5.006722331047058,
          4.817288756370544,
          5.810107588768005,
          5.544692635536194,
          5.741892457008362,
          5.6031190156936646,
          5.3293410539627075,
          5.375229716300964,
          5.9793936014175415,
          5.222967147827148,
          5.122860431671143,
          4.491059422492981,
          5.12315309047699,
          5.281572103500366,
          4.489764213562012,
          6.161123752593994,
          5.523425817489624,
          6.202157139778137
         ],
         "yaxis": "y5"
        },
        {
         "marker": {
          "color": [
           0,
           1,
           2,
           3,
           4,
           5,
           6,
           7,
           8,
           9,
           10,
           11,
           12,
           13,
           14,
           15,
           16,
           17,
           18,
           19,
           20,
           21,
           22,
           23,
           24,
           25,
           26,
           27,
           28,
           29,
           30,
           31,
           32,
           33,
           34,
           35,
           36,
           37,
           38,
           39
          ],
          "colorbar": {
           "title": {
            "text": "Trial"
           },
           "x": 1,
           "xpad": 40
          },
          "colorscale": [
           [
            0,
            "rgb(247,251,255)"
           ],
           [
            0.125,
            "rgb(222,235,247)"
           ],
           [
            0.25,
            "rgb(198,219,239)"
           ],
           [
            0.375,
            "rgb(158,202,225)"
           ],
           [
            0.5,
            "rgb(107,174,214)"
           ],
           [
            0.625,
            "rgb(66,146,198)"
           ],
           [
            0.75,
            "rgb(33,113,181)"
           ],
           [
            0.875,
            "rgb(8,81,156)"
           ],
           [
            1,
            "rgb(8,48,107)"
           ]
          ],
          "line": {
           "color": "Grey",
           "width": 0.5
          },
          "showscale": false
         },
         "mode": "markers",
         "showlegend": false,
         "type": "scatter",
         "x": [
          0.16539443072486737,
          0.2213986217196107,
          0.06847896926368668,
          0.15055100276530095,
          0.24790224015204995,
          0.20240671529634743,
          0.17832956383351276,
          0.013077439139712165,
          0.10303680421449747,
          0.10627940267750355,
          0.2781718757018398,
          0.20848463295153163,
          0.1225861629081023,
          0.21687600927522027,
          0.2802999807887998,
          0.11881999718272568,
          0.186284021831022,
          0.07995039473237048,
          0.17280397744228454,
          0.13911931190208382,
          0.18282884235902533,
          0.2341879304967094,
          0.20465319680909452,
          0.18864585693995392,
          0.14699988703072614,
          0.2542126271145819,
          0.29722308690059884,
          0.1980294109543528,
          0.15861680427997235,
          0.15678584664663353,
          0.1904590075027104,
          0.17377152378128455,
          0.22674230083262134,
          0.1947145444688293,
          0.20635729529091779,
          0.2235648564625609,
          0.19778876652716762,
          0.1694446144545421,
          0.191933856994474,
          0.14076060224039705
         ],
         "xaxis": "x6",
         "y": [
          6.70158576965332,
          5.6431297063827515,
          6.237956166267395,
          6.558503985404968,
          5.347175717353821,
          5.2676472663879395,
          5.379319787025452,
          6.709915041923523,
          4.73147714138031,
          6.671962141990662,
          6.073598861694336,
          5.1331787109375,
          6.419498443603516,
          5.622963309288025,
          5.868112802505493,
          5.279937028884888,
          5.054805636405945,
          5.687716245651245,
          5.687211275100708,
          6.040644645690918,
          5.254245042800903,
          5.135836720466614,
          5.006722331047058,
          4.817288756370544,
          5.810107588768005,
          5.544692635536194,
          5.741892457008362,
          5.6031190156936646,
          5.3293410539627075,
          5.375229716300964,
          5.9793936014175415,
          5.222967147827148,
          5.122860431671143,
          4.491059422492981,
          5.12315309047699,
          5.281572103500366,
          4.489764213562012,
          6.161123752593994,
          5.523425817489624,
          6.202157139778137
         ],
         "yaxis": "y6"
        },
        {
         "marker": {
          "color": [
           0,
           1,
           2,
           3,
           4,
           5,
           6,
           7,
           8,
           9,
           10,
           11,
           12,
           13,
           14,
           15,
           16,
           17,
           18,
           19,
           20,
           21,
           22,
           23,
           24,
           25,
           26,
           27,
           28,
           29,
           30,
           31,
           32,
           33,
           34,
           35,
           36,
           37,
           38,
           39
          ],
          "colorbar": {
           "title": {
            "text": "Trial"
           },
           "x": 1,
           "xpad": 40
          },
          "colorscale": [
           [
            0,
            "rgb(247,251,255)"
           ],
           [
            0.125,
            "rgb(222,235,247)"
           ],
           [
            0.25,
            "rgb(198,219,239)"
           ],
           [
            0.375,
            "rgb(158,202,225)"
           ],
           [
            0.5,
            "rgb(107,174,214)"
           ],
           [
            0.625,
            "rgb(66,146,198)"
           ],
           [
            0.75,
            "rgb(33,113,181)"
           ],
           [
            0.875,
            "rgb(8,81,156)"
           ],
           [
            1,
            "rgb(8,48,107)"
           ]
          ],
          "line": {
           "color": "Grey",
           "width": 0.5
          },
          "showscale": false
         },
         "mode": "markers",
         "showlegend": false,
         "type": "scatter",
         "x": [
          0.0035126990094295216,
          0.0022490039989301594,
          0.0036399725745940854,
          0.00218912140411776,
          0.0026454770843730656,
          0.003379637536515134,
          0.0031735199630512165,
          0.004633149199108532,
          8.405245165055931E-4,
          0.004286817188870073,
          5.797312977738425E-4,
          6.140845614959569E-4,
          1.0924537668237171E-4,
          0.0012107361546414728,
          0.0012321254387928195,
          0.0015704895627664565,
          6.772135305300531E-4,
          1.0917799013982583E-4,
          0.0013011152640511915,
          0.0018324547452279864,
          8.094675793424214E-4,
          7.500194439557768E-4,
          5.494568078354224E-4,
          0.0010003368699989476,
          0.0015269496652273121,
          0.0011214966182013857,
          3.58243717725991E-4,
          0.001033588434076397,
          3.4957880129664917E-4,
          8.656655910804129E-4,
          0.0016684116588210692,
          5.684308318924909E-4,
          9.025882867766653E-4,
          4.883386203070763E-4,
          3.522220222739297E-4,
          9.987334034263656E-4,
          0.0019199878665236295,
          0.0020064904671092828,
          0.001419317481445748,
          0.0024682500560819108
         ],
         "xaxis": "x7",
         "y": [
          6.70158576965332,
          5.6431297063827515,
          6.237956166267395,
          6.558503985404968,
          5.347175717353821,
          5.2676472663879395,
          5.379319787025452,
          6.709915041923523,
          4.73147714138031,
          6.671962141990662,
          6.073598861694336,
          5.1331787109375,
          6.419498443603516,
          5.622963309288025,
          5.868112802505493,
          5.279937028884888,
          5.054805636405945,
          5.687716245651245,
          5.687211275100708,
          6.040644645690918,
          5.254245042800903,
          5.135836720466614,
          5.006722331047058,
          4.817288756370544,
          5.810107588768005,
          5.544692635536194,
          5.741892457008362,
          5.6031190156936646,
          5.3293410539627075,
          5.375229716300964,
          5.9793936014175415,
          5.222967147827148,
          5.122860431671143,
          4.491059422492981,
          5.12315309047699,
          5.281572103500366,
          4.489764213562012,
          6.161123752593994,
          5.523425817489624,
          6.202157139778137
         ],
         "yaxis": "y7"
        },
        {
         "marker": {
          "color": [
           0,
           1,
           2,
           3,
           4,
           5,
           6,
           7,
           8,
           9,
           10,
           11,
           12,
           13,
           14,
           15,
           16,
           17,
           18,
           19,
           20,
           21,
           22,
           23,
           24,
           25,
           26,
           27,
           28,
           29,
           30,
           31,
           32,
           33,
           34,
           35,
           36,
           37,
           38,
           39
          ],
          "colorbar": {
           "title": {
            "text": "Trial"
           },
           "x": 1,
           "xpad": 40
          },
          "colorscale": [
           [
            0,
            "rgb(247,251,255)"
           ],
           [
            0.125,
            "rgb(222,235,247)"
           ],
           [
            0.25,
            "rgb(198,219,239)"
           ],
           [
            0.375,
            "rgb(158,202,225)"
           ],
           [
            0.5,
            "rgb(107,174,214)"
           ],
           [
            0.625,
            "rgb(66,146,198)"
           ],
           [
            0.75,
            "rgb(33,113,181)"
           ],
           [
            0.875,
            "rgb(8,81,156)"
           ],
           [
            1,
            "rgb(8,48,107)"
           ]
          ],
          "line": {
           "color": "Grey",
           "width": 0.5
          },
          "showscale": false
         },
         "mode": "markers",
         "showlegend": false,
         "type": "scatter",
         "x": [
          3.5752540145534155E-5,
          1.5371010694861154E-5,
          3.906630224678604E-5,
          9.040502468054214E-5,
          6.516050731866709E-5,
          6.273428973059917E-5,
          7.510747223709593E-5,
          8.575029972214447E-5,
          4.589886634535409E-5,
          4.46354030148185E-5,
          9.855793392666949E-5,
          5.732756798406747E-5,
          5.6339845374043104E-5,
          4.866498044452551E-5,
          2.972174138000774E-5,
          5.507026758023515E-5,
          7.115106932863715E-5,
          7.26528218393213E-5,
          7.212843115775282E-5,
          4.840304474421676E-5,
          8.016864791031522E-5,
          6.29157521237801E-5,
          5.6162521069331457E-5,
          6.806867358635735E-5,
          4.99176932412952E-5,
          6.413311536037573E-5,
          4.2732372125147276E-5,
          5.430718990704279E-5,
          3.257642227535999E-5,
          4.110702372714292E-5,
          3.6285299937596E-5,
          6.907769708710239E-5,
          7.835533509113391E-5,
          6.797401196071589E-5,
          6.0511625127347657E-5,
          6.692621380069895E-5,
          6.714993264835189E-5,
          6.682004279280194E-5,
          7.71488933215764E-5,
          8.192503953535707E-5
         ],
         "xaxis": "x8",
         "y": [
          6.70158576965332,
          5.6431297063827515,
          6.237956166267395,
          6.558503985404968,
          5.347175717353821,
          5.2676472663879395,
          5.379319787025452,
          6.709915041923523,
          4.73147714138031,
          6.671962141990662,
          6.073598861694336,
          5.1331787109375,
          6.419498443603516,
          5.622963309288025,
          5.868112802505493,
          5.279937028884888,
          5.054805636405945,
          5.687716245651245,
          5.687211275100708,
          6.040644645690918,
          5.254245042800903,
          5.135836720466614,
          5.006722331047058,
          4.817288756370544,
          5.810107588768005,
          5.544692635536194,
          5.741892457008362,
          5.6031190156936646,
          5.3293410539627075,
          5.375229716300964,
          5.9793936014175415,
          5.222967147827148,
          5.122860431671143,
          4.491059422492981,
          5.12315309047699,
          5.281572103500366,
          4.489764213562012,
          6.161123752593994,
          5.523425817489624,
          6.202157139778137
         ],
         "yaxis": "y8"
        },
        {
         "marker": {
          "color": [
           0,
           1,
           2,
           3,
           4,
           5,
           6,
           7,
           8,
           9,
           10,
           11,
           12,
           13,
           14,
           15,
           16,
           17,
           18,
           19,
           20,
           21,
           22,
           23,
           24,
           25,
           26,
           27,
           28,
           29,
           30,
           31,
           32,
           33,
           34,
           35,
           36,
           37,
           38,
           39
          ],
          "colorbar": {
           "title": {
            "text": "Trial"
           },
           "x": 1,
           "xpad": 40
          },
          "colorscale": [
           [
            0,
            "rgb(247,251,255)"
           ],
           [
            0.125,
            "rgb(222,235,247)"
           ],
           [
            0.25,
            "rgb(198,219,239)"
           ],
           [
            0.375,
            "rgb(158,202,225)"
           ],
           [
            0.5,
            "rgb(107,174,214)"
           ],
           [
            0.625,
            "rgb(66,146,198)"
           ],
           [
            0.75,
            "rgb(33,113,181)"
           ],
           [
            0.875,
            "rgb(8,81,156)"
           ],
           [
            1,
            "rgb(8,48,107)"
           ]
          ],
          "line": {
           "color": "Grey",
           "width": 0.5
          },
          "showscale": false
         },
         "mode": "markers",
         "showlegend": false,
         "type": "scatter",
         "x": [
          6.8798144119901465,
          5.365093112258974,
          4.39364160952733,
          4.206779498340954,
          3.1107958113691225,
          2.5122971079150527,
          6.985742334832018,
          9.954048972136773,
          1.3958600115743995,
          5.568463745411323,
          0.13799762791416992,
          1.4358220904664998,
          0.15542935110095546,
          1.5619727771421723,
          1.6278330129380694,
          1.6038473284700279,
          3.055845702634462,
          3.1513768454476176,
          3.2577634375875046,
          2.4626012279344938,
          0.888138215610074,
          0.8256781889844134,
          1.890887103263879,
          2.3957881970197956,
          2.229922899050717,
          0.9300819001267606,
          2.071801822710282,
          3.8918482147791114,
          2.3183219351707773,
          0.7126951433825046,
          1.3343376590622817,
          2.6801553554167716,
          3.596649173869038,
          2.850950961378998,
          1.81665453126715,
          2.652460270061501,
          2.0645999766765297,
          4.541584964019442,
          3.7475783177422124,
          3.026653956809733
         ],
         "xaxis": "x9",
         "y": [
          6.70158576965332,
          5.6431297063827515,
          6.237956166267395,
          6.558503985404968,
          5.347175717353821,
          5.2676472663879395,
          5.379319787025452,
          6.709915041923523,
          4.73147714138031,
          6.671962141990662,
          6.073598861694336,
          5.1331787109375,
          6.419498443603516,
          5.622963309288025,
          5.868112802505493,
          5.279937028884888,
          5.054805636405945,
          5.687716245651245,
          5.687211275100708,
          6.040644645690918,
          5.254245042800903,
          5.135836720466614,
          5.006722331047058,
          4.817288756370544,
          5.810107588768005,
          5.544692635536194,
          5.741892457008362,
          5.6031190156936646,
          5.3293410539627075,
          5.375229716300964,
          5.9793936014175415,
          5.222967147827148,
          5.122860431671143,
          4.491059422492981,
          5.12315309047699,
          5.281572103500366,
          4.489764213562012,
          6.161123752593994,
          5.523425817489624,
          6.202157139778137
         ],
         "yaxis": "y9"
        },
        {
         "marker": {
          "color": [
           0,
           1,
           2,
           3,
           4,
           5,
           6,
           7,
           8,
           9,
           10,
           11,
           12,
           13,
           14,
           15,
           16,
           17,
           18,
           19,
           20,
           21,
           22,
           23,
           24,
           25,
           26,
           27,
           28,
           29,
           30,
           31,
           32,
           33,
           34,
           35,
           36,
           37,
           38,
           39
          ],
          "colorbar": {
           "title": {
            "text": "Trial"
           },
           "x": 1,
           "xpad": 40
          },
          "colorscale": [
           [
            0,
            "rgb(247,251,255)"
           ],
           [
            0.125,
            "rgb(222,235,247)"
           ],
           [
            0.25,
            "rgb(198,219,239)"
           ],
           [
            0.375,
            "rgb(158,202,225)"
           ],
           [
            0.5,
            "rgb(107,174,214)"
           ],
           [
            0.625,
            "rgb(66,146,198)"
           ],
           [
            0.75,
            "rgb(33,113,181)"
           ],
           [
            0.875,
            "rgb(8,81,156)"
           ],
           [
            1,
            "rgb(8,48,107)"
           ]
          ],
          "line": {
           "color": "Grey",
           "width": 0.5
          },
          "showscale": false
         },
         "mode": "markers",
         "showlegend": false,
         "type": "scatter",
         "x": [
          0.07268514535642032,
          0.08980442553304314,
          0.08617886556223141,
          0.14441600182038794,
          0.062062866599032374,
          0.11249035020955998,
          0.05161292066950168,
          0.08573975666831762,
          0.07408558977236245,
          0.08167878971183798,
          0.10766747826022124,
          0.11109475769215427,
          0.11439884338434048,
          0.099788195649504,
          0.12403434729823111,
          0.06486723349784063,
          0.09779423023488541,
          0.09623833791668568,
          0.07662353896833547,
          0.09289600336132688,
          0.07174557072425544,
          0.10138152506133354,
          0.11763451083023434,
          0.12153503985277181,
          0.12324021355292682,
          0.13025065452729362,
          0.13606219688988233,
          0.12174455873667935,
          0.10444869154935307,
          0.11799705527008417,
          0.10455137450269891,
          0.11631934072791425,
          0.09429283035097928,
          0.10864486464858313,
          0.10942345399735481,
          0.13113340522757874,
          0.10841580277256405,
          0.08936795268376437,
          0.10461264184402264,
          0.10955219743050147
         ],
         "xaxis": "x10",
         "y": [
          6.70158576965332,
          5.6431297063827515,
          6.237956166267395,
          6.558503985404968,
          5.347175717353821,
          5.2676472663879395,
          5.379319787025452,
          6.709915041923523,
          4.73147714138031,
          6.671962141990662,
          6.073598861694336,
          5.1331787109375,
          6.419498443603516,
          5.622963309288025,
          5.868112802505493,
          5.279937028884888,
          5.054805636405945,
          5.687716245651245,
          5.687211275100708,
          6.040644645690918,
          5.254245042800903,
          5.135836720466614,
          5.006722331047058,
          4.817288756370544,
          5.810107588768005,
          5.544692635536194,
          5.741892457008362,
          5.6031190156936646,
          5.3293410539627075,
          5.375229716300964,
          5.9793936014175415,
          5.222967147827148,
          5.122860431671143,
          4.491059422492981,
          5.12315309047699,
          5.281572103500366,
          4.489764213562012,
          6.161123752593994,
          5.523425817489624,
          6.202157139778137
         ],
         "yaxis": "y10"
        }
       ],
       "layout": {
        "template": {
         "data": {
          "bar": [
           {
            "error_x": {
             "color": "#2a3f5f"
            },
            "error_y": {
             "color": "#2a3f5f"
            },
            "marker": {
             "line": {
              "color": "#E5ECF6",
              "width": 0.5
             },
             "pattern": {
              "fillmode": "overlay",
              "size": 10,
              "solidity": 0.2
             }
            },
            "type": "bar"
           }
          ],
          "barpolar": [
           {
            "marker": {
             "line": {
              "color": "#E5ECF6",
              "width": 0.5
             },
             "pattern": {
              "fillmode": "overlay",
              "size": 10,
              "solidity": 0.2
             }
            },
            "type": "barpolar"
           }
          ],
          "carpet": [
           {
            "aaxis": {
             "endlinecolor": "#2a3f5f",
             "gridcolor": "white",
             "linecolor": "white",
             "minorgridcolor": "white",
             "startlinecolor": "#2a3f5f"
            },
            "baxis": {
             "endlinecolor": "#2a3f5f",
             "gridcolor": "white",
             "linecolor": "white",
             "minorgridcolor": "white",
             "startlinecolor": "#2a3f5f"
            },
            "type": "carpet"
           }
          ],
          "choropleth": [
           {
            "colorbar": {
             "outlinewidth": 0,
             "ticks": ""
            },
            "type": "choropleth"
           }
          ],
          "contour": [
           {
            "colorbar": {
             "outlinewidth": 0,
             "ticks": ""
            },
            "colorscale": [
             [
              0,
              "#0d0887"
             ],
             [
              0.1111111111111111,
              "#46039f"
             ],
             [
              0.2222222222222222,
              "#7201a8"
             ],
             [
              0.3333333333333333,
              "#9c179e"
             ],
             [
              0.4444444444444444,
              "#bd3786"
             ],
             [
              0.5555555555555556,
              "#d8576b"
             ],
             [
              0.6666666666666666,
              "#ed7953"
             ],
             [
              0.7777777777777778,
              "#fb9f3a"
             ],
             [
              0.8888888888888888,
              "#fdca26"
             ],
             [
              1,
              "#f0f921"
             ]
            ],
            "type": "contour"
           }
          ],
          "contourcarpet": [
           {
            "colorbar": {
             "outlinewidth": 0,
             "ticks": ""
            },
            "type": "contourcarpet"
           }
          ],
          "heatmap": [
           {
            "colorbar": {
             "outlinewidth": 0,
             "ticks": ""
            },
            "colorscale": [
             [
              0,
              "#0d0887"
             ],
             [
              0.1111111111111111,
              "#46039f"
             ],
             [
              0.2222222222222222,
              "#7201a8"
             ],
             [
              0.3333333333333333,
              "#9c179e"
             ],
             [
              0.4444444444444444,
              "#bd3786"
             ],
             [
              0.5555555555555556,
              "#d8576b"
             ],
             [
              0.6666666666666666,
              "#ed7953"
             ],
             [
              0.7777777777777778,
              "#fb9f3a"
             ],
             [
              0.8888888888888888,
              "#fdca26"
             ],
             [
              1,
              "#f0f921"
             ]
            ],
            "type": "heatmap"
           }
          ],
          "heatmapgl": [
           {
            "colorbar": {
             "outlinewidth": 0,
             "ticks": ""
            },
            "colorscale": [
             [
              0,
              "#0d0887"
             ],
             [
              0.1111111111111111,
              "#46039f"
             ],
             [
              0.2222222222222222,
              "#7201a8"
             ],
             [
              0.3333333333333333,
              "#9c179e"
             ],
             [
              0.4444444444444444,
              "#bd3786"
             ],
             [
              0.5555555555555556,
              "#d8576b"
             ],
             [
              0.6666666666666666,
              "#ed7953"
             ],
             [
              0.7777777777777778,
              "#fb9f3a"
             ],
             [
              0.8888888888888888,
              "#fdca26"
             ],
             [
              1,
              "#f0f921"
             ]
            ],
            "type": "heatmapgl"
           }
          ],
          "histogram": [
           {
            "marker": {
             "pattern": {
              "fillmode": "overlay",
              "size": 10,
              "solidity": 0.2
             }
            },
            "type": "histogram"
           }
          ],
          "histogram2d": [
           {
            "colorbar": {
             "outlinewidth": 0,
             "ticks": ""
            },
            "colorscale": [
             [
              0,
              "#0d0887"
             ],
             [
              0.1111111111111111,
              "#46039f"
             ],
             [
              0.2222222222222222,
              "#7201a8"
             ],
             [
              0.3333333333333333,
              "#9c179e"
             ],
             [
              0.4444444444444444,
              "#bd3786"
             ],
             [
              0.5555555555555556,
              "#d8576b"
             ],
             [
              0.6666666666666666,
              "#ed7953"
             ],
             [
              0.7777777777777778,
              "#fb9f3a"
             ],
             [
              0.8888888888888888,
              "#fdca26"
             ],
             [
              1,
              "#f0f921"
             ]
            ],
            "type": "histogram2d"
           }
          ],
          "histogram2dcontour": [
           {
            "colorbar": {
             "outlinewidth": 0,
             "ticks": ""
            },
            "colorscale": [
             [
              0,
              "#0d0887"
             ],
             [
              0.1111111111111111,
              "#46039f"
             ],
             [
              0.2222222222222222,
              "#7201a8"
             ],
             [
              0.3333333333333333,
              "#9c179e"
             ],
             [
              0.4444444444444444,
              "#bd3786"
             ],
             [
              0.5555555555555556,
              "#d8576b"
             ],
             [
              0.6666666666666666,
              "#ed7953"
             ],
             [
              0.7777777777777778,
              "#fb9f3a"
             ],
             [
              0.8888888888888888,
              "#fdca26"
             ],
             [
              1,
              "#f0f921"
             ]
            ],
            "type": "histogram2dcontour"
           }
          ],
          "mesh3d": [
           {
            "colorbar": {
             "outlinewidth": 0,
             "ticks": ""
            },
            "type": "mesh3d"
           }
          ],
          "parcoords": [
           {
            "line": {
             "colorbar": {
              "outlinewidth": 0,
              "ticks": ""
             }
            },
            "type": "parcoords"
           }
          ],
          "pie": [
           {
            "automargin": true,
            "type": "pie"
           }
          ],
          "scatter": [
           {
            "fillpattern": {
             "fillmode": "overlay",
             "size": 10,
             "solidity": 0.2
            },
            "type": "scatter"
           }
          ],
          "scatter3d": [
           {
            "line": {
             "colorbar": {
              "outlinewidth": 0,
              "ticks": ""
             }
            },
            "marker": {
             "colorbar": {
              "outlinewidth": 0,
              "ticks": ""
             }
            },
            "type": "scatter3d"
           }
          ],
          "scattercarpet": [
           {
            "marker": {
             "colorbar": {
              "outlinewidth": 0,
              "ticks": ""
             }
            },
            "type": "scattercarpet"
           }
          ],
          "scattergeo": [
           {
            "marker": {
             "colorbar": {
              "outlinewidth": 0,
              "ticks": ""
             }
            },
            "type": "scattergeo"
           }
          ],
          "scattergl": [
           {
            "marker": {
             "colorbar": {
              "outlinewidth": 0,
              "ticks": ""
             }
            },
            "type": "scattergl"
           }
          ],
          "scattermapbox": [
           {
            "marker": {
             "colorbar": {
              "outlinewidth": 0,
              "ticks": ""
             }
            },
            "type": "scattermapbox"
           }
          ],
          "scatterpolar": [
           {
            "marker": {
             "colorbar": {
              "outlinewidth": 0,
              "ticks": ""
             }
            },
            "type": "scatterpolar"
           }
          ],
          "scatterpolargl": [
           {
            "marker": {
             "colorbar": {
              "outlinewidth": 0,
              "ticks": ""
             }
            },
            "type": "scatterpolargl"
           }
          ],
          "scatterternary": [
           {
            "marker": {
             "colorbar": {
              "outlinewidth": 0,
              "ticks": ""
             }
            },
            "type": "scatterternary"
           }
          ],
          "surface": [
           {
            "colorbar": {
             "outlinewidth": 0,
             "ticks": ""
            },
            "colorscale": [
             [
              0,
              "#0d0887"
             ],
             [
              0.1111111111111111,
              "#46039f"
             ],
             [
              0.2222222222222222,
              "#7201a8"
             ],
             [
              0.3333333333333333,
              "#9c179e"
             ],
             [
              0.4444444444444444,
              "#bd3786"
             ],
             [
              0.5555555555555556,
              "#d8576b"
             ],
             [
              0.6666666666666666,
              "#ed7953"
             ],
             [
              0.7777777777777778,
              "#fb9f3a"
             ],
             [
              0.8888888888888888,
              "#fdca26"
             ],
             [
              1,
              "#f0f921"
             ]
            ],
            "type": "surface"
           }
          ],
          "table": [
           {
            "cells": {
             "fill": {
              "color": "#EBF0F8"
             },
             "line": {
              "color": "white"
             }
            },
            "header": {
             "fill": {
              "color": "#C8D4E3"
             },
             "line": {
              "color": "white"
             }
            },
            "type": "table"
           }
          ]
         },
         "layout": {
          "annotationdefaults": {
           "arrowcolor": "#2a3f5f",
           "arrowhead": 0,
           "arrowwidth": 1
          },
          "autotypenumbers": "strict",
          "coloraxis": {
           "colorbar": {
            "outlinewidth": 0,
            "ticks": ""
           }
          },
          "colorscale": {
           "diverging": [
            [
             0,
             "#8e0152"
            ],
            [
             0.1,
             "#c51b7d"
            ],
            [
             0.2,
             "#de77ae"
            ],
            [
             0.3,
             "#f1b6da"
            ],
            [
             0.4,
             "#fde0ef"
            ],
            [
             0.5,
             "#f7f7f7"
            ],
            [
             0.6,
             "#e6f5d0"
            ],
            [
             0.7,
             "#b8e186"
            ],
            [
             0.8,
             "#7fbc41"
            ],
            [
             0.9,
             "#4d9221"
            ],
            [
             1,
             "#276419"
            ]
           ],
           "sequential": [
            [
             0,
             "#0d0887"
            ],
            [
             0.1111111111111111,
             "#46039f"
            ],
            [
             0.2222222222222222,
             "#7201a8"
            ],
            [
             0.3333333333333333,
             "#9c179e"
            ],
            [
             0.4444444444444444,
             "#bd3786"
            ],
            [
             0.5555555555555556,
             "#d8576b"
            ],
            [
             0.6666666666666666,
             "#ed7953"
            ],
            [
             0.7777777777777778,
             "#fb9f3a"
            ],
            [
             0.8888888888888888,
             "#fdca26"
            ],
            [
             1,
             "#f0f921"
            ]
           ],
           "sequentialminus": [
            [
             0,
             "#0d0887"
            ],
            [
             0.1111111111111111,
             "#46039f"
            ],
            [
             0.2222222222222222,
             "#7201a8"
            ],
            [
             0.3333333333333333,
             "#9c179e"
            ],
            [
             0.4444444444444444,
             "#bd3786"
            ],
            [
             0.5555555555555556,
             "#d8576b"
            ],
            [
             0.6666666666666666,
             "#ed7953"
            ],
            [
             0.7777777777777778,
             "#fb9f3a"
            ],
            [
             0.8888888888888888,
             "#fdca26"
            ],
            [
             1,
             "#f0f921"
            ]
           ]
          },
          "colorway": [
           "#636efa",
           "#EF553B",
           "#00cc96",
           "#ab63fa",
           "#FFA15A",
           "#19d3f3",
           "#FF6692",
           "#B6E880",
           "#FF97FF",
           "#FECB52"
          ],
          "font": {
           "color": "#2a3f5f"
          },
          "geo": {
           "bgcolor": "white",
           "lakecolor": "white",
           "landcolor": "#E5ECF6",
           "showlakes": true,
           "showland": true,
           "subunitcolor": "white"
          },
          "hoverlabel": {
           "align": "left"
          },
          "hovermode": "closest",
          "mapbox": {
           "style": "light"
          },
          "paper_bgcolor": "white",
          "plot_bgcolor": "#E5ECF6",
          "polar": {
           "angularaxis": {
            "gridcolor": "white",
            "linecolor": "white",
            "ticks": ""
           },
           "bgcolor": "#E5ECF6",
           "radialaxis": {
            "gridcolor": "white",
            "linecolor": "white",
            "ticks": ""
           }
          },
          "scene": {
           "xaxis": {
            "backgroundcolor": "#E5ECF6",
            "gridcolor": "white",
            "gridwidth": 2,
            "linecolor": "white",
            "showbackground": true,
            "ticks": "",
            "zerolinecolor": "white"
           },
           "yaxis": {
            "backgroundcolor": "#E5ECF6",
            "gridcolor": "white",
            "gridwidth": 2,
            "linecolor": "white",
            "showbackground": true,
            "ticks": "",
            "zerolinecolor": "white"
           },
           "zaxis": {
            "backgroundcolor": "#E5ECF6",
            "gridcolor": "white",
            "gridwidth": 2,
            "linecolor": "white",
            "showbackground": true,
            "ticks": "",
            "zerolinecolor": "white"
           }
          },
          "shapedefaults": {
           "line": {
            "color": "#2a3f5f"
           }
          },
          "ternary": {
           "aaxis": {
            "gridcolor": "white",
            "linecolor": "white",
            "ticks": ""
           },
           "baxis": {
            "gridcolor": "white",
            "linecolor": "white",
            "ticks": ""
           },
           "bgcolor": "#E5ECF6",
           "caxis": {
            "gridcolor": "white",
            "linecolor": "white",
            "ticks": ""
           }
          },
          "title": {
           "x": 0.05
          },
          "xaxis": {
           "automargin": true,
           "gridcolor": "white",
           "linecolor": "white",
           "ticks": "",
           "title": {
            "standoff": 15
           },
           "zerolinecolor": "white",
           "zerolinewidth": 2
          },
          "yaxis": {
           "automargin": true,
           "gridcolor": "white",
           "linecolor": "white",
           "ticks": "",
           "title": {
            "standoff": 15
           },
           "zerolinecolor": "white",
           "zerolinewidth": 2
          }
         }
        },
        "title": {
         "text": "Slice Plot"
        },
        "width": 3000,
        "xaxis": {
         "anchor": "y",
         "domain": [
          0,
          0.082
         ],
         "title": {
          "text": "l_alpha"
         }
        },
        "xaxis10": {
         "anchor": "y10",
         "domain": [
          0.9179999999999999,
          0.9999999999999999
         ],
         "title": {
          "text": "weight_decay"
         }
        },
        "xaxis2": {
         "anchor": "y2",
         "domain": [
          0.10200000000000001,
          0.184
         ],
         "title": {
          "text": "l_beta"
         }
        },
        "xaxis3": {
         "anchor": "y3",
         "domain": [
          0.20400000000000001,
          0.28600000000000003
         ],
         "title": {
          "text": "l_crit"
         }
        },
        "xaxis4": {
         "anchor": "y4",
         "domain": [
          0.306,
          0.388
         ],
         "title": {
          "text": "l_gamma"
         }
        },
        "xaxis5": {
         "anchor": "y5",
         "domain": [
          0.40800000000000003,
          0.49000000000000005
         ],
         "title": {
          "text": "l_type"
         }
        },
        "xaxis6": {
         "anchor": "y6",
         "domain": [
          0.51,
          0.592
         ],
         "title": {
          "text": "label_smoothing"
         }
        },
        "xaxis7": {
         "anchor": "y7",
         "domain": [
          0.6120000000000001,
          0.6940000000000001
         ],
         "title": {
          "text": "lr"
         }
        },
        "xaxis8": {
         "anchor": "y8",
         "domain": [
          0.7140000000000001,
          0.796
         ],
         "title": {
          "text": "min_lr"
         }
        },
        "xaxis9": {
         "anchor": "y9",
         "domain": [
          0.8160000000000001,
          0.898
         ],
         "title": {
          "text": "tau"
         }
        },
        "yaxis": {
         "anchor": "x",
         "domain": [
          0,
          1
         ],
         "title": {
          "text": "Objective Value"
         }
        },
        "yaxis10": {
         "anchor": "x10",
         "domain": [
          0,
          1
         ],
         "matches": "y",
         "showticklabels": false
        },
        "yaxis2": {
         "anchor": "x2",
         "domain": [
          0,
          1
         ],
         "matches": "y",
         "showticklabels": false
        },
        "yaxis3": {
         "anchor": "x3",
         "domain": [
          0,
          1
         ],
         "matches": "y",
         "showticklabels": false
        },
        "yaxis4": {
         "anchor": "x4",
         "domain": [
          0,
          1
         ],
         "matches": "y",
         "showticklabels": false
        },
        "yaxis5": {
         "anchor": "x5",
         "domain": [
          0,
          1
         ],
         "matches": "y",
         "showticklabels": false
        },
        "yaxis6": {
         "anchor": "x6",
         "domain": [
          0,
          1
         ],
         "matches": "y",
         "showticklabels": false
        },
        "yaxis7": {
         "anchor": "x7",
         "domain": [
          0,
          1
         ],
         "matches": "y",
         "showticklabels": false
        },
        "yaxis8": {
         "anchor": "x8",
         "domain": [
          0,
          1
         ],
         "matches": "y",
         "showticklabels": false
        },
        "yaxis9": {
         "anchor": "x9",
         "domain": [
          0,
          1
         ],
         "matches": "y",
         "showticklabels": false
        }
       }
      },
      "text/html": [
       "<div>                            <div id=\"fdf1b958-b21e-407f-bd56-59741716ffff\" class=\"plotly-graph-div\" style=\"height:525px; width:3000px;\"></div>            <script type=\"text/javascript\">                require([\"plotly\"], function(Plotly) {                    window.PLOTLYENV=window.PLOTLYENV || {};                                    if (document.getElementById(\"fdf1b958-b21e-407f-bd56-59741716ffff\")) {                    Plotly.newPlot(                        \"fdf1b958-b21e-407f-bd56-59741716ffff\",                        [{\"marker\":{\"color\":[0,1,2,3,4,5,6,7,8,9,10,11,12,13,14,15,16,17,18,19,20,21,22,23,24,25,26,27,28,29,30,31,32,33,34,35,36,37,38,39],\"colorbar\":{\"title\":{\"text\":\"Trial\"},\"x\":1.0,\"xpad\":40},\"colorscale\":[[0.0,\"rgb(247,251,255)\"],[0.125,\"rgb(222,235,247)\"],[0.25,\"rgb(198,219,239)\"],[0.375,\"rgb(158,202,225)\"],[0.5,\"rgb(107,174,214)\"],[0.625,\"rgb(66,146,198)\"],[0.75,\"rgb(33,113,181)\"],[0.875,\"rgb(8,81,156)\"],[1.0,\"rgb(8,48,107)\"]],\"line\":{\"color\":\"Grey\",\"width\":0.5},\"showscale\":true},\"mode\":\"markers\",\"showlegend\":false,\"x\":[0.9807641983846155,0.5315513738418384,0.09210493994507518,0.3172854818203209,0.3427638337743084,0.7636828414433382,0.1530705151247731,0.7049588304513622,0.10590848505681383,0.3386708459143266,0.006453374219829056,0.6915678955813758,0.5612467675016576,0.18342407062640778,0.4383279164995574,0.007444368802853596,0.2218564919024168,0.22138415699507277,0.26977399590433315,0.11341195133175877,0.17481355164018578,0.42374013687524886,0.23868848620760508,0.2651559860899858,0.08672879393592861,0.27034162739266826,0.10361324474996286,0.24843423705481443,0.37446751047887933,0.2893849712656797,0.18769371671105886,0.2153367602005839,0.24550191580596542,0.05425634523719708,0.05679718211068674,0.12363256865275526,0.057609315190980136,0.03192718169308811,0.06143112214827044,0.13783395495591919],\"y\":[6.70158576965332,5.6431297063827515,6.237956166267395,6.558503985404968,5.347175717353821,5.2676472663879395,5.379319787025452,6.709915041923523,4.73147714138031,6.671962141990662,6.073598861694336,5.1331787109375,6.419498443603516,5.622963309288025,5.868112802505493,5.279937028884888,5.054805636405945,5.687716245651245,5.687211275100708,6.040644645690918,5.254245042800903,5.135836720466614,5.006722331047058,4.817288756370544,5.810107588768005,5.544692635536194,5.741892457008362,5.6031190156936646,5.3293410539627075,5.375229716300964,5.9793936014175415,5.222967147827148,5.122860431671143,4.491059422492981,5.12315309047699,5.281572103500366,4.489764213562012,6.161123752593994,5.523425817489624,6.202157139778137],\"type\":\"scatter\",\"xaxis\":\"x\",\"yaxis\":\"y\"},{\"marker\":{\"color\":[0,1,2,3,4,5,6,7,8,9,10,11,12,13,14,15,16,17,18,19,20,21,22,23,24,25,26,27,28,29,30,31,32,33,34,35,36,37,38,39],\"colorbar\":{\"title\":{\"text\":\"Trial\"},\"x\":1.0,\"xpad\":40},\"colorscale\":[[0.0,\"rgb(247,251,255)\"],[0.125,\"rgb(222,235,247)\"],[0.25,\"rgb(198,219,239)\"],[0.375,\"rgb(158,202,225)\"],[0.5,\"rgb(107,174,214)\"],[0.625,\"rgb(66,146,198)\"],[0.75,\"rgb(33,113,181)\"],[0.875,\"rgb(8,81,156)\"],[1.0,\"rgb(8,48,107)\"]],\"line\":{\"color\":\"Grey\",\"width\":0.5},\"showscale\":false},\"mode\":\"markers\",\"showlegend\":false,\"x\":[0.3431780161508694,0.7244553248606352,0.425830290295828,0.48303426426270435,0.8754568417951749,0.09571251661238711,0.5543832497177721,0.5931769165622212,0.8465062252707221,0.002688064574320692,0.9862890564016847,0.2024297948163466,0.21348503760214754,0.2608293784156213,0.6938043698712738,0.35197445462794186,0.7789729398492332,0.8083733318394017,0.9844004597186841,0.6668311483688717,0.8373840844464309,0.6032229580347523,0.7622144351021285,0.7609620105993058,0.9092802656086807,0.725621585048738,0.7800605294733334,0.892601401341126,0.6754951775096916,0.775062009749215,0.931891806656984,0.8260099236792947,0.7739671646415048,0.7355221175002412,0.7163977018260395,0.8526030027799498,0.5084583368885826,0.4922318727059001,0.43101249400869845,0.6447923726099966],\"y\":[6.70158576965332,5.6431297063827515,6.237956166267395,6.558503985404968,5.347175717353821,5.2676472663879395,5.379319787025452,6.709915041923523,4.73147714138031,6.671962141990662,6.073598861694336,5.1331787109375,6.419498443603516,5.622963309288025,5.868112802505493,5.279937028884888,5.054805636405945,5.687716245651245,5.687211275100708,6.040644645690918,5.254245042800903,5.135836720466614,5.006722331047058,4.817288756370544,5.810107588768005,5.544692635536194,5.741892457008362,5.6031190156936646,5.3293410539627075,5.375229716300964,5.9793936014175415,5.222967147827148,5.122860431671143,4.491059422492981,5.12315309047699,5.281572103500366,4.489764213562012,6.161123752593994,5.523425817489624,6.202157139778137],\"type\":\"scatter\",\"xaxis\":\"x2\",\"yaxis\":\"y2\"},{\"marker\":{\"color\":[0,1,2,3,4,5,6,7,8,9,10,11,12,13,14,15,16,17,18,19,20,21,22,23,24,25,26,27,28,29,30,31,32,33,34,35,36,37,38,39],\"colorbar\":{\"title\":{\"text\":\"Trial\"},\"x\":1.0,\"xpad\":40},\"colorscale\":[[0.0,\"rgb(247,251,255)\"],[0.125,\"rgb(222,235,247)\"],[0.25,\"rgb(198,219,239)\"],[0.375,\"rgb(158,202,225)\"],[0.5,\"rgb(107,174,214)\"],[0.625,\"rgb(66,146,198)\"],[0.75,\"rgb(33,113,181)\"],[0.875,\"rgb(8,81,156)\"],[1.0,\"rgb(8,48,107)\"]],\"line\":{\"color\":\"Grey\",\"width\":0.5},\"showscale\":false},\"mode\":\"markers\",\"showlegend\":false,\"x\":[\"mse\",\"cosine\",\"cosine\",\"mse\",\"cosine\",\"cosine\",\"cosine\",\"cosine\",\"cosine\",\"mse\",\"cosine\",\"cosine\",\"cosine\",\"cosine\",\"mse\",\"cosine\",\"cosine\",\"cosine\",\"mse\",\"cosine\",\"cosine\",\"cosine\",\"cosine\",\"cosine\",\"cosine\",\"cosine\",\"mse\",\"cosine\",\"cosine\",\"mse\",\"cosine\",\"cosine\",\"cosine\",\"cosine\",\"cosine\",\"cosine\",\"cosine\",\"cosine\",\"mse\",\"cosine\"],\"y\":[6.70158576965332,5.6431297063827515,6.237956166267395,6.558503985404968,5.347175717353821,5.2676472663879395,5.379319787025452,6.709915041923523,4.73147714138031,6.671962141990662,6.073598861694336,5.1331787109375,6.419498443603516,5.622963309288025,5.868112802505493,5.279937028884888,5.054805636405945,5.687716245651245,5.687211275100708,6.040644645690918,5.254245042800903,5.135836720466614,5.006722331047058,4.817288756370544,5.810107588768005,5.544692635536194,5.741892457008362,5.6031190156936646,5.3293410539627075,5.375229716300964,5.9793936014175415,5.222967147827148,5.122860431671143,4.491059422492981,5.12315309047699,5.281572103500366,4.489764213562012,6.161123752593994,5.523425817489624,6.202157139778137],\"type\":\"scatter\",\"xaxis\":\"x3\",\"yaxis\":\"y3\"},{\"marker\":{\"color\":[0,1,2,3,4,5,6,7,8,9,10,11,12,13,14,15,16,17,18,19,20,21,22,23,24,25,26,27,28,29,30,31,32,33,34,35,36,37,38,39],\"colorbar\":{\"title\":{\"text\":\"Trial\"},\"x\":1.0,\"xpad\":40},\"colorscale\":[[0.0,\"rgb(247,251,255)\"],[0.125,\"rgb(222,235,247)\"],[0.25,\"rgb(198,219,239)\"],[0.375,\"rgb(158,202,225)\"],[0.5,\"rgb(107,174,214)\"],[0.625,\"rgb(66,146,198)\"],[0.75,\"rgb(33,113,181)\"],[0.875,\"rgb(8,81,156)\"],[1.0,\"rgb(8,48,107)\"]],\"line\":{\"color\":\"Grey\",\"width\":0.5},\"showscale\":false},\"mode\":\"markers\",\"showlegend\":false,\"x\":[0.7290497073840416,0.6110235106775829,0.3122612229724653,0.985559785610705,0.5104223374780111,0.8853268262751396,0.3889505741231446,0.6917017987001771,0.5532573447967134,0.98834541928282,0.059538477582928906,0.8131246250160202,0.8204992578560169,0.5958082297325359,0.7991875843254778,0.6347579559540759,0.46592580674532313,0.4350539447995739,0.291605539965925,0.5037391765412524,0.5472039465730955,0.7105533863060098,0.637682701511622,0.43943685297247376,0.566002083917452,0.6581308736993555,0.41272513387906373,0.6165594989817698,0.5343237750239103,0.7561005439218521,0.6927042260149573,0.457216083251209,0.5829666597408933,0.47984384842874284,0.35515647855204213,0.4957263056570437,0.6568912768937014,0.5233940687725878,0.5904958425595119,0.3654665086225903],\"y\":[6.70158576965332,5.6431297063827515,6.237956166267395,6.558503985404968,5.347175717353821,5.2676472663879395,5.379319787025452,6.709915041923523,4.73147714138031,6.671962141990662,6.073598861694336,5.1331787109375,6.419498443603516,5.622963309288025,5.868112802505493,5.279937028884888,5.054805636405945,5.687716245651245,5.687211275100708,6.040644645690918,5.254245042800903,5.135836720466614,5.006722331047058,4.817288756370544,5.810107588768005,5.544692635536194,5.741892457008362,5.6031190156936646,5.3293410539627075,5.375229716300964,5.9793936014175415,5.222967147827148,5.122860431671143,4.491059422492981,5.12315309047699,5.281572103500366,4.489764213562012,6.161123752593994,5.523425817489624,6.202157139778137],\"type\":\"scatter\",\"xaxis\":\"x4\",\"yaxis\":\"y4\"},{\"marker\":{\"color\":[0,1,2,3,4,5,6,7,8,9,10,11,12,13,14,15,16,17,18,19,20,21,22,23,24,25,26,27,28,29,30,31,32,33,34,35,36,37,38,39],\"colorbar\":{\"title\":{\"text\":\"Trial\"},\"x\":1.0,\"xpad\":40},\"colorscale\":[[0.0,\"rgb(247,251,255)\"],[0.125,\"rgb(222,235,247)\"],[0.25,\"rgb(198,219,239)\"],[0.375,\"rgb(158,202,225)\"],[0.5,\"rgb(107,174,214)\"],[0.625,\"rgb(66,146,198)\"],[0.75,\"rgb(33,113,181)\"],[0.875,\"rgb(8,81,156)\"],[1.0,\"rgb(8,48,107)\"]],\"line\":{\"color\":\"Grey\",\"width\":0.5},\"showscale\":false},\"mode\":\"markers\",\"showlegend\":false,\"x\":[\"soft_kl\",\"soft_kl\",\"soft_ce\",\"soft_kl\",\"soft_kl\",\"soft_kl\",\"soft_kl\",\"soft_ce\",\"soft_ce\",\"soft_ce\",\"soft_ce\",\"soft_ce\",\"soft_ce\",\"soft_ce\",\"soft_ce\",\"soft_ce\",\"soft_ce\",\"soft_ce\",\"soft_ce\",\"soft_ce\",\"soft_ce\",\"soft_ce\",\"soft_ce\",\"soft_ce\",\"soft_ce\",\"soft_ce\",\"soft_ce\",\"soft_ce\",\"soft_ce\",\"soft_kl\",\"soft_ce\",\"soft_ce\",\"soft_ce\",\"soft_ce\",\"soft_kl\",\"soft_ce\",\"soft_kl\",\"soft_kl\",\"soft_kl\",\"soft_kl\"],\"y\":[6.70158576965332,5.6431297063827515,6.237956166267395,6.558503985404968,5.347175717353821,5.2676472663879395,5.379319787025452,6.709915041923523,4.73147714138031,6.671962141990662,6.073598861694336,5.1331787109375,6.419498443603516,5.622963309288025,5.868112802505493,5.279937028884888,5.054805636405945,5.687716245651245,5.687211275100708,6.040644645690918,5.254245042800903,5.135836720466614,5.006722331047058,4.817288756370544,5.810107588768005,5.544692635536194,5.741892457008362,5.6031190156936646,5.3293410539627075,5.375229716300964,5.9793936014175415,5.222967147827148,5.122860431671143,4.491059422492981,5.12315309047699,5.281572103500366,4.489764213562012,6.161123752593994,5.523425817489624,6.202157139778137],\"type\":\"scatter\",\"xaxis\":\"x5\",\"yaxis\":\"y5\"},{\"marker\":{\"color\":[0,1,2,3,4,5,6,7,8,9,10,11,12,13,14,15,16,17,18,19,20,21,22,23,24,25,26,27,28,29,30,31,32,33,34,35,36,37,38,39],\"colorbar\":{\"title\":{\"text\":\"Trial\"},\"x\":1.0,\"xpad\":40},\"colorscale\":[[0.0,\"rgb(247,251,255)\"],[0.125,\"rgb(222,235,247)\"],[0.25,\"rgb(198,219,239)\"],[0.375,\"rgb(158,202,225)\"],[0.5,\"rgb(107,174,214)\"],[0.625,\"rgb(66,146,198)\"],[0.75,\"rgb(33,113,181)\"],[0.875,\"rgb(8,81,156)\"],[1.0,\"rgb(8,48,107)\"]],\"line\":{\"color\":\"Grey\",\"width\":0.5},\"showscale\":false},\"mode\":\"markers\",\"showlegend\":false,\"x\":[0.16539443072486737,0.2213986217196107,0.06847896926368668,0.15055100276530095,0.24790224015204995,0.20240671529634743,0.17832956383351276,0.013077439139712165,0.10303680421449747,0.10627940267750355,0.2781718757018398,0.20848463295153163,0.1225861629081023,0.21687600927522027,0.2802999807887998,0.11881999718272568,0.186284021831022,0.07995039473237048,0.17280397744228454,0.13911931190208382,0.18282884235902533,0.2341879304967094,0.20465319680909452,0.18864585693995392,0.14699988703072614,0.2542126271145819,0.29722308690059884,0.1980294109543528,0.15861680427997235,0.15678584664663353,0.1904590075027104,0.17377152378128455,0.22674230083262134,0.1947145444688293,0.20635729529091779,0.2235648564625609,0.19778876652716762,0.1694446144545421,0.191933856994474,0.14076060224039705],\"y\":[6.70158576965332,5.6431297063827515,6.237956166267395,6.558503985404968,5.347175717353821,5.2676472663879395,5.379319787025452,6.709915041923523,4.73147714138031,6.671962141990662,6.073598861694336,5.1331787109375,6.419498443603516,5.622963309288025,5.868112802505493,5.279937028884888,5.054805636405945,5.687716245651245,5.687211275100708,6.040644645690918,5.254245042800903,5.135836720466614,5.006722331047058,4.817288756370544,5.810107588768005,5.544692635536194,5.741892457008362,5.6031190156936646,5.3293410539627075,5.375229716300964,5.9793936014175415,5.222967147827148,5.122860431671143,4.491059422492981,5.12315309047699,5.281572103500366,4.489764213562012,6.161123752593994,5.523425817489624,6.202157139778137],\"type\":\"scatter\",\"xaxis\":\"x6\",\"yaxis\":\"y6\"},{\"marker\":{\"color\":[0,1,2,3,4,5,6,7,8,9,10,11,12,13,14,15,16,17,18,19,20,21,22,23,24,25,26,27,28,29,30,31,32,33,34,35,36,37,38,39],\"colorbar\":{\"title\":{\"text\":\"Trial\"},\"x\":1.0,\"xpad\":40},\"colorscale\":[[0.0,\"rgb(247,251,255)\"],[0.125,\"rgb(222,235,247)\"],[0.25,\"rgb(198,219,239)\"],[0.375,\"rgb(158,202,225)\"],[0.5,\"rgb(107,174,214)\"],[0.625,\"rgb(66,146,198)\"],[0.75,\"rgb(33,113,181)\"],[0.875,\"rgb(8,81,156)\"],[1.0,\"rgb(8,48,107)\"]],\"line\":{\"color\":\"Grey\",\"width\":0.5},\"showscale\":false},\"mode\":\"markers\",\"showlegend\":false,\"x\":[0.0035126990094295216,0.0022490039989301594,0.0036399725745940854,0.00218912140411776,0.0026454770843730656,0.003379637536515134,0.0031735199630512165,0.004633149199108532,0.0008405245165055931,0.004286817188870073,0.0005797312977738425,0.0006140845614959569,0.00010924537668237171,0.0012107361546414728,0.0012321254387928195,0.0015704895627664565,0.0006772135305300531,0.00010917799013982583,0.0013011152640511915,0.0018324547452279864,0.0008094675793424214,0.0007500194439557768,0.0005494568078354224,0.0010003368699989476,0.0015269496652273121,0.0011214966182013857,0.000358243717725991,0.001033588434076397,0.00034957880129664917,0.0008656655910804129,0.0016684116588210692,0.0005684308318924909,0.0009025882867766653,0.0004883386203070763,0.0003522220222739297,0.0009987334034263656,0.0019199878665236295,0.0020064904671092828,0.001419317481445748,0.0024682500560819108],\"y\":[6.70158576965332,5.6431297063827515,6.237956166267395,6.558503985404968,5.347175717353821,5.2676472663879395,5.379319787025452,6.709915041923523,4.73147714138031,6.671962141990662,6.073598861694336,5.1331787109375,6.419498443603516,5.622963309288025,5.868112802505493,5.279937028884888,5.054805636405945,5.687716245651245,5.687211275100708,6.040644645690918,5.254245042800903,5.135836720466614,5.006722331047058,4.817288756370544,5.810107588768005,5.544692635536194,5.741892457008362,5.6031190156936646,5.3293410539627075,5.375229716300964,5.9793936014175415,5.222967147827148,5.122860431671143,4.491059422492981,5.12315309047699,5.281572103500366,4.489764213562012,6.161123752593994,5.523425817489624,6.202157139778137],\"type\":\"scatter\",\"xaxis\":\"x7\",\"yaxis\":\"y7\"},{\"marker\":{\"color\":[0,1,2,3,4,5,6,7,8,9,10,11,12,13,14,15,16,17,18,19,20,21,22,23,24,25,26,27,28,29,30,31,32,33,34,35,36,37,38,39],\"colorbar\":{\"title\":{\"text\":\"Trial\"},\"x\":1.0,\"xpad\":40},\"colorscale\":[[0.0,\"rgb(247,251,255)\"],[0.125,\"rgb(222,235,247)\"],[0.25,\"rgb(198,219,239)\"],[0.375,\"rgb(158,202,225)\"],[0.5,\"rgb(107,174,214)\"],[0.625,\"rgb(66,146,198)\"],[0.75,\"rgb(33,113,181)\"],[0.875,\"rgb(8,81,156)\"],[1.0,\"rgb(8,48,107)\"]],\"line\":{\"color\":\"Grey\",\"width\":0.5},\"showscale\":false},\"mode\":\"markers\",\"showlegend\":false,\"x\":[3.5752540145534155e-05,1.5371010694861154e-05,3.906630224678604e-05,9.040502468054214e-05,6.516050731866709e-05,6.273428973059917e-05,7.510747223709593e-05,8.575029972214447e-05,4.589886634535409e-05,4.46354030148185e-05,9.855793392666949e-05,5.732756798406747e-05,5.6339845374043104e-05,4.866498044452551e-05,2.972174138000774e-05,5.507026758023515e-05,7.115106932863715e-05,7.26528218393213e-05,7.212843115775282e-05,4.840304474421676e-05,8.016864791031522e-05,6.29157521237801e-05,5.6162521069331457e-05,6.806867358635735e-05,4.99176932412952e-05,6.413311536037573e-05,4.2732372125147276e-05,5.430718990704279e-05,3.257642227535999e-05,4.110702372714292e-05,3.6285299937596e-05,6.907769708710239e-05,7.835533509113391e-05,6.797401196071589e-05,6.0511625127347657e-05,6.692621380069895e-05,6.714993264835189e-05,6.682004279280194e-05,7.71488933215764e-05,8.192503953535707e-05],\"y\":[6.70158576965332,5.6431297063827515,6.237956166267395,6.558503985404968,5.347175717353821,5.2676472663879395,5.379319787025452,6.709915041923523,4.73147714138031,6.671962141990662,6.073598861694336,5.1331787109375,6.419498443603516,5.622963309288025,5.868112802505493,5.279937028884888,5.054805636405945,5.687716245651245,5.687211275100708,6.040644645690918,5.254245042800903,5.135836720466614,5.006722331047058,4.817288756370544,5.810107588768005,5.544692635536194,5.741892457008362,5.6031190156936646,5.3293410539627075,5.375229716300964,5.9793936014175415,5.222967147827148,5.122860431671143,4.491059422492981,5.12315309047699,5.281572103500366,4.489764213562012,6.161123752593994,5.523425817489624,6.202157139778137],\"type\":\"scatter\",\"xaxis\":\"x8\",\"yaxis\":\"y8\"},{\"marker\":{\"color\":[0,1,2,3,4,5,6,7,8,9,10,11,12,13,14,15,16,17,18,19,20,21,22,23,24,25,26,27,28,29,30,31,32,33,34,35,36,37,38,39],\"colorbar\":{\"title\":{\"text\":\"Trial\"},\"x\":1.0,\"xpad\":40},\"colorscale\":[[0.0,\"rgb(247,251,255)\"],[0.125,\"rgb(222,235,247)\"],[0.25,\"rgb(198,219,239)\"],[0.375,\"rgb(158,202,225)\"],[0.5,\"rgb(107,174,214)\"],[0.625,\"rgb(66,146,198)\"],[0.75,\"rgb(33,113,181)\"],[0.875,\"rgb(8,81,156)\"],[1.0,\"rgb(8,48,107)\"]],\"line\":{\"color\":\"Grey\",\"width\":0.5},\"showscale\":false},\"mode\":\"markers\",\"showlegend\":false,\"x\":[6.8798144119901465,5.365093112258974,4.39364160952733,4.206779498340954,3.1107958113691225,2.5122971079150527,6.985742334832018,9.954048972136773,1.3958600115743995,5.568463745411323,0.13799762791416992,1.4358220904664998,0.15542935110095546,1.5619727771421723,1.6278330129380694,1.6038473284700279,3.055845702634462,3.1513768454476176,3.2577634375875046,2.4626012279344938,0.888138215610074,0.8256781889844134,1.890887103263879,2.3957881970197956,2.229922899050717,0.9300819001267606,2.071801822710282,3.8918482147791114,2.3183219351707773,0.7126951433825046,1.3343376590622817,2.6801553554167716,3.596649173869038,2.850950961378998,1.81665453126715,2.652460270061501,2.0645999766765297,4.541584964019442,3.7475783177422124,3.026653956809733],\"y\":[6.70158576965332,5.6431297063827515,6.237956166267395,6.558503985404968,5.347175717353821,5.2676472663879395,5.379319787025452,6.709915041923523,4.73147714138031,6.671962141990662,6.073598861694336,5.1331787109375,6.419498443603516,5.622963309288025,5.868112802505493,5.279937028884888,5.054805636405945,5.687716245651245,5.687211275100708,6.040644645690918,5.254245042800903,5.135836720466614,5.006722331047058,4.817288756370544,5.810107588768005,5.544692635536194,5.741892457008362,5.6031190156936646,5.3293410539627075,5.375229716300964,5.9793936014175415,5.222967147827148,5.122860431671143,4.491059422492981,5.12315309047699,5.281572103500366,4.489764213562012,6.161123752593994,5.523425817489624,6.202157139778137],\"type\":\"scatter\",\"xaxis\":\"x9\",\"yaxis\":\"y9\"},{\"marker\":{\"color\":[0,1,2,3,4,5,6,7,8,9,10,11,12,13,14,15,16,17,18,19,20,21,22,23,24,25,26,27,28,29,30,31,32,33,34,35,36,37,38,39],\"colorbar\":{\"title\":{\"text\":\"Trial\"},\"x\":1.0,\"xpad\":40},\"colorscale\":[[0.0,\"rgb(247,251,255)\"],[0.125,\"rgb(222,235,247)\"],[0.25,\"rgb(198,219,239)\"],[0.375,\"rgb(158,202,225)\"],[0.5,\"rgb(107,174,214)\"],[0.625,\"rgb(66,146,198)\"],[0.75,\"rgb(33,113,181)\"],[0.875,\"rgb(8,81,156)\"],[1.0,\"rgb(8,48,107)\"]],\"line\":{\"color\":\"Grey\",\"width\":0.5},\"showscale\":false},\"mode\":\"markers\",\"showlegend\":false,\"x\":[0.07268514535642032,0.08980442553304314,0.08617886556223141,0.14441600182038794,0.062062866599032374,0.11249035020955998,0.05161292066950168,0.08573975666831762,0.07408558977236245,0.08167878971183798,0.10766747826022124,0.11109475769215427,0.11439884338434048,0.099788195649504,0.12403434729823111,0.06486723349784063,0.09779423023488541,0.09623833791668568,0.07662353896833547,0.09289600336132688,0.07174557072425544,0.10138152506133354,0.11763451083023434,0.12153503985277181,0.12324021355292682,0.13025065452729362,0.13606219688988233,0.12174455873667935,0.10444869154935307,0.11799705527008417,0.10455137450269891,0.11631934072791425,0.09429283035097928,0.10864486464858313,0.10942345399735481,0.13113340522757874,0.10841580277256405,0.08936795268376437,0.10461264184402264,0.10955219743050147],\"y\":[6.70158576965332,5.6431297063827515,6.237956166267395,6.558503985404968,5.347175717353821,5.2676472663879395,5.379319787025452,6.709915041923523,4.73147714138031,6.671962141990662,6.073598861694336,5.1331787109375,6.419498443603516,5.622963309288025,5.868112802505493,5.279937028884888,5.054805636405945,5.687716245651245,5.687211275100708,6.040644645690918,5.254245042800903,5.135836720466614,5.006722331047058,4.817288756370544,5.810107588768005,5.544692635536194,5.741892457008362,5.6031190156936646,5.3293410539627075,5.375229716300964,5.9793936014175415,5.222967147827148,5.122860431671143,4.491059422492981,5.12315309047699,5.281572103500366,4.489764213562012,6.161123752593994,5.523425817489624,6.202157139778137],\"type\":\"scatter\",\"xaxis\":\"x10\",\"yaxis\":\"y10\"}],                        {\"template\":{\"data\":{\"histogram2dcontour\":[{\"type\":\"histogram2dcontour\",\"colorbar\":{\"outlinewidth\":0,\"ticks\":\"\"},\"colorscale\":[[0.0,\"#0d0887\"],[0.1111111111111111,\"#46039f\"],[0.2222222222222222,\"#7201a8\"],[0.3333333333333333,\"#9c179e\"],[0.4444444444444444,\"#bd3786\"],[0.5555555555555556,\"#d8576b\"],[0.6666666666666666,\"#ed7953\"],[0.7777777777777778,\"#fb9f3a\"],[0.8888888888888888,\"#fdca26\"],[1.0,\"#f0f921\"]]}],\"choropleth\":[{\"type\":\"choropleth\",\"colorbar\":{\"outlinewidth\":0,\"ticks\":\"\"}}],\"histogram2d\":[{\"type\":\"histogram2d\",\"colorbar\":{\"outlinewidth\":0,\"ticks\":\"\"},\"colorscale\":[[0.0,\"#0d0887\"],[0.1111111111111111,\"#46039f\"],[0.2222222222222222,\"#7201a8\"],[0.3333333333333333,\"#9c179e\"],[0.4444444444444444,\"#bd3786\"],[0.5555555555555556,\"#d8576b\"],[0.6666666666666666,\"#ed7953\"],[0.7777777777777778,\"#fb9f3a\"],[0.8888888888888888,\"#fdca26\"],[1.0,\"#f0f921\"]]}],\"heatmap\":[{\"type\":\"heatmap\",\"colorbar\":{\"outlinewidth\":0,\"ticks\":\"\"},\"colorscale\":[[0.0,\"#0d0887\"],[0.1111111111111111,\"#46039f\"],[0.2222222222222222,\"#7201a8\"],[0.3333333333333333,\"#9c179e\"],[0.4444444444444444,\"#bd3786\"],[0.5555555555555556,\"#d8576b\"],[0.6666666666666666,\"#ed7953\"],[0.7777777777777778,\"#fb9f3a\"],[0.8888888888888888,\"#fdca26\"],[1.0,\"#f0f921\"]]}],\"heatmapgl\":[{\"type\":\"heatmapgl\",\"colorbar\":{\"outlinewidth\":0,\"ticks\":\"\"},\"colorscale\":[[0.0,\"#0d0887\"],[0.1111111111111111,\"#46039f\"],[0.2222222222222222,\"#7201a8\"],[0.3333333333333333,\"#9c179e\"],[0.4444444444444444,\"#bd3786\"],[0.5555555555555556,\"#d8576b\"],[0.6666666666666666,\"#ed7953\"],[0.7777777777777778,\"#fb9f3a\"],[0.8888888888888888,\"#fdca26\"],[1.0,\"#f0f921\"]]}],\"contourcarpet\":[{\"type\":\"contourcarpet\",\"colorbar\":{\"outlinewidth\":0,\"ticks\":\"\"}}],\"contour\":[{\"type\":\"contour\",\"colorbar\":{\"outlinewidth\":0,\"ticks\":\"\"},\"colorscale\":[[0.0,\"#0d0887\"],[0.1111111111111111,\"#46039f\"],[0.2222222222222222,\"#7201a8\"],[0.3333333333333333,\"#9c179e\"],[0.4444444444444444,\"#bd3786\"],[0.5555555555555556,\"#d8576b\"],[0.6666666666666666,\"#ed7953\"],[0.7777777777777778,\"#fb9f3a\"],[0.8888888888888888,\"#fdca26\"],[1.0,\"#f0f921\"]]}],\"surface\":[{\"type\":\"surface\",\"colorbar\":{\"outlinewidth\":0,\"ticks\":\"\"},\"colorscale\":[[0.0,\"#0d0887\"],[0.1111111111111111,\"#46039f\"],[0.2222222222222222,\"#7201a8\"],[0.3333333333333333,\"#9c179e\"],[0.4444444444444444,\"#bd3786\"],[0.5555555555555556,\"#d8576b\"],[0.6666666666666666,\"#ed7953\"],[0.7777777777777778,\"#fb9f3a\"],[0.8888888888888888,\"#fdca26\"],[1.0,\"#f0f921\"]]}],\"mesh3d\":[{\"type\":\"mesh3d\",\"colorbar\":{\"outlinewidth\":0,\"ticks\":\"\"}}],\"scatter\":[{\"fillpattern\":{\"fillmode\":\"overlay\",\"size\":10,\"solidity\":0.2},\"type\":\"scatter\"}],\"parcoords\":[{\"type\":\"parcoords\",\"line\":{\"colorbar\":{\"outlinewidth\":0,\"ticks\":\"\"}}}],\"scatterpolargl\":[{\"type\":\"scatterpolargl\",\"marker\":{\"colorbar\":{\"outlinewidth\":0,\"ticks\":\"\"}}}],\"bar\":[{\"error_x\":{\"color\":\"#2a3f5f\"},\"error_y\":{\"color\":\"#2a3f5f\"},\"marker\":{\"line\":{\"color\":\"#E5ECF6\",\"width\":0.5},\"pattern\":{\"fillmode\":\"overlay\",\"size\":10,\"solidity\":0.2}},\"type\":\"bar\"}],\"scattergeo\":[{\"type\":\"scattergeo\",\"marker\":{\"colorbar\":{\"outlinewidth\":0,\"ticks\":\"\"}}}],\"scatterpolar\":[{\"type\":\"scatterpolar\",\"marker\":{\"colorbar\":{\"outlinewidth\":0,\"ticks\":\"\"}}}],\"histogram\":[{\"marker\":{\"pattern\":{\"fillmode\":\"overlay\",\"size\":10,\"solidity\":0.2}},\"type\":\"histogram\"}],\"scattergl\":[{\"type\":\"scattergl\",\"marker\":{\"colorbar\":{\"outlinewidth\":0,\"ticks\":\"\"}}}],\"scatter3d\":[{\"type\":\"scatter3d\",\"line\":{\"colorbar\":{\"outlinewidth\":0,\"ticks\":\"\"}},\"marker\":{\"colorbar\":{\"outlinewidth\":0,\"ticks\":\"\"}}}],\"scattermapbox\":[{\"type\":\"scattermapbox\",\"marker\":{\"colorbar\":{\"outlinewidth\":0,\"ticks\":\"\"}}}],\"scatterternary\":[{\"type\":\"scatterternary\",\"marker\":{\"colorbar\":{\"outlinewidth\":0,\"ticks\":\"\"}}}],\"scattercarpet\":[{\"type\":\"scattercarpet\",\"marker\":{\"colorbar\":{\"outlinewidth\":0,\"ticks\":\"\"}}}],\"carpet\":[{\"aaxis\":{\"endlinecolor\":\"#2a3f5f\",\"gridcolor\":\"white\",\"linecolor\":\"white\",\"minorgridcolor\":\"white\",\"startlinecolor\":\"#2a3f5f\"},\"baxis\":{\"endlinecolor\":\"#2a3f5f\",\"gridcolor\":\"white\",\"linecolor\":\"white\",\"minorgridcolor\":\"white\",\"startlinecolor\":\"#2a3f5f\"},\"type\":\"carpet\"}],\"table\":[{\"cells\":{\"fill\":{\"color\":\"#EBF0F8\"},\"line\":{\"color\":\"white\"}},\"header\":{\"fill\":{\"color\":\"#C8D4E3\"},\"line\":{\"color\":\"white\"}},\"type\":\"table\"}],\"barpolar\":[{\"marker\":{\"line\":{\"color\":\"#E5ECF6\",\"width\":0.5},\"pattern\":{\"fillmode\":\"overlay\",\"size\":10,\"solidity\":0.2}},\"type\":\"barpolar\"}],\"pie\":[{\"automargin\":true,\"type\":\"pie\"}]},\"layout\":{\"autotypenumbers\":\"strict\",\"colorway\":[\"#636efa\",\"#EF553B\",\"#00cc96\",\"#ab63fa\",\"#FFA15A\",\"#19d3f3\",\"#FF6692\",\"#B6E880\",\"#FF97FF\",\"#FECB52\"],\"font\":{\"color\":\"#2a3f5f\"},\"hovermode\":\"closest\",\"hoverlabel\":{\"align\":\"left\"},\"paper_bgcolor\":\"white\",\"plot_bgcolor\":\"#E5ECF6\",\"polar\":{\"bgcolor\":\"#E5ECF6\",\"angularaxis\":{\"gridcolor\":\"white\",\"linecolor\":\"white\",\"ticks\":\"\"},\"radialaxis\":{\"gridcolor\":\"white\",\"linecolor\":\"white\",\"ticks\":\"\"}},\"ternary\":{\"bgcolor\":\"#E5ECF6\",\"aaxis\":{\"gridcolor\":\"white\",\"linecolor\":\"white\",\"ticks\":\"\"},\"baxis\":{\"gridcolor\":\"white\",\"linecolor\":\"white\",\"ticks\":\"\"},\"caxis\":{\"gridcolor\":\"white\",\"linecolor\":\"white\",\"ticks\":\"\"}},\"coloraxis\":{\"colorbar\":{\"outlinewidth\":0,\"ticks\":\"\"}},\"colorscale\":{\"sequential\":[[0.0,\"#0d0887\"],[0.1111111111111111,\"#46039f\"],[0.2222222222222222,\"#7201a8\"],[0.3333333333333333,\"#9c179e\"],[0.4444444444444444,\"#bd3786\"],[0.5555555555555556,\"#d8576b\"],[0.6666666666666666,\"#ed7953\"],[0.7777777777777778,\"#fb9f3a\"],[0.8888888888888888,\"#fdca26\"],[1.0,\"#f0f921\"]],\"sequentialminus\":[[0.0,\"#0d0887\"],[0.1111111111111111,\"#46039f\"],[0.2222222222222222,\"#7201a8\"],[0.3333333333333333,\"#9c179e\"],[0.4444444444444444,\"#bd3786\"],[0.5555555555555556,\"#d8576b\"],[0.6666666666666666,\"#ed7953\"],[0.7777777777777778,\"#fb9f3a\"],[0.8888888888888888,\"#fdca26\"],[1.0,\"#f0f921\"]],\"diverging\":[[0,\"#8e0152\"],[0.1,\"#c51b7d\"],[0.2,\"#de77ae\"],[0.3,\"#f1b6da\"],[0.4,\"#fde0ef\"],[0.5,\"#f7f7f7\"],[0.6,\"#e6f5d0\"],[0.7,\"#b8e186\"],[0.8,\"#7fbc41\"],[0.9,\"#4d9221\"],[1,\"#276419\"]]},\"xaxis\":{\"gridcolor\":\"white\",\"linecolor\":\"white\",\"ticks\":\"\",\"title\":{\"standoff\":15},\"zerolinecolor\":\"white\",\"automargin\":true,\"zerolinewidth\":2},\"yaxis\":{\"gridcolor\":\"white\",\"linecolor\":\"white\",\"ticks\":\"\",\"title\":{\"standoff\":15},\"zerolinecolor\":\"white\",\"automargin\":true,\"zerolinewidth\":2},\"scene\":{\"xaxis\":{\"backgroundcolor\":\"#E5ECF6\",\"gridcolor\":\"white\",\"linecolor\":\"white\",\"showbackground\":true,\"ticks\":\"\",\"zerolinecolor\":\"white\",\"gridwidth\":2},\"yaxis\":{\"backgroundcolor\":\"#E5ECF6\",\"gridcolor\":\"white\",\"linecolor\":\"white\",\"showbackground\":true,\"ticks\":\"\",\"zerolinecolor\":\"white\",\"gridwidth\":2},\"zaxis\":{\"backgroundcolor\":\"#E5ECF6\",\"gridcolor\":\"white\",\"linecolor\":\"white\",\"showbackground\":true,\"ticks\":\"\",\"zerolinecolor\":\"white\",\"gridwidth\":2}},\"shapedefaults\":{\"line\":{\"color\":\"#2a3f5f\"}},\"annotationdefaults\":{\"arrowcolor\":\"#2a3f5f\",\"arrowhead\":0,\"arrowwidth\":1},\"geo\":{\"bgcolor\":\"white\",\"landcolor\":\"#E5ECF6\",\"subunitcolor\":\"white\",\"showland\":true,\"showlakes\":true,\"lakecolor\":\"white\"},\"title\":{\"x\":0.05},\"mapbox\":{\"style\":\"light\"}}},\"xaxis\":{\"anchor\":\"y\",\"domain\":[0.0,0.082],\"title\":{\"text\":\"l_alpha\"}},\"yaxis\":{\"anchor\":\"x\",\"domain\":[0.0,1.0],\"title\":{\"text\":\"Objective Value\"}},\"xaxis2\":{\"anchor\":\"y2\",\"domain\":[0.10200000000000001,0.184],\"title\":{\"text\":\"l_beta\"}},\"yaxis2\":{\"anchor\":\"x2\",\"domain\":[0.0,1.0],\"matches\":\"y\",\"showticklabels\":false},\"xaxis3\":{\"anchor\":\"y3\",\"domain\":[0.20400000000000001,0.28600000000000003],\"title\":{\"text\":\"l_crit\"}},\"yaxis3\":{\"anchor\":\"x3\",\"domain\":[0.0,1.0],\"matches\":\"y\",\"showticklabels\":false},\"xaxis4\":{\"anchor\":\"y4\",\"domain\":[0.306,0.388],\"title\":{\"text\":\"l_gamma\"}},\"yaxis4\":{\"anchor\":\"x4\",\"domain\":[0.0,1.0],\"matches\":\"y\",\"showticklabels\":false},\"xaxis5\":{\"anchor\":\"y5\",\"domain\":[0.40800000000000003,0.49000000000000005],\"title\":{\"text\":\"l_type\"}},\"yaxis5\":{\"anchor\":\"x5\",\"domain\":[0.0,1.0],\"matches\":\"y\",\"showticklabels\":false},\"xaxis6\":{\"anchor\":\"y6\",\"domain\":[0.51,0.592],\"title\":{\"text\":\"label_smoothing\"}},\"yaxis6\":{\"anchor\":\"x6\",\"domain\":[0.0,1.0],\"matches\":\"y\",\"showticklabels\":false},\"xaxis7\":{\"anchor\":\"y7\",\"domain\":[0.6120000000000001,0.6940000000000001],\"title\":{\"text\":\"lr\"}},\"yaxis7\":{\"anchor\":\"x7\",\"domain\":[0.0,1.0],\"matches\":\"y\",\"showticklabels\":false},\"xaxis8\":{\"anchor\":\"y8\",\"domain\":[0.7140000000000001,0.796],\"title\":{\"text\":\"min_lr\"}},\"yaxis8\":{\"anchor\":\"x8\",\"domain\":[0.0,1.0],\"matches\":\"y\",\"showticklabels\":false},\"xaxis9\":{\"anchor\":\"y9\",\"domain\":[0.8160000000000001,0.898],\"title\":{\"text\":\"tau\"}},\"yaxis9\":{\"anchor\":\"x9\",\"domain\":[0.0,1.0],\"matches\":\"y\",\"showticklabels\":false},\"xaxis10\":{\"anchor\":\"y10\",\"domain\":[0.9179999999999999,0.9999999999999999],\"title\":{\"text\":\"weight_decay\"}},\"yaxis10\":{\"anchor\":\"x10\",\"domain\":[0.0,1.0],\"matches\":\"y\",\"showticklabels\":false},\"title\":{\"text\":\"Slice Plot\"},\"width\":3000},                        {\"responsive\": true}                    ).then(function(){\n",
       "                            \n",
       "var gd = document.getElementById('fdf1b958-b21e-407f-bd56-59741716ffff');\n",
       "var x = new MutationObserver(function (mutations, observer) {{\n",
       "        var display = window.getComputedStyle(gd).display;\n",
       "        if (!display || display === 'none') {{\n",
       "            console.log([gd, 'removed!']);\n",
       "            Plotly.purge(gd);\n",
       "            observer.disconnect();\n",
       "        }}\n",
       "}});\n",
       "\n",
       "// Listen for the removal of the full notebook cells\n",
       "var notebookContainer = gd.closest('#notebook-container');\n",
       "if (notebookContainer) {{\n",
       "    x.observe(notebookContainer, {childList: true});\n",
       "}}\n",
       "\n",
       "// Listen for the clearing of the current output cell\n",
       "var outputEl = gd.closest('.output');\n",
       "if (outputEl) {{\n",
       "    x.observe(outputEl, {childList: true});\n",
       "}}\n",
       "\n",
       "                        })                };                });            </script>        </div>"
      ]
     },
     "metadata": {},
     "output_type": "display_data"
    }
   ],
   "source": [
    "optuna.visualization.plot_slice(study)"
   ]
  },
  {
   "cell_type": "code",
   "execution_count": 6,
   "metadata": {},
   "outputs": [
    {
     "data": {
      "text/html": [
       "<div>\n",
       "<style scoped>\n",
       "    .dataframe tbody tr th:only-of-type {\n",
       "        vertical-align: middle;\n",
       "    }\n",
       "\n",
       "    .dataframe tbody tr th {\n",
       "        vertical-align: top;\n",
       "    }\n",
       "\n",
       "    .dataframe thead th {\n",
       "        text-align: right;\n",
       "    }\n",
       "</style>\n",
       "<table border=\"1\" class=\"dataframe\">\n",
       "  <thead>\n",
       "    <tr style=\"text-align: right;\">\n",
       "      <th></th>\n",
       "      <th>lr</th>\n",
       "      <th>min_lr</th>\n",
       "      <th>weight_decay</th>\n",
       "      <th>label_smoothing</th>\n",
       "      <th>l_type</th>\n",
       "      <th>l_alpha</th>\n",
       "      <th>tau</th>\n",
       "      <th>l_crit</th>\n",
       "      <th>l_beta</th>\n",
       "      <th>l_gamma</th>\n",
       "      <th>loss</th>\n",
       "    </tr>\n",
       "  </thead>\n",
       "  <tbody>\n",
       "    <tr>\n",
       "      <th>36</th>\n",
       "      <td>0.001920</td>\n",
       "      <td>0.000067</td>\n",
       "      <td>0.108416</td>\n",
       "      <td>0.197789</td>\n",
       "      <td>soft_kl</td>\n",
       "      <td>0.057609</td>\n",
       "      <td>2.064600</td>\n",
       "      <td>cosine</td>\n",
       "      <td>0.508458</td>\n",
       "      <td>0.656891</td>\n",
       "      <td>4.489764</td>\n",
       "    </tr>\n",
       "    <tr>\n",
       "      <th>33</th>\n",
       "      <td>0.000488</td>\n",
       "      <td>0.000068</td>\n",
       "      <td>0.108645</td>\n",
       "      <td>0.194715</td>\n",
       "      <td>soft_ce</td>\n",
       "      <td>0.054256</td>\n",
       "      <td>2.850951</td>\n",
       "      <td>cosine</td>\n",
       "      <td>0.735522</td>\n",
       "      <td>0.479844</td>\n",
       "      <td>4.491059</td>\n",
       "    </tr>\n",
       "    <tr>\n",
       "      <th>8</th>\n",
       "      <td>0.000841</td>\n",
       "      <td>0.000046</td>\n",
       "      <td>0.074086</td>\n",
       "      <td>0.103037</td>\n",
       "      <td>soft_ce</td>\n",
       "      <td>0.105908</td>\n",
       "      <td>1.395860</td>\n",
       "      <td>cosine</td>\n",
       "      <td>0.846506</td>\n",
       "      <td>0.553257</td>\n",
       "      <td>4.731477</td>\n",
       "    </tr>\n",
       "    <tr>\n",
       "      <th>23</th>\n",
       "      <td>0.001000</td>\n",
       "      <td>0.000068</td>\n",
       "      <td>0.121535</td>\n",
       "      <td>0.188646</td>\n",
       "      <td>soft_ce</td>\n",
       "      <td>0.265156</td>\n",
       "      <td>2.395788</td>\n",
       "      <td>cosine</td>\n",
       "      <td>0.760962</td>\n",
       "      <td>0.439437</td>\n",
       "      <td>4.817289</td>\n",
       "    </tr>\n",
       "    <tr>\n",
       "      <th>22</th>\n",
       "      <td>0.000549</td>\n",
       "      <td>0.000056</td>\n",
       "      <td>0.117635</td>\n",
       "      <td>0.204653</td>\n",
       "      <td>soft_ce</td>\n",
       "      <td>0.238688</td>\n",
       "      <td>1.890887</td>\n",
       "      <td>cosine</td>\n",
       "      <td>0.762214</td>\n",
       "      <td>0.637683</td>\n",
       "      <td>5.006722</td>\n",
       "    </tr>\n",
       "    <tr>\n",
       "      <th>16</th>\n",
       "      <td>0.000677</td>\n",
       "      <td>0.000071</td>\n",
       "      <td>0.097794</td>\n",
       "      <td>0.186284</td>\n",
       "      <td>soft_ce</td>\n",
       "      <td>0.221856</td>\n",
       "      <td>3.055846</td>\n",
       "      <td>cosine</td>\n",
       "      <td>0.778973</td>\n",
       "      <td>0.465926</td>\n",
       "      <td>5.054806</td>\n",
       "    </tr>\n",
       "    <tr>\n",
       "      <th>32</th>\n",
       "      <td>0.000903</td>\n",
       "      <td>0.000078</td>\n",
       "      <td>0.094293</td>\n",
       "      <td>0.226742</td>\n",
       "      <td>soft_ce</td>\n",
       "      <td>0.245502</td>\n",
       "      <td>3.596649</td>\n",
       "      <td>cosine</td>\n",
       "      <td>0.773967</td>\n",
       "      <td>0.582967</td>\n",
       "      <td>5.122860</td>\n",
       "    </tr>\n",
       "    <tr>\n",
       "      <th>34</th>\n",
       "      <td>0.000352</td>\n",
       "      <td>0.000061</td>\n",
       "      <td>0.109423</td>\n",
       "      <td>0.206357</td>\n",
       "      <td>soft_kl</td>\n",
       "      <td>0.056797</td>\n",
       "      <td>1.816655</td>\n",
       "      <td>cosine</td>\n",
       "      <td>0.716398</td>\n",
       "      <td>0.355156</td>\n",
       "      <td>5.123153</td>\n",
       "    </tr>\n",
       "    <tr>\n",
       "      <th>11</th>\n",
       "      <td>0.000614</td>\n",
       "      <td>0.000057</td>\n",
       "      <td>0.111095</td>\n",
       "      <td>0.208485</td>\n",
       "      <td>soft_ce</td>\n",
       "      <td>0.691568</td>\n",
       "      <td>1.435822</td>\n",
       "      <td>cosine</td>\n",
       "      <td>0.202430</td>\n",
       "      <td>0.813125</td>\n",
       "      <td>5.133179</td>\n",
       "    </tr>\n",
       "    <tr>\n",
       "      <th>21</th>\n",
       "      <td>0.000750</td>\n",
       "      <td>0.000063</td>\n",
       "      <td>0.101382</td>\n",
       "      <td>0.234188</td>\n",
       "      <td>soft_ce</td>\n",
       "      <td>0.423740</td>\n",
       "      <td>0.825678</td>\n",
       "      <td>cosine</td>\n",
       "      <td>0.603223</td>\n",
       "      <td>0.710553</td>\n",
       "      <td>5.135837</td>\n",
       "    </tr>\n",
       "    <tr>\n",
       "      <th>31</th>\n",
       "      <td>0.000568</td>\n",
       "      <td>0.000069</td>\n",
       "      <td>0.116319</td>\n",
       "      <td>0.173772</td>\n",
       "      <td>soft_ce</td>\n",
       "      <td>0.215337</td>\n",
       "      <td>2.680155</td>\n",
       "      <td>cosine</td>\n",
       "      <td>0.826010</td>\n",
       "      <td>0.457216</td>\n",
       "      <td>5.222967</td>\n",
       "    </tr>\n",
       "    <tr>\n",
       "      <th>20</th>\n",
       "      <td>0.000809</td>\n",
       "      <td>0.000080</td>\n",
       "      <td>0.071746</td>\n",
       "      <td>0.182829</td>\n",
       "      <td>soft_ce</td>\n",
       "      <td>0.174814</td>\n",
       "      <td>0.888138</td>\n",
       "      <td>cosine</td>\n",
       "      <td>0.837384</td>\n",
       "      <td>0.547204</td>\n",
       "      <td>5.254245</td>\n",
       "    </tr>\n",
       "    <tr>\n",
       "      <th>5</th>\n",
       "      <td>0.003380</td>\n",
       "      <td>0.000063</td>\n",
       "      <td>0.112490</td>\n",
       "      <td>0.202407</td>\n",
       "      <td>soft_kl</td>\n",
       "      <td>0.763683</td>\n",
       "      <td>2.512297</td>\n",
       "      <td>cosine</td>\n",
       "      <td>0.095713</td>\n",
       "      <td>0.885327</td>\n",
       "      <td>5.267647</td>\n",
       "    </tr>\n",
       "    <tr>\n",
       "      <th>15</th>\n",
       "      <td>0.001570</td>\n",
       "      <td>0.000055</td>\n",
       "      <td>0.064867</td>\n",
       "      <td>0.118820</td>\n",
       "      <td>soft_ce</td>\n",
       "      <td>0.007444</td>\n",
       "      <td>1.603847</td>\n",
       "      <td>cosine</td>\n",
       "      <td>0.351974</td>\n",
       "      <td>0.634758</td>\n",
       "      <td>5.279937</td>\n",
       "    </tr>\n",
       "    <tr>\n",
       "      <th>35</th>\n",
       "      <td>0.000999</td>\n",
       "      <td>0.000067</td>\n",
       "      <td>0.131133</td>\n",
       "      <td>0.223565</td>\n",
       "      <td>soft_ce</td>\n",
       "      <td>0.123633</td>\n",
       "      <td>2.652460</td>\n",
       "      <td>cosine</td>\n",
       "      <td>0.852603</td>\n",
       "      <td>0.495726</td>\n",
       "      <td>5.281572</td>\n",
       "    </tr>\n",
       "    <tr>\n",
       "      <th>28</th>\n",
       "      <td>0.000350</td>\n",
       "      <td>0.000033</td>\n",
       "      <td>0.104449</td>\n",
       "      <td>0.158617</td>\n",
       "      <td>soft_ce</td>\n",
       "      <td>0.374468</td>\n",
       "      <td>2.318322</td>\n",
       "      <td>cosine</td>\n",
       "      <td>0.675495</td>\n",
       "      <td>0.534324</td>\n",
       "      <td>5.329341</td>\n",
       "    </tr>\n",
       "    <tr>\n",
       "      <th>4</th>\n",
       "      <td>0.002645</td>\n",
       "      <td>0.000065</td>\n",
       "      <td>0.062063</td>\n",
       "      <td>0.247902</td>\n",
       "      <td>soft_kl</td>\n",
       "      <td>0.342764</td>\n",
       "      <td>3.110796</td>\n",
       "      <td>cosine</td>\n",
       "      <td>0.875457</td>\n",
       "      <td>0.510422</td>\n",
       "      <td>5.347176</td>\n",
       "    </tr>\n",
       "    <tr>\n",
       "      <th>29</th>\n",
       "      <td>0.000866</td>\n",
       "      <td>0.000041</td>\n",
       "      <td>0.117997</td>\n",
       "      <td>0.156786</td>\n",
       "      <td>soft_kl</td>\n",
       "      <td>0.289385</td>\n",
       "      <td>0.712695</td>\n",
       "      <td>mse</td>\n",
       "      <td>0.775062</td>\n",
       "      <td>0.756101</td>\n",
       "      <td>5.375230</td>\n",
       "    </tr>\n",
       "    <tr>\n",
       "      <th>6</th>\n",
       "      <td>0.003174</td>\n",
       "      <td>0.000075</td>\n",
       "      <td>0.051613</td>\n",
       "      <td>0.178330</td>\n",
       "      <td>soft_kl</td>\n",
       "      <td>0.153071</td>\n",
       "      <td>6.985742</td>\n",
       "      <td>cosine</td>\n",
       "      <td>0.554383</td>\n",
       "      <td>0.388951</td>\n",
       "      <td>5.379320</td>\n",
       "    </tr>\n",
       "    <tr>\n",
       "      <th>38</th>\n",
       "      <td>0.001419</td>\n",
       "      <td>0.000077</td>\n",
       "      <td>0.104613</td>\n",
       "      <td>0.191934</td>\n",
       "      <td>soft_kl</td>\n",
       "      <td>0.061431</td>\n",
       "      <td>3.747578</td>\n",
       "      <td>mse</td>\n",
       "      <td>0.431012</td>\n",
       "      <td>0.590496</td>\n",
       "      <td>5.523426</td>\n",
       "    </tr>\n",
       "    <tr>\n",
       "      <th>25</th>\n",
       "      <td>0.001121</td>\n",
       "      <td>0.000064</td>\n",
       "      <td>0.130251</td>\n",
       "      <td>0.254213</td>\n",
       "      <td>soft_ce</td>\n",
       "      <td>0.270342</td>\n",
       "      <td>0.930082</td>\n",
       "      <td>cosine</td>\n",
       "      <td>0.725622</td>\n",
       "      <td>0.658131</td>\n",
       "      <td>5.544693</td>\n",
       "    </tr>\n",
       "    <tr>\n",
       "      <th>27</th>\n",
       "      <td>0.001034</td>\n",
       "      <td>0.000054</td>\n",
       "      <td>0.121745</td>\n",
       "      <td>0.198029</td>\n",
       "      <td>soft_ce</td>\n",
       "      <td>0.248434</td>\n",
       "      <td>3.891848</td>\n",
       "      <td>cosine</td>\n",
       "      <td>0.892601</td>\n",
       "      <td>0.616559</td>\n",
       "      <td>5.603119</td>\n",
       "    </tr>\n",
       "    <tr>\n",
       "      <th>13</th>\n",
       "      <td>0.001211</td>\n",
       "      <td>0.000049</td>\n",
       "      <td>0.099788</td>\n",
       "      <td>0.216876</td>\n",
       "      <td>soft_ce</td>\n",
       "      <td>0.183424</td>\n",
       "      <td>1.561973</td>\n",
       "      <td>cosine</td>\n",
       "      <td>0.260829</td>\n",
       "      <td>0.595808</td>\n",
       "      <td>5.622963</td>\n",
       "    </tr>\n",
       "    <tr>\n",
       "      <th>1</th>\n",
       "      <td>0.002249</td>\n",
       "      <td>0.000015</td>\n",
       "      <td>0.089804</td>\n",
       "      <td>0.221399</td>\n",
       "      <td>soft_kl</td>\n",
       "      <td>0.531551</td>\n",
       "      <td>5.365093</td>\n",
       "      <td>cosine</td>\n",
       "      <td>0.724455</td>\n",
       "      <td>0.611024</td>\n",
       "      <td>5.643130</td>\n",
       "    </tr>\n",
       "    <tr>\n",
       "      <th>18</th>\n",
       "      <td>0.001301</td>\n",
       "      <td>0.000072</td>\n",
       "      <td>0.076624</td>\n",
       "      <td>0.172804</td>\n",
       "      <td>soft_ce</td>\n",
       "      <td>0.269774</td>\n",
       "      <td>3.257763</td>\n",
       "      <td>mse</td>\n",
       "      <td>0.984400</td>\n",
       "      <td>0.291606</td>\n",
       "      <td>5.687211</td>\n",
       "    </tr>\n",
       "    <tr>\n",
       "      <th>17</th>\n",
       "      <td>0.000109</td>\n",
       "      <td>0.000073</td>\n",
       "      <td>0.096238</td>\n",
       "      <td>0.079950</td>\n",
       "      <td>soft_ce</td>\n",
       "      <td>0.221384</td>\n",
       "      <td>3.151377</td>\n",
       "      <td>cosine</td>\n",
       "      <td>0.808373</td>\n",
       "      <td>0.435054</td>\n",
       "      <td>5.687716</td>\n",
       "    </tr>\n",
       "    <tr>\n",
       "      <th>26</th>\n",
       "      <td>0.000358</td>\n",
       "      <td>0.000043</td>\n",
       "      <td>0.136062</td>\n",
       "      <td>0.297223</td>\n",
       "      <td>soft_ce</td>\n",
       "      <td>0.103613</td>\n",
       "      <td>2.071802</td>\n",
       "      <td>mse</td>\n",
       "      <td>0.780061</td>\n",
       "      <td>0.412725</td>\n",
       "      <td>5.741892</td>\n",
       "    </tr>\n",
       "    <tr>\n",
       "      <th>24</th>\n",
       "      <td>0.001527</td>\n",
       "      <td>0.000050</td>\n",
       "      <td>0.123240</td>\n",
       "      <td>0.147000</td>\n",
       "      <td>soft_ce</td>\n",
       "      <td>0.086729</td>\n",
       "      <td>2.229923</td>\n",
       "      <td>cosine</td>\n",
       "      <td>0.909280</td>\n",
       "      <td>0.566002</td>\n",
       "      <td>5.810108</td>\n",
       "    </tr>\n",
       "    <tr>\n",
       "      <th>14</th>\n",
       "      <td>0.001232</td>\n",
       "      <td>0.000030</td>\n",
       "      <td>0.124034</td>\n",
       "      <td>0.280300</td>\n",
       "      <td>soft_ce</td>\n",
       "      <td>0.438328</td>\n",
       "      <td>1.627833</td>\n",
       "      <td>mse</td>\n",
       "      <td>0.693804</td>\n",
       "      <td>0.799188</td>\n",
       "      <td>5.868113</td>\n",
       "    </tr>\n",
       "    <tr>\n",
       "      <th>30</th>\n",
       "      <td>0.001668</td>\n",
       "      <td>0.000036</td>\n",
       "      <td>0.104551</td>\n",
       "      <td>0.190459</td>\n",
       "      <td>soft_ce</td>\n",
       "      <td>0.187694</td>\n",
       "      <td>1.334338</td>\n",
       "      <td>cosine</td>\n",
       "      <td>0.931892</td>\n",
       "      <td>0.692704</td>\n",
       "      <td>5.979394</td>\n",
       "    </tr>\n",
       "    <tr>\n",
       "      <th>19</th>\n",
       "      <td>0.001832</td>\n",
       "      <td>0.000048</td>\n",
       "      <td>0.092896</td>\n",
       "      <td>0.139119</td>\n",
       "      <td>soft_ce</td>\n",
       "      <td>0.113412</td>\n",
       "      <td>2.462601</td>\n",
       "      <td>cosine</td>\n",
       "      <td>0.666831</td>\n",
       "      <td>0.503739</td>\n",
       "      <td>6.040645</td>\n",
       "    </tr>\n",
       "    <tr>\n",
       "      <th>10</th>\n",
       "      <td>0.000580</td>\n",
       "      <td>0.000099</td>\n",
       "      <td>0.107667</td>\n",
       "      <td>0.278172</td>\n",
       "      <td>soft_ce</td>\n",
       "      <td>0.006453</td>\n",
       "      <td>0.137998</td>\n",
       "      <td>cosine</td>\n",
       "      <td>0.986289</td>\n",
       "      <td>0.059538</td>\n",
       "      <td>6.073599</td>\n",
       "    </tr>\n",
       "    <tr>\n",
       "      <th>37</th>\n",
       "      <td>0.002006</td>\n",
       "      <td>0.000067</td>\n",
       "      <td>0.089368</td>\n",
       "      <td>0.169445</td>\n",
       "      <td>soft_kl</td>\n",
       "      <td>0.031927</td>\n",
       "      <td>4.541585</td>\n",
       "      <td>cosine</td>\n",
       "      <td>0.492232</td>\n",
       "      <td>0.523394</td>\n",
       "      <td>6.161124</td>\n",
       "    </tr>\n",
       "    <tr>\n",
       "      <th>39</th>\n",
       "      <td>0.002468</td>\n",
       "      <td>0.000082</td>\n",
       "      <td>0.109552</td>\n",
       "      <td>0.140761</td>\n",
       "      <td>soft_kl</td>\n",
       "      <td>0.137834</td>\n",
       "      <td>3.026654</td>\n",
       "      <td>cosine</td>\n",
       "      <td>0.644792</td>\n",
       "      <td>0.365467</td>\n",
       "      <td>6.202157</td>\n",
       "    </tr>\n",
       "    <tr>\n",
       "      <th>2</th>\n",
       "      <td>0.003640</td>\n",
       "      <td>0.000039</td>\n",
       "      <td>0.086179</td>\n",
       "      <td>0.068479</td>\n",
       "      <td>soft_ce</td>\n",
       "      <td>0.092105</td>\n",
       "      <td>4.393642</td>\n",
       "      <td>cosine</td>\n",
       "      <td>0.425830</td>\n",
       "      <td>0.312261</td>\n",
       "      <td>6.237956</td>\n",
       "    </tr>\n",
       "    <tr>\n",
       "      <th>12</th>\n",
       "      <td>0.000109</td>\n",
       "      <td>0.000056</td>\n",
       "      <td>0.114399</td>\n",
       "      <td>0.122586</td>\n",
       "      <td>soft_ce</td>\n",
       "      <td>0.561247</td>\n",
       "      <td>0.155429</td>\n",
       "      <td>cosine</td>\n",
       "      <td>0.213485</td>\n",
       "      <td>0.820499</td>\n",
       "      <td>6.419498</td>\n",
       "    </tr>\n",
       "    <tr>\n",
       "      <th>3</th>\n",
       "      <td>0.002189</td>\n",
       "      <td>0.000090</td>\n",
       "      <td>0.144416</td>\n",
       "      <td>0.150551</td>\n",
       "      <td>soft_kl</td>\n",
       "      <td>0.317285</td>\n",
       "      <td>4.206779</td>\n",
       "      <td>mse</td>\n",
       "      <td>0.483034</td>\n",
       "      <td>0.985560</td>\n",
       "      <td>6.558504</td>\n",
       "    </tr>\n",
       "    <tr>\n",
       "      <th>9</th>\n",
       "      <td>0.004287</td>\n",
       "      <td>0.000045</td>\n",
       "      <td>0.081679</td>\n",
       "      <td>0.106279</td>\n",
       "      <td>soft_ce</td>\n",
       "      <td>0.338671</td>\n",
       "      <td>5.568464</td>\n",
       "      <td>mse</td>\n",
       "      <td>0.002688</td>\n",
       "      <td>0.988345</td>\n",
       "      <td>6.671962</td>\n",
       "    </tr>\n",
       "    <tr>\n",
       "      <th>0</th>\n",
       "      <td>0.003513</td>\n",
       "      <td>0.000036</td>\n",
       "      <td>0.072685</td>\n",
       "      <td>0.165394</td>\n",
       "      <td>soft_kl</td>\n",
       "      <td>0.980764</td>\n",
       "      <td>6.879814</td>\n",
       "      <td>mse</td>\n",
       "      <td>0.343178</td>\n",
       "      <td>0.729050</td>\n",
       "      <td>6.701586</td>\n",
       "    </tr>\n",
       "    <tr>\n",
       "      <th>7</th>\n",
       "      <td>0.004633</td>\n",
       "      <td>0.000086</td>\n",
       "      <td>0.085740</td>\n",
       "      <td>0.013077</td>\n",
       "      <td>soft_ce</td>\n",
       "      <td>0.704959</td>\n",
       "      <td>9.954049</td>\n",
       "      <td>cosine</td>\n",
       "      <td>0.593177</td>\n",
       "      <td>0.691702</td>\n",
       "      <td>6.709915</td>\n",
       "    </tr>\n",
       "  </tbody>\n",
       "</table>\n",
       "</div>"
      ],
      "text/plain": [
       "          lr    min_lr  weight_decay  label_smoothing   l_type   l_alpha   \n",
       "36  0.001920  0.000067      0.108416         0.197789  soft_kl  0.057609  \\\n",
       "33  0.000488  0.000068      0.108645         0.194715  soft_ce  0.054256   \n",
       "8   0.000841  0.000046      0.074086         0.103037  soft_ce  0.105908   \n",
       "23  0.001000  0.000068      0.121535         0.188646  soft_ce  0.265156   \n",
       "22  0.000549  0.000056      0.117635         0.204653  soft_ce  0.238688   \n",
       "16  0.000677  0.000071      0.097794         0.186284  soft_ce  0.221856   \n",
       "32  0.000903  0.000078      0.094293         0.226742  soft_ce  0.245502   \n",
       "34  0.000352  0.000061      0.109423         0.206357  soft_kl  0.056797   \n",
       "11  0.000614  0.000057      0.111095         0.208485  soft_ce  0.691568   \n",
       "21  0.000750  0.000063      0.101382         0.234188  soft_ce  0.423740   \n",
       "31  0.000568  0.000069      0.116319         0.173772  soft_ce  0.215337   \n",
       "20  0.000809  0.000080      0.071746         0.182829  soft_ce  0.174814   \n",
       "5   0.003380  0.000063      0.112490         0.202407  soft_kl  0.763683   \n",
       "15  0.001570  0.000055      0.064867         0.118820  soft_ce  0.007444   \n",
       "35  0.000999  0.000067      0.131133         0.223565  soft_ce  0.123633   \n",
       "28  0.000350  0.000033      0.104449         0.158617  soft_ce  0.374468   \n",
       "4   0.002645  0.000065      0.062063         0.247902  soft_kl  0.342764   \n",
       "29  0.000866  0.000041      0.117997         0.156786  soft_kl  0.289385   \n",
       "6   0.003174  0.000075      0.051613         0.178330  soft_kl  0.153071   \n",
       "38  0.001419  0.000077      0.104613         0.191934  soft_kl  0.061431   \n",
       "25  0.001121  0.000064      0.130251         0.254213  soft_ce  0.270342   \n",
       "27  0.001034  0.000054      0.121745         0.198029  soft_ce  0.248434   \n",
       "13  0.001211  0.000049      0.099788         0.216876  soft_ce  0.183424   \n",
       "1   0.002249  0.000015      0.089804         0.221399  soft_kl  0.531551   \n",
       "18  0.001301  0.000072      0.076624         0.172804  soft_ce  0.269774   \n",
       "17  0.000109  0.000073      0.096238         0.079950  soft_ce  0.221384   \n",
       "26  0.000358  0.000043      0.136062         0.297223  soft_ce  0.103613   \n",
       "24  0.001527  0.000050      0.123240         0.147000  soft_ce  0.086729   \n",
       "14  0.001232  0.000030      0.124034         0.280300  soft_ce  0.438328   \n",
       "30  0.001668  0.000036      0.104551         0.190459  soft_ce  0.187694   \n",
       "19  0.001832  0.000048      0.092896         0.139119  soft_ce  0.113412   \n",
       "10  0.000580  0.000099      0.107667         0.278172  soft_ce  0.006453   \n",
       "37  0.002006  0.000067      0.089368         0.169445  soft_kl  0.031927   \n",
       "39  0.002468  0.000082      0.109552         0.140761  soft_kl  0.137834   \n",
       "2   0.003640  0.000039      0.086179         0.068479  soft_ce  0.092105   \n",
       "12  0.000109  0.000056      0.114399         0.122586  soft_ce  0.561247   \n",
       "3   0.002189  0.000090      0.144416         0.150551  soft_kl  0.317285   \n",
       "9   0.004287  0.000045      0.081679         0.106279  soft_ce  0.338671   \n",
       "0   0.003513  0.000036      0.072685         0.165394  soft_kl  0.980764   \n",
       "7   0.004633  0.000086      0.085740         0.013077  soft_ce  0.704959   \n",
       "\n",
       "         tau  l_crit    l_beta   l_gamma      loss  \n",
       "36  2.064600  cosine  0.508458  0.656891  4.489764  \n",
       "33  2.850951  cosine  0.735522  0.479844  4.491059  \n",
       "8   1.395860  cosine  0.846506  0.553257  4.731477  \n",
       "23  2.395788  cosine  0.760962  0.439437  4.817289  \n",
       "22  1.890887  cosine  0.762214  0.637683  5.006722  \n",
       "16  3.055846  cosine  0.778973  0.465926  5.054806  \n",
       "32  3.596649  cosine  0.773967  0.582967  5.122860  \n",
       "34  1.816655  cosine  0.716398  0.355156  5.123153  \n",
       "11  1.435822  cosine  0.202430  0.813125  5.133179  \n",
       "21  0.825678  cosine  0.603223  0.710553  5.135837  \n",
       "31  2.680155  cosine  0.826010  0.457216  5.222967  \n",
       "20  0.888138  cosine  0.837384  0.547204  5.254245  \n",
       "5   2.512297  cosine  0.095713  0.885327  5.267647  \n",
       "15  1.603847  cosine  0.351974  0.634758  5.279937  \n",
       "35  2.652460  cosine  0.852603  0.495726  5.281572  \n",
       "28  2.318322  cosine  0.675495  0.534324  5.329341  \n",
       "4   3.110796  cosine  0.875457  0.510422  5.347176  \n",
       "29  0.712695     mse  0.775062  0.756101  5.375230  \n",
       "6   6.985742  cosine  0.554383  0.388951  5.379320  \n",
       "38  3.747578     mse  0.431012  0.590496  5.523426  \n",
       "25  0.930082  cosine  0.725622  0.658131  5.544693  \n",
       "27  3.891848  cosine  0.892601  0.616559  5.603119  \n",
       "13  1.561973  cosine  0.260829  0.595808  5.622963  \n",
       "1   5.365093  cosine  0.724455  0.611024  5.643130  \n",
       "18  3.257763     mse  0.984400  0.291606  5.687211  \n",
       "17  3.151377  cosine  0.808373  0.435054  5.687716  \n",
       "26  2.071802     mse  0.780061  0.412725  5.741892  \n",
       "24  2.229923  cosine  0.909280  0.566002  5.810108  \n",
       "14  1.627833     mse  0.693804  0.799188  5.868113  \n",
       "30  1.334338  cosine  0.931892  0.692704  5.979394  \n",
       "19  2.462601  cosine  0.666831  0.503739  6.040645  \n",
       "10  0.137998  cosine  0.986289  0.059538  6.073599  \n",
       "37  4.541585  cosine  0.492232  0.523394  6.161124  \n",
       "39  3.026654  cosine  0.644792  0.365467  6.202157  \n",
       "2   4.393642  cosine  0.425830  0.312261  6.237956  \n",
       "12  0.155429  cosine  0.213485  0.820499  6.419498  \n",
       "3   4.206779     mse  0.483034  0.985560  6.558504  \n",
       "9   5.568464     mse  0.002688  0.988345  6.671962  \n",
       "0   6.879814     mse  0.343178  0.729050  6.701586  \n",
       "7   9.954049  cosine  0.593177  0.691702  6.709915  "
      ]
     },
     "execution_count": 6,
     "metadata": {},
     "output_type": "execute_result"
    }
   ],
   "source": [
    "data = [study.trials[i].params for i in range(40)]\n",
    "df = pd.DataFrame(data)\n",
    "\n",
    "values = [study.trials[i].values[0] for i in range(40)]\n",
    "df['loss'] = values\n",
    "\n",
    "df.sort_values(['loss'])"
   ]
  },
  {
   "cell_type": "code",
   "execution_count": 8,
   "metadata": {},
   "outputs": [
    {
     "name": "stdout",
     "output_type": "stream",
     "text": [
      "lr                 0.001083\n",
      "min_lr             0.000060\n",
      "weight_decay       0.097049\n",
      "label_smoothing    0.165180\n",
      "l_alpha            0.072591\n",
      "tau                2.103804\n",
      "l_beta             0.696829\n",
      "l_gamma            0.563331\n",
      "loss               4.570767\n",
      "dtype: float64\n"
     ]
    }
   ],
   "source": [
    "df = df.sort_values(['loss']).head(5)\n",
    "print(df.mean(numeric_only=True))"
   ]
  },
  {
   "cell_type": "code",
   "execution_count": null,
   "metadata": {},
   "outputs": [],
   "source": []
  }
 ],
 "metadata": {
  "kernelspec": {
   "display_name": "Python 3 (ipykernel)",
   "language": "python",
   "name": "python3"
  },
  "language_info": {
   "codemirror_mode": {
    "name": "ipython",
    "version": 3
   },
   "file_extension": ".py",
   "mimetype": "text/x-python",
   "name": "python",
   "nbconvert_exporter": "python",
   "pygments_lexer": "ipython3",
   "version": "3.10.10"
  }
 },
 "nbformat": 4,
 "nbformat_minor": 1
}
